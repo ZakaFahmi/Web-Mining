{
 "cells": [
  {
   "cell_type": "markdown",
   "metadata": {
    "id": "skFa6pvZA5dL"
   },
   "source": [
    "#**ensembleLearning2**\n"
   ]
  },
  {
   "cell_type": "markdown",
   "metadata": {
    "id": "V1J6wAs6W4KX"
   },
   "source": [
    "Ensemble Learning\n",
    "Ensemble Learning adalah proses di mana beberapa model, seperti pengklasifikasi atau ahli, secara strategis dihasilkan dan digabungkan untuk memecahkan kecerdasan komputasi tertentu. Ensemble Learning utamanya digunakan untuk meningkatkan (klasifikasi, prediksi, perkiraan fungsi, dll.) kinerja model, atau mengurangi kemungkinan pemilihan model yang buruk.\n",
    "\n",
    "**pertama Install library yang di butuhkan**"
   ]
  },
  {
   "cell_type": "code",
   "execution_count": 1,
   "metadata": {
    "executionInfo": {
     "elapsed": 14718,
     "status": "ok",
     "timestamp": 1670970031401,
     "user": {
      "displayName": "zaka fahmi",
      "userId": "00253059532595011101"
     },
     "user_tz": -420
    },
    "id": "wgneoaBBAyWz"
   },
   "outputs": [],
   "source": [
    "%%capture\n",
    "!pip install snscrape\n",
    "!pip install pandas\n",
    "!pip install Sastrawi\n",
    "!pip install scikit-learn"
   ]
  },
  {
   "cell_type": "markdown",
   "metadata": {
    "id": "R9iax4v0BgHP"
   },
   "source": [
    "## **Menulis Script Konfigurasi Snscrape**"
   ]
  },
  {
   "cell_type": "code",
   "execution_count": 2,
   "metadata": {
    "colab": {
     "base_uri": "https://localhost:8080/"
    },
    "executionInfo": {
     "elapsed": 2290,
     "status": "ok",
     "timestamp": 1670970033681,
     "user": {
      "displayName": "zaka fahmi",
      "userId": "00253059532595011101"
     },
     "user_tz": -420
    },
    "id": "5s6WgzwJCh0W",
    "outputId": "a9bee2cd-bfce-48d6-e6fe-3c1d4d2ac7a7"
   },
   "outputs": [
    {
     "name": "stderr",
     "output_type": "stream",
     "text": [
      "<ipython-input-2-d4f7d2c62137>:16: FutureWarning: username is deprecated, use user.username instead\n",
      "  tweets.append([tweet.date, tweet.username, tweet.content, 'None'])\n"
     ]
    },
    {
     "name": "stdout",
     "output_type": "stream",
     "text": [
      "                        Date             User  \\\n",
      "0  2022-12-13 16:53:15+00:00       aprella234   \n",
      "1  2022-12-13 12:44:21+00:00     info_daratan   \n",
      "2  2022-12-13 11:19:09+00:00      abcdefuckyu   \n",
      "3  2022-12-13 09:30:47+00:00        kompascom   \n",
      "4  2022-12-13 08:52:40+00:00      suaradotcom   \n",
      "..                       ...              ...   \n",
      "95 2022-12-09 05:14:59+00:00    newmindarmy45   \n",
      "96 2022-12-09 04:36:19+00:00  HumasPolresMaj1   \n",
      "97 2022-12-09 03:53:27+00:00    OposisiCerdas   \n",
      "98 2022-12-09 03:32:30+00:00         geloraco   \n",
      "99 2022-12-09 03:32:06+00:00         geloraco   \n",
      "\n",
      "                                                Tweet Label  \n",
      "0   berasa ditampar sama ucapan kang Dedi Mulyadi:...  None  \n",
      "1   Dedi Mulyadi tiba-tiba berbelok arah menuju Ru...  None  \n",
      "2   Jika benar nanti RK masuk golkar untuk di capr...  None  \n",
      "3   Perseteruan sejoli yang batal menikah karena p...  None  \n",
      "4   Dijodohkan Netizen dengan Dedi Mulyadi, Bupati...  None  \n",
      "..                                                ...   ...  \n",
      "95  Kang Dedi Mulyadi Gelisah Kelakuan Ambu Anne K...  None  \n",
      "96  Dalam upaya menangkal masuknya paham radikalis...  None  \n",
      "97  Kang Dedi Mulyadi Gelisah Kelakuan Ambu Anne K...  None  \n",
      "98  Nama Bupati Purwakarta dan Dedi Mulyadi Kian P...  None  \n",
      "99  Kang Dedi Mulyadi Gelisah Kelakuan Ambu Anne K...  None  \n",
      "\n",
      "[100 rows x 4 columns]\n"
     ]
    }
   ],
   "source": [
    "\n",
    "import snscrape.modules.twitter as sntwitter\n",
    "import pandas as pd\n",
    "# from google.colab import data_table\n",
    "# data_table.enable_dataframe_formatter()\n",
    "\n",
    "search_query = \"dedi mulyadi\"\n",
    "jumlah_tweets = 100\n",
    "tweets = []\n",
    "\n",
    "\n",
    "for tweet in sntwitter.TwitterSearchScraper(search_query).get_items():\n",
    "    \n",
    "    if len(tweets) == jumlah_tweets:\n",
    "        break\n",
    "    else:\n",
    "        tweets.append([tweet.date, tweet.username, tweet.content, 'None'])\n",
    "        \n",
    "df = pd.DataFrame(tweets, columns=['Date', 'User', 'Tweet', 'Label'])\n",
    "print(df)\n"
   ]
  },
  {
   "cell_type": "markdown",
   "metadata": {
    "id": "sfGCbA3eDHSx"
   },
   "source": [
    "### Melakukan Pengecekan Berkas Hasil Scrape Lama\n",
    "\n",
    "Karena setelah melakukan scraping data tweet kita perlu memberikan label secara manual, maka untuk menghindari berkas lama tertimpa oleh berkas baru, disini kita akan melakukan pengecekan berkas hasil scrape lama, apakah ada pada direktori atau tidak. Jika berkas hasil scrape lama tidak ditemukan pada direktori, maka hasil scrape sebelumnya (yang ada pada Pandas Dataframe) akan diespor menjadi berkas csv.\n"
   ]
  },
  {
   "cell_type": "code",
   "execution_count": 3,
   "metadata": {
    "executionInfo": {
     "elapsed": 23,
     "status": "ok",
     "timestamp": 1670970033683,
     "user": {
      "displayName": "zaka fahmi",
      "userId": "00253059532595011101"
     },
     "user_tz": -420
    },
    "id": "xLPsMLaGDNjv"
   },
   "outputs": [],
   "source": [
    "%%capture\n",
    "import os\n",
    "\n",
    "\n",
    "\n",
    "output_stream = os.popen('tweets_labeled.csv')\n",
    "res = output_stream.read()\n",
    "if res == '':\n",
    "  df.to_csv('tweets_labeled.csv')"
   ]
  },
  {
   "cell_type": "markdown",
   "metadata": {
    "id": "TSN77U82EIKZ"
   },
   "source": [
    "## **Import Hasil**"
   ]
  },
  {
   "cell_type": "code",
   "execution_count": 4,
   "metadata": {
    "colab": {
     "base_uri": "https://localhost:8080/",
     "height": 424
    },
    "executionInfo": {
     "elapsed": 23,
     "status": "ok",
     "timestamp": 1670970033684,
     "user": {
      "displayName": "zaka fahmi",
      "userId": "00253059532595011101"
     },
     "user_tz": -420
    },
    "id": "aW2zhF2gH09A",
    "outputId": "cf8041ad-ceb5-4ff4-d93d-fe1bb58c0b6e"
   },
   "outputs": [
    {
     "data": {
      "text/html": [
       "\n",
       "  <div id=\"df-40b81a22-292d-4eb8-963f-efa8a7045ce9\">\n",
       "    <div class=\"colab-df-container\">\n",
       "      <div>\n",
       "<style scoped>\n",
       "    .dataframe tbody tr th:only-of-type {\n",
       "        vertical-align: middle;\n",
       "    }\n",
       "\n",
       "    .dataframe tbody tr th {\n",
       "        vertical-align: top;\n",
       "    }\n",
       "\n",
       "    .dataframe thead th {\n",
       "        text-align: right;\n",
       "    }\n",
       "</style>\n",
       "<table border=\"1\" class=\"dataframe\">\n",
       "  <thead>\n",
       "    <tr style=\"text-align: right;\">\n",
       "      <th></th>\n",
       "      <th>User</th>\n",
       "      <th>Tweet</th>\n",
       "      <th>Label</th>\n",
       "    </tr>\n",
       "  </thead>\n",
       "  <tbody>\n",
       "    <tr>\n",
       "      <th>0</th>\n",
       "      <td>aprella234</td>\n",
       "      <td>berasa ditampar sama ucapan kang Dedi Mulyadi:...</td>\n",
       "      <td>None</td>\n",
       "    </tr>\n",
       "    <tr>\n",
       "      <th>1</th>\n",
       "      <td>info_daratan</td>\n",
       "      <td>Dedi Mulyadi tiba-tiba berbelok arah menuju Ru...</td>\n",
       "      <td>None</td>\n",
       "    </tr>\n",
       "    <tr>\n",
       "      <th>2</th>\n",
       "      <td>abcdefuckyu</td>\n",
       "      <td>Jika benar nanti RK masuk golkar untuk di capr...</td>\n",
       "      <td>None</td>\n",
       "    </tr>\n",
       "    <tr>\n",
       "      <th>3</th>\n",
       "      <td>kompascom</td>\n",
       "      <td>Perseteruan sejoli yang batal menikah karena p...</td>\n",
       "      <td>None</td>\n",
       "    </tr>\n",
       "    <tr>\n",
       "      <th>4</th>\n",
       "      <td>suaradotcom</td>\n",
       "      <td>Dijodohkan Netizen dengan Dedi Mulyadi, Bupati...</td>\n",
       "      <td>None</td>\n",
       "    </tr>\n",
       "    <tr>\n",
       "      <th>...</th>\n",
       "      <td>...</td>\n",
       "      <td>...</td>\n",
       "      <td>...</td>\n",
       "    </tr>\n",
       "    <tr>\n",
       "      <th>95</th>\n",
       "      <td>newmindarmy45</td>\n",
       "      <td>Kang Dedi Mulyadi Gelisah Kelakuan Ambu Anne K...</td>\n",
       "      <td>None</td>\n",
       "    </tr>\n",
       "    <tr>\n",
       "      <th>96</th>\n",
       "      <td>HumasPolresMaj1</td>\n",
       "      <td>Dalam upaya menangkal masuknya paham radikalis...</td>\n",
       "      <td>None</td>\n",
       "    </tr>\n",
       "    <tr>\n",
       "      <th>97</th>\n",
       "      <td>OposisiCerdas</td>\n",
       "      <td>Kang Dedi Mulyadi Gelisah Kelakuan Ambu Anne K...</td>\n",
       "      <td>None</td>\n",
       "    </tr>\n",
       "    <tr>\n",
       "      <th>98</th>\n",
       "      <td>geloraco</td>\n",
       "      <td>Nama Bupati Purwakarta dan Dedi Mulyadi Kian P...</td>\n",
       "      <td>None</td>\n",
       "    </tr>\n",
       "    <tr>\n",
       "      <th>99</th>\n",
       "      <td>geloraco</td>\n",
       "      <td>Kang Dedi Mulyadi Gelisah Kelakuan Ambu Anne K...</td>\n",
       "      <td>None</td>\n",
       "    </tr>\n",
       "  </tbody>\n",
       "</table>\n",
       "<p>100 rows × 3 columns</p>\n",
       "</div>\n",
       "      <button class=\"colab-df-convert\" onclick=\"convertToInteractive('df-40b81a22-292d-4eb8-963f-efa8a7045ce9')\"\n",
       "              title=\"Convert this dataframe to an interactive table.\"\n",
       "              style=\"display:none;\">\n",
       "\n",
       "  <svg xmlns=\"http://www.w3.org/2000/svg\" height=\"24px\"viewBox=\"0 0 24 24\"\n",
       "       width=\"24px\">\n",
       "    <path d=\"M0 0h24v24H0V0z\" fill=\"none\"/>\n",
       "    <path d=\"M18.56 5.44l.94 2.06.94-2.06 2.06-.94-2.06-.94-.94-2.06-.94 2.06-2.06.94zm-11 1L8.5 8.5l.94-2.06 2.06-.94-2.06-.94L8.5 2.5l-.94 2.06-2.06.94zm10 10l.94 2.06.94-2.06 2.06-.94-2.06-.94-.94-2.06-.94 2.06-2.06.94z\"/><path d=\"M17.41 7.96l-1.37-1.37c-.4-.4-.92-.59-1.43-.59-.52 0-1.04.2-1.43.59L10.3 9.45l-7.72 7.72c-.78.78-.78 2.05 0 2.83L4 21.41c.39.39.9.59 1.41.59.51 0 1.02-.2 1.41-.59l7.78-7.78 2.81-2.81c.8-.78.8-2.07 0-2.86zM5.41 20L4 18.59l7.72-7.72 1.47 1.35L5.41 20z\"/>\n",
       "  </svg>\n",
       "      </button>\n",
       "\n",
       "  <style>\n",
       "    .colab-df-container {\n",
       "      display:flex;\n",
       "      flex-wrap:wrap;\n",
       "      gap: 12px;\n",
       "    }\n",
       "\n",
       "    .colab-df-convert {\n",
       "      background-color: #E8F0FE;\n",
       "      border: none;\n",
       "      border-radius: 50%;\n",
       "      cursor: pointer;\n",
       "      display: none;\n",
       "      fill: #1967D2;\n",
       "      height: 32px;\n",
       "      padding: 0 0 0 0;\n",
       "      width: 32px;\n",
       "    }\n",
       "\n",
       "    .colab-df-convert:hover {\n",
       "      background-color: #E2EBFA;\n",
       "      box-shadow: 0px 1px 2px rgba(60, 64, 67, 0.3), 0px 1px 3px 1px rgba(60, 64, 67, 0.15);\n",
       "      fill: #174EA6;\n",
       "    }\n",
       "\n",
       "    [theme=dark] .colab-df-convert {\n",
       "      background-color: #3B4455;\n",
       "      fill: #D2E3FC;\n",
       "    }\n",
       "\n",
       "    [theme=dark] .colab-df-convert:hover {\n",
       "      background-color: #434B5C;\n",
       "      box-shadow: 0px 1px 3px 1px rgba(0, 0, 0, 0.15);\n",
       "      filter: drop-shadow(0px 1px 2px rgba(0, 0, 0, 0.3));\n",
       "      fill: #FFFFFF;\n",
       "    }\n",
       "  </style>\n",
       "\n",
       "      <script>\n",
       "        const buttonEl =\n",
       "          document.querySelector('#df-40b81a22-292d-4eb8-963f-efa8a7045ce9 button.colab-df-convert');\n",
       "        buttonEl.style.display =\n",
       "          google.colab.kernel.accessAllowed ? 'block' : 'none';\n",
       "\n",
       "        async function convertToInteractive(key) {\n",
       "          const element = document.querySelector('#df-40b81a22-292d-4eb8-963f-efa8a7045ce9');\n",
       "          const dataTable =\n",
       "            await google.colab.kernel.invokeFunction('convertToInteractive',\n",
       "                                                     [key], {});\n",
       "          if (!dataTable) return;\n",
       "\n",
       "          const docLinkHtml = 'Like what you see? Visit the ' +\n",
       "            '<a target=\"_blank\" href=https://colab.research.google.com/notebooks/data_table.ipynb>data table notebook</a>'\n",
       "            + ' to learn more about interactive tables.';\n",
       "          element.innerHTML = '';\n",
       "          dataTable['output_type'] = 'display_data';\n",
       "          await google.colab.output.renderOutput(dataTable, element);\n",
       "          const docLink = document.createElement('div');\n",
       "          docLink.innerHTML = docLinkHtml;\n",
       "          element.appendChild(docLink);\n",
       "        }\n",
       "      </script>\n",
       "    </div>\n",
       "  </div>\n"
      ],
      "text/plain": [
       "               User                                              Tweet Label\n",
       "0        aprella234  berasa ditampar sama ucapan kang Dedi Mulyadi:...  None\n",
       "1      info_daratan  Dedi Mulyadi tiba-tiba berbelok arah menuju Ru...  None\n",
       "2       abcdefuckyu  Jika benar nanti RK masuk golkar untuk di capr...  None\n",
       "3         kompascom  Perseteruan sejoli yang batal menikah karena p...  None\n",
       "4       suaradotcom  Dijodohkan Netizen dengan Dedi Mulyadi, Bupati...  None\n",
       "..              ...                                                ...   ...\n",
       "95    newmindarmy45  Kang Dedi Mulyadi Gelisah Kelakuan Ambu Anne K...  None\n",
       "96  HumasPolresMaj1  Dalam upaya menangkal masuknya paham radikalis...  None\n",
       "97    OposisiCerdas  Kang Dedi Mulyadi Gelisah Kelakuan Ambu Anne K...  None\n",
       "98         geloraco  Nama Bupati Purwakarta dan Dedi Mulyadi Kian P...  None\n",
       "99         geloraco  Kang Dedi Mulyadi Gelisah Kelakuan Ambu Anne K...  None\n",
       "\n",
       "[100 rows x 3 columns]"
      ]
     },
     "execution_count": 4,
     "metadata": {},
     "output_type": "execute_result"
    }
   ],
   "source": [
    "import pandas as pd\n",
    "\n",
    "\n",
    "# pd.options.mode.chained_assignment = None\n",
    "# pd.options.display.max_colwidth = None\n",
    "# pd.options.display.max_columns = None\n",
    "# pd.options.display.max_rows = None\n",
    "df = pd.read_csv('tweets_labeled.csv', usecols=['User', 'Tweet', 'Label'])\n",
    "df"
   ]
  },
  {
   "cell_type": "markdown",
   "metadata": {
    "id": "ej_1CmiaIEG9"
   },
   "source": [
    "## **Preprocessing Data Tweets**"
   ]
  },
  {
   "cell_type": "code",
   "execution_count": 5,
   "metadata": {
    "colab": {
     "base_uri": "https://localhost:8080/",
     "height": 53
    },
    "executionInfo": {
     "elapsed": 22,
     "status": "ok",
     "timestamp": 1670970033685,
     "user": {
      "displayName": "zaka fahmi",
      "userId": "00253059532595011101"
     },
     "user_tz": -420
    },
    "id": "tPkf4DzAIE8E",
    "outputId": "8d9f29ae-9668-45cd-8184-b3a95db4e2b1"
   },
   "outputs": [
    {
     "data": {
      "application/vnd.google.colaboratory.intrinsic+json": {
       "type": "string"
      },
      "text/plain": [
       "'jika benar nanti rk masuk golkar untuk di capres cawapreskan oleh kib tapi menurutku bukan itu tujuan utama ridwan kamil tetapi bagaimana suara golkar di jabar aman karena saingan terberat rk di pilgub nanti dedi mulyadi nanti rk akan berpasangan dengan bima arya opinipolitik'"
      ]
     },
     "execution_count": 5,
     "metadata": {},
     "output_type": "execute_result"
    }
   ],
   "source": [
    "import string\n",
    "\n",
    "#Mengapus link dan mention\n",
    "df['Tweet'] = df['Tweet'].replace(r'\\s+',' ', regex=True)\n",
    "indx = 0\n",
    "for i in df['Tweet']:\n",
    "  temp = df['Tweet'][indx].split()\n",
    "  for j in temp:\n",
    "    if 'http' in j:\n",
    "      df['Tweet'] = df['Tweet'].replace(r'%s'%j,\" \", regex=True)\n",
    "    if '@' in j:\n",
    "      df['Tweet'] = df['Tweet'].replace(r'%s'%j,\" \", regex=True)\n",
    "  indx+=1\n",
    "\n",
    "\n",
    "\n",
    "#mengubah menjadi huruf kecil\n",
    "df['Tweet'] = df['Tweet'].str.lower()\n",
    "\n",
    "#menghapus tanda baca\n",
    "for char in string.punctuation:\n",
    "    df['Tweet'] = df['Tweet'].replace(r'[\\%s]'%char,\" \", regex=True)\n",
    "\n",
    "#menghapus angka\n",
    "df['Tweet'] = df['Tweet'].replace(r'\\d+',' ', regex=True)\n",
    "\n",
    "#menghapus karakter kosong\n",
    "df['Tweet'] = df['Tweet'].replace(r'\\s+',' ', regex=True)\n",
    "df['Tweet'][2]\n",
    "\n"
   ]
  },
  {
   "cell_type": "markdown",
   "metadata": {
    "id": "lszzibU9IW8X"
   },
   "source": [
    "### Stopwords Removal"
   ]
  },
  {
   "cell_type": "code",
   "execution_count": 6,
   "metadata": {
    "colab": {
     "base_uri": "https://localhost:8080/",
     "height": 53
    },
    "executionInfo": {
     "elapsed": 884,
     "status": "ok",
     "timestamp": 1670970034550,
     "user": {
      "displayName": "zaka fahmi",
      "userId": "00253059532595011101"
     },
     "user_tz": -420
    },
    "id": "i5juLf4RIX0m",
    "outputId": "01169362-d2df-4584-ba41-f3e411ffb184"
   },
   "outputs": [
    {
     "data": {
      "application/vnd.google.colaboratory.intrinsic+json": {
       "type": "string"
      },
      "text/plain": [
       "' rk masuk golkar capres cawapreskan kib menurutku tujuan utama ridwan kamil suara golkar jabar aman saingan terberat rk pilgub dedi mulyadi rk berpasangan bima arya opinipolitik'"
      ]
     },
     "execution_count": 6,
     "metadata": {},
     "output_type": "execute_result"
    }
   ],
   "source": [
    "import urllib.request, json \n",
    "with urllib.request.urlopen(\"https://raw.githubusercontent.com/smilesense/stopwords-id/master/stopwords-id.json\") as list_stopwords:\n",
    "    data_stopword = json.load(list_stopwords)\n",
    "\n",
    "for i in data_stopword:\n",
    "    df['Tweet'] = df['Tweet'].replace(r'\\b%s\\b'%i, '', regex=True)\n",
    "df['Tweet'] = df['Tweet'].replace(r'\\s+',' ', regex=True)\n",
    "\n",
    "df['Tweet'][2]"
   ]
  },
  {
   "cell_type": "markdown",
   "metadata": {
    "id": "4f2l0Z7-Izwv"
   },
   "source": [
    "### Stemming"
   ]
  },
  {
   "cell_type": "code",
   "execution_count": 7,
   "metadata": {
    "colab": {
     "base_uri": "https://localhost:8080/"
    },
    "executionInfo": {
     "elapsed": 40454,
     "status": "ok",
     "timestamp": 1670970074997,
     "user": {
      "displayName": "zaka fahmi",
      "userId": "00253059532595011101"
     },
     "user_tz": -420
    },
    "id": "j1Fuv1OjI1Dc",
    "outputId": "b220c8c5-af40-4645-9f33-4e346d83b465"
   },
   "outputs": [
    {
     "name": "stdout",
     "output_type": "stream",
     "text": [
      "rk masuk golkar capres cawapreskan kib turut tuju utama ridwan kamil suara golkar jabar aman saing berat rk pilgub dedi mulyadi rk pasang bima arya opinipolitik\n"
     ]
    }
   ],
   "source": [
    "# import StemmerFactory class\n",
    "from Sastrawi.Stemmer.StemmerFactory import StemmerFactory\n",
    "\n",
    "# create stemmer\n",
    "factory = StemmerFactory()\n",
    "stemmer = factory.create_stemmer()\n",
    "# stemming process\n",
    "\n",
    "try:\n",
    "  ind = 0\n",
    "  for sentence in df['Tweet']:\n",
    "      df['Tweet'][ind] = stemmer.stem(str(sentence))\n",
    "      ind+=1\n",
    "  raise KeyboardInterrupt\n",
    "except KeyboardInterrupt:\n",
    "  print(df['Tweet'][2])\n",
    "else :\n",
    "  print(df['Tweet'][2])\n"
   ]
  },
  {
   "cell_type": "markdown",
   "metadata": {
    "id": "ZkiBZeZUJEiq"
   },
   "source": [
    "### Tokenisasi"
   ]
  },
  {
   "cell_type": "code",
   "execution_count": 8,
   "metadata": {
    "colab": {
     "base_uri": "https://localhost:8080/"
    },
    "executionInfo": {
     "elapsed": 47,
     "status": "ok",
     "timestamp": 1670970075000,
     "user": {
      "displayName": "zaka fahmi",
      "userId": "00253059532595011101"
     },
     "user_tz": -420
    },
    "id": "54_8T9AZJIBF",
    "outputId": "9961617a-59f3-48d4-9034-52895f02c9f5"
   },
   "outputs": [
    {
     "data": {
      "text/plain": [
       "['rk',\n",
       " 'masuk',\n",
       " 'golkar',\n",
       " 'capres',\n",
       " 'cawapreskan',\n",
       " 'kib',\n",
       " 'turut',\n",
       " 'tuju',\n",
       " 'utama',\n",
       " 'ridwan',\n",
       " 'kamil',\n",
       " 'suara',\n",
       " 'golkar',\n",
       " 'jabar',\n",
       " 'aman',\n",
       " 'saing',\n",
       " 'berat',\n",
       " 'rk',\n",
       " 'pilgub',\n",
       " 'dedi',\n",
       " 'mulyadi',\n",
       " 'rk',\n",
       " 'pasang',\n",
       " 'bima',\n",
       " 'arya',\n",
       " 'opinipolitik']"
      ]
     },
     "execution_count": 8,
     "metadata": {},
     "output_type": "execute_result"
    }
   ],
   "source": [
    "indeks = 0\n",
    "df2 = df.copy()\n",
    "for tweet in df2['Tweet']:\n",
    "    df2['Tweet'][indeks] = str(tweet).split()\n",
    "    indeks+=1\n",
    "\n",
    "df2['Tweet'][2]\n"
   ]
  },
  {
   "cell_type": "markdown",
   "metadata": {
    "id": "tx_1X9zNJN5G"
   },
   "source": [
    "### Hasil Preprocessing\n"
   ]
  },
  {
   "cell_type": "code",
   "execution_count": 9,
   "metadata": {
    "colab": {
     "base_uri": "https://localhost:8080/",
     "height": 424
    },
    "executionInfo": {
     "elapsed": 42,
     "status": "ok",
     "timestamp": 1670970075001,
     "user": {
      "displayName": "zaka fahmi",
      "userId": "00253059532595011101"
     },
     "user_tz": -420
    },
    "id": "K7TJBgFFJRa7",
    "outputId": "32f270e1-8356-43a9-bfc6-b679e9e7a11e"
   },
   "outputs": [
    {
     "data": {
      "text/html": [
       "\n",
       "  <div id=\"df-cf64ec69-e244-417b-8544-bfc87e37366d\">\n",
       "    <div class=\"colab-df-container\">\n",
       "      <div>\n",
       "<style scoped>\n",
       "    .dataframe tbody tr th:only-of-type {\n",
       "        vertical-align: middle;\n",
       "    }\n",
       "\n",
       "    .dataframe tbody tr th {\n",
       "        vertical-align: top;\n",
       "    }\n",
       "\n",
       "    .dataframe thead th {\n",
       "        text-align: right;\n",
       "    }\n",
       "</style>\n",
       "<table border=\"1\" class=\"dataframe\">\n",
       "  <thead>\n",
       "    <tr style=\"text-align: right;\">\n",
       "      <th></th>\n",
       "      <th>User</th>\n",
       "      <th>Tweet</th>\n",
       "      <th>Label</th>\n",
       "    </tr>\n",
       "  </thead>\n",
       "  <tbody>\n",
       "    <tr>\n",
       "      <th>0</th>\n",
       "      <td>aprella234</td>\n",
       "      <td>[asa, tampar, ucap, kang, dedi, mulyadi, orang...</td>\n",
       "      <td>None</td>\n",
       "    </tr>\n",
       "    <tr>\n",
       "      <th>1</th>\n",
       "      <td>info_daratan</td>\n",
       "      <td>[dedi, mulyadi, belok, arah, rumah, sakit, has...</td>\n",
       "      <td>None</td>\n",
       "    </tr>\n",
       "    <tr>\n",
       "      <th>2</th>\n",
       "      <td>abcdefuckyu</td>\n",
       "      <td>[rk, masuk, golkar, capres, cawapreskan, kib, ...</td>\n",
       "      <td>None</td>\n",
       "    </tr>\n",
       "    <tr>\n",
       "      <th>3</th>\n",
       "      <td>kompascom</td>\n",
       "      <td>[seteru, joli, batal, meni, minta, mas, kawin,...</td>\n",
       "      <td>None</td>\n",
       "    </tr>\n",
       "    <tr>\n",
       "      <th>4</th>\n",
       "      <td>suaradotcom</td>\n",
       "      <td>[jodoh, netizen, dedi, mulyadi, bupati, karawa...</td>\n",
       "      <td>None</td>\n",
       "    </tr>\n",
       "    <tr>\n",
       "      <th>...</th>\n",
       "      <td>...</td>\n",
       "      <td>...</td>\n",
       "      <td>...</td>\n",
       "    </tr>\n",
       "    <tr>\n",
       "      <th>95</th>\n",
       "      <td>newmindarmy45</td>\n",
       "      <td>[kang, dedi, mulyadi, gelisah, laku, ambu, ann...</td>\n",
       "      <td>None</td>\n",
       "    </tr>\n",
       "    <tr>\n",
       "      <th>96</th>\n",
       "      <td>HumasPolresMaj1</td>\n",
       "      <td>[upaya, tangkal, masuk, paham, radikalisme, te...</td>\n",
       "      <td>None</td>\n",
       "    </tr>\n",
       "    <tr>\n",
       "      <th>97</th>\n",
       "      <td>OposisiCerdas</td>\n",
       "      <td>[kang, dedi, mulyadi, gelisah, laku, ambu, ann...</td>\n",
       "      <td>None</td>\n",
       "    </tr>\n",
       "    <tr>\n",
       "      <th>98</th>\n",
       "      <td>geloraco</td>\n",
       "      <td>[nama, bupati, purwakarta, dedi, mulyadi, kian...</td>\n",
       "      <td>None</td>\n",
       "    </tr>\n",
       "    <tr>\n",
       "      <th>99</th>\n",
       "      <td>geloraco</td>\n",
       "      <td>[kang, dedi, mulyadi, gelisah, laku, ambu, ann...</td>\n",
       "      <td>None</td>\n",
       "    </tr>\n",
       "  </tbody>\n",
       "</table>\n",
       "<p>100 rows × 3 columns</p>\n",
       "</div>\n",
       "      <button class=\"colab-df-convert\" onclick=\"convertToInteractive('df-cf64ec69-e244-417b-8544-bfc87e37366d')\"\n",
       "              title=\"Convert this dataframe to an interactive table.\"\n",
       "              style=\"display:none;\">\n",
       "\n",
       "  <svg xmlns=\"http://www.w3.org/2000/svg\" height=\"24px\"viewBox=\"0 0 24 24\"\n",
       "       width=\"24px\">\n",
       "    <path d=\"M0 0h24v24H0V0z\" fill=\"none\"/>\n",
       "    <path d=\"M18.56 5.44l.94 2.06.94-2.06 2.06-.94-2.06-.94-.94-2.06-.94 2.06-2.06.94zm-11 1L8.5 8.5l.94-2.06 2.06-.94-2.06-.94L8.5 2.5l-.94 2.06-2.06.94zm10 10l.94 2.06.94-2.06 2.06-.94-2.06-.94-.94-2.06-.94 2.06-2.06.94z\"/><path d=\"M17.41 7.96l-1.37-1.37c-.4-.4-.92-.59-1.43-.59-.52 0-1.04.2-1.43.59L10.3 9.45l-7.72 7.72c-.78.78-.78 2.05 0 2.83L4 21.41c.39.39.9.59 1.41.59.51 0 1.02-.2 1.41-.59l7.78-7.78 2.81-2.81c.8-.78.8-2.07 0-2.86zM5.41 20L4 18.59l7.72-7.72 1.47 1.35L5.41 20z\"/>\n",
       "  </svg>\n",
       "      </button>\n",
       "\n",
       "  <style>\n",
       "    .colab-df-container {\n",
       "      display:flex;\n",
       "      flex-wrap:wrap;\n",
       "      gap: 12px;\n",
       "    }\n",
       "\n",
       "    .colab-df-convert {\n",
       "      background-color: #E8F0FE;\n",
       "      border: none;\n",
       "      border-radius: 50%;\n",
       "      cursor: pointer;\n",
       "      display: none;\n",
       "      fill: #1967D2;\n",
       "      height: 32px;\n",
       "      padding: 0 0 0 0;\n",
       "      width: 32px;\n",
       "    }\n",
       "\n",
       "    .colab-df-convert:hover {\n",
       "      background-color: #E2EBFA;\n",
       "      box-shadow: 0px 1px 2px rgba(60, 64, 67, 0.3), 0px 1px 3px 1px rgba(60, 64, 67, 0.15);\n",
       "      fill: #174EA6;\n",
       "    }\n",
       "\n",
       "    [theme=dark] .colab-df-convert {\n",
       "      background-color: #3B4455;\n",
       "      fill: #D2E3FC;\n",
       "    }\n",
       "\n",
       "    [theme=dark] .colab-df-convert:hover {\n",
       "      background-color: #434B5C;\n",
       "      box-shadow: 0px 1px 3px 1px rgba(0, 0, 0, 0.15);\n",
       "      filter: drop-shadow(0px 1px 2px rgba(0, 0, 0, 0.3));\n",
       "      fill: #FFFFFF;\n",
       "    }\n",
       "  </style>\n",
       "\n",
       "      <script>\n",
       "        const buttonEl =\n",
       "          document.querySelector('#df-cf64ec69-e244-417b-8544-bfc87e37366d button.colab-df-convert');\n",
       "        buttonEl.style.display =\n",
       "          google.colab.kernel.accessAllowed ? 'block' : 'none';\n",
       "\n",
       "        async function convertToInteractive(key) {\n",
       "          const element = document.querySelector('#df-cf64ec69-e244-417b-8544-bfc87e37366d');\n",
       "          const dataTable =\n",
       "            await google.colab.kernel.invokeFunction('convertToInteractive',\n",
       "                                                     [key], {});\n",
       "          if (!dataTable) return;\n",
       "\n",
       "          const docLinkHtml = 'Like what you see? Visit the ' +\n",
       "            '<a target=\"_blank\" href=https://colab.research.google.com/notebooks/data_table.ipynb>data table notebook</a>'\n",
       "            + ' to learn more about interactive tables.';\n",
       "          element.innerHTML = '';\n",
       "          dataTable['output_type'] = 'display_data';\n",
       "          await google.colab.output.renderOutput(dataTable, element);\n",
       "          const docLink = document.createElement('div');\n",
       "          docLink.innerHTML = docLinkHtml;\n",
       "          element.appendChild(docLink);\n",
       "        }\n",
       "      </script>\n",
       "    </div>\n",
       "  </div>\n"
      ],
      "text/plain": [
       "               User                                              Tweet Label\n",
       "0        aprella234  [asa, tampar, ucap, kang, dedi, mulyadi, orang...  None\n",
       "1      info_daratan  [dedi, mulyadi, belok, arah, rumah, sakit, has...  None\n",
       "2       abcdefuckyu  [rk, masuk, golkar, capres, cawapreskan, kib, ...  None\n",
       "3         kompascom  [seteru, joli, batal, meni, minta, mas, kawin,...  None\n",
       "4       suaradotcom  [jodoh, netizen, dedi, mulyadi, bupati, karawa...  None\n",
       "..              ...                                                ...   ...\n",
       "95    newmindarmy45  [kang, dedi, mulyadi, gelisah, laku, ambu, ann...  None\n",
       "96  HumasPolresMaj1  [upaya, tangkal, masuk, paham, radikalisme, te...  None\n",
       "97    OposisiCerdas  [kang, dedi, mulyadi, gelisah, laku, ambu, ann...  None\n",
       "98         geloraco  [nama, bupati, purwakarta, dedi, mulyadi, kian...  None\n",
       "99         geloraco  [kang, dedi, mulyadi, gelisah, laku, ambu, ann...  None\n",
       "\n",
       "[100 rows x 3 columns]"
      ]
     },
     "execution_count": 9,
     "metadata": {},
     "output_type": "execute_result"
    }
   ],
   "source": [
    "df2"
   ]
  },
  {
   "cell_type": "markdown",
   "metadata": {
    "id": "sDsXb5sLJblH"
   },
   "source": [
    "## **Term Frequency (TF)**"
   ]
  },
  {
   "cell_type": "markdown",
   "metadata": {
    "id": "Qc5YBv3fJcYk"
   },
   "source": [
    "### Term Frequency Keseluruhan"
   ]
  },
  {
   "cell_type": "code",
   "execution_count": 10,
   "metadata": {
    "colab": {
     "base_uri": "https://localhost:8080/"
    },
    "executionInfo": {
     "elapsed": 51,
     "status": "ok",
     "timestamp": 1670970075012,
     "user": {
      "displayName": "zaka fahmi",
      "userId": "00253059532595011101"
     },
     "user_tz": -420
    },
    "id": "vqH3UnFNJf4Y",
    "outputId": "6421ee11-89dd-489e-e55f-1e29870e373e"
   },
   "outputs": [
    {
     "name": "stdout",
     "output_type": "stream",
     "text": [
      "{'dedi': 94, 'mulyadi': 93, 'anne': 35, 'bupati': 21, 'rumah': 19, 'bandung': 17, 'ambu': 17, 'purwakarta': 17, 'ratna': 15, 'kang': 14, 'hasan': 14, 'mustika': 14, 'belok': 13, 'arah': 13, 'sakit': 13, 'sadikin': 13, 'golkarsolid': 13, 'jodoh': 10, 'nikah': 10, 'karawang': 9, 'ryan': 9, 'cerai': 9, 'sertifikat': 8, 'yessy': 8, 'dono': 8, 'aja': 7, 'mahar': 7, 'biaya': 7, 'cellica': 6, 'gagal': 6, 'nafkah': 6, 'tuduh': 6, 'laku': 6, 'orang': 5, 'jabar': 5, 'buka': 5, 'hati': 5, 'sosok': 5, 'populer': 5, 'longsor': 5, 'relokasi': 5, 'keluarga': 5, 'korban': 5, 'nama': 5, 'gelisah': 5, 'dukun': 5, 'tradisi': 5, 'kalo': 4, 'rk': 4, 'golkar': 4, 'batal': 4, 'damai': 4, 'pintu': 4, 'anak': 4, 'nya': 4, 'gugat': 4, 'istri': 4, 'kian': 4, 'jelang': 4, 'milu': 4, 'ngajeng': 4, 'pesan': 4, 'pasang': 3, 'bima': 3, 'arya': 3, 'anggota': 3, 'dpr': 3, 'ri': 3, 'mudah': 3, 'bikin': 3, 'bareng': 3, 'rupiah': 3, 'dedimulyadi': 3, 'ya': 3, 'nurachdiana': 3, 'wanita': 3, 'ga': 3, 'maju': 3, 'tohok': 3, 'inisiatif': 3, 'tuding': 3, 'kdrt': 3, 'ketua': 3, 'sentuh': 3, 'cerita': 2, 'bangun': 2, 'pagi': 2, 'sia': 2, 'masuk': 2, 'utama': 2, 'suara': 2, 'pilgub': 2, 'meni': 2, 'netizen': 2, 'nurrachadiana': 2, 'kaget': 2, 'tutup': 2, 'kunci': 2, 'viral': 2, 'bupatipurwakarta': 2, 'bupatikarawang': 2, 'pimpin': 2, 'isi': 2, 'kepala': 2, 'akibat': 2, 'koar': 2, 'pilkada': 2, 'capai': 2, 'miliar': 2, 'simak': 2, 'ambuanne': 2, 'fraksi': 2, 'partai': 2, 'periode': 2, 'november': 2, 'mantan': 2, 'detik': 2, 'desa': 2, 'halang': 2, 'wejang': 2, 'ogah': 2, 'bongkar': 2, 'aib': 2, 'kaya': 2, 'singgung': 2, 'calon': 2, 'kan': 2, 'silaturahmi': 2, 'kuat': 2, 'kuasa': 2, 'turun': 2, 'fakta': 2, 'jokowi': 2, 'cebong': 2, 'lebay': 2, 'kaesang': 2, 'lemas': 2, 'pisang': 2, 'gedang': 2, 'mpr': 2, 'pitha': 2, 'tipis': 2, 'netherlands': 2, 'fifaworldcup': 2, 'jumatberkah': 2, 'aniespresiden': 2, 'juta': 2, 'adil': 2, 'agama': 2, 'newmind': 2, 'beritaterkini': 2, 'kabarterbaru': 2, 'trending': 2, 'fyp': 2, 'news': 2, 'asa': 1, 'tampar': 1, 'ucap': 1, 'capres': 1, 'cawapreskan': 1, 'kib': 1, 'turut': 1, 'tuju': 1, 'ridwan': 1, 'kamil': 1, 'aman': 1, 'saing': 1, 'berat': 1, 'opinipolitik': 1, 'seteru': 1, 'joli': 1, 'minta': 1, 'mas': 1, 'kawin': 1, 'hasil': 1, 'macet': 1, 'ayah': 1, 'kuak': 1, 'pekerjannya': 1, 'kagum': 1, 'pamer': 1, 'foto': 1, 'yg': 1, 'sederhana': 1, 'ijazah': 1, 'pancar': 1, 'tanah': 1, 'plot': 1, 'twist': 1, 'salam': 1, 'usaha': 1, 'warganet': 1, 'kandas': 1, 'hukum': 1, 'pandang': 1, 'islam': 1, 'jaditau': 1, 'gugatcerai': 1, 'ajak': 1, 'cari': 1, 'janda': 1, 'gadis': 1, 'bambang': 1, 'soesatyo': 1, 'meutya': 1, 'hafid': 1, 'adies': 1, 'kadir': 1, 'dave': 1, 'laksono': 1, 'sarmuji': 1, 'ace': 1, 'syadzily': 1, 'nurul': 1, 'arifin': 1, 'hetifah': 1, 'sjaifudian': 1, 'bobby': 1, 'adhityo': 1, 'rizaldi': 1, 'undang': 1, 'tembok': 1, 'perjodo': 1, 'beda': 1, 'hidup': 1, 'keras': 1, 'hi': 1, 'hadir': 1, 'tegar': 1, 'berkat': 1, 'serikat': 1, 'speechless': 1, 'kota': 1, 'jujurly': 1, 'rame': 1, 'besok': 1, 'sih': 1, 'desak': 1, 'kali': 1, 'gub': 1, 'perhati': 1, 'beliau': 1, 'yana': 1, 'mulyana': 1, 'updatekarawang': 1, 'kangdedimulyadi': 1, 'cellicanurrahmadiana': 1, 'salah': 1, 'sinyal': 1, 'duda': 1, 'mu': 1, 'banget': 1, 'shock': 1, 't': 1, 'peras': 1, 'oknum': 1, 'sebar': 1, 'video': 1, 'uang': 1, 'level': 1, 'balas': 1, 'umbar': 1, 'pribadi': 1, 'publik': 1, 'embu': 1, 'msh': 1, 'sepit': 1, 'bagi': 1, 'kabar': 1, 'bahagia': 1, 'insyaallah': 1, 'hay': 1, 'trimksih': 1, 'malm': 1, 'maut': 1, 'sentil': 1, 'hutang': 1, 'sisa': 1, 'tega': 1, 'mikir': 1, 'mending': 1, 'nyetrika': 1, 'baju': 1, 'nonton': 1, 'youtube': 1, 'percaya': 1, 'pananyaan': 1, 'bocor': 1, 'sebab': 1, 'inisial': 1, 'm': 1, 'rengkut': 1, 'nyawa': 1, 'jatiluhur': 1, 'pisah': 1, 'r': 1, 'bohong': 1, 'siap': 1, 'bukti': 1, 'mangkir': 1, 'sidang': 1, 'lanjut': 1, 'ter': 1, 'suami': 1, 'dinas': 1, 'nggak': 1, 'tepis': 1, 'psikis': 1, 'alas': 1, 'kategori': 1, 'terima': 1, 'dana': 1, 'beban': 1, 'rahasia': 1, 'hindar': 1, 'tangga': 1, 'teh': 1, 'celli': 1, 'sinarjabar': 1, 'faktual': 1, 'kritis': 1, 'jawabarat': 1, 'tehcelli': 1, 'silatutahmi': 1, 'dprd': 1, 'kalang': 1, 'kabut': 1, 'dengar': 1, 'nyata': 1, 'utang': 1, 'dbh': 1, 'kek': 1, 'sengit': 1, 'kontestasi': 1, 'nunjukkin': 1, 'kader': 1, 'baik': 1, 'gitu': 1, 'pks': 1, 'puasa': 1, 'dki': 1, 'rumit': 1, 'sahroni': 1, 'blom': 1, 'ariza': 1, 'udah': 1, 'bantah': 1, 'kejut': 1, 'telanjang': 1, 'bijak': 1, 'anggar': 1, 'apbd': 1, 'infopurwakarta': 1, 'branding': 1, 'daddies': 1, 'farofadagkaynomultishow': 1, 'asgariucret': 1, 'ultimatum': 1, 'lingkar': 1, 'cantik': 1, 'berita': 1, 'kurun': 1, 'partaigolkar': 1, 'golkarpedia': 1, 'airlanggahartarto': 1, 'bambangsoesatyo': 1, 'via': 1, 'pan': 1, 'dr': 1, 'ungga': 1, 'nasehat': 1, 'sert': 1, 'senggol': 1, 'korek': 1, 'perkara': 1, 'hajat': 1, 'emas': 1, 'puluh': 1, 'eh': 1, 'apsen': 1, 'jleb': 1, 'lantas': 1, 'upaya': 1, 'tangkal': 1, 'paham': 1, 'radikalisme': 1, 'terorisme': 1, 'kapolsek': 1, 'sukahaji': 1, 'polres': 1, 'majalengka': 1, 'akp': 1, 'rudy': 1, 'djunardi': 1, 'damping': 1, 'kanit': 1, 'samapta': 1, 'aiptu': 1, 'riyana': 1, 'laksana': 1, 'giat': 1, 'sambang': 1, 'toga': 1, 'tokoh': 1, 'h': 1, 'wakil': 1, 'dan': 1}\n"
     ]
    }
   ],
   "source": [
    "listkata = []\n",
    "for tweet in df['Tweet']:\n",
    "    listkata = listkata + str(tweet).split()\n",
    "\n",
    "listkata_nodup = list(dict.fromkeys(listkata))\n",
    "hasil_hitung = {}\n",
    "for test1 in listkata_nodup:\n",
    "    jumlah = 0\n",
    "    for test2 in range(len(listkata)):\n",
    "        if test1 == listkata[test2]:\n",
    "            jumlah+=1\n",
    "    hasil_hitung.update({'%s'%test1 : jumlah})\n",
    "    \n",
    "hasil_hitung = dict(sorted(hasil_hitung.items(), key=lambda item: item[1], reverse=True))\n",
    "print(hasil_hitung)"
   ]
  },
  {
   "cell_type": "markdown",
   "metadata": {
    "id": "ZkAiXxdOJqNU"
   },
   "source": [
    "### Term Frequency Tiap Tweet"
   ]
  },
  {
   "cell_type": "code",
   "execution_count": 11,
   "metadata": {
    "colab": {
     "base_uri": "https://localhost:8080/",
     "height": 1000
    },
    "executionInfo": {
     "elapsed": 43664,
     "status": "ok",
     "timestamp": 1670970118632,
     "user": {
      "displayName": "zaka fahmi",
      "userId": "00253059532595011101"
     },
     "user_tz": -420
    },
    "id": "IepY23tDJq8x",
    "outputId": "13cf489c-9123-4121-e24b-f5fdc2dc1b0e"
   },
   "outputs": [
    {
     "name": "stderr",
     "output_type": "stream",
     "text": [
      "<ipython-input-11-317fe5facf89>:11: PerformanceWarning: DataFrame is highly fragmented.  This is usually the result of calling `frame.insert` many times, which has poor performance.  Consider joining all columns at once using pd.concat(axis=1) instead.  To get a de-fragmented frame, use `newframe = frame.copy()`\n",
      "  df3['%s'%(fitur)] = 0\n"
     ]
    },
    {
     "name": "stderr",
     "output_type": "stream",
     "text": [
      "<ipython-input-11-317fe5facf89>:21: SettingWithCopyWarning: \n",
      "A value is trying to be set on a copy of a slice from a DataFrame\n",
      "\n",
      "See the caveats in the documentation: https://pandas.pydata.org/pandas-docs/stable/user_guide/indexing.html#returning-a-view-versus-a-copy\n",
      "  df3['%s'%fitur][inter] = jumlah\n"
     ]
    },
    {
     "ename": "KeyboardInterrupt",
     "evalue": "",
     "output_type": "error",
     "traceback": [
      "\u001b[0;31m\u001b[0m",
      "\u001b[0;31mAttributeError\u001b[0mTraceback (most recent call last)",
      "\u001b[0;32m/usr/local/lib/python3.8/dist-packages/pandas/core/generic.py\u001b[0m in \u001b[0;36m__setattr__\u001b[0;34m(self, name, value)\u001b[0m\n\u001b[1;32m   5498\u001b[0m         \u001b[0;32mtry\u001b[0m\u001b[0;34m:\u001b[0m\u001b[0;34m\u001b[0m\u001b[0;34m\u001b[0m\u001b[0m\n\u001b[0;32m-> 5499\u001b[0;31m             \u001b[0mobject\u001b[0m\u001b[0;34m.\u001b[0m\u001b[0m__getattribute__\u001b[0m\u001b[0;34m(\u001b[0m\u001b[0mself\u001b[0m\u001b[0;34m,\u001b[0m \u001b[0mname\u001b[0m\u001b[0;34m)\u001b[0m\u001b[0;34m\u001b[0m\u001b[0;34m\u001b[0m\u001b[0m\n\u001b[0m\u001b[1;32m   5500\u001b[0m             \u001b[0;32mreturn\u001b[0m \u001b[0mobject\u001b[0m\u001b[0;34m.\u001b[0m\u001b[0m__setattr__\u001b[0m\u001b[0;34m(\u001b[0m\u001b[0mself\u001b[0m\u001b[0;34m,\u001b[0m \u001b[0mname\u001b[0m\u001b[0;34m,\u001b[0m \u001b[0mvalue\u001b[0m\u001b[0;34m)\u001b[0m\u001b[0;34m\u001b[0m\u001b[0;34m\u001b[0m\u001b[0m\n",
      "\u001b[0;32m/usr/local/lib/python3.8/dist-packages/pandas/core/series.py\u001b[0m in \u001b[0;36mname\u001b[0;34m(self)\u001b[0m\n\u001b[1;32m    624\u001b[0m         \"\"\"\n\u001b[0;32m--> 625\u001b[0;31m         \u001b[0;32mreturn\u001b[0m \u001b[0mself\u001b[0m\u001b[0;34m.\u001b[0m\u001b[0m_name\u001b[0m\u001b[0;34m\u001b[0m\u001b[0;34m\u001b[0m\u001b[0m\n\u001b[0m\u001b[1;32m    626\u001b[0m \u001b[0;34m\u001b[0m\u001b[0m\n",
      "\u001b[0;32m/usr/local/lib/python3.8/dist-packages/pandas/core/generic.py\u001b[0m in \u001b[0;36m__getattr__\u001b[0;34m(self, name)\u001b[0m\n\u001b[1;32m   5486\u001b[0m             \u001b[0;32mreturn\u001b[0m \u001b[0mself\u001b[0m\u001b[0;34m[\u001b[0m\u001b[0mname\u001b[0m\u001b[0;34m]\u001b[0m\u001b[0;34m\u001b[0m\u001b[0;34m\u001b[0m\u001b[0m\n\u001b[0;32m-> 5487\u001b[0;31m         \u001b[0;32mreturn\u001b[0m \u001b[0mobject\u001b[0m\u001b[0;34m.\u001b[0m\u001b[0m__getattribute__\u001b[0m\u001b[0;34m(\u001b[0m\u001b[0mself\u001b[0m\u001b[0;34m,\u001b[0m \u001b[0mname\u001b[0m\u001b[0;34m)\u001b[0m\u001b[0;34m\u001b[0m\u001b[0;34m\u001b[0m\u001b[0m\n\u001b[0m\u001b[1;32m   5488\u001b[0m \u001b[0;34m\u001b[0m\u001b[0m\n",
      "\u001b[0;31mAttributeError\u001b[0m: 'Series' object has no attribute '_name'",
      "\nDuring handling of the above exception, another exception occurred:\n",
      "\u001b[0;31mKeyboardInterrupt\u001b[0mTraceback (most recent call last)",
      "\u001b[0;32m<ipython-input-11-317fe5facf89>\u001b[0m in \u001b[0;36m<module>\u001b[0;34m\u001b[0m\n\u001b[1;32m     23\u001b[0m   \u001b[0mdf3\u001b[0m\u001b[0;34m.\u001b[0m\u001b[0mto_csv\u001b[0m\u001b[0;34m(\u001b[0m\u001b[0;34mr'my_data.csv'\u001b[0m\u001b[0;34m,\u001b[0m \u001b[0mindex\u001b[0m\u001b[0;34m=\u001b[0m\u001b[0;32mFalse\u001b[0m\u001b[0;34m)\u001b[0m\u001b[0;34m\u001b[0m\u001b[0;34m\u001b[0m\u001b[0m\n\u001b[1;32m     24\u001b[0m   \u001b[0;32mreturn\u001b[0m \u001b[0mdf3\u001b[0m\u001b[0;34m\u001b[0m\u001b[0;34m\u001b[0m\u001b[0m\n\u001b[0;32m---> 25\u001b[0;31m \u001b[0mterms\u001b[0m\u001b[0;34m(\u001b[0m\u001b[0mdf2\u001b[0m\u001b[0;34m)\u001b[0m\u001b[0;34m\u001b[0m\u001b[0;34m\u001b[0m\u001b[0m\n\u001b[0m\u001b[1;32m     26\u001b[0m \u001b[0;34m\u001b[0m\u001b[0m\n",
      "\u001b[0;32m<ipython-input-11-317fe5facf89>\u001b[0m in \u001b[0;36mterms\u001b[0;34m(dataframe)\u001b[0m\n\u001b[1;32m     19\u001b[0m           \u001b[0;32mif\u001b[0m \u001b[0mfitur\u001b[0m \u001b[0;34m==\u001b[0m \u001b[0mcek\u001b[0m\u001b[0;34m[\u001b[0m\u001b[0miter2\u001b[0m\u001b[0;34m]\u001b[0m\u001b[0;34m:\u001b[0m\u001b[0;34m\u001b[0m\u001b[0;34m\u001b[0m\u001b[0m\n\u001b[1;32m     20\u001b[0m             \u001b[0mjumlah\u001b[0m\u001b[0;34m+=\u001b[0m\u001b[0;36m1\u001b[0m\u001b[0;34m\u001b[0m\u001b[0;34m\u001b[0m\u001b[0m\n\u001b[0;32m---> 21\u001b[0;31m         \u001b[0mdf3\u001b[0m\u001b[0;34m[\u001b[0m\u001b[0;34m'%s'\u001b[0m\u001b[0;34m%\u001b[0m\u001b[0mfitur\u001b[0m\u001b[0;34m]\u001b[0m\u001b[0;34m[\u001b[0m\u001b[0minter\u001b[0m\u001b[0;34m]\u001b[0m \u001b[0;34m=\u001b[0m \u001b[0mjumlah\u001b[0m\u001b[0;34m\u001b[0m\u001b[0;34m\u001b[0m\u001b[0m\n\u001b[0m\u001b[1;32m     22\u001b[0m         \u001b[0ma\u001b[0m\u001b[0;34m+=\u001b[0m\u001b[0;36m1\u001b[0m\u001b[0;34m\u001b[0m\u001b[0;34m\u001b[0m\u001b[0m\n\u001b[1;32m     23\u001b[0m   \u001b[0mdf3\u001b[0m\u001b[0;34m.\u001b[0m\u001b[0mto_csv\u001b[0m\u001b[0;34m(\u001b[0m\u001b[0;34mr'my_data.csv'\u001b[0m\u001b[0;34m,\u001b[0m \u001b[0mindex\u001b[0m\u001b[0;34m=\u001b[0m\u001b[0;32mFalse\u001b[0m\u001b[0;34m)\u001b[0m\u001b[0;34m\u001b[0m\u001b[0;34m\u001b[0m\u001b[0m\n",
      "\u001b[0;32m/usr/local/lib/python3.8/dist-packages/pandas/core/series.py\u001b[0m in \u001b[0;36m__setitem__\u001b[0;34m(self, key, value)\u001b[0m\n\u001b[1;32m   1054\u001b[0m     \u001b[0;32mdef\u001b[0m \u001b[0m__setitem__\u001b[0m\u001b[0;34m(\u001b[0m\u001b[0mself\u001b[0m\u001b[0;34m,\u001b[0m \u001b[0mkey\u001b[0m\u001b[0;34m,\u001b[0m \u001b[0mvalue\u001b[0m\u001b[0;34m)\u001b[0m \u001b[0;34m->\u001b[0m \u001b[0;32mNone\u001b[0m\u001b[0;34m:\u001b[0m\u001b[0;34m\u001b[0m\u001b[0;34m\u001b[0m\u001b[0m\n\u001b[1;32m   1055\u001b[0m         \u001b[0mkey\u001b[0m \u001b[0;34m=\u001b[0m \u001b[0mcom\u001b[0m\u001b[0;34m.\u001b[0m\u001b[0mapply_if_callable\u001b[0m\u001b[0;34m(\u001b[0m\u001b[0mkey\u001b[0m\u001b[0;34m,\u001b[0m \u001b[0mself\u001b[0m\u001b[0;34m)\u001b[0m\u001b[0;34m\u001b[0m\u001b[0;34m\u001b[0m\u001b[0m\n\u001b[0;32m-> 1056\u001b[0;31m         \u001b[0mcacher_needs_updating\u001b[0m \u001b[0;34m=\u001b[0m \u001b[0mself\u001b[0m\u001b[0;34m.\u001b[0m\u001b[0m_check_is_chained_assignment_possible\u001b[0m\u001b[0;34m(\u001b[0m\u001b[0;34m)\u001b[0m\u001b[0;34m\u001b[0m\u001b[0;34m\u001b[0m\u001b[0m\n\u001b[0m\u001b[1;32m   1057\u001b[0m \u001b[0;34m\u001b[0m\u001b[0m\n\u001b[1;32m   1058\u001b[0m         \u001b[0;32mif\u001b[0m \u001b[0mkey\u001b[0m \u001b[0;32mis\u001b[0m \u001b[0mEllipsis\u001b[0m\u001b[0;34m:\u001b[0m\u001b[0;34m\u001b[0m\u001b[0;34m\u001b[0m\u001b[0m\n",
      "\u001b[0;32m/usr/local/lib/python3.8/dist-packages/pandas/core/series.py\u001b[0m in \u001b[0;36m_check_is_chained_assignment_possible\u001b[0;34m(self)\u001b[0m\n\u001b[1;32m   1209\u001b[0m         \u001b[0;32mif\u001b[0m \u001b[0mself\u001b[0m\u001b[0;34m.\u001b[0m\u001b[0m_is_view\u001b[0m \u001b[0;32mand\u001b[0m \u001b[0mself\u001b[0m\u001b[0;34m.\u001b[0m\u001b[0m_is_cached\u001b[0m\u001b[0;34m:\u001b[0m\u001b[0;34m\u001b[0m\u001b[0;34m\u001b[0m\u001b[0m\n\u001b[1;32m   1210\u001b[0m             \u001b[0mref\u001b[0m \u001b[0;34m=\u001b[0m \u001b[0mself\u001b[0m\u001b[0;34m.\u001b[0m\u001b[0m_get_cacher\u001b[0m\u001b[0;34m(\u001b[0m\u001b[0;34m)\u001b[0m\u001b[0;34m\u001b[0m\u001b[0;34m\u001b[0m\u001b[0m\n\u001b[0;32m-> 1211\u001b[0;31m             \u001b[0;32mif\u001b[0m \u001b[0mref\u001b[0m \u001b[0;32mis\u001b[0m \u001b[0;32mnot\u001b[0m \u001b[0;32mNone\u001b[0m \u001b[0;32mand\u001b[0m \u001b[0mref\u001b[0m\u001b[0;34m.\u001b[0m\u001b[0m_is_mixed_type\u001b[0m\u001b[0;34m:\u001b[0m\u001b[0;34m\u001b[0m\u001b[0;34m\u001b[0m\u001b[0m\n\u001b[0m\u001b[1;32m   1212\u001b[0m                 \u001b[0mself\u001b[0m\u001b[0;34m.\u001b[0m\u001b[0m_check_setitem_copy\u001b[0m\u001b[0;34m(\u001b[0m\u001b[0mstacklevel\u001b[0m\u001b[0;34m=\u001b[0m\u001b[0;36m4\u001b[0m\u001b[0;34m,\u001b[0m \u001b[0mt\u001b[0m\u001b[0;34m=\u001b[0m\u001b[0;34m\"referent\"\u001b[0m\u001b[0;34m,\u001b[0m \u001b[0mforce\u001b[0m\u001b[0;34m=\u001b[0m\u001b[0;32mTrue\u001b[0m\u001b[0;34m)\u001b[0m\u001b[0;34m\u001b[0m\u001b[0;34m\u001b[0m\u001b[0m\n\u001b[1;32m   1213\u001b[0m             \u001b[0;32mreturn\u001b[0m \u001b[0;32mTrue\u001b[0m\u001b[0;34m\u001b[0m\u001b[0;34m\u001b[0m\u001b[0m\n",
      "\u001b[0;32m/usr/local/lib/python3.8/dist-packages/pandas/core/generic.py\u001b[0m in \u001b[0;36m_is_mixed_type\u001b[0;34m(self)\u001b[0m\n\u001b[1;32m   5590\u001b[0m             \u001b[0;32mreturn\u001b[0m \u001b[0;32mTrue\u001b[0m\u001b[0;34m\u001b[0m\u001b[0;34m\u001b[0m\u001b[0m\n\u001b[1;32m   5591\u001b[0m \u001b[0;34m\u001b[0m\u001b[0m\n\u001b[0;32m-> 5592\u001b[0;31m         \u001b[0;32mreturn\u001b[0m \u001b[0mself\u001b[0m\u001b[0;34m.\u001b[0m\u001b[0mdtypes\u001b[0m\u001b[0;34m.\u001b[0m\u001b[0mnunique\u001b[0m\u001b[0;34m(\u001b[0m\u001b[0;34m)\u001b[0m \u001b[0;34m>\u001b[0m \u001b[0;36m1\u001b[0m\u001b[0;34m\u001b[0m\u001b[0;34m\u001b[0m\u001b[0m\n\u001b[0m\u001b[1;32m   5593\u001b[0m \u001b[0;34m\u001b[0m\u001b[0m\n\u001b[1;32m   5594\u001b[0m     \u001b[0;34m@\u001b[0m\u001b[0mfinal\u001b[0m\u001b[0;34m\u001b[0m\u001b[0;34m\u001b[0m\u001b[0m\n",
      "\u001b[0;32m/usr/local/lib/python3.8/dist-packages/pandas/core/generic.py\u001b[0m in \u001b[0;36mdtypes\u001b[0;34m(self)\u001b[0m\n\u001b[1;32m   5657\u001b[0m         \"\"\"\n\u001b[1;32m   5658\u001b[0m         \u001b[0mdata\u001b[0m \u001b[0;34m=\u001b[0m \u001b[0mself\u001b[0m\u001b[0;34m.\u001b[0m\u001b[0m_mgr\u001b[0m\u001b[0;34m.\u001b[0m\u001b[0mget_dtypes\u001b[0m\u001b[0;34m(\u001b[0m\u001b[0;34m)\u001b[0m\u001b[0;34m\u001b[0m\u001b[0;34m\u001b[0m\u001b[0m\n\u001b[0;32m-> 5659\u001b[0;31m         \u001b[0;32mreturn\u001b[0m \u001b[0mself\u001b[0m\u001b[0;34m.\u001b[0m\u001b[0m_constructor_sliced\u001b[0m\u001b[0;34m(\u001b[0m\u001b[0mdata\u001b[0m\u001b[0;34m,\u001b[0m \u001b[0mindex\u001b[0m\u001b[0;34m=\u001b[0m\u001b[0mself\u001b[0m\u001b[0;34m.\u001b[0m\u001b[0m_info_axis\u001b[0m\u001b[0;34m,\u001b[0m \u001b[0mdtype\u001b[0m\u001b[0;34m=\u001b[0m\u001b[0mnp\u001b[0m\u001b[0;34m.\u001b[0m\u001b[0mobject_\u001b[0m\u001b[0;34m)\u001b[0m\u001b[0;34m\u001b[0m\u001b[0;34m\u001b[0m\u001b[0m\n\u001b[0m\u001b[1;32m   5660\u001b[0m \u001b[0;34m\u001b[0m\u001b[0m\n\u001b[1;32m   5661\u001b[0m     def astype(\n",
      "\u001b[0;32m/usr/local/lib/python3.8/dist-packages/pandas/core/series.py\u001b[0m in \u001b[0;36m__init__\u001b[0;34m(self, data, index, dtype, name, copy, fastpath)\u001b[0m\n\u001b[1;32m    446\u001b[0m \u001b[0;34m\u001b[0m\u001b[0m\n\u001b[1;32m    447\u001b[0m         \u001b[0mgeneric\u001b[0m\u001b[0;34m.\u001b[0m\u001b[0mNDFrame\u001b[0m\u001b[0;34m.\u001b[0m\u001b[0m__init__\u001b[0m\u001b[0;34m(\u001b[0m\u001b[0mself\u001b[0m\u001b[0;34m,\u001b[0m \u001b[0mdata\u001b[0m\u001b[0;34m)\u001b[0m\u001b[0;34m\u001b[0m\u001b[0;34m\u001b[0m\u001b[0m\n\u001b[0;32m--> 448\u001b[0;31m         \u001b[0mself\u001b[0m\u001b[0;34m.\u001b[0m\u001b[0mname\u001b[0m \u001b[0;34m=\u001b[0m \u001b[0mname\u001b[0m\u001b[0;34m\u001b[0m\u001b[0;34m\u001b[0m\u001b[0m\n\u001b[0m\u001b[1;32m    449\u001b[0m         \u001b[0mself\u001b[0m\u001b[0;34m.\u001b[0m\u001b[0m_set_axis\u001b[0m\u001b[0;34m(\u001b[0m\u001b[0;36m0\u001b[0m\u001b[0;34m,\u001b[0m \u001b[0mindex\u001b[0m\u001b[0;34m,\u001b[0m \u001b[0mfastpath\u001b[0m\u001b[0;34m=\u001b[0m\u001b[0;32mTrue\u001b[0m\u001b[0;34m)\u001b[0m\u001b[0;34m\u001b[0m\u001b[0;34m\u001b[0m\u001b[0m\n\u001b[1;32m    450\u001b[0m \u001b[0;34m\u001b[0m\u001b[0m\n",
      "\u001b[0;32m/usr/local/lib/python3.8/dist-packages/pandas/core/generic.py\u001b[0m in \u001b[0;36m__setattr__\u001b[0;34m(self, name, value)\u001b[0m\n\u001b[1;32m   5497\u001b[0m \u001b[0;34m\u001b[0m\u001b[0m\n\u001b[1;32m   5498\u001b[0m         \u001b[0;32mtry\u001b[0m\u001b[0;34m:\u001b[0m\u001b[0;34m\u001b[0m\u001b[0;34m\u001b[0m\u001b[0m\n\u001b[0;32m-> 5499\u001b[0;31m             \u001b[0mobject\u001b[0m\u001b[0;34m.\u001b[0m\u001b[0m__getattribute__\u001b[0m\u001b[0;34m(\u001b[0m\u001b[0mself\u001b[0m\u001b[0;34m,\u001b[0m \u001b[0mname\u001b[0m\u001b[0;34m)\u001b[0m\u001b[0;34m\u001b[0m\u001b[0;34m\u001b[0m\u001b[0m\n\u001b[0m\u001b[1;32m   5500\u001b[0m             \u001b[0;32mreturn\u001b[0m \u001b[0mobject\u001b[0m\u001b[0;34m.\u001b[0m\u001b[0m__setattr__\u001b[0m\u001b[0;34m(\u001b[0m\u001b[0mself\u001b[0m\u001b[0;34m,\u001b[0m \u001b[0mname\u001b[0m\u001b[0;34m,\u001b[0m \u001b[0mvalue\u001b[0m\u001b[0;34m)\u001b[0m\u001b[0;34m\u001b[0m\u001b[0;34m\u001b[0m\u001b[0m\n\u001b[1;32m   5501\u001b[0m         \u001b[0;32mexcept\u001b[0m \u001b[0mAttributeError\u001b[0m\u001b[0;34m:\u001b[0m\u001b[0;34m\u001b[0m\u001b[0;34m\u001b[0m\u001b[0m\n",
      "\u001b[0;31mKeyboardInterrupt\u001b[0m: "
     ]
    }
   ],
   "source": [
    "def terms(dataframe):\n",
    "  # pd.options.mode.chained_assignment = None\n",
    "  # pd.options.display.max_colwidth = None\n",
    "  # pd.options.display.max_columns = None\n",
    "  # pd.options.display.max_rows = None\n",
    "\n",
    "  df3 = dataframe.copy()\n",
    "  a = 1\n",
    "  for inter in range(len(df3['Tweet'])):\n",
    "      for fitur in hasil_hitung:\n",
    "          df3['%s'%(fitur)] = 0\n",
    "          a+=1\n",
    "\n",
    "  for inter in range(len(df3['Tweet'])):\n",
    "    for fitur in hasil_hitung:\n",
    "        cek = df3['Tweet'][inter]\n",
    "        jumlah = 0\n",
    "        for iter2 in range(len(cek)):\n",
    "          if fitur == cek[iter2]:\n",
    "            jumlah+=1\n",
    "        df3['%s'%fitur][inter] = jumlah\n",
    "        a+=1\n",
    "  df3.to_csv(r'my_data.csv', index=False)\n",
    "  return df3\n",
    "terms(df2)\n",
    "\n"
   ]
  },
  {
   "cell_type": "markdown",
   "metadata": {
    "id": "-xHuw4vFJ6XA"
   },
   "source": [
    "## Melakukan Training "
   ]
  },
  {
   "cell_type": "code",
   "execution_count": 61,
   "metadata": {
    "colab": {
     "base_uri": "https://localhost:8080/"
    },
    "executionInfo": {
     "elapsed": 40,
     "status": "ok",
     "timestamp": 1670970118633,
     "user": {
      "displayName": "zaka fahmi",
      "userId": "00253059532595011101"
     },
     "user_tz": -420
    },
    "id": "c6_QfoZAKFIx",
    "outputId": "98579150-6ea3-4fdb-bbd2-be1253e20848"
   },
   "outputs": [
    {
     "data": {
      "text/plain": [
       "array(['None'], dtype=object)"
      ]
     },
     "execution_count": 61,
     "metadata": {},
     "output_type": "execute_result"
    }
   ],
   "source": [
    "df4 = pd.read_csv('my_data.csv')\n",
    "df4['Label'].unique()"
   ]
  },
  {
   "cell_type": "code",
   "execution_count": 62,
   "metadata": {
    "colab": {
     "base_uri": "https://localhost:8080/"
    },
    "executionInfo": {
     "elapsed": 26,
     "status": "ok",
     "timestamp": 1670970118633,
     "user": {
      "displayName": "zaka fahmi",
      "userId": "00253059532595011101"
     },
     "user_tz": -420
    },
    "id": "8Me5H6ANKXj2",
    "outputId": "7851eb1c-257d-4e42-a8bd-457a0428dfc0"
   },
   "outputs": [
    {
     "data": {
      "text/plain": [
       "60    None\n",
       "80    None\n",
       "90    None\n",
       "68    None\n",
       "51    None\n",
       "      ... \n",
       "96    None\n",
       "67    None\n",
       "64    None\n",
       "47    None\n",
       "44    None\n",
       "Name: Label, Length: 70, dtype: object"
      ]
     },
     "execution_count": 62,
     "metadata": {},
     "output_type": "execute_result"
    }
   ],
   "source": [
    "from sklearn.model_selection import train_test_split\n",
    "X_train,X_test,y_train,y_test=train_test_split(df4.drop(labels=['Label', 'User', 'Tweet'], axis=1),\n",
    "    df4['Label'],\n",
    "    test_size=0.3,\n",
    "    random_state=0)\n",
    "y_train"
   ]
  },
  {
   "cell_type": "markdown",
   "metadata": {
    "id": "T5bsoOiPK0TC"
   },
   "source": [
    "## **Bagging Classifier**"
   ]
  },
  {
   "cell_type": "code",
   "execution_count": 63,
   "metadata": {
    "executionInfo": {
     "elapsed": 22,
     "status": "ok",
     "timestamp": 1670970118633,
     "user": {
      "displayName": "zaka fahmi",
      "userId": "00253059532595011101"
     },
     "user_tz": -420
    },
    "id": "YebaPPTXK7C5"
   },
   "outputs": [],
   "source": [
    "X = df4.drop(labels=['Label', 'User', 'Tweet'], axis=1)\n",
    "y = df4['Label']"
   ]
  },
  {
   "cell_type": "code",
   "execution_count": 64,
   "metadata": {
    "colab": {
     "base_uri": "https://localhost:8080/"
    },
    "executionInfo": {
     "elapsed": 23,
     "status": "ok",
     "timestamp": 1670970118634,
     "user": {
      "displayName": "zaka fahmi",
      "userId": "00253059532595011101"
     },
     "user_tz": -420
    },
    "id": "SQYbRsFOLAOA",
    "outputId": "c7c3c8b2-e3d6-40c1-ef9e-603885042598"
   },
   "outputs": [
    {
     "name": "stdout",
     "output_type": "stream",
     "text": [
      "accuracy :\n"
     ]
    },
    {
     "data": {
      "text/plain": [
       "0.91"
      ]
     },
     "execution_count": 64,
     "metadata": {},
     "output_type": "execute_result"
    }
   ],
   "source": [
    "from sklearn import model_selection\n",
    "\n",
    "from sklearn.svm import SVC\n",
    "from sklearn.ensemble import BaggingClassifier\n",
    "from sklearn.datasets import make_classification\n",
    "\n",
    "# kfold = model_selection.KFold(n_splits = 3,\n",
    "#                        random_state = 5, shuffle=True)\n",
    "\n",
    "X, y = make_classification(n_samples=100, n_features=4,n_informative=2, n_redundant=0,random_state=0, shuffle=True)\n",
    "clf = BaggingClassifier(base_estimator=SVC(),n_estimators=10, random_state=5).fit(X, y)\n",
    "clf.predict([[0, 0, 0, 0]])\n",
    "\n",
    "# results = model_selection.cross_val_score(clf, X, y, cv = kfold)\n",
    "print(\"accuracy :\")\n",
    "# print(results.mean())\n",
    "clf.score(X, y)"
   ]
  },
  {
   "cell_type": "markdown",
   "metadata": {
    "id": "0VfKeJfpLE7q"
   },
   "source": [
    "## **Random Forest**"
   ]
  },
  {
   "cell_type": "code",
   "execution_count": 65,
   "metadata": {
    "colab": {
     "base_uri": "https://localhost:8080/"
    },
    "executionInfo": {
     "elapsed": 558,
     "status": "ok",
     "timestamp": 1670970119175,
     "user": {
      "displayName": "zaka fahmi",
      "userId": "00253059532595011101"
     },
     "user_tz": -420
    },
    "id": "OZmgi-LSLJ6l",
    "outputId": "580b39fb-411c-46c7-9440-099ff836ed22"
   },
   "outputs": [
    {
     "name": "stdout",
     "output_type": "stream",
     "text": [
      "accuracy :\n"
     ]
    },
    {
     "data": {
      "text/plain": [
       "0.948"
      ]
     },
     "execution_count": 65,
     "metadata": {},
     "output_type": "execute_result"
    }
   ],
   "source": [
    "from sklearn.ensemble import RandomForestClassifier\n",
    "from sklearn.datasets import make_classification\n",
    "X, y = make_classification(n_samples=1000, n_features=4,n_informative=2, n_redundant=0,random_state=0, shuffle=True)\n",
    "clf = RandomForestClassifier(max_depth=2, random_state=0)\n",
    "clf.fit(X, y)\n",
    "# RandomForestClassifier(...)\n",
    "# print(clf.predict([[0, 0, 0, 0]]))\n",
    "print(\"accuracy :\")\n",
    "clf.score(X, y)"
   ]
  },
  {
   "cell_type": "markdown",
   "metadata": {
    "id": "ZjhV7mH1LWhS"
   },
   "source": [
    "####Naive Bayes"
   ]
  },
  {
   "cell_type": "code",
   "execution_count": 66,
   "metadata": {
    "colab": {
     "base_uri": "https://localhost:8080/"
    },
    "executionInfo": {
     "elapsed": 13,
     "status": "ok",
     "timestamp": 1670970119176,
     "user": {
      "displayName": "zaka fahmi",
      "userId": "00253059532595011101"
     },
     "user_tz": -420
    },
    "id": "1mgNQ0zMLZ8T",
    "outputId": "dfdc5aaa-1896-470f-ba03-127a9c2ce28a"
   },
   "outputs": [
    {
     "data": {
      "text/plain": [
       "1.0"
      ]
     },
     "execution_count": 66,
     "metadata": {},
     "output_type": "execute_result"
    }
   ],
   "source": [
    "from sklearn.naive_bayes import GaussianNB\n",
    "clf = GaussianNB()\n",
    "y_pred = clf.fit(X_train, y_train).predict(X_test)\n",
    "clf.fit(X_train, y_train).score(X_test, y_test)\n",
    "\n"
   ]
  },
  {
   "cell_type": "markdown",
   "metadata": {
    "id": "rQy8Kvp4Ld4w"
   },
   "source": [
    "## **Stacking Classifier**"
   ]
  },
  {
   "cell_type": "code",
   "execution_count": 67,
   "metadata": {
    "colab": {
     "base_uri": "https://localhost:8080/"
    },
    "executionInfo": {
     "elapsed": 10,
     "status": "ok",
     "timestamp": 1670970119176,
     "user": {
      "displayName": "zaka fahmi",
      "userId": "00253059532595011101"
     },
     "user_tz": -420
    },
    "id": "bI5kFF5wLmDk",
    "outputId": "b23477fc-de58-40de-ddb5-07c4fc360629"
   },
   "outputs": [
    {
     "data": {
      "text/plain": [
       "1.0"
      ]
     },
     "execution_count": 67,
     "metadata": {},
     "output_type": "execute_result"
    }
   ],
   "source": [
    "from sklearn import tree\n",
    "\n",
    "clf = tree.DecisionTreeClassifier()\n",
    "clf.fit(X_train, y_train).score(X_test, y_test)"
   ]
  },
  {
   "cell_type": "markdown",
   "metadata": {
    "id": "bKFdS4nRenl9"
   },
   "source": [
    "from sklearn.ensemble import RandomForestClassifier\n",
    "from sklearn.svm import LinearSVC\n",
    "from sklearn.linear_model import LogisticRegression\n",
    "from sklearn.preprocessing import StandardScaler\n",
    "from sklearn.pipeline import make_pipeline\n",
    "from sklearn.ensemble import StackingClassifier\n",
    "\n",
    "from sklearn.tree import DecisionTreeClassifier\n",
    "\n",
    "estimators = [('rf', RandomForestClassifier(max_depth=2, random_state=0)),('rf1', RandomForestClassifier(max_depth=2, random_state=0)),('rf2', RandomForestClassifier(max_depth=2, random_state=0)),('rf3', RandomForestClassifier(max_depth=2, random_state=0))]\n",
    "clf = StackingClassifier(estimators=estimators, final_estimator=GaussianNB())\n",
    "from sklearn.model_selection import train_test_split\n",
    "print(\"accuracy :\")\n",
    "clf.fit(X_train, y_train).score(X_test, y_test)"
   ]
  }
 ],
 "metadata": {
  "colab": {
   "authorship_tag": "ABX9TyNSMlhT1Ny3BkvYJan4qqWN",
   "provenance": []
  },
  "kernelspec": {
   "display_name": "Python 3",
   "name": "python3"
  },
  "language_info": {
   "codemirror_mode": {
    "name": "ipython",
    "version": 3
   },
   "file_extension": ".py",
   "mimetype": "text/x-python",
   "name": "python",
   "nbconvert_exporter": "python",
   "pygments_lexer": "ipython3",
   "version": "3.8.16"
  }
 },
 "nbformat": 4,
 "nbformat_minor": 0
}