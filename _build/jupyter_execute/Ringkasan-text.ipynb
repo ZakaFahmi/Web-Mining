{
 "cells": [
  {
   "cell_type": "markdown",
   "metadata": {
    "id": "CmDCpC6tMbm7"
   },
   "source": [
    "# Ringkasan-text"
   ]
  },
  {
   "cell_type": "markdown",
   "metadata": {
    "id": "t8eZhLcPBEH7"
   },
   "source": [
    "BeautifulSoup adalah library Python yang digunakan untuk mengambil data HTML dan XML. BeautifulSoup berfungsi sebagai parser untuk memisahkan komponen-komponen HTML menjadi rangkain elemen yang mudah dibaca."
   ]
  },
  {
   "cell_type": "code",
   "execution_count": 1,
   "metadata": {
    "colab": {
     "base_uri": "https://localhost:8080/"
    },
    "executionInfo": {
     "elapsed": 3101,
     "status": "ok",
     "timestamp": 1665527638891,
     "user": {
      "displayName": "zaka fahmi",
      "userId": "00253059532595011101"
     },
     "user_tz": -420
    },
    "id": "FKlry0we-o2q",
    "outputId": "cc317b8f-465d-4019-8127-a6974759f1e4"
   },
   "outputs": [
    {
     "name": "stdout",
     "output_type": "stream",
     "text": [
      "Looking in indexes: https://pypi.org/simple, https://us-python.pkg.dev/colab-wheels/public/simple/\n",
      "Requirement already satisfied: beautifulsoup4 in /usr/local/lib/python3.7/dist-packages (4.6.3)\n"
     ]
    }
   ],
   "source": [
    "pip install beautifulsoup4"
   ]
  },
  {
   "cell_type": "code",
   "execution_count": 2,
   "metadata": {
    "colab": {
     "base_uri": "https://localhost:8080/"
    },
    "executionInfo": {
     "elapsed": 2036,
     "status": "ok",
     "timestamp": 1665527640919,
     "user": {
      "displayName": "zaka fahmi",
      "userId": "00253059532595011101"
     },
     "user_tz": -420
    },
    "id": "72riOauK-7fi",
    "outputId": "4929a445-6c8f-40f6-ea89-098cb53ea4af"
   },
   "outputs": [
    {
     "name": "stdout",
     "output_type": "stream",
     "text": [
      "                                Judul Berita Populer\n",
      "0  Kepsek di Maluku 5 Kali Perkosa Siswinya, Peme...\n",
      "1  Teddy Minahasa, Kapolda Jatim Baru, Eks Ajudan...\n",
      "2  Jokowi: Saya Dulu Enggak Mau ke Freeport karen...\n",
      "3  Analogikan Banjir di Jakarta, Anies: Gelas 250...\n",
      "4  Ferdy Sambo Bawa Buku Hitam Saat Berada di Kej...\n",
      "5  Dikira Korban Kecelakaan, Pemuda 20 tahun yang...\n",
      "6  Kisah Meri, Usia 15 Tahun Jadi TKW di Malaysia...\n",
      "7  Duet Anies-AHY Dinilai Punya Basis Massa yang ...\n",
      "8  Yosep Parera Sebut Pengacara Tersandera, Harus...\n",
      "9  Indra Kenz: Saya Sudah Dapat Ganjaran Berat, D...\n"
     ]
    }
   ],
   "source": [
    "from urllib.request import urlopen\n",
    "from bs4 import BeautifulSoup\n",
    "\n",
    "\n",
    "# import port libraray pandas\n",
    "\n",
    "\n",
    "import pandas as pd\n",
    "\n",
    "\n",
    "# buat variabel yang berisi tujuan link yang akan di crawling\n",
    "\n",
    "\n",
    "alamat = \"https://news.kompas.com/\"\n",
    "html = urlopen(alamat)\n",
    "data = BeautifulSoup(html, 'html.parser')\n",
    "\n",
    "\n",
    "# pemrosesan data yang akan di crawling\n",
    "\n",
    "\n",
    "def kompas ():\n",
    "    items = data.findAll(\"h4\", {\"class\":\"most__title\"})\n",
    "    hasil = [item.get_text() for item in items]\n",
    "    df = pd.DataFrame(hasil, columns=['Judul Berita Populer'])\n",
    "    print(df)\n",
    "\n",
    "\n",
    "# menampilkan data yang telah di hasilkan\n",
    "\n",
    "\n",
    "kompas()"
   ]
  }
 ],
 "metadata": {
  "colab": {
   "authorship_tag": "ABX9TyOwIAGSGhjXRKNetHwIFFPB",
   "provenance": []
  },
  "kernelspec": {
   "display_name": "Python 3",
   "name": "python3"
  },
  "language_info": {
   "codemirror_mode": {
    "name": "ipython",
    "version": 3
   },
   "file_extension": ".py",
   "mimetype": "text/x-python",
   "name": "python",
   "nbconvert_exporter": "python",
   "pygments_lexer": "ipython3",
   "version": "3.7.14"
  }
 },
 "nbformat": 4,
 "nbformat_minor": 0
}