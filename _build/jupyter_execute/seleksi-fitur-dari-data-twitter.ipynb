{
 "cells": [
  {
   "cell_type": "markdown",
   "metadata": {
    "id": "MXDIdVkI1von"
   },
   "source": [
    "# data-crawling-twitter"
   ]
  },
  {
   "cell_type": "code",
   "execution_count": 1,
   "metadata": {
    "colab": {
     "base_uri": "https://localhost:8080/"
    },
    "executionInfo": {
     "elapsed": 4557,
     "status": "ok",
     "timestamp": 1663109028611,
     "user": {
      "displayName": "zaka fahmi",
      "userId": "00253059532595011101"
     },
     "user_tz": -420
    },
    "id": "Vk5u6pdV3qwa",
    "outputId": "6ec669f3-a45b-48a3-b767-eb942799b713"
   },
   "outputs": [
    {
     "name": "stdout",
     "output_type": "stream",
     "text": [
      "Looking in indexes: https://pypi.org/simple, https://us-python.pkg.dev/colab-wheels/public/simple/\n",
      "Requirement already satisfied: tweepy in /usr/local/lib/python3.7/dist-packages (3.10.0)\n",
      "Requirement already satisfied: requests-oauthlib>=0.7.0 in /usr/local/lib/python3.7/dist-packages (from tweepy) (1.3.1)\n",
      "Requirement already satisfied: requests[socks]>=2.11.1 in /usr/local/lib/python3.7/dist-packages (from tweepy) (2.23.0)\n",
      "Requirement already satisfied: six>=1.10.0 in /usr/local/lib/python3.7/dist-packages (from tweepy) (1.15.0)\n",
      "Requirement already satisfied: oauthlib>=3.0.0 in /usr/local/lib/python3.7/dist-packages (from requests-oauthlib>=0.7.0->tweepy) (3.2.0)\n",
      "Requirement already satisfied: urllib3!=1.25.0,!=1.25.1,<1.26,>=1.21.1 in /usr/local/lib/python3.7/dist-packages (from requests[socks]>=2.11.1->tweepy) (1.24.3)\n",
      "Requirement already satisfied: chardet<4,>=3.0.2 in /usr/local/lib/python3.7/dist-packages (from requests[socks]>=2.11.1->tweepy) (3.0.4)\n",
      "Requirement already satisfied: certifi>=2017.4.17 in /usr/local/lib/python3.7/dist-packages (from requests[socks]>=2.11.1->tweepy) (2022.6.15)\n",
      "Requirement already satisfied: idna<3,>=2.5 in /usr/local/lib/python3.7/dist-packages (from requests[socks]>=2.11.1->tweepy) (2.10)\n",
      "Requirement already satisfied: PySocks!=1.5.7,>=1.5.6 in /usr/local/lib/python3.7/dist-packages (from requests[socks]>=2.11.1->tweepy) (1.7.1)\n"
     ]
    }
   ],
   "source": [
    "!pip install tweepy"
   ]
  },
  {
   "cell_type": "markdown",
   "metadata": {
    "id": "NLGQZTw-2B73"
   },
   "source": [
    "importkan data atau librari yang di butuhkan"
   ]
  },
  {
   "cell_type": "code",
   "execution_count": 2,
   "metadata": {
    "executionInfo": {
     "elapsed": 1389,
     "status": "ok",
     "timestamp": 1663109029989,
     "user": {
      "displayName": "zaka fahmi",
      "userId": "00253059532595011101"
     },
     "user_tz": -420
    },
    "id": "kksdfYzO15ii"
   },
   "outputs": [],
   "source": [
    "import tweepy\n",
    "import json\n",
    "from tweepy import OAuthHandler\n",
    "from tweepy import Stream\n",
    "from tweepy.streaming import StreamListener\n",
    "import csv\n",
    "import nltk\n",
    "from nltk.tokenize import word_tokenize\n",
    "import re"
   ]
  },
  {
   "cell_type": "markdown",
   "metadata": {
    "id": "mh_wVivV2QGF"
   },
   "source": [
    "masukkan api tweet developer anda lakukan crowling data anda"
   ]
  },
  {
   "cell_type": "code",
   "execution_count": 3,
   "metadata": {
    "executionInfo": {
     "elapsed": 9,
     "status": "ok",
     "timestamp": 1663109029991,
     "user": {
      "displayName": "zaka fahmi",
      "userId": "00253059532595011101"
     },
     "user_tz": -420
    },
    "id": "qKTnvL6W2On5"
   },
   "outputs": [],
   "source": [
    "consumer_key = 'QaSkYai54p3YJ3e2DNNcQPdVH'\n",
    "consumer_secret = '82a7qI4suRJ0aR1TjkiVSRTBKnmA9n6Cunwc79QcJUUy4vnVLQ'\n",
    "access_token = '1098381907-rNHpAcYmnIt7pb5K8bwhbh5nPQAfU244dr4FyS4'\n",
    "access_secret = 'eZL092xX7CW9t9d0S5c3QCcia3qGY275lHG8zbo2GWxxY'\n",
    "\n",
    "auth = OAuthHandler(consumer_key, consumer_secret)\n",
    "auth.set_access_token(access_token, access_secret)\n",
    "    \n",
    "# Setup access API\n",
    "def connectOAuth():\n",
    "    auth = OAuthHandler(consumer_key, consumer_secret)\n",
    "    auth.set_access_token(access_token, access_secret)\n",
    "\n",
    "    api = tweepy.API(auth, wait_on_rate_limit=True)\n",
    "    return api\n",
    "\n",
    "# Connecting tweet with JSON\n",
    "def process_or_store(tweet):\n",
    "    print(json.dumps(tweet))\n",
    "    \n",
    "# Create API Object\n",
    "api = connectOAuth()\n",
    "\n",
    "# This class to create class from  Stream Listener\n",
    "# The result exported in file python.json\n",
    "class MyListener(StreamListener):\n",
    "    def on_data(self, data):\n",
    "        try:\n",
    "            with open('hastag.json','a') as f:\n",
    "                f.write(data)\n",
    "                return True\n",
    "        except BaseException as e:\n",
    "            print(\"Error on_data : %s\"%str(e))\n",
    "        return True\n",
    "   \n",
    "    def on_error(self, status):\n",
    "        print(status)\n",
    "        return True"
   ]
  },
  {
   "cell_type": "markdown",
   "metadata": {
    "id": "4xS9e3lA22TX"
   },
   "source": [
    "##data-perayapan-twitter \n",
    "\n",
    "ini ditujukan untuk menampilkan data"
   ]
  }
 ],
 "metadata": {
  "colab": {
   "authorship_tag": "ABX9TyOz1BZ+aA6fVtbTFoenfBkm",
   "collapsed_sections": [],
   "provenance": []
  },
  "kernelspec": {
   "display_name": "Python 3",
   "name": "python3"
  },
  "language_info": {
   "codemirror_mode": {
    "name": "ipython",
    "version": 3
   },
   "file_extension": ".py",
   "mimetype": "text/x-python",
   "name": "python",
   "nbconvert_exporter": "python",
   "pygments_lexer": "ipython3",
   "version": "3.7.14"
  }
 },
 "nbformat": 4,
 "nbformat_minor": 0
}