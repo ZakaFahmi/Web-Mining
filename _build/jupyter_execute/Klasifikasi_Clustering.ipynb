{
 "cells": [
  {
   "cell_type": "markdown",
   "metadata": {
    "id": "nd3tnFBZ9JGI"
   },
   "source": [
    "# Klasifikasi & Clustering\n",
    "Klasifikasi dan Klustering data merupakan salah satu teknik dari Web Mining, yang mana klasifikasi adalah pemprosesan untuk menemukan sebuah model atau fungsi yang menjelaskan dan mencirikan konsep atau kelas data, untuk kepentingan tertentu. Sedangkan clustering digunakan untuk pengelompokkan data berdasarkan kemiripan pada objek data dan sebaliknya meminimalkan kemiripan terhadap kluster yang lain. Untuk dapat melakukan klasifikasi dan clustering lakukan proses berikut."
   ]
  },
  {
   "cell_type": "markdown",
   "metadata": {
    "id": "GEOPGCZ5OowZ"
   },
   "source": [
    "## **Praprepocessing Text**\n",
    "Proses ini merupakan proses awal sebelum melakukan proses prepocessing text, yaitu proses untuk mendapatkan dataset yang akan digunakan untuk proses prepocessing, yang mana dataset yang akan digunakan diambil dari website dengan melakukan crawling pada website."
   ]
  },
  {
   "cell_type": "markdown",
   "metadata": {
    "id": "aCxtNEL-33mc"
   },
   "source": [
    "### Crawling Tweeter\n",
    "\n",
    "Crawling merupakan suatu proses pengambilan data dengan menggunakan mesin yang dilakukan secara online. Proses ini dilakukan untuk mengimpor data yang ditemukan kedalam file lokal komputer. Kemudian data yang telah di impor tersebut akan dilakukan tahap prepocessing text. Pada proses crawling kali ini dilakukan crawling data pada twitter dengan menggunakan tools Twint.\n",
    "\n",
    "\n",
    "\n",
    "\n",
    "\n"
   ]
  },
  {
   "cell_type": "markdown",
   "metadata": {
    "id": "OujNXgS3334x"
   },
   "source": [
    "#### Installasi Twint\n",
    "Twint merupakan sebuah tools yang digunakan untuk dapat melakukan scraping data dari media sosial yaitu twitter dengan menggunakan bahasa pemrograman python. Twint dapat dijalankan tanpa harus menggunakan API twitter itu sendiri, namun kapasitas scrapingnya dibatasi sebanyak 3200 tweet.\n",
    "\n",
    "Twint tidak hanya digunakan untuk mengambil data tweet, twint juga bisa digunakan untuk mengambil data user, follower, retweet, dan sejenisnya. Twint memanfaatkan operator pencarian twitter yang digunakan untuk memilih dan memilah informasi yang sensitif, termasuk email dan nomor telepon di dalamnya.\n",
    "\n",
    "Proses installasi Twint dapat dilakukan dengan source code berikut."
   ]
  },
  {
   "cell_type": "code",
   "execution_count": 1,
   "metadata": {
    "colab": {
     "base_uri": "https://localhost:8080/"
    },
    "id": "n3PpZoY34B4n",
    "outputId": "fe210b9a-2d8b-4cad-e3f1-cbb1b91a96a2"
   },
   "outputs": [
    {
     "name": "stdout",
     "output_type": "stream",
     "text": [
      "fatal: destination path 'twint' already exists and is not an empty directory.\n"
     ]
    },
    {
     "name": "stdout",
     "output_type": "stream",
     "text": [
      "/content/drive/MyDrive/webmining/tugas/twint\n"
     ]
    },
    {
     "name": "stdout",
     "output_type": "stream",
     "text": [
      "Looking in indexes: https://pypi.org/simple, https://us-python.pkg.dev/colab-wheels/public/simple/\n",
      "Processing /content/drive/MyDrive/webmining/tugas/twint\n",
      "\u001b[33m  DEPRECATION: A future pip version will change local packages to be built in-place without first copying to a temporary directory. We recommend you use --use-feature=in-tree-build to test your packages with this new behavior before it becomes the default.\n",
      "   pip 21.3 will remove support for this functionality. You can find discussion regarding this at https://github.com/pypa/pip/issues/7555.\u001b[0m\n"
     ]
    },
    {
     "name": "stdout",
     "output_type": "stream",
     "text": [
      "Requirement already satisfied: aiohttp in /usr/local/lib/python3.8/dist-packages (from -r requirements.txt (line 1)) (3.8.3)\n"
     ]
    },
    {
     "name": "stdout",
     "output_type": "stream",
     "text": [
      "Collecting aiodns\n",
      "  Downloading aiodns-3.0.0-py3-none-any.whl (5.0 kB)\n",
      "Requirement already satisfied: beautifulsoup4 in /usr/local/lib/python3.8/dist-packages (from -r requirements.txt (line 3)) (4.6.3)\n",
      "Collecting cchardet\n",
      "  Downloading cchardet-2.1.7-cp38-cp38-manylinux2010_x86_64.whl (265 kB)\n",
      "\u001b[?25l\r",
      "\u001b[K     |█▎                              | 10 kB 23.5 MB/s eta 0:00:01\r",
      "\u001b[K     |██▌                             | 20 kB 30.3 MB/s eta 0:00:01\r",
      "\u001b[K     |███▊                            | 30 kB 35.9 MB/s eta 0:00:01\r",
      "\u001b[K     |█████                           | 40 kB 30.9 MB/s eta 0:00:01\r",
      "\u001b[K     |██████▏                         | 51 kB 34.3 MB/s eta 0:00:01\r",
      "\u001b[K     |███████▍                        | 61 kB 38.5 MB/s eta 0:00:01\r",
      "\u001b[K     |████████▋                       | 71 kB 27.0 MB/s eta 0:00:01\r",
      "\u001b[K     |█████████▉                      | 81 kB 26.7 MB/s eta 0:00:01\r",
      "\u001b[K     |███████████                     | 92 kB 28.1 MB/s eta 0:00:01\r",
      "\u001b[K     |████████████▎                   | 102 kB 29.8 MB/s eta 0:00:01\r",
      "\u001b[K     |█████████████▌                  | 112 kB 29.8 MB/s eta 0:00:01\r",
      "\u001b[K     |██████████████▉                 | 122 kB 29.8 MB/s eta 0:00:01\r",
      "\u001b[K     |████████████████                | 133 kB 29.8 MB/s eta 0:00:01\r",
      "\u001b[K     |█████████████████▎              | 143 kB 29.8 MB/s eta 0:00:01\r",
      "\u001b[K     |██████████████████▌             | 153 kB 29.8 MB/s eta 0:00:01\r",
      "\u001b[K     |███████████████████▊            | 163 kB 29.8 MB/s eta 0:00:01\r",
      "\u001b[K     |█████████████████████           | 174 kB 29.8 MB/s eta 0:00:01\r",
      "\u001b[K     |██████████████████████▏         | 184 kB 29.8 MB/s eta 0:00:01\r",
      "\u001b[K     |███████████████████████▍        | 194 kB 29.8 MB/s eta 0:00:01\r",
      "\u001b[K     |████████████████████████▋       | 204 kB 29.8 MB/s eta 0:00:01\r",
      "\u001b[K     |█████████████████████████▉      | 215 kB 29.8 MB/s eta 0:00:01\r",
      "\u001b[K     |███████████████████████████     | 225 kB 29.8 MB/s eta 0:00:01\r",
      "\u001b[K     |████████████████████████████▍   | 235 kB 29.8 MB/s eta 0:00:01\r",
      "\u001b[K     |█████████████████████████████▋  | 245 kB 29.8 MB/s eta 0:00:01\r",
      "\u001b[K     |██████████████████████████████▉ | 256 kB 29.8 MB/s eta 0:00:01\r",
      "\u001b[K     |████████████████████████████████| 265 kB 29.8 MB/s \n"
     ]
    },
    {
     "name": "stdout",
     "output_type": "stream",
     "text": [
      "\u001b[?25hCollecting dataclasses\n",
      "  Downloading dataclasses-0.6-py3-none-any.whl (14 kB)\n"
     ]
    },
    {
     "name": "stdout",
     "output_type": "stream",
     "text": [
      "Collecting elasticsearch\n",
      "  Downloading elasticsearch-8.5.3-py3-none-any.whl (385 kB)\n",
      "\u001b[?25l\r",
      "\u001b[K     |▉                               | 10 kB 22.8 MB/s eta 0:00:01\r",
      "\u001b[K     |█▊                              | 20 kB 22.8 MB/s eta 0:00:01\r",
      "\u001b[K     |██▌                             | 30 kB 28.5 MB/s eta 0:00:01\r",
      "\u001b[K     |███▍                            | 40 kB 33.4 MB/s eta 0:00:01\r",
      "\u001b[K     |████▎                           | 51 kB 37.2 MB/s eta 0:00:01\r",
      "\u001b[K     |█████                           | 61 kB 41.4 MB/s eta 0:00:01\r",
      "\u001b[K     |██████                          | 71 kB 43.1 MB/s eta 0:00:01\r",
      "\u001b[K     |██████▉                         | 81 kB 41.2 MB/s eta 0:00:01\r",
      "\u001b[K     |███████▋                        | 92 kB 41.6 MB/s eta 0:00:01\r",
      "\u001b[K     |████████▌                       | 102 kB 43.5 MB/s eta 0:00:01\r",
      "\u001b[K     |█████████▍                      | 112 kB 43.5 MB/s eta 0:00:01\r",
      "\u001b[K     |██████████▏                     | 122 kB 43.5 MB/s eta 0:00:01\r",
      "\u001b[K     |███████████                     | 133 kB 43.5 MB/s eta 0:00:01\r",
      "\u001b[K     |████████████                    | 143 kB 43.5 MB/s eta 0:00:01\r",
      "\u001b[K     |████████████▊                   | 153 kB 43.5 MB/s eta 0:00:01\r",
      "\u001b[K     |█████████████▋                  | 163 kB 43.5 MB/s eta 0:00:01\r",
      "\u001b[K     |██████████████▌                 | 174 kB 43.5 MB/s eta 0:00:01\r",
      "\u001b[K     |███████████████▎                | 184 kB 43.5 MB/s eta 0:00:01\r",
      "\u001b[K     |████████████████▏               | 194 kB 43.5 MB/s eta 0:00:01\r",
      "\u001b[K     |█████████████████               | 204 kB 43.5 MB/s eta 0:00:01\r",
      "\u001b[K     |█████████████████▉              | 215 kB 43.5 MB/s eta 0:00:01\r",
      "\u001b[K     |██████████████████▊             | 225 kB 43.5 MB/s eta 0:00:01\r",
      "\u001b[K     |███████████████████▋            | 235 kB 43.5 MB/s eta 0:00:01\r",
      "\u001b[K     |████████████████████▍           | 245 kB 43.5 MB/s eta 0:00:01\r",
      "\u001b[K     |█████████████████████▎          | 256 kB 43.5 MB/s eta 0:00:01\r",
      "\u001b[K     |██████████████████████          | 266 kB 43.5 MB/s eta 0:00:01\r",
      "\u001b[K     |███████████████████████         | 276 kB 43.5 MB/s eta 0:00:01\r",
      "\u001b[K     |███████████████████████▉        | 286 kB 43.5 MB/s eta 0:00:01\r",
      "\u001b[K     |████████████████████████▋       | 296 kB 43.5 MB/s eta 0:00:01\r",
      "\u001b[K     |█████████████████████████▌      | 307 kB 43.5 MB/s eta 0:00:01\r",
      "\u001b[K     |██████████████████████████▍     | 317 kB 43.5 MB/s eta 0:00:01\r",
      "\u001b[K     |███████████████████████████▏    | 327 kB 43.5 MB/s eta 0:00:01\r",
      "\u001b[K     |████████████████████████████    | 337 kB 43.5 MB/s eta 0:00:01\r",
      "\u001b[K     |█████████████████████████████   | 348 kB 43.5 MB/s eta 0:00:01\r",
      "\u001b[K     |█████████████████████████████▊  | 358 kB 43.5 MB/s eta 0:00:01\r",
      "\u001b[K     |██████████████████████████████▋ | 368 kB 43.5 MB/s eta 0:00:01\r",
      "\u001b[K     |███████████████████████████████▌| 378 kB 43.5 MB/s eta 0:00:01\r",
      "\u001b[K     |████████████████████████████████| 385 kB 43.5 MB/s \n",
      "\u001b[?25hRequirement already satisfied: pysocks in /usr/local/lib/python3.8/dist-packages (from -r requirements.txt (line 7)) (1.7.1)\n",
      "Requirement already satisfied: pandas>=0.23.0 in /usr/local/lib/python3.8/dist-packages (from -r requirements.txt (line 8)) (1.3.5)\n",
      "Collecting aiohttp_socks<=0.4.1\n",
      "  Downloading aiohttp_socks-0.4.1-py3-none-any.whl (17 kB)\n"
     ]
    },
    {
     "name": "stdout",
     "output_type": "stream",
     "text": [
      "Collecting schedule\n",
      "  Downloading schedule-1.1.0-py2.py3-none-any.whl (10 kB)\n",
      "Requirement already satisfied: geopy in /usr/local/lib/python3.8/dist-packages (from -r requirements.txt (line 11)) (1.17.0)\n",
      "Collecting fake-useragent\n"
     ]
    },
    {
     "name": "stdout",
     "output_type": "stream",
     "text": [
      "  Downloading fake_useragent-1.1.1-py3-none-any.whl (50 kB)\n",
      "\u001b[?25l\r",
      "\u001b[K     |██████▌                         | 10 kB 19.1 MB/s eta 0:00:01\r",
      "\u001b[K     |█████████████                   | 20 kB 26.1 MB/s eta 0:00:01\r",
      "\u001b[K     |███████████████████▌            | 30 kB 33.1 MB/s eta 0:00:01\r",
      "\u001b[K     |██████████████████████████      | 40 kB 38.4 MB/s eta 0:00:01\r",
      "\u001b[K     |████████████████████████████████| 50 kB 6.4 MB/s \n",
      "\u001b[?25hCollecting googletransx\n",
      "  Downloading googletransx-2.4.2.tar.gz (13 kB)\n"
     ]
    },
    {
     "name": "stdout",
     "output_type": "stream",
     "text": [
      "Requirement already satisfied: pytz>=2017.3 in /usr/local/lib/python3.8/dist-packages (from pandas>=0.23.0->-r requirements.txt (line 8)) (2022.6)\n",
      "Requirement already satisfied: python-dateutil>=2.7.3 in /usr/local/lib/python3.8/dist-packages (from pandas>=0.23.0->-r requirements.txt (line 8)) (2.8.2)\n",
      "Requirement already satisfied: numpy>=1.17.3 in /usr/local/lib/python3.8/dist-packages (from pandas>=0.23.0->-r requirements.txt (line 8)) (1.21.6)\n",
      "Requirement already satisfied: attrs>=19.2.0 in /usr/local/lib/python3.8/dist-packages (from aiohttp_socks<=0.4.1->-r requirements.txt (line 9)) (21.4.0)\n",
      "Requirement already satisfied: aiosignal>=1.1.2 in /usr/local/lib/python3.8/dist-packages (from aiohttp->-r requirements.txt (line 1)) (1.3.1)\n",
      "Requirement already satisfied: yarl<2.0,>=1.0 in /usr/local/lib/python3.8/dist-packages (from aiohttp->-r requirements.txt (line 1)) (1.8.2)\n",
      "Requirement already satisfied: async-timeout<5.0,>=4.0.0a3 in /usr/local/lib/python3.8/dist-packages (from aiohttp->-r requirements.txt (line 1)) (4.0.2)\n",
      "Requirement already satisfied: frozenlist>=1.1.1 in /usr/local/lib/python3.8/dist-packages (from aiohttp->-r requirements.txt (line 1)) (1.3.3)\n",
      "Requirement already satisfied: charset-normalizer<3.0,>=2.0 in /usr/local/lib/python3.8/dist-packages (from aiohttp->-r requirements.txt (line 1)) (2.1.1)\n",
      "Requirement already satisfied: multidict<7.0,>=4.5 in /usr/local/lib/python3.8/dist-packages (from aiohttp->-r requirements.txt (line 1)) (6.0.3)\n",
      "Requirement already satisfied: six>=1.5 in /usr/local/lib/python3.8/dist-packages (from python-dateutil>=2.7.3->pandas>=0.23.0->-r requirements.txt (line 8)) (1.15.0)\n",
      "Requirement already satisfied: idna>=2.0 in /usr/local/lib/python3.8/dist-packages (from yarl<2.0,>=1.0->aiohttp->-r requirements.txt (line 1)) (2.10)\n"
     ]
    },
    {
     "name": "stdout",
     "output_type": "stream",
     "text": [
      "Collecting pycares>=4.0.0\n",
      "  Downloading pycares-4.3.0-cp38-cp38-manylinux_2_17_x86_64.manylinux2014_x86_64.whl (288 kB)\n",
      "\u001b[?25l\r",
      "\u001b[K     |█▏                              | 10 kB 23.1 MB/s eta 0:00:01\r",
      "\u001b[K     |██▎                             | 20 kB 29.1 MB/s eta 0:00:01\r",
      "\u001b[K     |███▍                            | 30 kB 37.6 MB/s eta 0:00:01\r",
      "\u001b[K     |████▌                           | 40 kB 44.6 MB/s eta 0:00:01\r",
      "\u001b[K     |█████▊                          | 51 kB 49.5 MB/s eta 0:00:01\r",
      "\u001b[K     |██████▉                         | 61 kB 54.2 MB/s eta 0:00:01\r",
      "\u001b[K     |████████                        | 71 kB 56.3 MB/s eta 0:00:01\r",
      "\u001b[K     |█████████                       | 81 kB 58.1 MB/s eta 0:00:01\r",
      "\u001b[K     |██████████▏                     | 92 kB 61.9 MB/s eta 0:00:01\r",
      "\u001b[K     |███████████▍                    | 102 kB 64.3 MB/s eta 0:00:01\r",
      "\u001b[K     |████████████▌                   | 112 kB 64.3 MB/s eta 0:00:01\r",
      "\u001b[K     |█████████████▋                  | 122 kB 64.3 MB/s eta 0:00:01\r",
      "\u001b[K     |██████████████▊                 | 133 kB 64.3 MB/s eta 0:00:01\r",
      "\u001b[K     |███████████████▉                | 143 kB 64.3 MB/s eta 0:00:01\r",
      "\u001b[K     |█████████████████               | 153 kB 64.3 MB/s eta 0:00:01\r",
      "\u001b[K     |██████████████████▏             | 163 kB 64.3 MB/s eta 0:00:01\r",
      "\u001b[K     |███████████████████▎            | 174 kB 64.3 MB/s eta 0:00:01\r",
      "\u001b[K     |████████████████████▍           | 184 kB 64.3 MB/s eta 0:00:01\r",
      "\u001b[K     |█████████████████████▌          | 194 kB 64.3 MB/s eta 0:00:01\r",
      "\u001b[K     |██████████████████████▊         | 204 kB 64.3 MB/s eta 0:00:01\r",
      "\u001b[K     |███████████████████████▉        | 215 kB 64.3 MB/s eta 0:00:01\r",
      "\u001b[K     |█████████████████████████       | 225 kB 64.3 MB/s eta 0:00:01\r",
      "\u001b[K     |██████████████████████████      | 235 kB 64.3 MB/s eta 0:00:01\r",
      "\u001b[K     |███████████████████████████▏    | 245 kB 64.3 MB/s eta 0:00:01\r",
      "\u001b[K     |████████████████████████████▍   | 256 kB 64.3 MB/s eta 0:00:01\r",
      "\u001b[K     |█████████████████████████████▌  | 266 kB 64.3 MB/s eta 0:00:01\r",
      "\u001b[K     |██████████████████████████████▋ | 276 kB 64.3 MB/s eta 0:00:01\r",
      "\u001b[K     |███████████████████████████████▊| 286 kB 64.3 MB/s eta 0:00:01\r",
      "\u001b[K     |████████████████████████████████| 288 kB 64.3 MB/s \n",
      "\u001b[?25hRequirement already satisfied: cffi>=1.5.0 in /usr/local/lib/python3.8/dist-packages (from pycares>=4.0.0->aiodns->-r requirements.txt (line 2)) (1.15.1)\n",
      "Requirement already satisfied: pycparser in /usr/local/lib/python3.8/dist-packages (from cffi>=1.5.0->pycares>=4.0.0->aiodns->-r requirements.txt (line 2)) (2.21)\n",
      "Collecting elastic-transport<9,>=8\n",
      "  Downloading elastic_transport-8.4.0-py3-none-any.whl (59 kB)\n",
      "\u001b[?25l\r",
      "\u001b[K     |█████▌                          | 10 kB 25.2 MB/s eta 0:00:01\r",
      "\u001b[K     |███████████                     | 20 kB 33.6 MB/s eta 0:00:01\r",
      "\u001b[K     |████████████████▌               | 30 kB 43.2 MB/s eta 0:00:01\r",
      "\u001b[K     |██████████████████████          | 40 kB 50.7 MB/s eta 0:00:01\r",
      "\u001b[K     |███████████████████████████▌    | 51 kB 55.5 MB/s eta 0:00:01\r",
      "\u001b[K     |████████████████████████████████| 59 kB 7.2 MB/s \n",
      "\u001b[?25hRequirement already satisfied: certifi in /usr/local/lib/python3.8/dist-packages (from elastic-transport<9,>=8->elasticsearch->-r requirements.txt (line 6)) (2022.9.24)\n"
     ]
    },
    {
     "name": "stdout",
     "output_type": "stream",
     "text": [
      "Collecting urllib3<2,>=1.26.2\n",
      "  Downloading urllib3-1.26.13-py2.py3-none-any.whl (140 kB)\n",
      "\u001b[?25l\r",
      "\u001b[K     |██▎                             | 10 kB 24.5 MB/s eta 0:00:01\r",
      "\u001b[K     |████▋                           | 20 kB 32.4 MB/s eta 0:00:01\r",
      "\u001b[K     |███████                         | 30 kB 39.9 MB/s eta 0:00:01\r",
      "\u001b[K     |█████████▎                      | 40 kB 46.5 MB/s eta 0:00:01\r",
      "\u001b[K     |███████████▋                    | 51 kB 52.0 MB/s eta 0:00:01\r",
      "\u001b[K     |██████████████                  | 61 kB 58.0 MB/s eta 0:00:01\r",
      "\u001b[K     |████████████████▎               | 71 kB 61.0 MB/s eta 0:00:01\r",
      "\u001b[K     |██████████████████▋             | 81 kB 62.9 MB/s eta 0:00:01\r",
      "\u001b[K     |█████████████████████           | 92 kB 66.8 MB/s eta 0:00:01\r",
      "\u001b[K     |███████████████████████▎        | 102 kB 69.6 MB/s eta 0:00:01\r",
      "\u001b[K     |█████████████████████████▋      | 112 kB 69.6 MB/s eta 0:00:01\r",
      "\u001b[K     |████████████████████████████    | 122 kB 69.6 MB/s eta 0:00:01\r",
      "\u001b[K     |██████████████████████████████▎ | 133 kB 69.6 MB/s eta 0:00:01\r",
      "\u001b[K     |████████████████████████████████| 140 kB 69.6 MB/s \n",
      "\u001b[?25hRequirement already satisfied: geographiclib<2,>=1.49 in /usr/local/lib/python3.8/dist-packages (from geopy->-r requirements.txt (line 11)) (1.52)\n",
      "Requirement already satisfied: importlib-resources>=5.0 in /usr/local/lib/python3.8/dist-packages (from fake-useragent->-r requirements.txt (line 12)) (5.10.0)\n",
      "Requirement already satisfied: zipp>=3.1.0 in /usr/local/lib/python3.8/dist-packages (from importlib-resources>=5.0->fake-useragent->-r requirements.txt (line 12)) (3.11.0)\n",
      "Requirement already satisfied: requests in /usr/local/lib/python3.8/dist-packages (from googletransx->-r requirements.txt (line 13)) (2.23.0)\n",
      "Requirement already satisfied: chardet<4,>=3.0.2 in /usr/local/lib/python3.8/dist-packages (from requests->googletransx->-r requirements.txt (line 13)) (3.0.4)\n"
     ]
    },
    {
     "name": "stdout",
     "output_type": "stream",
     "text": [
      "Collecting requests\n",
      "  Downloading requests-2.28.1-py3-none-any.whl (62 kB)\n",
      "\u001b[?25l\r",
      "\u001b[K     |█████▏                          | 10 kB 31.7 MB/s eta 0:00:01\r",
      "\u001b[K     |██████████▍                     | 20 kB 40.4 MB/s eta 0:00:01\r",
      "\u001b[K     |███████████████▋                | 30 kB 51.1 MB/s eta 0:00:01\r",
      "\u001b[K     |████████████████████▉           | 40 kB 57.4 MB/s eta 0:00:01\r",
      "\u001b[K     |██████████████████████████      | 51 kB 61.7 MB/s eta 0:00:01\r",
      "\u001b[K     |███████████████████████████████▎| 61 kB 66.3 MB/s eta 0:00:01\r",
      "\u001b[K     |████████████████████████████████| 62 kB 1.3 MB/s \n",
      "\u001b[?25hBuilding wheels for collected packages: twint, googletransx\n"
     ]
    },
    {
     "name": "stdout",
     "output_type": "stream",
     "text": [
      "  Building wheel for twint (setup.py) ... \u001b[?25l\u001b[?25hdone\n",
      "  Created wheel for twint: filename=twint-2.1.21-py3-none-any.whl size=38870 sha256=9f8c5067c30f68f8e5b041804c6ec70cab18eb4e719cc11d11572d35a7427516\n",
      "  Stored in directory: /tmp/pip-ephem-wheel-cache-_vei1u7h/wheels/df/0d/c2/48854ba2207a671263d4f5ede1cda487db9c9c14988a521685\n"
     ]
    },
    {
     "name": "stdout",
     "output_type": "stream",
     "text": [
      "  Building wheel for googletransx (setup.py) ... \u001b[?25l\u001b[?25hdone\n",
      "  Created wheel for googletransx: filename=googletransx-2.4.2-py3-none-any.whl size=15968 sha256=83c1643e429b1b52e9a21cae313d5c310dffe482def11b0a5d0d48b6abb4fe05\n",
      "  Stored in directory: /root/.cache/pip/wheels/6a/54/98/96b62f08dd73eca3147e36b5099d77c3f8fedc5472bb488167\n",
      "Successfully built twint googletransx\n"
     ]
    },
    {
     "name": "stdout",
     "output_type": "stream",
     "text": [
      "Installing collected packages: urllib3, requests, pycares, elastic-transport, schedule, googletransx, fake-useragent, elasticsearch, dataclasses, cchardet, aiohttp-socks, aiodns, twint\n",
      "  Attempting uninstall: urllib3\n",
      "    Found existing installation: urllib3 1.24.3\n",
      "    Uninstalling urllib3-1.24.3:\n",
      "      Successfully uninstalled urllib3-1.24.3\n",
      "  Attempting uninstall: requests\n",
      "    Found existing installation: requests 2.23.0\n",
      "    Uninstalling requests-2.23.0:\n",
      "      Successfully uninstalled requests-2.23.0\n"
     ]
    },
    {
     "name": "stdout",
     "output_type": "stream",
     "text": [
      "\u001b[31mERROR: pip's dependency resolver does not currently take into account all the packages that are installed. This behaviour is the source of the following dependency conflicts.\n",
      "google-colab 1.0.0 requires tornado~=6.0.4, but you have tornado 6.2 which is incompatible.\u001b[0m\n",
      "Successfully installed aiodns-3.0.0 aiohttp-socks-0.4.1 cchardet-2.1.7 dataclasses-0.6 elastic-transport-8.4.0 elasticsearch-8.5.3 fake-useragent-1.1.1 googletransx-2.4.2 pycares-4.3.0 requests-2.28.1 schedule-1.1.0 twint-2.1.21 urllib3-1.26.13\n"
     ]
    }
   ],
   "source": [
    "!git clone --depth=1 https://github.com/twintproject/twint.git\n",
    "%cd twint\n",
    "!pip3 install . -r requirements.txt"
   ]
  },
  {
   "cell_type": "code",
   "execution_count": 2,
   "metadata": {
    "colab": {
     "base_uri": "https://localhost:8080/"
    },
    "id": "4xP28oqM4FXA",
    "outputId": "6267fe31-cfd8-4c73-ed32-e5733239a58d"
   },
   "outputs": [
    {
     "name": "stdout",
     "output_type": "stream",
     "text": [
      "Looking in indexes: https://pypi.org/simple, https://us-python.pkg.dev/colab-wheels/public/simple/\n",
      "Requirement already satisfied: nest-asyncio in /usr/local/lib/python3.8/dist-packages (1.5.6)\n"
     ]
    }
   ],
   "source": [
    "!pip install nest-asyncio"
   ]
  },
  {
   "cell_type": "code",
   "execution_count": 3,
   "metadata": {
    "colab": {
     "base_uri": "https://localhost:8080/"
    },
    "id": "8qPOG4QH4H8C",
    "outputId": "9f187350-0adb-4104-da1d-696982f23f9b"
   },
   "outputs": [
    {
     "name": "stdout",
     "output_type": "stream",
     "text": [
      "Looking in indexes: https://pypi.org/simple, https://us-python.pkg.dev/colab-wheels/public/simple/\n"
     ]
    },
    {
     "name": "stdout",
     "output_type": "stream",
     "text": [
      "Collecting aiohttp==3.7.0\n",
      "  Downloading aiohttp-3.7.0-cp38-cp38-manylinux2014_x86_64.whl (1.5 MB)\n",
      "\u001b[?25l\r",
      "\u001b[K     |▎                               | 10 kB 16.6 MB/s eta 0:00:01\r",
      "\u001b[K     |▌                               | 20 kB 18.7 MB/s eta 0:00:01\r",
      "\u001b[K     |▊                               | 30 kB 23.5 MB/s eta 0:00:01\r",
      "\u001b[K     |█                               | 40 kB 27.4 MB/s eta 0:00:01\r",
      "\u001b[K     |█▏                              | 51 kB 30.6 MB/s eta 0:00:01\r",
      "\u001b[K     |█▍                              | 61 kB 34.1 MB/s eta 0:00:01\r",
      "\u001b[K     |█▋                              | 71 kB 35.4 MB/s eta 0:00:01\r",
      "\u001b[K     |█▉                              | 81 kB 30.4 MB/s eta 0:00:01\r",
      "\u001b[K     |██                              | 92 kB 31.4 MB/s eta 0:00:01\r",
      "\u001b[K     |██▎                             | 102 kB 23.4 MB/s eta 0:00:01\r",
      "\u001b[K     |██▌                             | 112 kB 23.4 MB/s eta 0:00:01\r",
      "\u001b[K     |██▊                             | 122 kB 23.4 MB/s eta 0:00:01\r",
      "\u001b[K     |███                             | 133 kB 23.4 MB/s eta 0:00:01\r",
      "\u001b[K     |███▏                            | 143 kB 23.4 MB/s eta 0:00:01\r",
      "\u001b[K     |███▍                            | 153 kB 23.4 MB/s eta 0:00:01\r",
      "\u001b[K     |███▋                            | 163 kB 23.4 MB/s eta 0:00:01\r",
      "\u001b[K     |███▉                            | 174 kB 23.4 MB/s eta 0:00:01\r",
      "\u001b[K     |████                            | 184 kB 23.4 MB/s eta 0:00:01\r",
      "\u001b[K     |████▎                           | 194 kB 23.4 MB/s eta 0:00:01\r",
      "\u001b[K     |████▌                           | 204 kB 23.4 MB/s eta 0:00:01\r",
      "\u001b[K     |████▊                           | 215 kB 23.4 MB/s eta 0:00:01\r",
      "\u001b[K     |█████                           | 225 kB 23.4 MB/s eta 0:00:01\r",
      "\u001b[K     |█████▏                          | 235 kB 23.4 MB/s eta 0:00:01\r",
      "\u001b[K     |█████▍                          | 245 kB 23.4 MB/s eta 0:00:01\r",
      "\u001b[K     |█████▋                          | 256 kB 23.4 MB/s eta 0:00:01\r",
      "\u001b[K     |█████▉                          | 266 kB 23.4 MB/s eta 0:00:01\r",
      "\u001b[K     |██████                          | 276 kB 23.4 MB/s eta 0:00:01\r",
      "\u001b[K     |██████▎                         | 286 kB 23.4 MB/s eta 0:00:01\r",
      "\u001b[K     |██████▌                         | 296 kB 23.4 MB/s eta 0:00:01\r",
      "\u001b[K     |██████▊                         | 307 kB 23.4 MB/s eta 0:00:01\r",
      "\u001b[K     |███████                         | 317 kB 23.4 MB/s eta 0:00:01\r",
      "\u001b[K     |███████▏                        | 327 kB 23.4 MB/s eta 0:00:01\r",
      "\u001b[K     |███████▍                        | 337 kB 23.4 MB/s eta 0:00:01\r",
      "\u001b[K     |███████▋                        | 348 kB 23.4 MB/s eta 0:00:01\r",
      "\u001b[K     |███████▉                        | 358 kB 23.4 MB/s eta 0:00:01\r",
      "\u001b[K     |████████                        | 368 kB 23.4 MB/s eta 0:00:01\r",
      "\u001b[K     |████████▎                       | 378 kB 23.4 MB/s eta 0:00:01\r",
      "\u001b[K     |████████▌                       | 389 kB 23.4 MB/s eta 0:00:01\r",
      "\u001b[K     |████████▊                       | 399 kB 23.4 MB/s eta 0:00:01\r",
      "\u001b[K     |█████████                       | 409 kB 23.4 MB/s eta 0:00:01\r",
      "\u001b[K     |█████████▏                      | 419 kB 23.4 MB/s eta 0:00:01\r",
      "\u001b[K     |█████████▍                      | 430 kB 23.4 MB/s eta 0:00:01\r",
      "\u001b[K     |█████████▋                      | 440 kB 23.4 MB/s eta 0:00:01\r",
      "\u001b[K     |█████████▉                      | 450 kB 23.4 MB/s eta 0:00:01\r",
      "\u001b[K     |██████████                      | 460 kB 23.4 MB/s eta 0:00:01\r",
      "\u001b[K     |██████████▎                     | 471 kB 23.4 MB/s eta 0:00:01\r",
      "\u001b[K     |██████████▌                     | 481 kB 23.4 MB/s eta 0:00:01\r",
      "\u001b[K     |██████████▊                     | 491 kB 23.4 MB/s eta 0:00:01\r",
      "\u001b[K     |███████████                     | 501 kB 23.4 MB/s eta 0:00:01\r",
      "\u001b[K     |███████████▏                    | 512 kB 23.4 MB/s eta 0:00:01\r",
      "\u001b[K     |███████████▍                    | 522 kB 23.4 MB/s eta 0:00:01\r",
      "\u001b[K     |███████████▋                    | 532 kB 23.4 MB/s eta 0:00:01\r",
      "\u001b[K     |███████████▉                    | 542 kB 23.4 MB/s eta 0:00:01\r",
      "\u001b[K     |████████████                    | 552 kB 23.4 MB/s eta 0:00:01\r",
      "\u001b[K     |████████████▎                   | 563 kB 23.4 MB/s eta 0:00:01\r",
      "\u001b[K     |████████████▌                   | 573 kB 23.4 MB/s eta 0:00:01\r",
      "\u001b[K     |████████████▊                   | 583 kB 23.4 MB/s eta 0:00:01\r",
      "\u001b[K     |█████████████                   | 593 kB 23.4 MB/s eta 0:00:01\r",
      "\u001b[K     |█████████████▏                  | 604 kB 23.4 MB/s eta 0:00:01\r",
      "\u001b[K     |█████████████▍                  | 614 kB 23.4 MB/s eta 0:00:01\r",
      "\u001b[K     |█████████████▋                  | 624 kB 23.4 MB/s eta 0:00:01\r",
      "\u001b[K     |█████████████▉                  | 634 kB 23.4 MB/s eta 0:00:01\r",
      "\u001b[K     |██████████████                  | 645 kB 23.4 MB/s eta 0:00:01\r",
      "\u001b[K     |██████████████▎                 | 655 kB 23.4 MB/s eta 0:00:01\r",
      "\u001b[K     |██████████████▌                 | 665 kB 23.4 MB/s eta 0:00:01\r",
      "\u001b[K     |██████████████▊                 | 675 kB 23.4 MB/s eta 0:00:01\r",
      "\u001b[K     |███████████████                 | 686 kB 23.4 MB/s eta 0:00:01\r",
      "\u001b[K     |███████████████▎                | 696 kB 23.4 MB/s eta 0:00:01\r",
      "\u001b[K     |███████████████▌                | 706 kB 23.4 MB/s eta 0:00:01\r",
      "\u001b[K     |███████████████▊                | 716 kB 23.4 MB/s eta 0:00:01\r",
      "\u001b[K     |████████████████                | 727 kB 23.4 MB/s eta 0:00:01\r",
      "\u001b[K     |████████████████▏               | 737 kB 23.4 MB/s eta 0:00:01\r",
      "\u001b[K     |████████████████▍               | 747 kB 23.4 MB/s eta 0:00:01\r",
      "\u001b[K     |████████████████▋               | 757 kB 23.4 MB/s eta 0:00:01\r",
      "\u001b[K     |████████████████▉               | 768 kB 23.4 MB/s eta 0:00:01\r",
      "\u001b[K     |█████████████████               | 778 kB 23.4 MB/s eta 0:00:01\r",
      "\u001b[K     |█████████████████▎              | 788 kB 23.4 MB/s eta 0:00:01\r",
      "\u001b[K     |█████████████████▌              | 798 kB 23.4 MB/s eta 0:00:01\r",
      "\u001b[K     |█████████████████▊              | 808 kB 23.4 MB/s eta 0:00:01\r",
      "\u001b[K     |██████████████████              | 819 kB 23.4 MB/s eta 0:00:01\r",
      "\u001b[K     |██████████████████▏             | 829 kB 23.4 MB/s eta 0:00:01\r",
      "\u001b[K     |██████████████████▍             | 839 kB 23.4 MB/s eta 0:00:01\r",
      "\u001b[K     |██████████████████▋             | 849 kB 23.4 MB/s eta 0:00:01\r",
      "\u001b[K     |██████████████████▉             | 860 kB 23.4 MB/s eta 0:00:01\r",
      "\u001b[K     |███████████████████             | 870 kB 23.4 MB/s eta 0:00:01\r",
      "\u001b[K     |███████████████████▎            | 880 kB 23.4 MB/s eta 0:00:01\r",
      "\u001b[K     |███████████████████▌            | 890 kB 23.4 MB/s eta 0:00:01\r",
      "\u001b[K     |███████████████████▊            | 901 kB 23.4 MB/s eta 0:00:01\r",
      "\u001b[K     |████████████████████            | 911 kB 23.4 MB/s eta 0:00:01\r",
      "\u001b[K     |████████████████████▏           | 921 kB 23.4 MB/s eta 0:00:01\r",
      "\u001b[K     |████████████████████▍           | 931 kB 23.4 MB/s eta 0:00:01\r",
      "\u001b[K     |████████████████████▋           | 942 kB 23.4 MB/s eta 0:00:01\r",
      "\u001b[K     |████████████████████▉           | 952 kB 23.4 MB/s eta 0:00:01\r",
      "\u001b[K     |█████████████████████           | 962 kB 23.4 MB/s eta 0:00:01\r",
      "\u001b[K     |█████████████████████▎          | 972 kB 23.4 MB/s eta 0:00:01\r",
      "\u001b[K     |█████████████████████▌          | 983 kB 23.4 MB/s eta 0:00:01\r",
      "\u001b[K     |█████████████████████▊          | 993 kB 23.4 MB/s eta 0:00:01\r",
      "\u001b[K     |██████████████████████          | 1.0 MB 23.4 MB/s eta 0:00:01\r",
      "\u001b[K     |██████████████████████▏         | 1.0 MB 23.4 MB/s eta 0:00:01\r",
      "\u001b[K     |██████████████████████▍         | 1.0 MB 23.4 MB/s eta 0:00:01\r",
      "\u001b[K     |██████████████████████▋         | 1.0 MB 23.4 MB/s eta 0:00:01\r",
      "\u001b[K     |██████████████████████▉         | 1.0 MB 23.4 MB/s eta 0:00:01\r",
      "\u001b[K     |███████████████████████         | 1.1 MB 23.4 MB/s eta 0:00:01\r",
      "\u001b[K     |███████████████████████▎        | 1.1 MB 23.4 MB/s eta 0:00:01\r",
      "\u001b[K     |███████████████████████▌        | 1.1 MB 23.4 MB/s eta 0:00:01\r",
      "\u001b[K     |███████████████████████▊        | 1.1 MB 23.4 MB/s eta 0:00:01\r",
      "\u001b[K     |████████████████████████        | 1.1 MB 23.4 MB/s eta 0:00:01\r",
      "\u001b[K     |████████████████████████▏       | 1.1 MB 23.4 MB/s eta 0:00:01\r",
      "\u001b[K     |████████████████████████▍       | 1.1 MB 23.4 MB/s eta 0:00:01\r",
      "\u001b[K     |████████████████████████▋       | 1.1 MB 23.4 MB/s eta 0:00:01\r",
      "\u001b[K     |████████████████████████▉       | 1.1 MB 23.4 MB/s eta 0:00:01\r",
      "\u001b[K     |█████████████████████████       | 1.1 MB 23.4 MB/s eta 0:00:01\r",
      "\u001b[K     |█████████████████████████▎      | 1.2 MB 23.4 MB/s eta 0:00:01\r",
      "\u001b[K     |█████████████████████████▌      | 1.2 MB 23.4 MB/s eta 0:00:01\r",
      "\u001b[K     |█████████████████████████▊      | 1.2 MB 23.4 MB/s eta 0:00:01\r",
      "\u001b[K     |██████████████████████████      | 1.2 MB 23.4 MB/s eta 0:00:01\r",
      "\u001b[K     |██████████████████████████▏     | 1.2 MB 23.4 MB/s eta 0:00:01\r",
      "\u001b[K     |██████████████████████████▍     | 1.2 MB 23.4 MB/s eta 0:00:01\r",
      "\u001b[K     |██████████████████████████▋     | 1.2 MB 23.4 MB/s eta 0:00:01\r",
      "\u001b[K     |██████████████████████████▉     | 1.2 MB 23.4 MB/s eta 0:00:01\r",
      "\u001b[K     |███████████████████████████     | 1.2 MB 23.4 MB/s eta 0:00:01\r",
      "\u001b[K     |███████████████████████████▎    | 1.2 MB 23.4 MB/s eta 0:00:01\r",
      "\u001b[K     |███████████████████████████▌    | 1.3 MB 23.4 MB/s eta 0:00:01\r",
      "\u001b[K     |███████████████████████████▊    | 1.3 MB 23.4 MB/s eta 0:00:01\r",
      "\u001b[K     |████████████████████████████    | 1.3 MB 23.4 MB/s eta 0:00:01\r",
      "\u001b[K     |████████████████████████████▏   | 1.3 MB 23.4 MB/s eta 0:00:01\r",
      "\u001b[K     |████████████████████████████▍   | 1.3 MB 23.4 MB/s eta 0:00:01\r",
      "\u001b[K     |████████████████████████████▋   | 1.3 MB 23.4 MB/s eta 0:00:01\r",
      "\u001b[K     |████████████████████████████▉   | 1.3 MB 23.4 MB/s eta 0:00:01\r",
      "\u001b[K     |█████████████████████████████   | 1.3 MB 23.4 MB/s eta 0:00:01\r",
      "\u001b[K     |█████████████████████████████▎  | 1.3 MB 23.4 MB/s eta 0:00:01\r",
      "\u001b[K     |█████████████████████████████▌  | 1.4 MB 23.4 MB/s eta 0:00:01\r",
      "\u001b[K     |█████████████████████████████▉  | 1.4 MB 23.4 MB/s eta 0:00:01\r",
      "\u001b[K     |██████████████████████████████  | 1.4 MB 23.4 MB/s eta 0:00:01\r",
      "\u001b[K     |██████████████████████████████▎ | 1.4 MB 23.4 MB/s eta 0:00:01\r",
      "\u001b[K     |██████████████████████████████▌ | 1.4 MB 23.4 MB/s eta 0:00:01\r",
      "\u001b[K     |██████████████████████████████▊ | 1.4 MB 23.4 MB/s eta 0:00:01\r",
      "\u001b[K     |███████████████████████████████ | 1.4 MB 23.4 MB/s eta 0:00:01\r",
      "\u001b[K     |███████████████████████████████▏| 1.4 MB 23.4 MB/s eta 0:00:01\r",
      "\u001b[K     |███████████████████████████████▍| 1.4 MB 23.4 MB/s eta 0:00:01\r",
      "\u001b[K     |███████████████████████████████▋| 1.4 MB 23.4 MB/s eta 0:00:01\r",
      "\u001b[K     |███████████████████████████████▉| 1.5 MB 23.4 MB/s eta 0:00:01\r",
      "\u001b[K     |████████████████████████████████| 1.5 MB 23.4 MB/s \n",
      "\u001b[?25hRequirement already satisfied: yarl<2.0,>=1.0 in /usr/local/lib/python3.8/dist-packages (from aiohttp==3.7.0) (1.8.2)\n",
      "Requirement already satisfied: multidict<7.0,>=4.5 in /usr/local/lib/python3.8/dist-packages (from aiohttp==3.7.0) (6.0.3)\n",
      "Requirement already satisfied: chardet<4.0,>=2.0 in /usr/local/lib/python3.8/dist-packages (from aiohttp==3.7.0) (3.0.4)\n",
      "Requirement already satisfied: attrs>=17.3.0 in /usr/local/lib/python3.8/dist-packages (from aiohttp==3.7.0) (21.4.0)\n"
     ]
    },
    {
     "name": "stdout",
     "output_type": "stream",
     "text": [
      "Collecting async-timeout<4.0,>=3.0\n",
      "  Downloading async_timeout-3.0.1-py3-none-any.whl (8.2 kB)\n",
      "Requirement already satisfied: idna>=2.0 in /usr/local/lib/python3.8/dist-packages (from yarl<2.0,>=1.0->aiohttp==3.7.0) (2.10)\n"
     ]
    },
    {
     "name": "stdout",
     "output_type": "stream",
     "text": [
      "Installing collected packages: async-timeout, aiohttp\n",
      "  Attempting uninstall: async-timeout\n",
      "    Found existing installation: async-timeout 4.0.2\n",
      "    Uninstalling async-timeout-4.0.2:\n",
      "      Successfully uninstalled async-timeout-4.0.2\n",
      "  Attempting uninstall: aiohttp\n",
      "    Found existing installation: aiohttp 3.8.3\n",
      "    Uninstalling aiohttp-3.8.3:\n",
      "      Successfully uninstalled aiohttp-3.8.3\n"
     ]
    },
    {
     "name": "stdout",
     "output_type": "stream",
     "text": [
      "Successfully installed aiohttp-3.7.0 async-timeout-3.0.1\n"
     ]
    }
   ],
   "source": [
    "!pip install aiohttp==3.7.0"
   ]
  },
  {
   "cell_type": "markdown",
   "metadata": {
    "id": "zkO1H3aj4NLW"
   },
   "source": [
    "#### Scraping Data Tweeter\n",
    "Setelah proses installasi Twint berhasil selanjutnya lakukan scraping data tweeter. Scraping sendiri merupakan proses pengambilan data dari website. Untuk melakukan proses scraping data dari tweeter, tinggal import twint untuk melakukan scraping data tweeter dengan tweet yang mengandung kata \"#rockygerung\" dengan limit 100 menggunakan source code berikut."
   ]
  },
  {
   "cell_type": "code",
   "execution_count": 4,
   "metadata": {
    "colab": {
     "base_uri": "https://localhost:8080/"
    },
    "id": "iLQ_yMd_4QAW",
    "outputId": "eea05885-b0c1-49ae-b4fd-7240a85f180e"
   },
   "outputs": [
    {
     "name": "stdout",
     "output_type": "stream",
     "text": [
      "1602635681570119682 2022-12-13 12:04:56 +0000 <jurnalperempuan> Sesaat lagi KAFFE dengan tema Feminis laki-laki dalam kaitannya dengan maskulinitas dan penghapusan kekerasan terhadap perempuan bersama Rocky Gerung. #KAFFE #jurnalperempuan #rockygerung\n",
      "1602628146033201153 2022-12-13 11:35:00 +0000 <indeksncom> Rocky Gerung Sebut Nabi Muhammad SAW sebagai Sosok Politisi, Negarawan dan Pemimpin Dunia  https://t.co/bPs7sPit0Z lewat @Indeks News #RockyGerung #NabiMuhammadSAW\n",
      "1602570334242496512 2022-12-13 07:45:16 +0000 <fajaronline> Komentari Video Rocky Gerung di Acara Maulid, Ferdinand Sebut Lelucon Kedua Terhebat di Akhir Tahun 2022  https://t.co/uaUl7nh5so #FerdinandHutahaean #MaulidNabi #RockyGerung\n",
      "1602307008270839810 2022-12-12 14:18:54 +0000 <irfanwahidi60> @Fahrihamzah Fahri mungkin menyindir atau ada nada sinisme, tapi kalau saya melihat ada tanda2 hidayah sedang menghampiri bung #RockyGerung melalui penalaran dan kecerdasannya memahami Islam dengan kitab suci Alquran. Begitulah, ada yang sedang mendekat ke Islam dan ada yang sedang menjauh,,\n",
      "1602280710902906882 2022-12-12 12:34:25 +0000 <NolpitosH> BUPATI MERANTI MARAH ke Kemenkeu dan Pemerintah Pusat  Rocky Gerung Membela nya bukan Putri Candrawathi hingga Sekte dan Wali Kota Blitar atau Biru Laut serta Kaesang dan Dita   https://t.co/2FjT2vtONA  #AdaApaHariIni #buaptimerantimarah #KemenkeuRI #dbh #RockyGerung @NolpitosH\n",
      "1601807631785816065 2022-12-11 05:14:34 +0000 <IpulSatory> Mana benar dan salah itu soal opini politis para politikus. Kami rakyat hanya fokus mengatasi mahalnya pendidikan, melemahnya ekonomi dan pelayanan kesehatan yg masih jauh dari standart humanis Cc; #rockygerung #najwasihab #kemensosri @RadioElshinta @khofifah4jatim @JatimPemprov  https://t.co/HhmvRhAO0H\n",
      "1601528724330926080 2022-12-10 10:46:17 +0000 <RusliPrasetyo> #RockyGerung bilang kalau #AniesBaswedan dilarang Safari Politik, maka seharusnya pernikahan #KaesangPangarep dihentikan saja.  Yeeee~ Katanya dosen tapi kok gak punya 0tak? 🤣 Mas Kaesang mah gak pake2 politik di acara nikahannya.  Jangan2 si roty goreng ini IRI pada Kaesang? 🤭  https://t.co/Je9cfjqlHs\n",
      "1601183702171922439 2022-12-09 11:55:17 +0000 <FadrizRm> #RockyGerung - #RobertusRobet | Apa Hubungan Patriotisme dan Mendaki Gun...  https://t.co/96S2qlLmTU via @YouTube\n",
      "1601108021291020288 2022-12-09 06:54:34 +0000 <Rgtvchannel_id> Nasionalisme sering ditafsirkan secara kaku. Sebuah bangsa dengan gambaran totalitas dan homogen, dipaksakan dari atas ke bawah.  Nasionalisme semestinya jangan lagi ditafsirkan seperti itu.  #IndonesiaBerpikir  #PoliticsAndBeyond  #RGTVChannelid  #RockyGerung  #Nasionalisme  https://t.co/vrm0H5Jinx\n",
      "1601056458778345472 2022-12-09 03:29:40 +0000 <Rgtvchannel_id> Jadikan nasionalisme sebagai sesuatu yang ringan dan menyenangkan. Seperti halnya mendaki gunung. Meski berat kita lalui dengan ceria.  #Nasionalisme  #RockyGerung  #RGTVChannelid  #PoliticsAndBeyond  #IndonesiaBerpikir\n",
      "1601046956306214912 2022-12-09 02:51:55 +0000 <Eunicesolo> Rizal Ramli, Surya Paloh, Rocky Gerung Tidak Akan Menghadiri Pernikahan Kaesang, Rocky: Menteri Milik Publik  https://t.co/GOnfUwybr1   #rockygerung #rizalramli #suryapaloh #kaesangerina #Kaesang #Jokowi\n",
      "1601029031180505089 2022-12-09 01:40:41 +0000 <AeKafiy> SH,MH,DLL hanya menandakan kita pernah SEKOLAH bukan menandakan pernah BERFIKIR #DPRRI #PUAN #ROCKYGERUNG\n",
      "1600839389738770432 2022-12-08 13:07:07 +0000 <Rgtvchannel_id> #IndonesiaBerpikir  #PoliticsAndBeyond  #RGTVChannelid  #RockyGerung  #Nasionalisme\n",
      "1600463449745522688 2022-12-07 12:13:16 +0000 <Rgtvchannel_id> Siapkan akal tajamkan nalar,  sambil nikmati pemandangan Bukit Paniisan Sentul dari ketinggian 846 meter.  #RockyGerung  #RGTVChannelid  #PoliticsAndBeyond  #IndonesiaBerpikir  #RobertusRobet\n",
      "1600450471931809797 2022-12-07 11:21:42 +0000 <op_laoh> #RockyGerung - #RobertusRobet | Apa Hubungan Patriotisme dan Mendaki Gunung? | UNCUT  https://t.co/erQtd3ZVSB\n",
      "1600325304706551808 2022-12-07 03:04:19 +0000 <Eunicesolo> Bloomberg Sebut IKN Berantakan, Rocky Gerung: Dari Langit Ketujuh Masuk Ke Gorong-gorong Kedelapan  https://t.co/lyUlNOD1P1  #IKNSejahterakanIndonesia  #rockygerung\n",
      "1600067233417285632 2022-12-06 09:58:50 +0000 <Rgtvchannel_id> Akan dibahas lebih lanjut tentang nasionalisme dan patriotisme di Podcast #12 yang tayang besok, Rabu 7 Desember 2022.   Salam Akal Sehat, #RockyGerung  https://t.co/Zs6xTYZkrd\n",
      "1600015736222908417 2022-12-06 06:34:13 +0000 <rockygerungcom> #Quote:  Bagi istana dia bisa hitung yang disebut efek berantai ini kalau sudah separuh Indonesia itu diasuh relawan Anies ya sudah pemilu selesai sebetulnya, ini euforia susah dipahami. . | #istana | #rockygerungcom | #rockygerung\n",
      "1599713885639958528 2022-12-05 10:34:46 +0000 <Rgtvchannel_id> Kembali hiking sambil ngobrol panjang tentang nasionalisme dan patriotisme bersama salah satu sahabat saya. Siapa dia?  #RGTVChannelid  #IndonesiaBerpikir  #PoliticsAndBeyond  #RockyGerung  #Hiking  https://t.co/mIAItaLdbZ\n",
      "1599561516453273600 2022-12-05 00:29:18 +0000 <fyahyab> @bro_aLy9 Dia sendiri juga seperti Anjing @rockygerungreal @rockygerung1959 @rockygerung_rg @Rockygerung_id @rockygerungpart begitu banyaknya Akun #RockyGerung tanda Manusia Jiwanya Sakit\n"
     ]
    },
    {
     "name": "stdout",
     "output_type": "stream",
     "text": [
      "1599212644967538688 2022-12-04 01:23:01 +0000 <rockygerungcom> Quote:   Rindu merambat di akar cemara, Menuju pucuk, untuk jadi embun. Hanya untuk lenyap, demi pagi baru.   Selamat Pagi..  | #rindu | #rockygerungcom | #rockygerung\n",
      "1598796218322522112 2022-12-02 21:48:17 +0000 <primayasa93> Tak harus tiba, bahkan melintas pun wangimu berbekas lama .  \" Rocky Gerung  #rockygerung #quotes\n",
      "1598690915433910272 2022-12-02 14:49:51 +0000 <fajaronline> Sebut Jokowi Bikin Gimik, Rocky Gerung Nilai Presiden Cemas Siapa yang Akan Menggantikannya  https://t.co/HhS72dBGiF #Jokowi #Pemilu2024 #Pilpres2024 #RockyGerung\n",
      "1598649874051801088 2022-12-02 12:06:46 +0000 <Rgtvchannel_id> #RockyGerung #TasikMalaya #IKN #IbuKotaNusantara #RGTVChannelid  #PoliticsAndBeyond  #IndonesiaBerpikir\n",
      "1598272215757488128 2022-12-01 11:06:05 +0000 <Rgtvchannel_id> #RockyGerung #PoliticsAndBeyond  #RGTVChannelid  #IndonesiaBerpikir  #EtikaLingkungan #ClimateChange\n",
      "1598160976993746945 2022-12-01 03:44:03 +0000 <Galung_gung> #rockygerung #jokowi #buzzer #INFO    https://t.co/J4oisu7hO6\n",
      "1597961383370313729 2022-11-30 14:30:57 +0000 <rockygerungcom> Quote:   Bagi istana dia bisa hitung yang disebut efek berantai ini kalau sudah separuh Indonesia itu diasuh relawan Anies ya sudah pemilu selesai sebetulnya, ini euforia susah dipahami.  | #istana | #rockygerungcom | #rockygerung\n",
      "1597934091676319750 2022-11-30 12:42:30 +0000 <Rgtvchannel_id> Podcast #11 Kuliah Etika Lingkungan di Gunung Galunggung bersama teman-teman mahasiswa sudah tayang!  Siapkan kopi, akal sehat, dan langsung kunjungi RGTV Channel ID!  #RockyGerung #GunungGalunggung #RGTVChannelid #PoliticsAndBeyond #IndonesiaBerpikir  https://t.co/yBSNtJTw71\n",
      "1597445667148140544 2022-11-29 04:21:40 +0000 <fajaronline> JK Berharap Presiden Netral Jelang Pemilu, Kader PKB Langsung Ungkit Peristiwa di GBK  https://t.co/fcfR7vQHFU #gbk #JusufKalla #PresidenJokowi #RockyGerung\n",
      "1597423655411412999 2022-11-29 02:54:12 +0000 <tribunkaltim> Rocky Gerung Tanya Pilihan Capres, Jusuf Kalla: Saya Punya Kriteria, Sosok Kuat, Tegas dan Netral  #RockyGerung #Capres #JusufKalla    https://t.co/3Uq3tMCtUB lewat @tribunkaltim\n",
      "1597411033400082432 2022-11-29 02:04:03 +0000 <terkinidotid> Rocky Gerung Sebut Anies Akan Dihambat Dengan Isu Bukan Indonesia Asli: Pengamat politik Rocky Gerung meramal kalau berbagai pihak akan mencoba untuk menghambat Anies Baswedan dengan…  https://t.co/2iChGhKDOa #News #aniesbaswedanrockygerung #aniesbaswedanketurunan #rockygerung\n",
      "1597403636664979456 2022-11-29 01:34:39 +0000 <rockygerungcom> #Quot:  Tetapi begitu Anies beredar ke seluruh Indonesia, cemas lagi istana. Jadi ini reaksi terhadap blusukan Anies yang diterima gegap gempita.  | #anies | #rockygerungcom | #rockygerung\n",
      "1597205171314266114 2022-11-28 12:26:02 +0000 <Adikuncoro2022> #Pilpres2024 #capres2024 #GanjarUntukIndonesia #AniesBaswedan #andikaperkasa #rockygerung   https://t.co/2OeR7r4k9x\n",
      "1597113685243465729 2022-11-28 06:22:30 +0000 <tribunkaltim> Rocky Gerung Sebut Threshold 20 Persen Racun Demokrasi, Calon Independen Basis Utama Demokrasi  #RockyGerung #Demokrasi    https://t.co/8bYSdbosuU lewat @tribunkaltim\n",
      "1597081805576081410 2022-11-28 04:15:49 +0000 <polsight> -- Rocky Gerung, Seorang Filsuf Indonesia -- Abraham Samad, Mantan Ketua KPK 2011-2015 .  .  .  #hukum #rockygerung #abrahamsamad #indonesia #keadilan #rakyat #reformasihukum #opini #beritaterkini #beritaterbaru  https://t.co/xCTjbwZ4Wd\n",
      "1596985559188066305 2022-11-27 21:53:22 +0000 <fajaronline> Komentari Kegiatan Akbar Relawan Jokowi di GBK, Rocky Gerung: Istana Lagi Cemas Lihat Blusukan Anies  https://t.co/xJ4iTj1DKb #AniesBaswedan #PresidenJokowi #RelawanJokowi #RockyGerung\n",
      "1596869132271915014 2022-11-27 14:10:44 +0000 <Rgtvchannel_id> #RockyGerung  #PoliticsAndBeyond  #RGTVChannelID  #IndonesiaBerpikir\n",
      "1596840937866821633 2022-11-27 12:18:42 +0000 <Rgtvchannel_id> Ada preman gadungan berkeliaran di Kathmandu, Nepal 😁   #RockyGerung  #RGTVChannelID  #PoliticsAndBeyond  #IndonesiaBerpikir  https://t.co/CNpvK0okh1\n",
      "1596814245387112449 2022-11-27 10:32:38 +0000 <Rgtvchannel_id> Apa kriteria capres versi Pak JK? Siapa yang dia maksud?   #RockyGerung  #JusufKalla  #RGTVChannelID  #PoliticsAndBeyond  #IndonesiaBerpikir  https://t.co/WriPHO3iio\n",
      "1596746655965282305 2022-11-27 06:04:03 +0000 <tribunkaltim> Fasilitas Terhalang oleh Politik yang Kotor, Rocky Gerung Ingin Hidupkan Kembali Janji Kemerdekaan    https://t.co/CQ3FEZGok9 lewat @tribunkaltim   #RockyGerung\n",
      "[!] No more data! Scraping will stop now.\n",
      "found 0 deleted tweets in this search.\n"
     ]
    }
   ],
   "source": [
    "import nest_asyncio\n",
    "nest_asyncio.apply() #digunakan sekali untuk mengaktifkan tindakan serentak dalam notebook jupyter.\n",
    "import twint #untuk import twint\n",
    "c = twint.Config()\n",
    "c.Search = '#rockygerung'\n",
    "c.Lang = \"in\"\n",
    "c.Pandas = True\n",
    "c.Limit = 100\n",
    "twint.run.Search(c)"
   ]
  },
  {
   "cell_type": "markdown",
   "metadata": {
    "id": "8f3ni8V7Fmkd"
   },
   "source": [
    "#### Ambil Tweet\n",
    "Setelah proses crawling didapatkan data tweeter diatas, pada data tersebut terdapat data yang tidak diperlukan. Untuk melakukan prepocessing hanya memerlukan data tweet dari user, maka dari itu buang data yang tidak diperlukan dan ambil data tweet yang akan digunakan dengan source code berikut. "
   ]
  },
  {
   "cell_type": "code",
   "execution_count": 5,
   "metadata": {
    "colab": {
     "base_uri": "https://localhost:8080/"
    },
    "id": "FZAniW9RrPZP",
    "outputId": "7f0f1b83-2c47-4a96-a15f-999f4d80e1d1"
   },
   "outputs": [
    {
     "data": {
      "text/plain": [
       "0     Sesaat lagi KAFFE dengan tema Feminis laki-lak...\n",
       "1     Rocky Gerung Sebut Nabi Muhammad SAW sebagai S...\n",
       "2     Komentari Video Rocky Gerung di Acara Maulid, ...\n",
       "3     @Fahrihamzah Fahri mungkin menyindir atau ada ...\n",
       "4     BUPATI MERANTI MARAH ke Kemenkeu dan Pemerinta...\n",
       "5     Mana benar dan salah itu soal opini politis pa...\n",
       "6     #RockyGerung bilang kalau #AniesBaswedan dilar...\n",
       "7     #RockyGerung - #RobertusRobet | Apa Hubungan P...\n",
       "8     Nasionalisme sering ditafsirkan secara kaku. S...\n",
       "9     Jadikan nasionalisme sebagai sesuatu yang ring...\n",
       "10    Rizal Ramli, Surya Paloh, Rocky Gerung Tidak A...\n",
       "11    SH,MH,DLL hanya menandakan kita pernah SEKOLAH...\n",
       "12    #IndonesiaBerpikir  #PoliticsAndBeyond  #RGTVC...\n",
       "13    Siapkan akal tajamkan nalar,  sambil nikmati p...\n",
       "14    #RockyGerung - #RobertusRobet | Apa Hubungan P...\n",
       "15    Bloomberg Sebut IKN Berantakan, Rocky Gerung: ...\n",
       "16    Akan dibahas lebih lanjut tentang nasionalisme...\n",
       "17    #Quote:  Bagi istana dia bisa hitung yang dise...\n",
       "18    Kembali hiking sambil ngobrol panjang tentang ...\n",
       "19    @bro_aLy9 Dia sendiri juga seperti Anjing @roc...\n",
       "20    Quote:   Rindu merambat di akar cemara, Menuju...\n",
       "21    Tak harus tiba, bahkan melintas pun wangimu be...\n",
       "22    Sebut Jokowi Bikin Gimik, Rocky Gerung Nilai P...\n",
       "23    #RockyGerung #TasikMalaya #IKN #IbuKotaNusanta...\n",
       "24    #RockyGerung #PoliticsAndBeyond  #RGTVChanneli...\n",
       "25    #rockygerung #jokowi #buzzer #INFO    https://...\n",
       "26    Quote:   Bagi istana dia bisa hitung yang dise...\n",
       "27    Podcast #11 Kuliah Etika Lingkungan di Gunung ...\n",
       "28    JK Berharap Presiden Netral Jelang Pemilu, Kad...\n",
       "29    Rocky Gerung Tanya Pilihan Capres, Jusuf Kalla...\n",
       "30    Rocky Gerung Sebut Anies Akan Dihambat Dengan ...\n",
       "31    #Quot:  Tetapi begitu Anies beredar ke seluruh...\n",
       "32    #Pilpres2024 #capres2024 #GanjarUntukIndonesia...\n",
       "33    Rocky Gerung Sebut Threshold 20 Persen Racun D...\n",
       "34    -- Rocky Gerung, Seorang Filsuf Indonesia -- A...\n",
       "35    Komentari Kegiatan Akbar Relawan Jokowi di GBK...\n",
       "36    #RockyGerung  #PoliticsAndBeyond  #RGTVChannel...\n",
       "37    Ada preman gadungan berkeliaran di Kathmandu, ...\n",
       "38    Apa kriteria capres versi Pak JK? Siapa yang d...\n",
       "39    Fasilitas Terhalang oleh Politik yang Kotor, R...\n",
       "Name: tweet, dtype: object"
      ]
     },
     "execution_count": 5,
     "metadata": {},
     "output_type": "execute_result"
    }
   ],
   "source": [
    "Tweets_dfs = twint.storage.panda.Tweets_df\n",
    "Tweets_dfs[\"tweet\"]"
   ]
  },
  {
   "cell_type": "markdown",
   "metadata": {
    "id": "a-54hzhM4X5s"
   },
   "source": [
    "### Upload Data Tweet\n",
    "Setelah data tweet di dapatkan, simpan data tweet tersebut dalam bentuk csv, kemudian download dan upload ke github untuk nanti digunakan sebagai dataset dari proses prepocessing text."
   ]
  },
  {
   "cell_type": "code",
   "execution_count": 6,
   "metadata": {
    "id": "DmQcczL74a62"
   },
   "outputs": [],
   "source": [
    "Tweets_dfs[\"tweet\"].to_csv(\"RG.csv\",index=False)"
   ]
  },
  {
   "cell_type": "markdown",
   "metadata": {
    "id": "joV0FyMs4eg8"
   },
   "source": [
    "## **Prepocessing Text** \n",
    "\n",
    "Setelah proses crawling, selanjutnya dilakukan prepocessing text, yaitu sebuah proses mesin yang digunakan untuk menyeleksi data teks agar lebih terstruktur dengan melalui beberapa tahapan-tahapan yang meliputi tahapan case folding, tokenizing, filtering dan stemming. \n",
    "Sebelum melakukan tahapan-tahapan tersebut, terlebih dahulu kita import data crawling yang diupload ke github tadi dengan menggunakan library pandas pada source code berikut.\n",
    "\n"
   ]
  },
  {
   "cell_type": "code",
   "execution_count": 7,
   "metadata": {
    "colab": {
     "base_uri": "https://localhost:8080/",
     "height": 424
    },
    "id": "Xac5Jy4J5tg8",
    "outputId": "1203fabc-14e4-4cec-e091-278f325e5a33"
   },
   "outputs": [
    {
     "data": {
      "text/html": [
       "\n",
       "  <div id=\"df-f1c8912d-f215-4408-9f54-60a853addecf\">\n",
       "    <div class=\"colab-df-container\">\n",
       "      <div>\n",
       "<style scoped>\n",
       "    .dataframe tbody tr th:only-of-type {\n",
       "        vertical-align: middle;\n",
       "    }\n",
       "\n",
       "    .dataframe tbody tr th {\n",
       "        vertical-align: top;\n",
       "    }\n",
       "\n",
       "    .dataframe thead th {\n",
       "        text-align: right;\n",
       "    }\n",
       "</style>\n",
       "<table border=\"1\" class=\"dataframe\">\n",
       "  <thead>\n",
       "    <tr style=\"text-align: right;\">\n",
       "      <th></th>\n",
       "      <th>tweet</th>\n",
       "    </tr>\n",
       "  </thead>\n",
       "  <tbody>\n",
       "    <tr>\n",
       "      <th>0</th>\n",
       "      <td>Anies itu Penantang 👈👉 said #RockyGerung    ht...</td>\n",
       "    </tr>\n",
       "    <tr>\n",
       "      <th>1</th>\n",
       "      <td>#RockyGerung #RGTVChannelid #PolitcsAndBeyond ...</td>\n",
       "    </tr>\n",
       "    <tr>\n",
       "      <th>2</th>\n",
       "      <td>KODE DARI OPUNG LUHUT!!  Tidak mau jadi calon ...</td>\n",
       "    </tr>\n",
       "    <tr>\n",
       "      <th>3</th>\n",
       "      <td>Rocky Gerung Bicara Soal Keberlangsungan Pemer...</td>\n",
       "    </tr>\n",
       "    <tr>\n",
       "      <th>4</th>\n",
       "      <td>#RockyGerung #RGTVChannelid #PolitcsAndBeyond ...</td>\n",
       "    </tr>\n",
       "    <tr>\n",
       "      <th>...</th>\n",
       "      <td>...</td>\n",
       "    </tr>\n",
       "    <tr>\n",
       "      <th>95</th>\n",
       "      <td>Jaman REZIM SKRG kaya bapa tiri di sinetron......</td>\n",
       "    </tr>\n",
       "    <tr>\n",
       "      <th>96</th>\n",
       "      <td>Sobat akal sehat nantikan video part 2 yang ak...</td>\n",
       "    </tr>\n",
       "    <tr>\n",
       "      <th>97</th>\n",
       "      <td>Menteri Koordinator bidang Kemaritiman dan Inv...</td>\n",
       "    </tr>\n",
       "    <tr>\n",
       "      <th>98</th>\n",
       "      <td>PEMBODOHAN YANG BERLANGSUNG DALAM KURIKULUM ET...</td>\n",
       "    </tr>\n",
       "    <tr>\n",
       "      <th>99</th>\n",
       "      <td>Setuju dengan Bung Rocky?!  Saksikan selengkap...</td>\n",
       "    </tr>\n",
       "  </tbody>\n",
       "</table>\n",
       "<p>100 rows × 1 columns</p>\n",
       "</div>\n",
       "      <button class=\"colab-df-convert\" onclick=\"convertToInteractive('df-f1c8912d-f215-4408-9f54-60a853addecf')\"\n",
       "              title=\"Convert this dataframe to an interactive table.\"\n",
       "              style=\"display:none;\">\n",
       "\n",
       "  <svg xmlns=\"http://www.w3.org/2000/svg\" height=\"24px\"viewBox=\"0 0 24 24\"\n",
       "       width=\"24px\">\n",
       "    <path d=\"M0 0h24v24H0V0z\" fill=\"none\"/>\n",
       "    <path d=\"M18.56 5.44l.94 2.06.94-2.06 2.06-.94-2.06-.94-.94-2.06-.94 2.06-2.06.94zm-11 1L8.5 8.5l.94-2.06 2.06-.94-2.06-.94L8.5 2.5l-.94 2.06-2.06.94zm10 10l.94 2.06.94-2.06 2.06-.94-2.06-.94-.94-2.06-.94 2.06-2.06.94z\"/><path d=\"M17.41 7.96l-1.37-1.37c-.4-.4-.92-.59-1.43-.59-.52 0-1.04.2-1.43.59L10.3 9.45l-7.72 7.72c-.78.78-.78 2.05 0 2.83L4 21.41c.39.39.9.59 1.41.59.51 0 1.02-.2 1.41-.59l7.78-7.78 2.81-2.81c.8-.78.8-2.07 0-2.86zM5.41 20L4 18.59l7.72-7.72 1.47 1.35L5.41 20z\"/>\n",
       "  </svg>\n",
       "      </button>\n",
       "\n",
       "  <style>\n",
       "    .colab-df-container {\n",
       "      display:flex;\n",
       "      flex-wrap:wrap;\n",
       "      gap: 12px;\n",
       "    }\n",
       "\n",
       "    .colab-df-convert {\n",
       "      background-color: #E8F0FE;\n",
       "      border: none;\n",
       "      border-radius: 50%;\n",
       "      cursor: pointer;\n",
       "      display: none;\n",
       "      fill: #1967D2;\n",
       "      height: 32px;\n",
       "      padding: 0 0 0 0;\n",
       "      width: 32px;\n",
       "    }\n",
       "\n",
       "    .colab-df-convert:hover {\n",
       "      background-color: #E2EBFA;\n",
       "      box-shadow: 0px 1px 2px rgba(60, 64, 67, 0.3), 0px 1px 3px 1px rgba(60, 64, 67, 0.15);\n",
       "      fill: #174EA6;\n",
       "    }\n",
       "\n",
       "    [theme=dark] .colab-df-convert {\n",
       "      background-color: #3B4455;\n",
       "      fill: #D2E3FC;\n",
       "    }\n",
       "\n",
       "    [theme=dark] .colab-df-convert:hover {\n",
       "      background-color: #434B5C;\n",
       "      box-shadow: 0px 1px 3px 1px rgba(0, 0, 0, 0.15);\n",
       "      filter: drop-shadow(0px 1px 2px rgba(0, 0, 0, 0.3));\n",
       "      fill: #FFFFFF;\n",
       "    }\n",
       "  </style>\n",
       "\n",
       "      <script>\n",
       "        const buttonEl =\n",
       "          document.querySelector('#df-f1c8912d-f215-4408-9f54-60a853addecf button.colab-df-convert');\n",
       "        buttonEl.style.display =\n",
       "          google.colab.kernel.accessAllowed ? 'block' : 'none';\n",
       "\n",
       "        async function convertToInteractive(key) {\n",
       "          const element = document.querySelector('#df-f1c8912d-f215-4408-9f54-60a853addecf');\n",
       "          const dataTable =\n",
       "            await google.colab.kernel.invokeFunction('convertToInteractive',\n",
       "                                                     [key], {});\n",
       "          if (!dataTable) return;\n",
       "\n",
       "          const docLinkHtml = 'Like what you see? Visit the ' +\n",
       "            '<a target=\"_blank\" href=https://colab.research.google.com/notebooks/data_table.ipynb>data table notebook</a>'\n",
       "            + ' to learn more about interactive tables.';\n",
       "          element.innerHTML = '';\n",
       "          dataTable['output_type'] = 'display_data';\n",
       "          await google.colab.output.renderOutput(dataTable, element);\n",
       "          const docLink = document.createElement('div');\n",
       "          docLink.innerHTML = docLinkHtml;\n",
       "          element.appendChild(docLink);\n",
       "        }\n",
       "      </script>\n",
       "    </div>\n",
       "  </div>\n"
      ],
      "text/plain": [
       "                                                tweet\n",
       "0   Anies itu Penantang 👈👉 said #RockyGerung    ht...\n",
       "1   #RockyGerung #RGTVChannelid #PolitcsAndBeyond ...\n",
       "2   KODE DARI OPUNG LUHUT!!  Tidak mau jadi calon ...\n",
       "3   Rocky Gerung Bicara Soal Keberlangsungan Pemer...\n",
       "4   #RockyGerung #RGTVChannelid #PolitcsAndBeyond ...\n",
       "..                                                ...\n",
       "95  Jaman REZIM SKRG kaya bapa tiri di sinetron......\n",
       "96  Sobat akal sehat nantikan video part 2 yang ak...\n",
       "97  Menteri Koordinator bidang Kemaritiman dan Inv...\n",
       "98  PEMBODOHAN YANG BERLANGSUNG DALAM KURIKULUM ET...\n",
       "99  Setuju dengan Bung Rocky?!  Saksikan selengkap...\n",
       "\n",
       "[100 rows x 1 columns]"
      ]
     },
     "execution_count": 7,
     "metadata": {},
     "output_type": "execute_result"
    }
   ],
   "source": [
    "import pandas as pd \n",
    "\n",
    "tweets = pd.read_csv(\"https://raw.githubusercontent.com/Fahrur190125/Data/main/RG.csv\",index_col=False)\n",
    "tweets"
   ]
  },
  {
   "cell_type": "markdown",
   "metadata": {
    "id": "_FQhW9mx_h2z"
   },
   "source": [
    "Setelah data crawling berhasil di import, selanjutnya lakukan tahapan-tahapan prepocessing seperti berikut."
   ]
  },
  {
   "cell_type": "markdown",
   "metadata": {
    "id": "-N2T3ds14s6N"
   },
   "source": [
    "### Case Folding\n",
    "Setelah berhassil mengambil dataset, selanjutnya ke proses prepocessing ke tahapan case folding yaitu tahapan pertama untuk melakukan prepocessing text dengan mengubah text menjadi huruf kecil semua dengan menghilangkan juga karakter spesial, angka, tanda baca, spasi serta huruf yang tidak penting.\n",
    "\n"
   ]
  },
  {
   "cell_type": "markdown",
   "metadata": {
    "id": "Q7_i2mK14vo_"
   },
   "source": [
    "#### Merubah Huruf Kecil Semua\n",
    "Tahapan case folding yang pertama yaitu merubah semua huruf menjadi huruf kecil semua menggunakan fungsi lower() dengan source code berikut."
   ]
  },
  {
   "cell_type": "code",
   "execution_count": 8,
   "metadata": {
    "colab": {
     "base_uri": "https://localhost:8080/"
    },
    "id": "JhDqytF84y3x",
    "outputId": "2bed84f5-481a-4fbd-c5f4-a21382a53b65"
   },
   "outputs": [
    {
     "data": {
      "text/plain": [
       "0     anies itu penantang 👈👉 said #rockygerung    ht...\n",
       "1     #rockygerung #rgtvchannelid #politcsandbeyond ...\n",
       "2     kode dari opung luhut!!  tidak mau jadi calon ...\n",
       "3     rocky gerung bicara soal keberlangsungan pemer...\n",
       "4     #rockygerung #rgtvchannelid #politcsandbeyond ...\n",
       "                            ...                        \n",
       "95    jaman rezim skrg kaya bapa tiri di sinetron......\n",
       "96    sobat akal sehat nantikan video part 2 yang ak...\n",
       "97    menteri koordinator bidang kemaritiman dan inv...\n",
       "98    pembodohan yang berlangsung dalam kurikulum et...\n",
       "99    setuju dengan bung rocky?!  saksikan selengkap...\n",
       "Name: tweet, Length: 100, dtype: object"
      ]
     },
     "execution_count": 8,
     "metadata": {},
     "output_type": "execute_result"
    }
   ],
   "source": [
    "tweets['tweet'] = tweets['tweet'].str.lower()\n",
    "\n",
    "\n",
    "tweets['tweet']"
   ]
  },
  {
   "cell_type": "markdown",
   "metadata": {
    "id": "Fdq5WkS942J7"
   },
   "source": [
    "#### Menghapus Karakter Spesial\n",
    "Tahapan case folding selanjutnya ialah menghapus karakter spesial dengan menggunakan library nltk, untuk menggunakan librarynya terlebih dahulu install dengan source code berikut.\n"
   ]
  },
  {
   "cell_type": "code",
   "execution_count": 9,
   "metadata": {
    "colab": {
     "base_uri": "https://localhost:8080/"
    },
    "id": "pCaPbvxW44r9",
    "outputId": "268c5881-7067-4c4c-9a05-baed8e1dd637"
   },
   "outputs": [
    {
     "name": "stdout",
     "output_type": "stream",
     "text": [
      "Looking in indexes: https://pypi.org/simple, https://us-python.pkg.dev/colab-wheels/public/simple/\n",
      "Requirement already satisfied: nltk in /usr/local/lib/python3.8/dist-packages (3.7)\n",
      "Requirement already satisfied: tqdm in /usr/local/lib/python3.8/dist-packages (from nltk) (4.64.1)\n",
      "Requirement already satisfied: regex>=2021.8.3 in /usr/local/lib/python3.8/dist-packages (from nltk) (2022.6.2)\n",
      "Requirement already satisfied: joblib in /usr/local/lib/python3.8/dist-packages (from nltk) (1.2.0)\n",
      "Requirement already satisfied: click in /usr/local/lib/python3.8/dist-packages (from nltk) (7.1.2)\n"
     ]
    }
   ],
   "source": [
    "#install library nltk\n",
    "!pip install nltk"
   ]
  },
  {
   "cell_type": "markdown",
   "metadata": {
    "id": "ahtwYhOQ4-iz"
   },
   "source": [
    "Setelah library nltk terinstall kita import librarynya dan buat sebuah function untuk menghapus karakter spesial tersebut."
   ]
  },
  {
   "cell_type": "code",
   "execution_count": 10,
   "metadata": {
    "colab": {
     "base_uri": "https://localhost:8080/"
    },
    "id": "uvSaD4zZ47lK",
    "outputId": "f58cff5e-a0f0-4e09-a793-e746f00bc40c"
   },
   "outputs": [
    {
     "data": {
      "text/plain": [
       "0                           anies itu penantang ?? said\n",
       "1                                                      \n",
       "2     kode dari opung luhut!! tidak mau jadi calon p...\n",
       "3     rocky gerung bicara soal keberlangsungan pemer...\n",
       "4                                                      \n",
       "                            ...                        \n",
       "95    jaman rezim skrg kaya bapa tiri di sinetron......\n",
       "96    sobat akal sehat nantikan video part 2 yang ak...\n",
       "97    menteri koordinator bidang kemaritiman dan inv...\n",
       "98    pembodohan yang berlangsung dalam kurikulum et...\n",
       "99    setuju dengan bung rocky?! saksikan selengkapn...\n",
       "Name: tweet, Length: 100, dtype: object"
      ]
     },
     "execution_count": 10,
     "metadata": {},
     "output_type": "execute_result"
    }
   ],
   "source": [
    "import string \n",
    "import re #regex library\n",
    "# import word_tokenize & FreqDist from NLTK\n",
    "\n",
    "from nltk.tokenize import word_tokenize \n",
    "from nltk.probability import FreqDist\n",
    "\n",
    "\n",
    "def remove_special(text):\n",
    "    # remove tab, new line, ans back slice\n",
    "    text = text.replace('\\\\t',\" \").replace('\\\\n',\" \").replace('\\\\u',\" \").replace('\\\\',\" \").replace('\\\\f',\" \").replace('\\\\r',\" \")\n",
    "    # remove non ASCII (emoticon, chinese word, .etc)\n",
    "    text = text.encode('ascii', 'replace').decode('ascii')\n",
    "    # remove mention, link, hashtag\n",
    "    text = ' '.join(re.sub(\"([@#][A-Za-z0-9]+)|(\\w+:\\/\\/\\S+)\",\" \", text).split())\n",
    "    # remove incomplete URL\n",
    "    return text.replace(\"http://\", \" \").replace(\"https://\", \" \")\n",
    "                \n",
    "tweets['tweet'] = tweets['tweet'].apply(remove_special)\n",
    "tweets['tweet']"
   ]
  },
  {
   "cell_type": "markdown",
   "metadata": {
    "id": "aLm_vpeH5DSV"
   },
   "source": [
    "#### Menghapus Angka\n",
    "Selanjutnya melakukan penghapusan angka, penghapusan angka disini fleksibel, jika angka ingin dijadikan fitur maka penghapusan angka tidak perlu dilakukan. Untuk data tweet ini saya tidak ingin menjadikan angka sebagai fitur, untuk itu dilakukan penghapusan angka dengan function berikut\n"
   ]
  },
  {
   "cell_type": "code",
   "execution_count": 11,
   "metadata": {
    "colab": {
     "base_uri": "https://localhost:8080/"
    },
    "id": "0ADN8WB0Yli0",
    "outputId": "cf6c6fa4-fb79-4dcc-8eca-5e472cef8075"
   },
   "outputs": [
    {
     "data": {
      "text/plain": [
       "0                           anies itu penantang ?? said\n",
       "1                                                      \n",
       "2     kode dari opung luhut!! tidak mau jadi calon p...\n",
       "3     rocky gerung bicara soal keberlangsungan pemer...\n",
       "4                                                      \n",
       "                            ...                        \n",
       "95    jaman rezim skrg kaya bapa tiri di sinetron......\n",
       "96    sobat akal sehat nantikan video part  yang aka...\n",
       "97    menteri koordinator bidang kemaritiman dan inv...\n",
       "98    pembodohan yang berlangsung dalam kurikulum et...\n",
       "99    setuju dengan bung rocky?! saksikan selengkapn...\n",
       "Name: tweet, Length: 100, dtype: object"
      ]
     },
     "execution_count": 11,
     "metadata": {},
     "output_type": "execute_result"
    }
   ],
   "source": [
    "#remove number\n",
    "def remove_number(text):\n",
    "    return  re.sub(r\"\\d+\", \"\", text)\n",
    "\n",
    "tweets['tweet'] = tweets['tweet'].apply(remove_number)\n",
    "tweets['tweet']"
   ]
  },
  {
   "cell_type": "markdown",
   "metadata": {
    "id": "jl2FQ1su5M5r"
   },
   "source": [
    "#### Menghapus Tanda Baca\n",
    "Selanjutnya penghapusan tanda baca yang tidak perlu yang dilakukan dengan function punctuation berikut\n"
   ]
  },
  {
   "cell_type": "code",
   "execution_count": 12,
   "metadata": {
    "colab": {
     "base_uri": "https://localhost:8080/"
    },
    "id": "OmiSTkbP5NnI",
    "outputId": "af25ba87-6f84-43de-d082-379b134f96ef"
   },
   "outputs": [
    {
     "data": {
      "text/plain": [
       "0                             anies itu penantang  said\n",
       "1                                                      \n",
       "2     kode dari opung luhut tidak mau jadi calon pre...\n",
       "3     rocky gerung bicara soal keberlangsungan pemer...\n",
       "4                                                      \n",
       "                            ...                        \n",
       "95    jaman rezim skrg kaya bapa tiri di sinetron di...\n",
       "96    sobat akal sehat nantikan video part  yang aka...\n",
       "97    menteri koordinator bidang kemaritiman dan inv...\n",
       "98    pembodohan yang berlangsung dalam kurikulum et...\n",
       "99    setuju dengan bung rocky saksikan selengkapnya...\n",
       "Name: tweet, Length: 100, dtype: object"
      ]
     },
     "execution_count": 12,
     "metadata": {},
     "output_type": "execute_result"
    }
   ],
   "source": [
    "#remove punctuation\n",
    "def remove_punctuation(text):\n",
    "    return text.translate(str.maketrans(\"\",\"\",string.punctuation))\n",
    "\n",
    "tweets['tweet'] = tweets['tweet'].apply(remove_punctuation)\n",
    "tweets['tweet']"
   ]
  },
  {
   "cell_type": "markdown",
   "metadata": {
    "id": "d0YF7OFT5Qzl"
   },
   "source": [
    "#### Menghapus Spasi\n",
    "Selanjutnya melakukan penghapusan spasi dengab menggunakan function berikut\n"
   ]
  },
  {
   "cell_type": "code",
   "execution_count": 13,
   "metadata": {
    "colab": {
     "base_uri": "https://localhost:8080/"
    },
    "id": "veUMlXci5TSL",
    "outputId": "78bf2a98-8530-42a0-f2e4-9bf390f3fbbe"
   },
   "outputs": [
    {
     "data": {
      "text/plain": [
       "0                              anies itu penantang said\n",
       "1                                                      \n",
       "2     kode dari opung luhut tidak mau jadi calon pre...\n",
       "3     rocky gerung bicara soal keberlangsungan pemer...\n",
       "4                                                      \n",
       "                            ...                        \n",
       "95    jaman rezim skrg kaya bapa tiri di sinetron di...\n",
       "96    sobat akal sehat nantikan video part yang akan...\n",
       "97    menteri koordinator bidang kemaritiman dan inv...\n",
       "98    pembodohan yang berlangsung dalam kurikulum et...\n",
       "99    setuju dengan bung rocky saksikan selengkapnya...\n",
       "Name: tweet, Length: 100, dtype: object"
      ]
     },
     "execution_count": 13,
     "metadata": {},
     "output_type": "execute_result"
    }
   ],
   "source": [
    "#remove whitespace leading & trailing\n",
    "def remove_whitespace_LT(text):\n",
    "    return text.strip()\n",
    "\n",
    "tweets['tweet'] = tweets['tweet'].apply(remove_whitespace_LT)\n",
    "\n",
    "\n",
    "#remove multiple whitespace into single whitespace\n",
    "def remove_whitespace_multiple(text):\n",
    "    return re.sub('\\s+',' ',text)\n",
    "\n",
    "tweets['tweet'] = tweets['tweet'].apply(remove_whitespace_multiple)\n",
    "tweets['tweet']"
   ]
  },
  {
   "cell_type": "markdown",
   "metadata": {
    "id": "cA3VGUt15WqR"
   },
   "source": [
    "#### Menghapus Huruf\n",
    "Selanjutnya melakukan penghapusan huruf yang tidak bermakna dengan function berikut"
   ]
  },
  {
   "cell_type": "code",
   "execution_count": 14,
   "metadata": {
    "colab": {
     "base_uri": "https://localhost:8080/"
    },
    "id": "oCp446D45ZUP",
    "outputId": "c6a10c8a-dc88-41df-c6c8-c3c30d47aaf6"
   },
   "outputs": [
    {
     "data": {
      "text/plain": [
       "0                              anies itu penantang said\n",
       "1                                                      \n",
       "2     kode dari opung luhut tidak mau jadi calon pre...\n",
       "3     rocky gerung bicara soal keberlangsungan pemer...\n",
       "4                                                      \n",
       "                            ...                        \n",
       "95    jaman rezim skrg kaya bapa tiri di sinetron di...\n",
       "96    sobat akal sehat nantikan video part yang akan...\n",
       "97    menteri koordinator bidang kemaritiman dan inv...\n",
       "98    pembodohan yang berlangsung dalam kurikulum et...\n",
       "99    setuju dengan bung rocky saksikan selengkapnya...\n",
       "Name: tweet, Length: 100, dtype: object"
      ]
     },
     "execution_count": 14,
     "metadata": {},
     "output_type": "execute_result"
    }
   ],
   "source": [
    "# remove single char\n",
    "def remove_singl_char(text):\n",
    "    return re.sub(r\"\\b[a-zA-Z]\\b\", \" \", text)\n",
    "\n",
    "tweets['tweet'] = tweets['tweet'].apply(remove_singl_char)\n",
    "tweets['tweet']"
   ]
  },
  {
   "cell_type": "markdown",
   "metadata": {
    "id": "PbLjEozU5cJE"
   },
   "source": [
    "### Tokenizing\n",
    "Setelah tahapan case folding selesai, selanjutnya masuk ke tahapan tokenizing yang merupakan tahapan prepocessing yang memecah kalimat dari text menjadi kata agar membedakan antara kata pemisah atau bukan. Untuk melakukan tokenizing dapat menggunakan dengan library nltk dan function berikut.\n",
    "\n"
   ]
  },
  {
   "cell_type": "code",
   "execution_count": 15,
   "metadata": {
    "colab": {
     "base_uri": "https://localhost:8080/"
    },
    "id": "cIjz2Jkf5eqF",
    "outputId": "6f9b7d07-83cb-4374-bdba-c78cf1c203ee"
   },
   "outputs": [
    {
     "name": "stderr",
     "output_type": "stream",
     "text": [
      "[nltk_data] Downloading package punkt to /root/nltk_data...\n",
      "[nltk_data]   Unzipping tokenizers/punkt.zip.\n"
     ]
    },
    {
     "data": {
      "text/plain": [
       "True"
      ]
     },
     "execution_count": 15,
     "metadata": {},
     "output_type": "execute_result"
    }
   ],
   "source": [
    "import nltk\n",
    "nltk.download('punkt')\n",
    "# NLTK word Tokenize "
   ]
  },
  {
   "cell_type": "code",
   "execution_count": 16,
   "metadata": {
    "colab": {
     "base_uri": "https://localhost:8080/"
    },
    "id": "LTXPY5cK5hZ-",
    "outputId": "b5339496-dc92-4ff3-ebab-a6a18e6f0a22"
   },
   "outputs": [
    {
     "data": {
      "text/plain": [
       "0                         [anies, itu, penantang, said]\n",
       "1                                                    []\n",
       "2     [kode, dari, opung, luhut, tidak, mau, jadi, c...\n",
       "3     [rocky, gerung, bicara, soal, keberlangsungan,...\n",
       "4                                                    []\n",
       "                            ...                        \n",
       "95    [jaman, rezim, skrg, kaya, bapa, tiri, di, sin...\n",
       "96    [sobat, akal, sehat, nantikan, video, part, ya...\n",
       "97    [menteri, koordinator, bidang, kemaritiman, da...\n",
       "98    [pembodohan, yang, berlangsung, dalam, kurikul...\n",
       "99    [setuju, dengan, bung, rocky, saksikan, seleng...\n",
       "Name: tweet, Length: 100, dtype: object"
      ]
     },
     "execution_count": 16,
     "metadata": {},
     "output_type": "execute_result"
    }
   ],
   "source": [
    "# NLTK word Tokenize \n",
    "def word_tokenize_wrapper(text):\n",
    "    return word_tokenize(text)\n",
    "\n",
    "tweets['tweet'] = tweets['tweet'].apply(word_tokenize_wrapper)\n",
    "tweets['tweet']"
   ]
  },
  {
   "cell_type": "markdown",
   "metadata": {
    "id": "O9FCmHZ55jvw"
   },
   "source": [
    "### Filtering(Stopword)\n",
    "Tahapan prepocessing selanjutnya ialah filtering atau disebut juga stopword yang merupakan lanjutan dari tahapan tokenizing yang digunakan untuk mengambil kata-kata penting dari hasil tokenizing tersebut dengan menghapus kata hubung yang tidak memiliki makna.\n",
    "\n",
    "Proses stopword dapat dilakukan dengan mengimport library stopword dan function berikut untuk melakukan stopword."
   ]
  },
  {
   "cell_type": "code",
   "execution_count": 17,
   "metadata": {
    "colab": {
     "base_uri": "https://localhost:8080/"
    },
    "id": "l8_flTCTaSpW",
    "outputId": "6c4ef11b-3b09-4c3c-e019-0d5851b1e6dd"
   },
   "outputs": [
    {
     "name": "stderr",
     "output_type": "stream",
     "text": [
      "[nltk_data] Downloading package stopwords to /root/nltk_data...\n",
      "[nltk_data]   Unzipping corpora/stopwords.zip.\n"
     ]
    },
    {
     "data": {
      "text/plain": [
       "True"
      ]
     },
     "execution_count": 17,
     "metadata": {},
     "output_type": "execute_result"
    }
   ],
   "source": [
    "import nltk\n",
    "from nltk.corpus import stopwords\n",
    "nltk.download('stopwords')"
   ]
  },
  {
   "cell_type": "code",
   "execution_count": 18,
   "metadata": {
    "colab": {
     "base_uri": "https://localhost:8080/"
    },
    "id": "asi-yUCR5yht",
    "outputId": "ee2588fe-7069-43e9-9ba1-1b9d8e712001"
   },
   "outputs": [
    {
     "data": {
      "text/plain": [
       "0                              [anies, penantang, said]\n",
       "1                                                    []\n",
       "2     [kode, opung, luhut, calon, presiden, acara, k...\n",
       "3     [rocky, gerung, bicara, keberlangsungan, pemer...\n",
       "4                                                    []\n",
       "                            ...                        \n",
       "95    [jaman, rezim, skrg, kaya, bapa, tiri, sinetro...\n",
       "96    [sobat, akal, sehat, nantikan, video, part, ta...\n",
       "97    [menteri, koordinator, bidang, kemaritiman, in...\n",
       "98        [pembodohan, kurikulum, etika, rocky, gerung]\n",
       "99    [setuju, rocky, saksikan, selengkapnya, youtub...\n",
       "Name: tweet, Length: 100, dtype: object"
      ]
     },
     "execution_count": 18,
     "metadata": {},
     "output_type": "execute_result"
    }
   ],
   "source": [
    "list_stopwords = stopwords.words('indonesian')\n",
    "\n",
    "# append additional stopword\n",
    "list_stopwords.extend([\"yg\", \"dg\", \"rt\", \"dgn\", \"ny\", \"d\", 'klo', \n",
    "                       'kalo', 'amp', 'biar', 'bikin', 'bilang', \n",
    "                       'gak', 'ga', 'krn', 'nya', 'nih', 'sih', \n",
    "                       'si', 'tau', 'tdk', 'tuh', 'utk', 'ya', \n",
    "                       'jd', 'jgn', 'sdh', 'aja', 'n', 't', \n",
    "                       'nyg', 'hehe', 'pen', 'u', 'nan', 'loh', 'rt',\n",
    "                       '&amp', 'yah'])\n",
    "\n",
    "# convert list to dictionary\n",
    "list_stopwords = set(list_stopwords)\n",
    "\n",
    "#Menghapus Stopword dari list token\n",
    "def stopwords_removal(words):\n",
    "    return [word for word in words if word not in list_stopwords]\n",
    "\n",
    "tweets['tweet'] = tweets['tweet'].apply(stopwords_removal)\n",
    "\n",
    "tweets['tweet']"
   ]
  },
  {
   "cell_type": "markdown",
   "metadata": {
    "id": "ei8PlRNj50Yi"
   },
   "source": [
    "### Stemming\n",
    "Tahapan terakhir dari proses prepocessing ialah stemming yang merupakan penghapusan suffix maupun prefix pada text sehingga menjadi kata dasar. Proses ini dapat dilakukan dengan menggunakan library sastrawi dan swifter."
   ]
  },
  {
   "cell_type": "code",
   "execution_count": 19,
   "metadata": {
    "colab": {
     "base_uri": "https://localhost:8080/"
    },
    "id": "Hae1yyhI52-2",
    "outputId": "1d0c7026-a2b7-4751-ffe9-4a2c5ca075e1"
   },
   "outputs": [
    {
     "name": "stdout",
     "output_type": "stream",
     "text": [
      "Looking in indexes: https://pypi.org/simple, https://us-python.pkg.dev/colab-wheels/public/simple/\n",
      "Collecting Sastrawi\n"
     ]
    },
    {
     "name": "stdout",
     "output_type": "stream",
     "text": [
      "  Downloading Sastrawi-1.0.1-py2.py3-none-any.whl (209 kB)\n",
      "\u001b[?25l\r",
      "\u001b[K     |█▋                              | 10 kB 6.7 MB/s eta 0:00:01\r",
      "\u001b[K     |███▏                            | 20 kB 10.2 MB/s eta 0:00:01\r",
      "\u001b[K     |████▊                           | 30 kB 13.9 MB/s eta 0:00:01\r",
      "\u001b[K     |██████▎                         | 40 kB 16.8 MB/s eta 0:00:01\r",
      "\u001b[K     |███████▉                        | 51 kB 19.4 MB/s eta 0:00:01\r",
      "\u001b[K     |█████████▍                      | 61 kB 22.1 MB/s eta 0:00:01\r",
      "\u001b[K     |███████████                     | 71 kB 22.7 MB/s eta 0:00:01\r",
      "\u001b[K     |████████████▌                   | 81 kB 22.5 MB/s eta 0:00:01\r",
      "\u001b[K     |██████████████                  | 92 kB 24.2 MB/s eta 0:00:01\r",
      "\u001b[K     |███████████████▋                | 102 kB 20.0 MB/s eta 0:00:01\r",
      "\u001b[K     |█████████████████▏              | 112 kB 20.0 MB/s eta 0:00:01\r",
      "\u001b[K     |██████████████████▊             | 122 kB 20.0 MB/s eta 0:00:01\r",
      "\u001b[K     |████████████████████▎           | 133 kB 20.0 MB/s eta 0:00:01\r",
      "\u001b[K     |█████████████████████▉          | 143 kB 20.0 MB/s eta 0:00:01\r",
      "\u001b[K     |███████████████████████▍        | 153 kB 20.0 MB/s eta 0:00:01\r",
      "\u001b[K     |█████████████████████████       | 163 kB 20.0 MB/s eta 0:00:01\r",
      "\u001b[K     |██████████████████████████▋     | 174 kB 20.0 MB/s eta 0:00:01\r",
      "\u001b[K     |████████████████████████████▏   | 184 kB 20.0 MB/s eta 0:00:01\r",
      "\u001b[K     |█████████████████████████████▊  | 194 kB 20.0 MB/s eta 0:00:01\r",
      "\u001b[K     |███████████████████████████████▎| 204 kB 20.0 MB/s eta 0:00:01\r",
      "\u001b[K     |████████████████████████████████| 209 kB 20.0 MB/s \n"
     ]
    },
    {
     "name": "stdout",
     "output_type": "stream",
     "text": [
      "\u001b[?25hInstalling collected packages: Sastrawi\n"
     ]
    },
    {
     "name": "stdout",
     "output_type": "stream",
     "text": [
      "Successfully installed Sastrawi-1.0.1\n"
     ]
    }
   ],
   "source": [
    "!pip install Sastrawi\n"
   ]
  },
  {
   "cell_type": "code",
   "execution_count": 20,
   "metadata": {
    "colab": {
     "base_uri": "https://localhost:8080/",
     "height": 1000
    },
    "id": "_RhJYIWh57my",
    "outputId": "ce438db4-fd7f-44aa-a96e-d03af01335fa"
   },
   "outputs": [
    {
     "name": "stdout",
     "output_type": "stream",
     "text": [
      "Looking in indexes: https://pypi.org/simple, https://us-python.pkg.dev/colab-wheels/public/simple/\n",
      "Collecting swifter\n",
      "  Downloading swifter-1.3.4.tar.gz (830 kB)\n",
      "\u001b[?25l\r",
      "\u001b[K     |▍                               | 10 kB 19.7 MB/s eta 0:00:01\r",
      "\u001b[K     |▉                               | 20 kB 24.2 MB/s eta 0:00:01\r",
      "\u001b[K     |█▏                              | 30 kB 30.4 MB/s eta 0:00:01\r",
      "\u001b[K     |█▋                              | 40 kB 17.1 MB/s eta 0:00:01\r",
      "\u001b[K     |██                              | 51 kB 19.7 MB/s eta 0:00:01\r",
      "\u001b[K     |██▍                             | 61 kB 22.3 MB/s eta 0:00:01\r",
      "\u001b[K     |██▊                             | 71 kB 19.6 MB/s eta 0:00:01\r",
      "\u001b[K     |███▏                            | 81 kB 20.7 MB/s eta 0:00:01\r",
      "\u001b[K     |███▌                            | 92 kB 22.5 MB/s eta 0:00:01\r",
      "\u001b[K     |████                            | 102 kB 19.5 MB/s eta 0:00:01\r",
      "\u001b[K     |████▍                           | 112 kB 19.5 MB/s eta 0:00:01\r",
      "\u001b[K     |████▊                           | 122 kB 19.5 MB/s eta 0:00:01\r",
      "\u001b[K     |█████▏                          | 133 kB 19.5 MB/s eta 0:00:01\r",
      "\u001b[K     |█████▌                          | 143 kB 19.5 MB/s eta 0:00:01\r",
      "\u001b[K     |██████                          | 153 kB 19.5 MB/s eta 0:00:01\r",
      "\u001b[K     |██████▎                         | 163 kB 19.5 MB/s eta 0:00:01\r",
      "\u001b[K     |██████▊                         | 174 kB 19.5 MB/s eta 0:00:01\r",
      "\u001b[K     |███████                         | 184 kB 19.5 MB/s eta 0:00:01\r",
      "\u001b[K     |███████▌                        | 194 kB 19.5 MB/s eta 0:00:01\r",
      "\u001b[K     |███████▉                        | 204 kB 19.5 MB/s eta 0:00:01\r",
      "\u001b[K     |████████▎                       | 215 kB 19.5 MB/s eta 0:00:01\r",
      "\u001b[K     |████████▊                       | 225 kB 19.5 MB/s eta 0:00:01\r",
      "\u001b[K     |█████████                       | 235 kB 19.5 MB/s eta 0:00:01\r",
      "\u001b[K     |█████████▌                      | 245 kB 19.5 MB/s eta 0:00:01\r",
      "\u001b[K     |█████████▉                      | 256 kB 19.5 MB/s eta 0:00:01\r",
      "\u001b[K     |██████████▎                     | 266 kB 19.5 MB/s eta 0:00:01\r",
      "\u001b[K     |██████████▋                     | 276 kB 19.5 MB/s eta 0:00:01\r",
      "\u001b[K     |███████████                     | 286 kB 19.5 MB/s eta 0:00:01\r",
      "\u001b[K     |███████████▍                    | 296 kB 19.5 MB/s eta 0:00:01\r",
      "\u001b[K     |███████████▉                    | 307 kB 19.5 MB/s eta 0:00:01\r",
      "\u001b[K     |████████████▎                   | 317 kB 19.5 MB/s eta 0:00:01\r",
      "\u001b[K     |████████████▋                   | 327 kB 19.5 MB/s eta 0:00:01\r",
      "\u001b[K     |█████████████                   | 337 kB 19.5 MB/s eta 0:00:01\r",
      "\u001b[K     |█████████████▍                  | 348 kB 19.5 MB/s eta 0:00:01\r",
      "\u001b[K     |█████████████▉                  | 358 kB 19.5 MB/s eta 0:00:01\r",
      "\u001b[K     |██████████████▏                 | 368 kB 19.5 MB/s eta 0:00:01\r",
      "\u001b[K     |██████████████▋                 | 378 kB 19.5 MB/s eta 0:00:01\r",
      "\u001b[K     |███████████████                 | 389 kB 19.5 MB/s eta 0:00:01\r",
      "\u001b[K     |███████████████▍                | 399 kB 19.5 MB/s eta 0:00:01\r",
      "\u001b[K     |███████████████▊                | 409 kB 19.5 MB/s eta 0:00:01\r",
      "\u001b[K     |████████████████▏               | 419 kB 19.5 MB/s eta 0:00:01\r",
      "\u001b[K     |████████████████▋               | 430 kB 19.5 MB/s eta 0:00:01\r",
      "\u001b[K     |█████████████████               | 440 kB 19.5 MB/s eta 0:00:01\r",
      "\u001b[K     |█████████████████▍              | 450 kB 19.5 MB/s eta 0:00:01\r",
      "\u001b[K     |█████████████████▊              | 460 kB 19.5 MB/s eta 0:00:01\r",
      "\u001b[K     |██████████████████▏             | 471 kB 19.5 MB/s eta 0:00:01\r",
      "\u001b[K     |██████████████████▌             | 481 kB 19.5 MB/s eta 0:00:01\r",
      "\u001b[K     |███████████████████             | 491 kB 19.5 MB/s eta 0:00:01\r",
      "\u001b[K     |███████████████████▎            | 501 kB 19.5 MB/s eta 0:00:01\r",
      "\u001b[K     |███████████████████▊            | 512 kB 19.5 MB/s eta 0:00:01\r",
      "\u001b[K     |████████████████████▏           | 522 kB 19.5 MB/s eta 0:00:01\r",
      "\u001b[K     |████████████████████▌           | 532 kB 19.5 MB/s eta 0:00:01\r",
      "\u001b[K     |█████████████████████           | 542 kB 19.5 MB/s eta 0:00:01\r",
      "\u001b[K     |█████████████████████▎          | 552 kB 19.5 MB/s eta 0:00:01\r",
      "\u001b[K     |█████████████████████▊          | 563 kB 19.5 MB/s eta 0:00:01\r",
      "\u001b[K     |██████████████████████          | 573 kB 19.5 MB/s eta 0:00:01\r",
      "\u001b[K     |██████████████████████▌         | 583 kB 19.5 MB/s eta 0:00:01\r",
      "\u001b[K     |██████████████████████▉         | 593 kB 19.5 MB/s eta 0:00:01\r",
      "\u001b[K     |███████████████████████▎        | 604 kB 19.5 MB/s eta 0:00:01\r",
      "\u001b[K     |███████████████████████▋        | 614 kB 19.5 MB/s eta 0:00:01\r",
      "\u001b[K     |████████████████████████        | 624 kB 19.5 MB/s eta 0:00:01\r",
      "\u001b[K     |████████████████████████▌       | 634 kB 19.5 MB/s eta 0:00:01\r",
      "\u001b[K     |████████████████████████▉       | 645 kB 19.5 MB/s eta 0:00:01\r",
      "\u001b[K     |█████████████████████████▎      | 655 kB 19.5 MB/s eta 0:00:01\r",
      "\u001b[K     |█████████████████████████▋      | 665 kB 19.5 MB/s eta 0:00:01\r",
      "\u001b[K     |██████████████████████████      | 675 kB 19.5 MB/s eta 0:00:01\r",
      "\u001b[K     |██████████████████████████▍     | 686 kB 19.5 MB/s eta 0:00:01\r",
      "\u001b[K     |██████████████████████████▉     | 696 kB 19.5 MB/s eta 0:00:01\r",
      "\u001b[K     |███████████████████████████▏    | 706 kB 19.5 MB/s eta 0:00:01\r",
      "\u001b[K     |███████████████████████████▋    | 716 kB 19.5 MB/s eta 0:00:01\r",
      "\u001b[K     |████████████████████████████    | 727 kB 19.5 MB/s eta 0:00:01\r",
      "\u001b[K     |████████████████████████████▍   | 737 kB 19.5 MB/s eta 0:00:01\r",
      "\u001b[K     |████████████████████████████▉   | 747 kB 19.5 MB/s eta 0:00:01\r",
      "\u001b[K     |█████████████████████████████▏  | 757 kB 19.5 MB/s eta 0:00:01\r",
      "\u001b[K     |█████████████████████████████▋  | 768 kB 19.5 MB/s eta 0:00:01\r",
      "\u001b[K     |██████████████████████████████  | 778 kB 19.5 MB/s eta 0:00:01\r",
      "\u001b[K     |██████████████████████████████▍ | 788 kB 19.5 MB/s eta 0:00:01\r",
      "\u001b[K     |██████████████████████████████▊ | 798 kB 19.5 MB/s eta 0:00:01\r",
      "\u001b[K     |████"
     ]
    },
    {
     "name": "stdout",
     "output_type": "stream",
     "text": [
      "███████████████████████████▏| 808 kB 19.5 MB/s eta 0:00:01\r",
      "\u001b[K     |███████████████████████████████▌| 819 kB 19.5 MB/s eta 0:00:01\r",
      "\u001b[K     |████████████████████████████████| 829 kB 19.5 MB/s eta 0:00:01\r",
      "\u001b[K     |████████████████████████████████| 830 kB 19.5 MB/s \n"
     ]
    },
    {
     "name": "stdout",
     "output_type": "stream",
     "text": [
      "\u001b[?25hRequirement already satisfied: pandas>=1.0.0 in /usr/local/lib/python3.8/dist-packages (from swifter) (1.3.5)\n"
     ]
    },
    {
     "name": "stdout",
     "output_type": "stream",
     "text": [
      "Collecting psutil>=5.6.6\n",
      "  Downloading psutil-5.9.4-cp36-abi3-manylinux_2_12_x86_64.manylinux2010_x86_64.manylinux_2_17_x86_64.manylinux2014_x86_64.whl (280 kB)\n",
      "\u001b[?25l\r",
      "\u001b[K     |█▏                              | 10 kB 30.0 MB/s eta 0:00:01\r",
      "\u001b[K     |██▍                             | 20 kB 38.2 MB/s eta 0:00:01\r",
      "\u001b[K     |███▌                            | 30 kB 46.4 MB/s eta 0:00:01\r",
      "\u001b[K     |████▊                           | 40 kB 51.9 MB/s eta 0:00:01\r",
      "\u001b[K     |█████▉                          | 51 kB 54.4 MB/s eta 0:00:01\r",
      "\u001b[K     |███████                         | 61 kB 56.4 MB/s eta 0:00:01\r",
      "\u001b[K     |████████▏                       | 71 kB 58.3 MB/s eta 0:00:01\r",
      "\u001b[K     |█████████▍                      | 81 kB 60.5 MB/s eta 0:00:01\r",
      "\u001b[K     |██████████▌                     | 92 kB 60.5 MB/s eta 0:00:01\r",
      "\u001b[K     |███████████▊                    | 102 kB 60.8 MB/s eta 0:00:01\r",
      "\u001b[K     |████████████▉                   | 112 kB 60.8 MB/s eta 0:00:01\r",
      "\u001b[K     |██████████████                  | 122 kB 60.8 MB/s eta 0:00:01\r",
      "\u001b[K     |███████████████▏                | 133 kB 60.8 MB/s eta 0:00:01\r",
      "\u001b[K     |████████████████▍               | 143 kB 60.8 MB/s eta 0:00:01\r",
      "\u001b[K     |█████████████████▌              | 153 kB 60.8 MB/s eta 0:00:01\r",
      "\u001b[K     |██████████████████▊             | 163 kB 60.8 MB/s eta 0:00:01\r",
      "\u001b[K     |███████████████████▉            | 174 kB 60.8 MB/s eta 0:00:01\r",
      "\u001b[K     |█████████████████████           | 184 kB 60.8 MB/s eta 0:00:01\r",
      "\u001b[K     |██████████████████████▏         | 194 kB 60.8 MB/s eta 0:00:01\r",
      "\u001b[K     |███████████████████████▍        | 204 kB 60.8 MB/s eta 0:00:01\r",
      "\u001b[K     |████████████████████████▋       | 215 kB 60.8 MB/s eta 0:00:01\r",
      "\u001b[K     |█████████████████████████▊      | 225 kB 60.8 MB/s eta 0:00:01\r",
      "\u001b[K     |███████████████████████████     | 235 kB 60.8 MB/s eta 0:00:01\r",
      "\u001b[K     |████████████████████████████    | 245 kB 60.8 MB/s eta 0:00:01\r",
      "\u001b[K     |█████████████████████████████▎  | 256 kB 60.8 MB/s eta 0:00:01\r",
      "\u001b[K     |██████████████████████████████▍ | 266 kB 60.8 MB/s eta 0:00:01\r",
      "\u001b[K     |███████████████████████████████▋| 276 kB 60.8 MB/s eta 0:00:01\r",
      "\u001b[K     |████████████████████████████████| 280 kB 60.8 MB/s \n",
      "\u001b[?25hRequirement already satisfied: dask[dataframe]>=2.10.0 in /usr/local/lib/python3.8/dist-packages (from swifter) (2022.2.1)\n",
      "Requirement already satisfied: tqdm>=4.33.0 in /usr/local/lib/python3.8/dist-packages (from swifter) (4.64.1)\n",
      "Requirement already satisfied: ipywidgets>=7.0.0 in /usr/local/lib/python3.8/dist-packages (from swifter) (7.7.1)\n",
      "Requirement already satisfied: cloudpickle>=0.2.2 in /usr/local/lib/python3.8/dist-packages (from swifter) (1.5.0)\n",
      "Requirement already satisfied: parso>0.4.0 in /usr/local/lib/python3.8/dist-packages (from swifter) (0.8.3)\n",
      "Requirement already satisfied: bleach>=3.1.1 in /usr/local/lib/python3.8/dist-packages (from swifter) (5.0.1)\n",
      "Requirement already satisfied: six>=1.9.0 in /usr/local/lib/python3.8/dist-packages (from bleach>=3.1.1->swifter) (1.15.0)\n",
      "Requirement already satisfied: webencodings in /usr/local/lib/python3.8/dist-packages (from bleach>=3.1.1->swifter) (0.5.1)\n",
      "Requirement already satisfied: fsspec>=0.6.0 in /usr/local/lib/python3.8/dist-packages (from dask[dataframe]>=2.10.0->swifter) (2022.11.0)\n",
      "Requirement already satisfied: pyyaml>=5.3.1 in /usr/local/lib/python3.8/dist-packages (from dask[dataframe]>=2.10.0->swifter) (6.0)\n",
      "Requirement already satisfied: partd>=0.3.10 in /usr/local/lib/python3.8/dist-packages (from dask[dataframe]>=2.10.0->swifter) (1.3.0)\n",
      "Requirement already satisfied: toolz>=0.8.2 in /usr/local/lib/python3.8/dist-packages (from dask[dataframe]>=2.10.0->swifter) (0.12.0)\n",
      "Requirement already satisfied: packaging>=20.0 in /usr/local/lib/python3.8/dist-packages (from dask[dataframe]>=2.10.0->swifter) (21.3)\n",
      "Requirement already satisfied: numpy>=1.18 in /usr/local/lib/python3.8/dist-packages (from dask[dataframe]>=2.10.0->swifter) (1.21.6)\n",
      "Requirement already satisfied: widgetsnbextension~=3.6.0 in /usr/local/lib/python3.8/dist-packages (from ipywidgets>=7.0.0->swifter) (3.6.1)\n",
      "Requirement already satisfied: traitlets>=4.3.1 in /usr/local/lib/python3.8/dist-packages (from ipywidgets>=7.0.0->swifter) (5.6.0)\n",
      "Requirement already satisfied: ipykernel>=4.5.1 in /usr/local/lib/python3.8/dist-packages (from ipywidgets>=7.0.0->swifter) (5.3.4)\n",
      "Requirement already satisfied: ipython-genutils~=0.2.0 in /usr/local/lib/python3.8/dist-packages (from ipywidgets>=7.0.0->swifter) (0.2.0)\n",
      "Requirement already satisfied: ipython>=4.0.0 in /usr/local/lib/python3.8/dist-packages (from ipywidgets>=7.0.0->swifter) (7.9.0)\n",
      "Requirement already satisfied: jupyterlab-widgets>=1.0.0 in /usr/local/lib/python3.8/dist-packages (from ipywidgets>=7.0.0->swifter) (3.0.3)\n",
      "Requirement already satisfied: jupyter-client in /usr/local/lib/python3.8/dist-packages (from ipykernel>=4.5.1->ipywidgets>=7.0.0->swifter) (6.1.12)\n",
      "Requirement already satisfied: tornado>=4.2 in /usr/local/lib/python3.8/dist-packages (from ipykernel>=4.5.1->ipywidgets>=7.0.0->swifter) (6.2)\n",
      "Requirement already satisfied: decorator in /usr/local/lib/python3.8/dist-packages (from ipython>=4.0.0->ipywidgets>=7.0.0->swifter) (4.4.2)\n",
      "Requirement already satisfied: setuptools>=18.5 in /usr/local/lib/python3.8/dist-packages (from ipython>=4.0.0->ipywidgets>=7.0.0->swifter) (57.4.0)\n",
      "Requirement already satisfied: pickleshare in /usr/local/lib/python3.8/dist-packages (from ipython>=4.0.0->ipywidgets>=7.0.0->swifter) (0.7.5)\n",
      "Requirement already satisfied: pygments in /usr/local/lib/python3.8/dist-packages (from ipython>=4.0.0->ipywidgets>=7.0.0->swifter) (2.6.1)\n",
      "Requirement already satisfied: pexpect in /usr/local/lib/python3.8/dist-packages (from ipython>=4.0.0->ipywidgets>=7.0.0->swifter) (4.8.0)\n",
      "Requirement already satisfied: jedi>=0.10 in /usr/local/lib/python3.8/dist-packages (from ipython>=4.0.0->ipywidgets>=7.0.0->swifter) (0.18.2)\n"
     ]
    },
    {
     "name": "stdout",
     "output_type": "stream",
     "text": [
      "Requirement already satisfied: backcall in /usr/local/lib/python3.8/dist-packages (from ipython>=4.0.0->ipywidgets>=7.0.0->swifter) (0.2.0)\n",
      "Requirement already satisfied: prompt-toolkit<2.1.0,>=2.0.0 in /usr/local/lib/python3.8/dist-packages (from ipython>=4.0.0->ipywidgets>=7.0.0->swifter) (2.0.10)\n",
      "Requirement already satisfied: pyparsing!=3.0.5,>=2.0.2 in /usr/local/lib/python3.8/dist-packages (from packaging>=20.0->dask[dataframe]>=2.10.0->swifter) (3.0.9)\n",
      "Requirement already satisfied: python-dateutil>=2.7.3 in /usr/local/lib/python3.8/dist-packages (from pandas>=1.0.0->swifter) (2.8.2)\n",
      "Requirement already satisfied: pytz>=2017.3 in /usr/local/lib/python3.8/dist-packages (from pandas>=1.0.0->swifter) (2022.6)\n",
      "Requirement already satisfied: locket in /usr/local/lib/python3.8/dist-packages (from partd>=0.3.10->dask[dataframe]>=2.10.0->swifter) (1.0.0)\n",
      "Requirement already satisfied: wcwidth in /usr/local/lib/python3.8/dist-packages (from prompt-toolkit<2.1.0,>=2.0.0->ipython>=4.0.0->ipywidgets>=7.0.0->swifter) (0.2.5)\n",
      "Requirement already satisfied: notebook>=4.4.1 in /usr/local/lib/python3.8/dist-packages (from widgetsnbextension~=3.6.0->ipywidgets>=7.0.0->swifter) (5.7.16)\n",
      "Requirement already satisfied: nbconvert<6.0 in /usr/local/lib/python3.8/dist-packages (from notebook>=4.4.1->widgetsnbextension~=3.6.0->ipywidgets>=7.0.0->swifter) (5.6.1)\n",
      "Requirement already satisfied: jupyter-core>=4.4.0 in /usr/local/lib/python3.8/dist-packages (from notebook>=4.4.1->widgetsnbextension~=3.6.0->ipywidgets>=7.0.0->swifter) (5.1.0)\n",
      "Requirement already satisfied: Send2Trash in /usr/local/lib/python3.8/dist-packages (from notebook>=4.4.1->widgetsnbextension~=3.6.0->ipywidgets>=7.0.0->swifter) (1.8.0)\n",
      "Requirement already satisfied: terminado>=0.8.1 in /usr/local/lib/python3.8/dist-packages (from notebook>=4.4.1->widgetsnbextension~=3.6.0->ipywidgets>=7.0.0->swifter) (0.13.3)\n",
      "Requirement already satisfied: nbformat in /usr/local/lib/python3.8/dist-packages (from notebook>=4.4.1->widgetsnbextension~=3.6.0->ipywidgets>=7.0.0->swifter) (5.7.0)\n",
      "Requirement already satisfied: jinja2<=3.0.0 in /usr/local/lib/python3.8/dist-packages (from notebook>=4.4.1->widgetsnbextension~=3.6.0->ipywidgets>=7.0.0->swifter) (2.11.3)\n",
      "Requirement already satisfied: prometheus-client in /usr/local/lib/python3.8/dist-packages (from notebook>=4.4.1->widgetsnbextension~=3.6.0->ipywidgets>=7.0.0->swifter) (0.15.0)\n",
      "Requirement already satisfied: pyzmq>=17 in /usr/local/lib/python3.8/dist-packages (from notebook>=4.4.1->widgetsnbextension~=3.6.0->ipywidgets>=7.0.0->swifter) (23.2.1)\n",
      "Requirement already satisfied: MarkupSafe>=0.23 in /usr/local/lib/python3.8/dist-packages (from jinja2<=3.0.0->notebook>=4.4.1->widgetsnbextension~=3.6.0->ipywidgets>=7.0.0->swifter) (2.0.1)\n"
     ]
    },
    {
     "name": "stdout",
     "output_type": "stream",
     "text": [
      "Requirement already satisfied: platformdirs>=2.5 in /usr/local/lib/python3.8/dist-packages (from jupyter-core>=4.4.0->notebook>=4.4.1->widgetsnbextension~=3.6.0->ipywidgets>=7.0.0->swifter) (2.5.4)\n",
      "Requirement already satisfied: pandocfilters>=1.4.1 in /usr/local/lib/python3.8/dist-packages (from nbconvert<6.0->notebook>=4.4.1->widgetsnbextension~=3.6.0->ipywidgets>=7.0.0->swifter) (1.5.0)\n",
      "Requirement already satisfied: entrypoints>=0.2.2 in /usr/local/lib/python3.8/dist-packages (from nbconvert<6.0->notebook>=4.4.1->widgetsnbextension~=3.6.0->ipywidgets>=7.0.0->swifter) (0.4)\n",
      "Requirement already satisfied: defusedxml in /usr/local/lib/python3.8/dist-packages (from nbconvert<6.0->notebook>=4.4.1->widgetsnbextension~=3.6.0->ipywidgets>=7.0.0->swifter) (0.7.1)\n",
      "Requirement already satisfied: mistune<2,>=0.8.1 in /usr/local/lib/python3.8/dist-packages (from nbconvert<6.0->notebook>=4.4.1->widgetsnbextension~=3.6.0->ipywidgets>=7.0.0->swifter) (0.8.4)\n",
      "Requirement already satisfied: testpath in /usr/local/lib/python3.8/dist-packages (from nbconvert<6.0->notebook>=4.4.1->widgetsnbextension~=3.6.0->ipywidgets>=7.0.0->swifter) (0.6.0)\n",
      "Requirement already satisfied: fastjsonschema in /usr/local/lib/python3.8/dist-packages (from nbformat->notebook>=4.4.1->widgetsnbextension~=3.6.0->ipywidgets>=7.0.0->swifter) (2.16.2)\n",
      "Requirement already satisfied: jsonschema>=2.6 in /usr/local/lib/python3.8/dist-packages (from nbformat->notebook>=4.4.1->widgetsnbextension~=3.6.0->ipywidgets>=7.0.0->swifter) (3.2.0)\n",
      "Requirement already satisfied: attrs>=17.4.0 in /usr/local/lib/python3.8/dist-packages (from jsonschema>=2.6->nbformat->notebook>=4.4.1->widgetsnbextension~=3.6.0->ipywidgets>=7.0.0->swifter) (21.4.0)\n",
      "Requirement already satisfied: pyrsistent>=0.14.0 in /usr/local/lib/python3.8/dist-packages (from jsonschema>=2.6->nbformat->notebook>=4.4.1->widgetsnbextension~=3.6.0->ipywidgets>=7.0.0->swifter) (0.19.2)\n",
      "Requirement already satisfied: ptyprocess in /usr/local/lib/python3.8/dist-packages (from terminado>=0.8.1->notebook>=4.4.1->widgetsnbextension~=3.6.0->ipywidgets>=7.0.0->swifter) (0.7.0)\n",
      "Building wheels for collected packages: swifter\n"
     ]
    },
    {
     "name": "stdout",
     "output_type": "stream",
     "text": [
      "  Building wheel for swifter (setup.py) ... \u001b[?25l\u001b[?25hdone\n",
      "  Created wheel for swifter: filename=swifter-1.3.4-py3-none-any.whl size=16321 sha256=eb2063a9f048986df8ef25258b0fbe0734c5c282d8d2915322e416b311b2ed99\n",
      "  Stored in directory: /root/.cache/pip/wheels/08/66/b4/921e351e63d88696932279d6163e125727c9da70ed8ca38419\n",
      "Successfully built swifter\n"
     ]
    },
    {
     "name": "stdout",
     "output_type": "stream",
     "text": [
      "Installing collected packages: psutil, swifter\n",
      "  Attempting uninstall: psutil\n",
      "    Found existing installation: psutil 5.4.8\n",
      "    Uninstalling psutil-5.4.8:\n",
      "      Successfully uninstalled psutil-5.4.8\n"
     ]
    },
    {
     "name": "stdout",
     "output_type": "stream",
     "text": [
      "Successfully installed psutil-5.9.4 swifter-1.3.4\n"
     ]
    },
    {
     "data": {
      "application/vnd.colab-display-data+json": {
       "pip_warning": {
        "packages": [
         "psutil"
        ]
       }
      }
     },
     "metadata": {},
     "output_type": "display_data"
    }
   ],
   "source": [
    "!pip install swifter"
   ]
  },
  {
   "cell_type": "code",
   "execution_count": 21,
   "metadata": {
    "colab": {
     "base_uri": "https://localhost:8080/",
     "height": 1000,
     "referenced_widgets": [
      "1da9850e2b57405ba3daf42e5bd053b3",
      "4440eb3bf18c4b86a52c7a75fae2dbf1",
      "ea791624a22f45d68449a205b955e74c",
      "4911e45ebe5e46da879a9fd40cea6d14",
      "121f41fded4f4f44ba7637e394d54f23",
      "8e7c372fd5424585a316684aed53316d",
      "1ce9cd8d2292414fa253f8f29d4a68e8",
      "80a00919f96f4404841be396d77682df",
      "430ad53979454e2d9065b1248667fa6e",
      "d9f22830771546bfab118b9b68f95a14",
      "756c5e2f1e464aa1ae6911d61b5bfe7a"
     ]
    },
    "id": "fSBDA7B15-lG",
    "outputId": "bbf4877c-5efe-4e4c-8cb5-9db5996127d7"
   },
   "outputs": [
    {
     "name": "stdout",
     "output_type": "stream",
     "text": [
      "424\n",
      "------------------------\n",
      "anies : anies\n"
     ]
    },
    {
     "name": "stdout",
     "output_type": "stream",
     "text": [
      "penantang : tantang\n",
      "said : said\n",
      "kode : kode\n"
     ]
    },
    {
     "name": "stdout",
     "output_type": "stream",
     "text": [
      "opung : opung\n",
      "luhut : luhut\n",
      "calon : calon\n",
      "presiden : presiden\n",
      "acara : acara\n",
      "kib : kib\n",
      "pimpinan : pimpin\n"
     ]
    },
    {
     "name": "stdout",
     "output_type": "stream",
     "text": [
      "airlangga : airlangga\n",
      "hartarto : hartarto\n"
     ]
    },
    {
     "name": "stdout",
     "output_type": "stream",
     "text": [
      "gimana : gimana\n",
      "arti : arti\n",
      "rocky : rocky\n",
      "gerung : gerung\n",
      "bicara : bicara\n",
      "keberlangsungan : langsung\n"
     ]
    },
    {
     "name": "stdout",
     "output_type": "stream",
     "text": [
      "pemerintahan : perintah\n"
     ]
    },
    {
     "name": "stdout",
     "output_type": "stream",
     "text": [
      "jokowi : jokowi\n",
      "pengamat : amat\n",
      "politik : politik\n",
      "pendapatnya : dapat\n",
      "era : era\n",
      "menurutnya : turut\n"
     ]
    },
    {
     "name": "stdout",
     "output_type": "stream",
     "text": [
      "rgtv : rgtv\n",
      "channel : channel\n",
      "id : id\n"
     ]
    },
    {
     "name": "stdout",
     "output_type": "stream",
     "text": [
      "mengajak : ajak\n",
      "wali : wali\n",
      "kota : kota\n",
      "solo : solo\n"
     ]
    },
    {
     "name": "stdout",
     "output_type": "stream",
     "text": [
      "gibran : gibran\n",
      "rakabuming : rakabuming\n",
      "raka : raka\n"
     ]
    },
    {
     "name": "stdout",
     "output_type": "stream",
     "text": [
      "mengakui : aku\n",
      "menerima : terima\n"
     ]
    },
    {
     "name": "stdout",
     "output_type": "stream",
     "text": [
      "kritikan : kritik\n",
      "bertemu : temu\n"
     ]
    },
    {
     "name": "stdout",
     "output_type": "stream",
     "text": [
      "tweet : tweet\n",
      "sekolah : sekolah\n",
      "menandakan : tanda\n",
      "pelajar : ajar\n",
      "belom : bom\n",
      "pemikir : pikir\n"
     ]
    },
    {
     "name": "stdout",
     "output_type": "stream",
     "text": [
      "quote : quote\n",
      "kalangan : kalang\n",
      "istana : istana\n",
      "menelepon : telepon\n",
      "pengen : ken\n",
      "berkunjung : kunjung\n",
      "silakan : sila\n",
      "ucapkan : ucap\n",
      "publik : publik\n",
      "sisi : sisi\n",
      "ekonomi : ekonomi\n",
      "dikritik : kritik\n",
      "habis : habis\n",
      "sadar : sadar\n",
      "belajar : ajar\n",
      "otak : otak\n",
      "kosong : kosong\n",
      "dungu : dungu\n"
     ]
    },
    {
     "name": "stdout",
     "output_type": "stream",
     "text": [
      "mengaku : aku\n",
      "bertandang : tandang\n",
      "kediaman : diam\n",
      "orang : orang\n",
      "jenius : jenius\n",
      "masukan : masuk\n",
      "baca : baca\n",
      "selengkapnya : lengkap\n",
      "bahas : bahas\n"
     ]
    },
    {
     "name": "stdout",
     "output_type": "stream",
     "text": [
      "dungudunguan : dungudunguan\n",
      "saksikan : saksi\n",
      "youtube : youtube\n",
      "temukan : temu\n"
     ]
    },
    {
     "name": "stdout",
     "output_type": "stream",
     "text": [
      "link : link\n",
      "akui : aku\n",
      "disemprot : semprot\n",
      "dibahas : bahas\n",
      "xi : xi\n",
      "jinping : jinping\n",
      "dikudeta : kudeta\n",
      "dampaknya : dampak\n",
      "indonesia : indonesia\n",
      "tantang : tantang\n",
      "juara : "
     ]
    },
    {
     "name": "stdout",
     "output_type": "stream",
     "text": [
      "juara\n",
      "kelas : kelas\n",
      "terbang : terbang\n",
      "one : one\n",
      "pride : pride\n",
      "mma : mma\n",
      "dukung : dukung\n",
      "bertarung : tarung\n",
      "ring : ring\n",
      "duel : duel\n",
      "sengit : sengit\n"
     ]
    },
    {
     "name": "stdout",
     "output_type": "stream",
     "text": [
      "penyandang : sandang\n",
      "menang : menang\n",
      "awali : awal\n",
      "harimu : hari\n",
      "semangat : semangat\n",
      "selamat : selamat\n",
      "senin : senin\n",
      "sobat : sobat\n",
      "akal : akal\n",
      "sehat : sehat\n",
      "salam : salam\n",
      "berguru : guru\n",
      "reaksi : reaksi\n",
      "disinggung : singgung\n",
      "oligarki : oligarki\n",
      "menceritakan : cerita\n",
      "momen : momen\n",
      "pertemuan : temu\n",
      "putra : putra\n",
      "aliansi : aliansi\n",
      "serikat : serikat\n",
      "buruh : buruh\n",
      "bersatu : satu\n",
      "berama : ama\n"
     ]
    },
    {
     "name": "stdout",
     "output_type": "stream",
     "text": [
      "quen : quen\n",
      "of : of\n",
      "longmarct : longmarct\n",
      "bergerak : gerak\n",
      "puncak : puncak\n",
      "negara : negara\n"
     ]
    },
    {
     "name": "stdout",
     "output_type": "stream",
     "text": [
      "jakarta : jakarta\n",
      "sep : sep\n",
      "nggak : nggak\n",
      "urusan : urus\n",
      "unggahan : unggah\n",
      "foto : foto\n",
      "media : media\n",
      "sosial : sosial\n"
     ]
    },
    {
     "name": "stdout",
     "output_type": "stream",
     "text": [
      "menuai : tuai\n",
      "sorotan : sorot\n",
      "lantaran : lantar\n"
     ]
    },
    {
     "name": "stdout",
     "output_type": "stream",
     "text": [
      "penjajagan : penjajagan\n",
      "pasangan : pasang\n",
      "mas : mas\n",
      "bang : bang\n",
      "manyambut : manyambut\n"
     ]
    },
    {
     "name": "stdout",
     "output_type": "stream",
     "text": [
      "pertarungan : tarung\n",
      "tamu : tamu\n",
      "tebak : tebak\n",
      "clue : clue\n",
      "pria : pria\n",
      "kelahiran : lahir\n"
     ]
    },
    {
     "name": "stdout",
     "output_type": "stream",
     "text": [
      "magetan : magetan\n",
      "jawa : jawa\n",
      "timur : timur\n",
      "hobi : hobi\n"
     ]
    },
    {
     "name": "stdout",
     "output_type": "stream",
     "text": [
      "muay : muay\n"
     ]
    },
    {
     "name": "stdout",
     "output_type": "stream",
     "text": [
      "thai : thai\n",
      "berjualan : jual\n",
      "bakso : bakso\n",
      "heran : heran\n"
     ]
    },
    {
     "name": "stdout",
     "output_type": "stream",
     "text": [
      "disambangi : sambang\n",
      "dibenci : benci\n",
      "nicho : nicho\n"
     ]
    },
    {
     "name": "stdout",
     "output_type": "stream",
     "text": [
      "silalahi : silalahi\n",
      "soroti : sorot\n",
      "maksa : maksa\n"
     ]
    },
    {
     "name": "stdout",
     "output_type": "stream",
     "text": [
      "statemen : statemen\n",
      "berbahaya : bahaya\n",
      "pegiat : giat\n",
      "aktivis : aktivis\n",
      "menyoroti : sorot\n"
     ]
    },
    {
     "name": "stdout",
     "output_type": "stream",
     "text": [
      "pernyataan : nyata\n",
      "pndah : pndah\n",
      "dr : dr\n",
      "jkt : jkt\n",
      "beliau : beliau\n"
     ]
    },
    {
     "name": "stdout",
     "output_type": "stream",
     "text": [
      "cm : cm\n",
      "pindah : pindah\n",
      "merdeka : merdeka\n",
      "selatan : selatan\n",
      "utara : utara\n"
     ]
    },
    {
     "name": "stdout",
     "output_type": "stream",
     "text": [
      "bukabukaan : bukabukaan\n",
      "obrolan : obrol\n",
      "jam : jam\n",
      "bareng : bareng\n",
      "buzzerp : buzzerp\n"
     ]
    },
    {
     "name": "stdout",
     "output_type": "stream",
     "text": [
      "visible : visible\n",
      "confusion : confusion\n"
     ]
    },
    {
     "name": "stdout",
     "output_type": "stream",
     "text": [
      "baswedan : baswedan\n",
      "legitimasi : legitimasi\n",
      "menilai : nilai\n",
      "gubernur : gubernur\n",
      "dki : dki\n",
      "memiliki : milik\n",
      "republik : republik\n",
      "heboh : heboh\n",
      "rumor : rumor\n",
      "militer : militer\n"
     ]
    },
    {
     "name": "stdout",
     "output_type": "stream",
     "text": [
      "china : china\n",
      "ditahan : tahan\n",
      "rumah : rumah\n",
      "tahanan : tahan\n",
      "persaingan : saing\n",
      "jenderal : jenderal\n",
      "laporan : lapor\n",
      "tentara : tentara\n",
      "akrab : akrab\n",
      "kekuasaan : kuasa\n",
      "mendekat : dekat\n",
      "rg : rg\n"
     ]
    },
    {
     "name": "stdout",
     "output_type": "stream",
     "text": [
      "didatangi : datang\n",
      "diyakini : yakin\n",
      "berkantor : kantor\n",
      "medan : medan\n",
      "kunjungi : kunjung\n",
      "pastikan : pasti\n"
     ]
    },
    {
     "name": "stdout",
     "output_type": "stream",
     "text": [
      "cebongkampret : cebongkampret\n",
      "pan : pan\n",
      "berminat : minat\n",
      "mengasuh : asuh\n",
      "mending : mending\n",
      "diasuh : asuh\n",
      "partai : partai\n",
      "amanat : amanat\n",
      "nasional : nasional\n",
      "peluang : peluang\n",
      "selesai : selesai\n"
     ]
    },
    {
     "name": "stdout",
     "output_type": "stream",
     "text": [
      "jarangjarang : jarangjarang\n",
      "lord : lord\n",
      "menatap : tatap\n"
     ]
    },
    {
     "name": "stdout",
     "output_type": "stream",
     "text": [
      "pasca : pasca\n",
      "via : via\n",
      "part : part\n",
      "tonton : tonton\n"
     ]
    },
    {
     "name": "stdout",
     "output_type": "stream",
     "text": [
      "ditakedown : ditakedown\n",
      "klik : klik\n",
      "kebebasan : bebas\n",
      "freedom : freedom\n",
      "natural : natural\n"
     ]
    },
    {
     "name": "stdout",
     "output_type": "stream",
     "text": [
      "right : right\n",
      "konstitusi : konstitusi\n",
      "tugas : tugas\n",
      "pemerintah : perintah\n"
     ]
    },
    {
     "name": "stdout",
     "output_type": "stream",
     "text": [
      "melindungi : lindung\n",
      "sambangi : sambang\n",
      "pembahasannya : bahas\n",
      "pesan : pesan\n",
      "ramai : ramai\n"
     ]
    },
    {
     "name": "stdout",
     "output_type": "stream",
     "text": [
      "netizen : netizen\n",
      "bersuara : suara\n",
      "pertalite : pertalite\n",
      "boros : boros\n",
      "cepat : cepat\n",
      "harganya : harga\n",
      "coba : coba\n",
      "simak : simak\n",
      "videonya : video\n",
      "terbagi : bagi\n",
      "demo : demo\n",
      "golput : golput\n",
      "tempo : tempo\n",
      "kritik : kritik\n",
      "idolakan : idola\n",
      "cuitan : cuit\n"
     ]
    },
    {
     "name": "stdout",
     "output_type": "stream",
     "text": [
      "viral : viral\n",
      "menyebut : sebut\n",
      "cebong : cebong\n",
      "kampret : kampret\n"
     ]
    },
    {
     "name": "stdout",
     "output_type": "stream",
     "text": [
      "joko : joko\n",
      "widodo : widodo\n",
      "istilah : istilah\n"
     ]
    },
    {
     "name": "stdout",
     "output_type": "stream",
     "text": [
      "mengunjungi : unjung\n",
      "masuk : masuk\n",
      "angin : angin\n",
      "temui : temu\n",
      "om : om\n",
      "pangeran : pangeran\n",
      "ngobrol : ngobrol\n",
      "tolong : tolong\n"
     ]
    },
    {
     "name": "stdout",
     "output_type": "stream",
     "text": [
      "cariin : cariin\n",
      "cewe : cewe\n",
      "doi : doi\n",
      "grogi : grogi\n",
      "ama : ama\n"
     ]
    },
    {
     "name": "stdout",
     "output_type": "stream",
     "text": [
      "cowo : cowo\n",
      "kekekekkek : kekekekkek\n",
      "ketemu : ketemu\n",
      "lemes : lemes\n",
      "saudara : saudara\n",
      "rumahnya : rumah\n",
      "kirakira : kirakira\n",
      "prediksi : prediksi\n",
      "gangguan : ganggu\n"
     ]
    },
    {
     "name": "stdout",
     "output_type": "stream",
     "text": [
      "terciptanya : cipta\n",
      "hoax : hoax\n",
      "kebodohan : bodoh\n",
      "tim : tim\n",
      "bocorkan : bocor\n"
     ]
    },
    {
     "name": "stdout",
     "output_type": "stream",
     "text": [
      "pembahasan : bahas\n",
      "disangka : sangka\n",
      "akun : akun\n",
      "twitter : twitter\n",
      "pribadinya : pribadi\n"
     ]
    },
    {
     "name": "stdout",
     "output_type": "stream",
     "text": [
      "menanggapi : tanggap\n"
     ]
    },
    {
     "name": "stdout",
     "output_type": "stream",
     "text": [
      "mementionnya : mementionnya\n",
      "dll : dll\n",
      "cemas : cemas\n",
      "kadrun : kadrun\n",
      "cemburu : cemburu\n",
      "siapkan : siap\n",
      "hadiah : hadiah\n",
      "sepatu : sepatu\n",
      "nasib : nasib\n",
      "pensiun : pensiun\n",
      "jabatannya : jabat\n",
      "sinyal : sinyal\n",
      "diganggu : ganggu\n"
     ]
    },
    {
     "name": "stdout",
     "output_type": "stream",
     "text": [
      "penguasa : kuasa\n",
      "sprindik : sprindik\n",
      "sowan : sowan\n",
      "tegaskan : tegas\n",
      "bapaknya : bapak\n",
      "berkawan : kawan"
     ]
    },
    {
     "name": "stdout",
     "output_type": "stream",
     "text": [
      "\n",
      "botol : botol\n",
      "minuman : minum\n",
      "gagal : gagal\n",
      "fokus : fokus\n",
      "kabar : kabar\n",
      "gembira : gembira\n",
      "sayembara : sayembara\n",
      "komentar : komentar\n",
      "terlucu : lucu\n",
      "hadiahnya : hadiah\n",
      "tercengang : cengang\n",
      "anak : anak\n"
     ]
    },
    {
     "name": "stdout",
     "output_type": "stream",
     "text": [
      "walikota : walikota\n",
      "mengunggah : unggah\n",
      "fotonya : foto\n",
      "lei : lei\n"
     ]
    },
    {
     "name": "stdout",
     "output_type": "stream",
     "text": [
      "host : host\n",
      "desain : desain\n",
      "jelang : jelang\n",
      "pilpres : pilpres\n",
      "duga : duga\n",
      "dipanggil"
     ]
    },
    {
     "name": "stdout",
     "output_type": "stream",
     "text": [
      " : panggil\n",
      "kpk : kpk\n",
      "salah : salah\n",
      "idola : idola\n",
      "janjikan : janji\n"
     ]
    },
    {
     "name": "stdout",
     "output_type": "stream",
     "text": [
      "nawarin : nawarin\n",
      "operasi : operasi\n",
      "katarak : katarak\n",
      "yaa : yaa\n"
     ]
    },
    {
     "name": "stdout",
     "output_type": "stream",
     "text": [
      "bhuehuehue : bhuehuehue\n",
      "angkat : angkat\n"
     ]
    },
    {
     "name": "stdout",
     "output_type": "stream",
     "text": [
      "mengomentari : komentar\n",
      "insiden : insiden\n"
     ]
    },
    {
     "name": "stdout",
     "output_type": "stream",
     "text": [
      "penembakan : tembak\n",
      "brigadir : brigadir\n",
      "dikepalai : palai\n"
     ]
    },
    {
     "name": "stdout",
     "output_type": "stream",
     "text": [
      "ferdy : ferdy\n"
     ]
    },
    {
     "name": "stdout",
     "output_type": "stream",
     "text": [
      "sambo : sambo\n",
      "berita : berita\n",
      "periode : periode\n"
     ]
    },
    {
     "name": "stdout",
     "output_type": "stream",
     "text": [
      "menko : menko\n",
      "singgung : singgung\n",
      "big : big\n",
      "data : data\n"
     ]
    },
    {
     "name": "stdout",
     "output_type": "stream",
     "text": [
      "binsar : binsar\n"
     ]
    },
    {
     "name": "stdout",
     "output_type": "stream",
     "text": [
      "pandjaitan : pandjaitan\n",
      "berbincang : bincang\n",
      "contohi : contoh\n"
     ]
    },
    {
     "name": "stdout",
     "output_type": "stream",
     "text": [
      "amerika : amerika\n",
      "usul : usul\n",
      "sistem : sistem\n"
     ]
    },
    {
     "name": "stdout",
     "output_type": "stream",
     "text": [
      "pilkada : pilkada\n"
     ]
    },
    {
     "name": "stdout",
     "output_type": "stream",
     "text": [
      "dievalusi : dievalusi\n",
      "tamparan : tampar\n",
      "rakyat : rakyat\n"
     ]
    },
    {
     "name": "stdout",
     "output_type": "stream",
     "text": [
      "parpol : parpol\n",
      "serang : serang\n",
      "berebut : rebut\n"
     ]
    },
    {
     "name": "stdout",
     "output_type": "stream",
     "text": [
      "elektabilitas : elektabilitas\n",
      "enak : enak\n"
     ]
    },
    {
     "name": "stdout",
     "output_type": "stream",
     "text": [
      "nontonnya : nontonnya\n"
     ]
    },
    {
     "name": "stdout",
     "output_type": "stream",
     "text": [
      "marves : marves\n",
      "mustahil : mustahil\n"
     ]
    },
    {
     "name": "stdout",
     "output_type": "stream",
     "text": [
      "kalean : kalean\n",
      "mesti : mesti\n",
      "nonton : nonton\n",
      "menteri : menteri\n",
      "koordinator : koordinator\n",
      "bidang : bidang\n",
      "kemaritiman : maritim\n",
      "investasi : investasi\n",
      "usil : usil\n",
      "bintang : bintang\n"
     ]
    },
    {
     "name": "stdout",
     "output_type": "stream",
     "text": [
      "podcast : podcast\n",
      "jaman : jaman\n",
      "rezim : rezim\n"
     ]
    },
    {
     "name": "stdout",
     "output_type": "stream",
     "text": [
      "skrg : skrg\n",
      "kaya : kaya\n",
      "bapa : bapa\n",
      "tiri : tiri\n",
      "sinetron : sinetron\n",
      "kasih : kasih\n",
      "makan : makan\n",
      "bsu : bsu\n",
      "blt : blt\n",
      "anakrakyat : anakrakyat\n",
      "udh : udh\n",
      "kekenyangan : kenyang\n"
     ]
    },
    {
     "name": "stdout",
     "output_type": "stream",
     "text": [
      "trs : trs\n",
      "pecutin : pecutin\n",
      "nantikan : nanti\n",
      "video : video\n",
      "tayang : tayang\n",
      "rabu : rabu\n",
      "wib : wib\n",
      "isu : isu\n",
      "diperbincangkan : bincang\n",
      "pembodohan : bodoh\n",
      "kurikulum : kurikulum\n",
      "etika : etika\n",
      "setuju : tuju\n",
      "{'anies': 'anies', 'penantang': 'tantang', 'said': 'said', 'kode': 'kode', 'opung': 'opung', 'luhut': 'luhut', 'calon': 'calon', 'presiden': 'presiden', 'acara': 'acara', 'kib': 'kib', 'pimpinan': 'pimpin', 'airlangga': 'airlangga', 'hartarto': 'hartarto', 'gimana': 'gimana', 'arti': 'arti', 'rocky': 'rocky', 'gerung': 'gerung', 'bicara': 'bicara', 'keberlangsungan': 'langsung', 'pemerintahan': 'perintah', 'jokowi': 'jokowi', 'pengamat': 'amat', 'politik': 'politik', 'pendapatnya': 'dapat', 'era': 'era', 'menurutnya': 'turut', 'rgtv': 'rgtv', 'channel': 'channel', 'id': 'id', 'mengajak': 'ajak', 'wali': 'wali', 'kota': 'kota', 'solo': 'solo', 'gibran': 'gibran', 'rakabuming': 'rakabuming', 'raka': 'raka', 'mengakui': 'aku', 'menerima': 'terima', 'kritikan': 'kritik', 'bertemu': 'temu', 'tweet': 'tweet', 'sekolah': 'sekolah', 'menandakan': 'tanda', 'pelajar': 'ajar', 'belom': 'bom', 'pemikir': 'pikir', 'quote': 'quote', 'kalangan': 'kalang', 'istana': 'istana', 'menelepon': 'telepon', 'pengen': 'ken', 'berkunjung': 'kunjung', 'silakan': 'sila', 'ucapkan': 'ucap', 'publik': 'publik', 'sisi': 'sisi', 'ekonomi': 'ekonomi', 'dikritik': 'kritik', 'habis': 'habis', 'sadar': 'sadar', 'belajar': 'ajar', 'otak': 'otak', 'kosong': 'kosong', 'dungu': 'dungu', 'mengaku': 'aku', 'bertandang': 'tandang', 'kediaman': 'diam', 'orang': 'orang', 'jenius': 'jenius', 'masukan': 'masuk', 'baca': 'baca', 'selengkapnya': 'lengkap', 'bahas': 'bahas', 'dungudunguan': 'dungudunguan', 'saksikan': 'saksi', 'youtube': 'youtube', 'temukan': 'temu', 'link': 'link', 'akui': 'aku', 'disemprot': 'semprot', 'dibahas': 'bahas', 'xi': 'xi', 'jinping': 'jinping', 'dikudeta': 'kudeta', 'dampaknya': 'dampak', 'indonesia': 'indonesia', 'tantang': 'tantang', 'juara': 'juara', 'kelas': 'kelas', 'terbang': 'terbang', 'one': 'one', 'pride': 'pride', 'mma': 'mma', 'dukung': 'dukung', 'bertarung': 'tarung', 'ring': 'ring', 'duel': 'duel', 'sengit': 'sengit', 'penyandang': 'sandang', 'menang': 'menang', 'awali': 'awal', 'harimu': 'hari', 'semangat': 'semangat', 'selamat': 'selamat', 'senin': 'senin', 'sobat': 'sobat', 'akal': 'akal', 'sehat': 'sehat', 'salam': 'salam', 'berguru': 'guru', 'reaksi': 'reaksi', 'disinggung': 'singgung', 'oligarki': 'oligarki', 'menceritakan': 'cerita', 'momen': 'momen', 'pertemuan': 'temu', 'putra': 'putra', 'aliansi': 'aliansi', 'serikat': 'serikat', 'buruh': 'buruh', 'bersatu': 'satu', 'berama': 'ama', 'quen': 'quen', 'of': 'of', 'longmarct': 'longmarct', 'bergerak': 'gerak', 'puncak': 'puncak', 'negara': 'negara', 'jakarta': 'jakarta', 'sep': 'sep', 'nggak': 'nggak', 'urusan': 'urus', 'unggahan': 'unggah', 'foto': 'foto', 'media': 'media', 'sosial': 'sosial', 'menuai': 'tuai', 'sorotan': 'sorot', 'lantaran': 'lantar', 'penjajagan': 'penjajagan', 'pasangan': 'pasang', 'mas': 'mas', 'bang': 'bang', 'manyambut': 'manyambut', 'pertarungan': 'tarung', 'tamu': 'tamu', 'tebak': 'tebak', 'clue': 'clue', 'pria': 'pria', 'kelahiran': 'lahir', 'magetan': 'magetan', 'jawa': 'jawa', 'timur': 'timur', 'hobi': 'hobi', 'muay': 'muay', 'thai': 'thai', 'berjualan': 'jual', 'bakso': 'bakso', 'heran': 'heran', 'disambangi': 'sambang', 'dibenci': 'benci', 'nicho': 'nicho', 'silalahi': 'silalahi', 'soroti': 'sorot', 'maksa': 'maksa', 'statemen': 'statemen', 'berbahaya': 'bahaya', 'pegiat': 'giat', 'aktivis': 'aktivis', 'menyoroti': 'sorot', 'pernyataan': 'nyata', 'pndah': 'pndah', 'dr': 'dr', 'jkt': 'jkt', 'beliau': 'beliau', 'cm': 'cm', 'pindah': 'pindah', 'merdeka': 'merdeka', 'selatan': 'selatan', 'utara': 'utara', 'bukabukaan': 'bukabukaan', 'obrolan': 'obrol', 'jam': 'jam', 'bareng': 'bareng', 'buzzerp': 'buzzerp', 'visible': 'visible', 'confusion': 'confusion', 'baswedan': 'baswedan', 'legitimasi': 'legitimasi', 'menilai': 'nilai', 'gubernur': 'gubernur', 'dki': 'dki', 'memiliki': 'milik', 'republik': 'republik', 'heboh': 'heboh', 'rumor': 'rumor', 'militer': 'militer', 'china': 'china', 'ditahan': 'tahan', 'rumah': 'rumah', 'tahanan': 'tahan', 'persaingan': 'saing', 'jenderal': 'jenderal', 'laporan': 'lapor', 'tentara': 'tentara', 'akrab': 'akrab', 'kekuasaan': 'kuasa', 'mendekat': 'dekat', 'rg': 'rg', 'didatangi': 'datang', 'diyakini': 'yakin', 'berkantor': 'kantor', 'medan': 'medan', 'kunjungi': 'kunjung', 'pastikan': 'pasti', 'cebongkampret': 'cebongkampret', 'pan': 'pan', 'berminat': 'minat', 'mengasuh': 'asuh', 'mending': 'mending', 'diasuh': 'asuh', 'partai': 'partai', 'amanat': 'amanat', 'nasional': 'nasional', 'peluang': 'peluang', 'selesai': 'selesai', 'jarangjarang': 'jarangjarang', 'lord': 'lord', 'menatap': 'tatap', 'pasca': 'pasca', 'via': 'via', 'part': 'part', 'tonton': 'tonton', 'ditakedown': 'ditakedown', 'klik': 'klik', 'kebebasan': 'bebas', 'freedom': 'freedom', 'natural': 'natural', 'right': 'right', 'konstitusi': 'konstitusi', 'tugas': 'tugas', 'pemerintah': 'perintah', 'melindungi': 'lindung', 'sambangi': 'sambang', 'pembahasannya': 'bahas', 'pesan': 'pesan', 'ramai': 'ramai', 'netizen': 'netizen', 'bersuara': 'suara', 'pertalite': 'pertalite', 'boros': 'boros', 'cepat': 'cepat', 'harganya': 'harga', 'coba': 'coba', 'simak': 'simak', 'videonya': 'video', 'terbagi': 'bagi', 'demo': 'demo', 'golput': 'golput', 'tempo': 'tempo', 'kritik': 'kritik', 'idolakan': 'idola', 'cuitan': 'cuit', 'viral': 'viral', 'menyebut': 'sebut', 'cebong': 'cebong', 'kampret': 'kampret', 'joko': 'joko', 'widodo': 'widodo', 'istilah': 'istilah', 'mengunjungi': 'unjung', 'masuk': 'masuk', 'angin': 'angin', 'temui': 'temu', 'om': 'om', 'pangeran': 'pangeran', 'ngobrol': 'ngobrol', 'tolong': 'tolong', 'cariin': 'cariin', 'cewe': 'cewe', 'doi': 'doi', 'grogi': 'grogi', 'ama': 'ama', 'cowo': 'cowo', 'kekekekkek': 'kekekekkek', 'ketemu': 'ketemu', 'lemes': 'lemes', 'saudara': 'saudara', 'rumahnya': 'rumah', 'kirakira': 'kirakira', 'prediksi': 'prediksi', 'gangguan': 'ganggu', 'terciptanya': 'cipta', 'hoax': 'hoax', 'kebodohan': 'bodoh', 'tim': 'tim', 'bocorkan': 'bocor', 'pembahasan': 'bahas', 'disangka': 'sangka', 'akun': 'akun', 'twitter': 'twitter', 'pribadinya': 'pribadi', 'menanggapi': 'tanggap', 'mementionnya': 'mementionnya', 'dll': 'dll', 'cemas': 'cemas', 'kadrun': 'kadrun', 'cemburu': 'cemburu', 'siapkan': 'siap', 'hadiah': 'hadiah', 'sepatu': 'sepatu', 'nasib': 'nasib', 'pensiun': 'pensiun', 'jabatannya': 'jabat', 'sinyal': 'sinyal', 'diganggu': 'ganggu', 'penguasa': 'kuasa', 'sprindik': 'sprindik', 'sowan': 'sowan', 'tegaskan': 'tegas', 'bapaknya': 'bapak', 'berkawan': 'kawan', 'botol': 'botol', 'minuman': 'minum', 'gagal': 'gagal', 'fokus': 'fokus', 'kabar': 'kabar', 'gembira': 'gembira', 'sayembara': 'sayembara', 'komentar': 'komentar', 'terlucu': 'lucu', 'hadiahnya': 'hadiah', 'tercengang': 'cengang', 'anak': 'anak', 'walikota': 'walikota', 'mengunggah': 'unggah', 'fotonya': 'foto', 'lei': 'lei', 'host': 'host', 'desain': 'desain', 'jelang': 'jelang', 'pilpres': 'pilpres', 'duga': 'duga', 'dipanggil': 'panggil', 'kpk': 'kpk', 'salah': 'salah', 'idola': 'idola', 'janjikan': 'janji', 'nawarin': 'nawarin', 'operasi': 'operasi', 'katarak': 'katarak', 'yaa': 'yaa', 'bhuehuehue': 'bhuehuehue', 'angkat': 'angkat', 'mengomentari': 'komentar', 'insiden': 'insiden', 'penembakan': 'tembak', 'brigadir': 'brigadir', 'dikepalai': 'palai', 'ferdy': 'ferdy', 'sambo': 'sambo', 'berita': 'berita', 'periode': 'periode', 'menko': 'menko', 'singgung': 'singgung', 'big': 'big', 'data': 'data', 'binsar': 'binsar', 'pandjaitan': 'pandjaitan', 'berbincang': 'bincang', 'contohi': 'contoh', 'amerika': 'amerika', 'usul': 'usul', 'sistem': 'sistem', 'pilkada': 'pilkada', 'dievalusi': 'dievalusi', 'tamparan': 'tampar', 'rakyat': 'rakyat', 'parpol': 'parpol', 'serang': 'serang', 'berebut': 'rebut', 'elektabilitas': 'elektabilitas', 'enak': 'enak', 'nontonnya': 'nontonnya', 'marves': 'marves', 'mustahil': 'mustahil', 'kalean': 'kalean', 'mesti': 'mesti', 'nonton': 'nonton', 'menteri': 'menteri', 'koordinator': 'koordinator', 'bidang': 'bidang', 'kemaritiman': 'maritim', 'investasi': 'investasi', 'usil': 'usil', 'bintang': 'bintang', 'podcast': 'podcast', 'jaman': 'jaman', 'rezim': 'rezim', 'skrg': 'skrg', 'kaya': 'kaya', 'bapa': 'bapa', 'tiri': 'tiri', 'sinetron': 'sinetron', 'kasih': 'kasih', 'makan': 'makan', 'bsu': 'bsu', 'blt': 'blt', 'anakrakyat': 'anakrakyat', 'udh': 'udh', 'kekenyangan': 'kenyang', 'trs': 'trs', 'pecutin': 'pecutin', 'nantikan': 'nanti', 'video': 'video', 'tayang': 'tayang', 'rabu': 'rabu', 'wib': 'wib', 'isu': 'isu', 'diperbincangkan': 'bincang', 'pembodohan': 'bodoh', 'kurikulum': 'kurikulum', 'etika': 'etika', 'setuju': 'tuju'}\n",
      "------------------------\n"
     ]
    },
    {
     "data": {
      "application/vnd.jupyter.widget-view+json": {
       "model_id": "82a8baf5c7964399b271655210975dd3",
       "version_major": 2,
       "version_minor": 0
      },
      "text/plain": [
       "Pandas Apply:   0%|          | 0/100 [00:00<?, ?it/s]"
      ]
     },
     "metadata": {},
     "output_type": "display_data"
    },
    {
     "data": {
      "text/plain": [
       "0                                [anies, tantang, said]\n",
       "1                                                    []\n",
       "2     [kode, opung, luhut, calon, presiden, acara, k...\n",
       "3     [rocky, gerung, bicara, langsung, perintah, jo...\n",
       "4                                                    []\n",
       "                            ...                        \n",
       "95    [jaman, rezim, skrg, kaya, bapa, tiri, sinetro...\n",
       "96    [sobat, akal, sehat, nanti, video, part, tayan...\n",
       "97    [menteri, koordinator, bidang, maritim, invest...\n",
       "98             [bodoh, kurikulum, etika, rocky, gerung]\n",
       "99    [tuju, rocky, saksi, lengkap, youtube, rgtv, c...\n",
       "Name: tweet, Length: 100, dtype: object"
      ]
     },
     "execution_count": 21,
     "metadata": {},
     "output_type": "execute_result"
    }
   ],
   "source": [
    "from Sastrawi.Stemmer.StemmerFactory import StemmerFactory\n",
    "import swifter\n",
    "\n",
    "\n",
    "# create stemmer\n",
    "factory = StemmerFactory()\n",
    "stemmer = factory.create_stemmer()\n",
    "\n",
    "# stemmed\n",
    "def stemmed_wrapper(term):\n",
    "    return stemmer.stem(term)\n",
    "\n",
    "term_dict = {}\n",
    "\n",
    "for document in tweets['tweet']:\n",
    "    for term in document:\n",
    "        if term not in term_dict:\n",
    "            term_dict[term] = ' '\n",
    "            \n",
    "print(len(term_dict))\n",
    "print(\"------------------------\")\n",
    "\n",
    "for term in term_dict:\n",
    "    term_dict[term] = stemmed_wrapper(term)\n",
    "    print(term,\":\" ,term_dict[term])\n",
    "    \n",
    "print(term_dict)\n",
    "print(\"------------------------\")\n",
    "\n",
    "\n",
    "# apply stemmed term to dataframe\n",
    "def get_stemmed_term(document):\n",
    "    return [term_dict[term] for term in document]\n",
    "\n",
    "tweets['tweet'] = tweets['tweet'].swifter.apply(get_stemmed_term)\n",
    "tweets['tweet']"
   ]
  },
  {
   "cell_type": "markdown",
   "metadata": {
    "id": "TbNgmiGg6BPb"
   },
   "source": [
    "Setelah tahap stemming proses prepocessing sudah selesai, namun pada dataset masih belum memiliki kelas atau label untuk itu akan dilakukan pemberian label atau kelas dengan menggunakan nilai polarity."
   ]
  },
  {
   "cell_type": "markdown",
   "metadata": {
    "id": "F7IYeeSyTp0n"
   },
   "source": [
    "## **Labelling Dataset**\n",
    "Setelah proses prepocesing selesai didapat sebuah dataset yang masih belum memiliki label, untuk itu pada tahapan ini dataset akan diberikan kelas atau label yang sesuai. Akan tetapi tahap pelabelan ini akan memerlukan waktu yang lama jika dilakukan secara manual. Untuk itu pada tahapan ini saya memberikan kelas atau label pada masing-masing data secara otomatis dengan menggunakan nilai polarity."
   ]
  },
  {
   "cell_type": "markdown",
   "metadata": {
    "id": "QiXBSbymVPFS"
   },
   "source": [
    "### Nilai Polarity\n",
    "Nilai polarity merupakan nilai yang menunjukkan apakah kata tersebut bernilai negatif atau positif ataupun netral. Nilai polarity didapatkan dengan menjumlahkan nilai dari setiap kata dataset yang menunjukkan bahwa kata tersebut bernilai positif atau negatif ataupun netral.<br>\n",
    "Didalam satu kalimat atau data,nilai dari kata-kata didalam satu kalimat tersebut akan dijumlah sehingga akan didapatkan nilai atau skor polarity. Nilai atau skor tersebutlah yang akan menentukan kalimat atau data tersebut berkelas positif(pro) atau negatif(kontra) ataupun netral.<br>\n",
    "Jika nilai polarity yang didapat lebih dari 0 maka kalimat atau data tersebut diberi label atau kelas pro. Jika nilai polarity yang didapat kurang dari 0 maka kalimat atau data tersebut diberi label atau kelas kontra. Sedangkan jika nilai polarity sama dengan 0 maka kalimat atau data tersebut diberi label netral."
   ]
  },
  {
   "cell_type": "markdown",
   "metadata": {
    "id": "O_6Pe2NyYKmo"
   },
   "source": [
    "### Ambil Nilai Polarity\n",
    "Sebelum melakukan pemberian label atau kelas dengan menggunakan nilai polarity, kita ambil nilai polarity dari setiap kata apakah positif atau negatif. Untuk itu saya mengambil nilai polarity dari github yang di dapat dari link github berikut https://github.com/fajri91/InSet\n",
    "Nilai lexicon positif dan negatif yang didapat dari github tersebut saya download kemudian saya upload ke github saya dan kemudian saya ambil data lexicon positif dan negatif tersebut dengan source code berikut."
   ]
  },
  {
   "cell_type": "code",
   "execution_count": 22,
   "metadata": {
    "id": "pzGUy7zfgRMt"
   },
   "outputs": [],
   "source": [
    "positive = pd.read_csv(\"https://raw.githubusercontent.com/Fahrur190125/Data/main/positive.csv\")\n",
    "positive.to_csv('lexpos.csv',index=False)\n",
    "negative = pd.read_csv(\"https://raw.githubusercontent.com/Fahrur190125/Data/main/negative.csv\")\n",
    "negative.to_csv('lexneg.csv',index=False)"
   ]
  },
  {
   "cell_type": "markdown",
   "metadata": {
    "id": "GnAoPh-4acnx"
   },
   "source": [
    "### Menentukan Kelas/Label dengan Nilai Polarity\n",
    "Setelah berhasil mengambil nilai polarity lexicon positif dan negatif selanjutnya kita tentukan kelas dari masing masing data dengan menjumlahkan nilai polarity yang didapat dengan ketentuan jika lebih dari 0 maka memiliki kelas pro, jika kurang dari 0 maka diberi kelas kontra, dan jika sama dengan 0 maka memiliki kelas netral, dengan source code berikut."
   ]
  },
  {
   "cell_type": "code",
   "execution_count": 23,
   "metadata": {
    "id": "Uv2ZYWlmgXTS"
   },
   "outputs": [],
   "source": [
    "# Determine sentiment polarity of tweets using indonesia sentiment lexicon (source : https://github.com/fajri91/InSet)\n",
    "# Loads lexicon positive and negative data\n",
    "lexicon_positive = dict()\n",
    "import csv\n",
    "with open('lexpos.csv', 'r') as csvfile:\n",
    "    reader = csv.reader(csvfile, delimiter=',')\n",
    "    for row in reader:\n",
    "        lexicon_positive[row[0]] = int(row[1])\n",
    "\n",
    "lexicon_negative = dict()\n",
    "import csv\n",
    "with open('lexneg.csv', 'r') as csvfile:\n",
    "    reader = csv.reader(csvfile, delimiter=',')\n",
    "    for row in reader:\n",
    "        lexicon_negative[row[0]] = int(row[1])\n",
    "        \n",
    "# Function to determine sentiment polarity of tweets        \n",
    "def sentiment_analysis_lexicon_indonesia(text):\n",
    "    #for word in text:\n",
    "    score = 0\n",
    "    for word in text:\n",
    "        if (word in lexicon_positive):\n",
    "            score = score + lexicon_positive[word]\n",
    "    for word in text:\n",
    "        if (word in lexicon_negative):\n",
    "            score = score + lexicon_negative[word]\n",
    "    polarity=''\n",
    "    if (score > 0):\n",
    "        polarity = 'pro'\n",
    "    elif (score < 0):\n",
    "        polarity = 'kontra'\n",
    "    else:\n",
    "        polarity = 'netral'\n",
    "    return score, polarity"
   ]
  },
  {
   "cell_type": "code",
   "execution_count": 24,
   "metadata": {
    "colab": {
     "base_uri": "https://localhost:8080/"
    },
    "id": "ydotQrR9gdwq",
    "outputId": "a86b64db-6f2a-4275-c240-41694a41a6b1"
   },
   "outputs": [
    {
     "name": "stdout",
     "output_type": "stream",
     "text": [
      "pro       41\n",
      "kontra    40\n",
      "netral    19\n",
      "Name: label, dtype: int64\n"
     ]
    }
   ],
   "source": [
    "# Results from determine sentiment polarity of tweets\n",
    "\n",
    "results = tweets['tweet'].apply(sentiment_analysis_lexicon_indonesia)\n",
    "results = list(zip(*results))\n",
    "tweets['polarity_score'] = results[0]\n",
    "tweets['label'] = results[1]\n",
    "print(tweets['label'].value_counts())"
   ]
  },
  {
   "cell_type": "markdown",
   "metadata": {
    "id": "68i_wlN6bPak"
   },
   "source": [
    "Setelah didapat dataset yang sudah memiliki label selanjutnya kita simpan dengan source code berikut."
   ]
  },
  {
   "cell_type": "code",
   "execution_count": 25,
   "metadata": {
    "colab": {
     "base_uri": "https://localhost:8080/",
     "height": 424
    },
    "id": "Lio_ACIwgjGA",
    "outputId": "705cd4e3-5cfd-41d7-c6b9-3938816f5b50"
   },
   "outputs": [
    {
     "data": {
      "text/html": [
       "\n",
       "  <div id=\"df-9f9e906b-9536-4fff-bd28-365bc9a40dfc\">\n",
       "    <div class=\"colab-df-container\">\n",
       "      <div>\n",
       "<style scoped>\n",
       "    .dataframe tbody tr th:only-of-type {\n",
       "        vertical-align: middle;\n",
       "    }\n",
       "\n",
       "    .dataframe tbody tr th {\n",
       "        vertical-align: top;\n",
       "    }\n",
       "\n",
       "    .dataframe thead th {\n",
       "        text-align: right;\n",
       "    }\n",
       "</style>\n",
       "<table border=\"1\" class=\"dataframe\">\n",
       "  <thead>\n",
       "    <tr style=\"text-align: right;\">\n",
       "      <th></th>\n",
       "      <th>tweet</th>\n",
       "      <th>polarity_score</th>\n",
       "      <th>label</th>\n",
       "    </tr>\n",
       "  </thead>\n",
       "  <tbody>\n",
       "    <tr>\n",
       "      <th>0</th>\n",
       "      <td>[anies, tantang, said]</td>\n",
       "      <td>-4</td>\n",
       "      <td>kontra</td>\n",
       "    </tr>\n",
       "    <tr>\n",
       "      <th>1</th>\n",
       "      <td>[]</td>\n",
       "      <td>0</td>\n",
       "      <td>netral</td>\n",
       "    </tr>\n",
       "    <tr>\n",
       "      <th>2</th>\n",
       "      <td>[kode, opung, luhut, calon, presiden, acara, k...</td>\n",
       "      <td>-2</td>\n",
       "      <td>kontra</td>\n",
       "    </tr>\n",
       "    <tr>\n",
       "      <th>3</th>\n",
       "      <td>[rocky, gerung, bicara, langsung, perintah, jo...</td>\n",
       "      <td>9</td>\n",
       "      <td>pro</td>\n",
       "    </tr>\n",
       "    <tr>\n",
       "      <th>4</th>\n",
       "      <td>[]</td>\n",
       "      <td>0</td>\n",
       "      <td>netral</td>\n",
       "    </tr>\n",
       "    <tr>\n",
       "      <th>...</th>\n",
       "      <td>...</td>\n",
       "      <td>...</td>\n",
       "      <td>...</td>\n",
       "    </tr>\n",
       "    <tr>\n",
       "      <th>95</th>\n",
       "      <td>[jaman, rezim, skrg, kaya, bapa, tiri, sinetro...</td>\n",
       "      <td>3</td>\n",
       "      <td>pro</td>\n",
       "    </tr>\n",
       "    <tr>\n",
       "      <th>96</th>\n",
       "      <td>[sobat, akal, sehat, nanti, video, part, tayan...</td>\n",
       "      <td>7</td>\n",
       "      <td>pro</td>\n",
       "    </tr>\n",
       "    <tr>\n",
       "      <th>97</th>\n",
       "      <td>[menteri, koordinator, bidang, maritim, invest...</td>\n",
       "      <td>6</td>\n",
       "      <td>pro</td>\n",
       "    </tr>\n",
       "    <tr>\n",
       "      <th>98</th>\n",
       "      <td>[bodoh, kurikulum, etika, rocky, gerung]</td>\n",
       "      <td>0</td>\n",
       "      <td>netral</td>\n",
       "    </tr>\n",
       "    <tr>\n",
       "      <th>99</th>\n",
       "      <td>[tuju, rocky, saksi, lengkap, youtube, rgtv, c...</td>\n",
       "      <td>2</td>\n",
       "      <td>pro</td>\n",
       "    </tr>\n",
       "  </tbody>\n",
       "</table>\n",
       "<p>100 rows × 3 columns</p>\n",
       "</div>\n",
       "      <button class=\"colab-df-convert\" onclick=\"convertToInteractive('df-9f9e906b-9536-4fff-bd28-365bc9a40dfc')\"\n",
       "              title=\"Convert this dataframe to an interactive table.\"\n",
       "              style=\"display:none;\">\n",
       "\n",
       "  <svg xmlns=\"http://www.w3.org/2000/svg\" height=\"24px\"viewBox=\"0 0 24 24\"\n",
       "       width=\"24px\">\n",
       "    <path d=\"M0 0h24v24H0V0z\" fill=\"none\"/>\n",
       "    <path d=\"M18.56 5.44l.94 2.06.94-2.06 2.06-.94-2.06-.94-.94-2.06-.94 2.06-2.06.94zm-11 1L8.5 8.5l.94-2.06 2.06-.94-2.06-.94L8.5 2.5l-.94 2.06-2.06.94zm10 10l.94 2.06.94-2.06 2.06-.94-2.06-.94-.94-2.06-.94 2.06-2.06.94z\"/><path d=\"M17.41 7.96l-1.37-1.37c-.4-.4-.92-.59-1.43-.59-.52 0-1.04.2-1.43.59L10.3 9.45l-7.72 7.72c-.78.78-.78 2.05 0 2.83L4 21.41c.39.39.9.59 1.41.59.51 0 1.02-.2 1.41-.59l7.78-7.78 2.81-2.81c.8-.78.8-2.07 0-2.86zM5.41 20L4 18.59l7.72-7.72 1.47 1.35L5.41 20z\"/>\n",
       "  </svg>\n",
       "      </button>\n",
       "\n",
       "  <style>\n",
       "    .colab-df-container {\n",
       "      display:flex;\n",
       "      flex-wrap:wrap;\n",
       "      gap: 12px;\n",
       "    }\n",
       "\n",
       "    .colab-df-convert {\n",
       "      background-color: #E8F0FE;\n",
       "      border: none;\n",
       "      border-radius: 50%;\n",
       "      cursor: pointer;\n",
       "      display: none;\n",
       "      fill: #1967D2;\n",
       "      height: 32px;\n",
       "      padding: 0 0 0 0;\n",
       "      width: 32px;\n",
       "    }\n",
       "\n",
       "    .colab-df-convert:hover {\n",
       "      background-color: #E2EBFA;\n",
       "      box-shadow: 0px 1px 2px rgba(60, 64, 67, 0.3), 0px 1px 3px 1px rgba(60, 64, 67, 0.15);\n",
       "      fill: #174EA6;\n",
       "    }\n",
       "\n",
       "    [theme=dark] .colab-df-convert {\n",
       "      background-color: #3B4455;\n",
       "      fill: #D2E3FC;\n",
       "    }\n",
       "\n",
       "    [theme=dark] .colab-df-convert:hover {\n",
       "      background-color: #434B5C;\n",
       "      box-shadow: 0px 1px 3px 1px rgba(0, 0, 0, 0.15);\n",
       "      filter: drop-shadow(0px 1px 2px rgba(0, 0, 0, 0.3));\n",
       "      fill: #FFFFFF;\n",
       "    }\n",
       "  </style>\n",
       "\n",
       "      <script>\n",
       "        const buttonEl =\n",
       "          document.querySelector('#df-9f9e906b-9536-4fff-bd28-365bc9a40dfc button.colab-df-convert');\n",
       "        buttonEl.style.display =\n",
       "          google.colab.kernel.accessAllowed ? 'block' : 'none';\n",
       "\n",
       "        async function convertToInteractive(key) {\n",
       "          const element = document.querySelector('#df-9f9e906b-9536-4fff-bd28-365bc9a40dfc');\n",
       "          const dataTable =\n",
       "            await google.colab.kernel.invokeFunction('convertToInteractive',\n",
       "                                                     [key], {});\n",
       "          if (!dataTable) return;\n",
       "\n",
       "          const docLinkHtml = 'Like what you see? Visit the ' +\n",
       "            '<a target=\"_blank\" href=https://colab.research.google.com/notebooks/data_table.ipynb>data table notebook</a>'\n",
       "            + ' to learn more about interactive tables.';\n",
       "          element.innerHTML = '';\n",
       "          dataTable['output_type'] = 'display_data';\n",
       "          await google.colab.output.renderOutput(dataTable, element);\n",
       "          const docLink = document.createElement('div');\n",
       "          docLink.innerHTML = docLinkHtml;\n",
       "          element.appendChild(docLink);\n",
       "        }\n",
       "      </script>\n",
       "    </div>\n",
       "  </div>\n"
      ],
      "text/plain": [
       "                                                tweet  polarity_score   label\n",
       "0                              [anies, tantang, said]              -4  kontra\n",
       "1                                                  []               0  netral\n",
       "2   [kode, opung, luhut, calon, presiden, acara, k...              -2  kontra\n",
       "3   [rocky, gerung, bicara, langsung, perintah, jo...               9     pro\n",
       "4                                                  []               0  netral\n",
       "..                                                ...             ...     ...\n",
       "95  [jaman, rezim, skrg, kaya, bapa, tiri, sinetro...               3     pro\n",
       "96  [sobat, akal, sehat, nanti, video, part, tayan...               7     pro\n",
       "97  [menteri, koordinator, bidang, maritim, invest...               6     pro\n",
       "98           [bodoh, kurikulum, etika, rocky, gerung]               0  netral\n",
       "99  [tuju, rocky, saksi, lengkap, youtube, rgtv, c...               2     pro\n",
       "\n",
       "[100 rows x 3 columns]"
      ]
     },
     "execution_count": 25,
     "metadata": {},
     "output_type": "execute_result"
    }
   ],
   "source": [
    "# Export to csv file\n",
    "tweets.to_csv('Prepocessing_label.csv',index=False)\n",
    "\n",
    "tweets"
   ]
  },
  {
   "cell_type": "markdown",
   "metadata": {
    "id": "ix3GeJpb6EcQ"
   },
   "source": [
    "## **Term Frequncy(TF)**\n",
    "Term Frequency(TF) merupakan banyaknya jumlah kemunculan term pada suatu dokumen. Untuk menghitung nilai TF terdapat beberapa cara, cara yang paling sederhana ialah dengan menghitung banyaknya jumlah kemunculan kata dalam 1 dokumen.<br>\n",
    "Sedangkan untuk menghitung nilai TF dengan menggunakan mesin dapat menggunakan library sklearn dengan source code berikut.\n",
    "\n"
   ]
  },
  {
   "cell_type": "code",
   "execution_count": 26,
   "metadata": {
    "colab": {
     "base_uri": "https://localhost:8080/",
     "height": 424
    },
    "id": "FNBbXRiR6LH3",
    "outputId": "6d60f52e-a889-4c80-e017-b32bab74278c"
   },
   "outputs": [
    {
     "data": {
      "text/html": [
       "\n",
       "  <div id=\"df-d7400288-a401-43db-a18e-7c986ba3b6e2\">\n",
       "    <div class=\"colab-df-container\">\n",
       "      <div>\n",
       "<style scoped>\n",
       "    .dataframe tbody tr th:only-of-type {\n",
       "        vertical-align: middle;\n",
       "    }\n",
       "\n",
       "    .dataframe tbody tr th {\n",
       "        vertical-align: top;\n",
       "    }\n",
       "\n",
       "    .dataframe thead th {\n",
       "        text-align: right;\n",
       "    }\n",
       "</style>\n",
       "<table border=\"1\" class=\"dataframe\">\n",
       "  <thead>\n",
       "    <tr style=\"text-align: right;\">\n",
       "      <th></th>\n",
       "      <th>tweet</th>\n",
       "      <th>label</th>\n",
       "    </tr>\n",
       "  </thead>\n",
       "  <tbody>\n",
       "    <tr>\n",
       "      <th>0</th>\n",
       "      <td>['anies', 'tantang', 'said']</td>\n",
       "      <td>kontra</td>\n",
       "    </tr>\n",
       "    <tr>\n",
       "      <th>1</th>\n",
       "      <td>[]</td>\n",
       "      <td>netral</td>\n",
       "    </tr>\n",
       "    <tr>\n",
       "      <th>2</th>\n",
       "      <td>['kode', 'opung', 'luhut', 'calon', 'presiden'...</td>\n",
       "      <td>kontra</td>\n",
       "    </tr>\n",
       "    <tr>\n",
       "      <th>3</th>\n",
       "      <td>['rocky', 'gerung', 'bicara', 'langsung', 'per...</td>\n",
       "      <td>pro</td>\n",
       "    </tr>\n",
       "    <tr>\n",
       "      <th>4</th>\n",
       "      <td>[]</td>\n",
       "      <td>netral</td>\n",
       "    </tr>\n",
       "    <tr>\n",
       "      <th>...</th>\n",
       "      <td>...</td>\n",
       "      <td>...</td>\n",
       "    </tr>\n",
       "    <tr>\n",
       "      <th>95</th>\n",
       "      <td>['jaman', 'rezim', 'skrg', 'kaya', 'bapa', 'ti...</td>\n",
       "      <td>pro</td>\n",
       "    </tr>\n",
       "    <tr>\n",
       "      <th>96</th>\n",
       "      <td>['sobat', 'akal', 'sehat', 'nanti', 'video', '...</td>\n",
       "      <td>pro</td>\n",
       "    </tr>\n",
       "    <tr>\n",
       "      <th>97</th>\n",
       "      <td>['menteri', 'koordinator', 'bidang', 'maritim'...</td>\n",
       "      <td>pro</td>\n",
       "    </tr>\n",
       "    <tr>\n",
       "      <th>98</th>\n",
       "      <td>['bodoh', 'kurikulum', 'etika', 'rocky', 'geru...</td>\n",
       "      <td>netral</td>\n",
       "    </tr>\n",
       "    <tr>\n",
       "      <th>99</th>\n",
       "      <td>['tuju', 'rocky', 'saksi', 'lengkap', 'youtube...</td>\n",
       "      <td>pro</td>\n",
       "    </tr>\n",
       "  </tbody>\n",
       "</table>\n",
       "<p>100 rows × 2 columns</p>\n",
       "</div>\n",
       "      <button class=\"colab-df-convert\" onclick=\"convertToInteractive('df-d7400288-a401-43db-a18e-7c986ba3b6e2')\"\n",
       "              title=\"Convert this dataframe to an interactive table.\"\n",
       "              style=\"display:none;\">\n",
       "\n",
       "  <svg xmlns=\"http://www.w3.org/2000/svg\" height=\"24px\"viewBox=\"0 0 24 24\"\n",
       "       width=\"24px\">\n",
       "    <path d=\"M0 0h24v24H0V0z\" fill=\"none\"/>\n",
       "    <path d=\"M18.56 5.44l.94 2.06.94-2.06 2.06-.94-2.06-.94-.94-2.06-.94 2.06-2.06.94zm-11 1L8.5 8.5l.94-2.06 2.06-.94-2.06-.94L8.5 2.5l-.94 2.06-2.06.94zm10 10l.94 2.06.94-2.06 2.06-.94-2.06-.94-.94-2.06-.94 2.06-2.06.94z\"/><path d=\"M17.41 7.96l-1.37-1.37c-.4-.4-.92-.59-1.43-.59-.52 0-1.04.2-1.43.59L10.3 9.45l-7.72 7.72c-.78.78-.78 2.05 0 2.83L4 21.41c.39.39.9.59 1.41.59.51 0 1.02-.2 1.41-.59l7.78-7.78 2.81-2.81c.8-.78.8-2.07 0-2.86zM5.41 20L4 18.59l7.72-7.72 1.47 1.35L5.41 20z\"/>\n",
       "  </svg>\n",
       "      </button>\n",
       "\n",
       "  <style>\n",
       "    .colab-df-container {\n",
       "      display:flex;\n",
       "      flex-wrap:wrap;\n",
       "      gap: 12px;\n",
       "    }\n",
       "\n",
       "    .colab-df-convert {\n",
       "      background-color: #E8F0FE;\n",
       "      border: none;\n",
       "      border-radius: 50%;\n",
       "      cursor: pointer;\n",
       "      display: none;\n",
       "      fill: #1967D2;\n",
       "      height: 32px;\n",
       "      padding: 0 0 0 0;\n",
       "      width: 32px;\n",
       "    }\n",
       "\n",
       "    .colab-df-convert:hover {\n",
       "      background-color: #E2EBFA;\n",
       "      box-shadow: 0px 1px 2px rgba(60, 64, 67, 0.3), 0px 1px 3px 1px rgba(60, 64, 67, 0.15);\n",
       "      fill: #174EA6;\n",
       "    }\n",
       "\n",
       "    [theme=dark] .colab-df-convert {\n",
       "      background-color: #3B4455;\n",
       "      fill: #D2E3FC;\n",
       "    }\n",
       "\n",
       "    [theme=dark] .colab-df-convert:hover {\n",
       "      background-color: #434B5C;\n",
       "      box-shadow: 0px 1px 3px 1px rgba(0, 0, 0, 0.15);\n",
       "      filter: drop-shadow(0px 1px 2px rgba(0, 0, 0, 0.3));\n",
       "      fill: #FFFFFF;\n",
       "    }\n",
       "  </style>\n",
       "\n",
       "      <script>\n",
       "        const buttonEl =\n",
       "          document.querySelector('#df-d7400288-a401-43db-a18e-7c986ba3b6e2 button.colab-df-convert');\n",
       "        buttonEl.style.display =\n",
       "          google.colab.kernel.accessAllowed ? 'block' : 'none';\n",
       "\n",
       "        async function convertToInteractive(key) {\n",
       "          const element = document.querySelector('#df-d7400288-a401-43db-a18e-7c986ba3b6e2');\n",
       "          const dataTable =\n",
       "            await google.colab.kernel.invokeFunction('convertToInteractive',\n",
       "                                                     [key], {});\n",
       "          if (!dataTable) return;\n",
       "\n",
       "          const docLinkHtml = 'Like what you see? Visit the ' +\n",
       "            '<a target=\"_blank\" href=https://colab.research.google.com/notebooks/data_table.ipynb>data table notebook</a>'\n",
       "            + ' to learn more about interactive tables.';\n",
       "          element.innerHTML = '';\n",
       "          dataTable['output_type'] = 'display_data';\n",
       "          await google.colab.output.renderOutput(dataTable, element);\n",
       "          const docLink = document.createElement('div');\n",
       "          docLink.innerHTML = docLinkHtml;\n",
       "          element.appendChild(docLink);\n",
       "        }\n",
       "      </script>\n",
       "    </div>\n",
       "  </div>\n"
      ],
      "text/plain": [
       "                                                tweet   label\n",
       "0                        ['anies', 'tantang', 'said']  kontra\n",
       "1                                                  []  netral\n",
       "2   ['kode', 'opung', 'luhut', 'calon', 'presiden'...  kontra\n",
       "3   ['rocky', 'gerung', 'bicara', 'langsung', 'per...     pro\n",
       "4                                                  []  netral\n",
       "..                                                ...     ...\n",
       "95  ['jaman', 'rezim', 'skrg', 'kaya', 'bapa', 'ti...     pro\n",
       "96  ['sobat', 'akal', 'sehat', 'nanti', 'video', '...     pro\n",
       "97  ['menteri', 'koordinator', 'bidang', 'maritim'...     pro\n",
       "98  ['bodoh', 'kurikulum', 'etika', 'rocky', 'geru...  netral\n",
       "99  ['tuju', 'rocky', 'saksi', 'lengkap', 'youtube...     pro\n",
       "\n",
       "[100 rows x 2 columns]"
      ]
     },
     "execution_count": 26,
     "metadata": {},
     "output_type": "execute_result"
    }
   ],
   "source": [
    "from sklearn.feature_extraction.text import TfidfTransformer, TfidfVectorizer, CountVectorizer\n",
    "#Membuat Dataframe\n",
    "dataTextPre = pd.read_csv('Prepocessing_label.csv',index_col=False)\n",
    "dataTextPre.drop(\"polarity_score\", axis=1, inplace=True)\n",
    "vectorizer = CountVectorizer(min_df=1)\n",
    "bag = vectorizer.fit_transform(dataTextPre['tweet'])\n",
    "dataTextPre"
   ]
  },
  {
   "cell_type": "markdown",
   "metadata": {
    "id": "T5M4Uotr6N-j"
   },
   "source": [
    "### Matrik VSM(Visual Space Model)\n",
    "Sebelum menghitung nilai TF, terlebih dahulu buat matrik vsm untuk menentukan bobot nilai term pada dokumen dengan source code berikut."
   ]
  },
  {
   "cell_type": "code",
   "execution_count": 27,
   "metadata": {
    "colab": {
     "base_uri": "https://localhost:8080/"
    },
    "id": "iKdRlqLh6RhK",
    "outputId": "61ef1b4b-dbff-4113-9c75-15b8a2593fad"
   },
   "outputs": [
    {
     "data": {
      "text/plain": [
       "(100, 390)"
      ]
     },
     "execution_count": 27,
     "metadata": {},
     "output_type": "execute_result"
    }
   ],
   "source": [
    "matrik_vsm = bag.toarray()\n",
    "#print(matrik_vsm)\n",
    "matrik_vsm.shape"
   ]
  },
  {
   "cell_type": "code",
   "execution_count": 28,
   "metadata": {
    "colab": {
     "base_uri": "https://localhost:8080/"
    },
    "id": "7N_1nVqo6SCI",
    "outputId": "904c67e7-a8d0-42dd-ae4b-54c61468b1c6"
   },
   "outputs": [
    {
     "data": {
      "text/plain": [
       "array([0, 0, 0, 0, 0, 0, 0, 0, 0, 0, 0, 0, 0, 0, 0, 0, 0, 0, 1, 0, 0, 0,\n",
       "       0, 0, 0, 0, 0, 0, 0, 0, 0, 0, 0, 0, 0, 0, 0, 0, 0, 0, 0, 0, 0, 0,\n",
       "       0, 0, 0, 0, 0, 0, 0, 0, 0, 0, 0, 0, 0, 0, 0, 0, 0, 0, 0, 0, 0, 0,\n",
       "       0, 0, 0, 0, 0, 0, 0, 0, 0, 0, 0, 0, 0, 0, 0, 0, 0, 0, 0, 0, 0, 0,\n",
       "       0, 0, 0, 0, 0, 0, 0, 0, 0, 0, 0, 0, 0, 0, 0, 0, 0, 0, 0, 0, 0, 0,\n",
       "       0, 0, 0, 0, 0, 0, 0, 0, 0, 0, 0, 0, 0, 0, 0, 0, 0, 0, 0, 0, 0, 0,\n",
       "       0, 0, 0, 0, 0, 0, 0, 0, 0, 0, 0, 0, 0, 0, 0, 0, 0, 0, 0, 0, 0, 0,\n",
       "       0, 0, 0, 0, 0, 0, 0, 0, 0, 0, 0, 0, 0, 0, 0, 0, 0, 0, 0, 0, 0, 0,\n",
       "       0, 0, 0, 0, 0, 0, 0, 0, 0, 0, 0, 0, 0, 0, 0, 0, 0, 0, 0, 0, 0, 0,\n",
       "       0, 0, 0, 0, 0, 0, 0, 0, 0, 0, 0, 0, 0, 0, 0, 0, 0, 0, 0, 0, 0, 0,\n",
       "       0, 0, 0, 0, 0, 0, 0, 0, 0, 0, 0, 0, 0, 0, 0, 0, 0, 0, 0, 0, 0, 0,\n",
       "       0, 0, 0, 0, 0, 0, 0, 0, 0, 0, 0, 0, 0, 0, 0, 0, 0, 0, 0, 0, 0, 0,\n",
       "       0, 0, 0, 0, 0, 0, 0, 0, 0, 0, 0, 0, 0, 0, 0, 0, 0, 0, 0, 0, 0, 0,\n",
       "       0, 0, 0, 0, 0, 0, 0, 0, 1, 0, 0, 0, 0, 0, 0, 0, 0, 0, 0, 0, 0, 0,\n",
       "       0, 0, 0, 0, 0, 0, 0, 0, 0, 0, 0, 0, 0, 0, 0, 0, 0, 0, 0, 0, 0, 0,\n",
       "       0, 0, 0, 0, 0, 0, 0, 0, 0, 0, 0, 0, 0, 0, 1, 0, 0, 0, 0, 0, 0, 0,\n",
       "       0, 0, 0, 0, 0, 0, 0, 0, 0, 0, 0, 0, 0, 0, 0, 0, 0, 0, 0, 0, 0, 0,\n",
       "       0, 0, 0, 0, 0, 0, 0, 0, 0, 0, 0, 0, 0, 0, 0, 0])"
      ]
     },
     "execution_count": 28,
     "metadata": {},
     "output_type": "execute_result"
    }
   ],
   "source": [
    "matrik_vsm[0]"
   ]
  },
  {
   "cell_type": "markdown",
   "metadata": {
    "id": "WAIVY1yO6VRf"
   },
   "source": [
    "Untuk menampilkan nilai TF yang didapat menggunakan source code berikut"
   ]
  },
  {
   "cell_type": "code",
   "execution_count": 29,
   "metadata": {
    "id": "6CbHMZx76YLP"
   },
   "outputs": [],
   "source": [
    "a=vectorizer.get_feature_names()"
   ]
  },
  {
   "cell_type": "code",
   "execution_count": 30,
   "metadata": {
    "colab": {
     "base_uri": "https://localhost:8080/",
     "height": 505
    },
    "id": "g_6JDO_06ce-",
    "outputId": "fbc80f94-5c9f-4bbc-e3c0-7b3d0e3b52af"
   },
   "outputs": [
    {
     "name": "stdout",
     "output_type": "stream",
     "text": [
      "100\n"
     ]
    },
    {
     "data": {
      "text/html": [
       "\n",
       "  <div id=\"df-187fd11b-cb50-4fdf-a4a0-18ffef31d1ce\">\n",
       "    <div class=\"colab-df-container\">\n",
       "      <div>\n",
       "<style scoped>\n",
       "    .dataframe tbody tr th:only-of-type {\n",
       "        vertical-align: middle;\n",
       "    }\n",
       "\n",
       "    .dataframe tbody tr th {\n",
       "        vertical-align: top;\n",
       "    }\n",
       "\n",
       "    .dataframe thead tr th {\n",
       "        text-align: left;\n",
       "    }\n",
       "</style>\n",
       "<table border=\"1\" class=\"dataframe\">\n",
       "  <thead>\n",
       "    <tr>\n",
       "      <th></th>\n",
       "      <th>acara</th>\n",
       "      <th>airlangga</th>\n",
       "      <th>ajak</th>\n",
       "      <th>ajar</th>\n",
       "      <th>akal</th>\n",
       "      <th>akrab</th>\n",
       "      <th>aktivis</th>\n",
       "      <th>aku</th>\n",
       "      <th>akun</th>\n",
       "      <th>aliansi</th>\n",
       "      <th>...</th>\n",
       "      <th>viral</th>\n",
       "      <th>visible</th>\n",
       "      <th>wali</th>\n",
       "      <th>walikota</th>\n",
       "      <th>wib</th>\n",
       "      <th>widodo</th>\n",
       "      <th>xi</th>\n",
       "      <th>yaa</th>\n",
       "      <th>yakin</th>\n",
       "      <th>youtube</th>\n",
       "    </tr>\n",
       "  </thead>\n",
       "  <tbody>\n",
       "    <tr>\n",
       "      <th>1</th>\n",
       "      <td>0</td>\n",
       "      <td>0</td>\n",
       "      <td>0</td>\n",
       "      <td>0</td>\n",
       "      <td>0</td>\n",
       "      <td>0</td>\n",
       "      <td>0</td>\n",
       "      <td>0</td>\n",
       "      <td>0</td>\n",
       "      <td>0</td>\n",
       "      <td>...</td>\n",
       "      <td>0</td>\n",
       "      <td>0</td>\n",
       "      <td>0</td>\n",
       "      <td>0</td>\n",
       "      <td>0</td>\n",
       "      <td>0</td>\n",
       "      <td>0</td>\n",
       "      <td>0</td>\n",
       "      <td>0</td>\n",
       "      <td>0</td>\n",
       "    </tr>\n",
       "    <tr>\n",
       "      <th>2</th>\n",
       "      <td>0</td>\n",
       "      <td>0</td>\n",
       "      <td>0</td>\n",
       "      <td>0</td>\n",
       "      <td>0</td>\n",
       "      <td>0</td>\n",
       "      <td>0</td>\n",
       "      <td>0</td>\n",
       "      <td>0</td>\n",
       "      <td>0</td>\n",
       "      <td>...</td>\n",
       "      <td>0</td>\n",
       "      <td>0</td>\n",
       "      <td>0</td>\n",
       "      <td>0</td>\n",
       "      <td>0</td>\n",
       "      <td>0</td>\n",
       "      <td>0</td>\n",
       "      <td>0</td>\n",
       "      <td>0</td>\n",
       "      <td>0</td>\n",
       "    </tr>\n",
       "    <tr>\n",
       "      <th>3</th>\n",
       "      <td>1</td>\n",
       "      <td>1</td>\n",
       "      <td>0</td>\n",
       "      <td>0</td>\n",
       "      <td>0</td>\n",
       "      <td>0</td>\n",
       "      <td>0</td>\n",
       "      <td>0</td>\n",
       "      <td>0</td>\n",
       "      <td>0</td>\n",
       "      <td>...</td>\n",
       "      <td>0</td>\n",
       "      <td>0</td>\n",
       "      <td>0</td>\n",
       "      <td>0</td>\n",
       "      <td>0</td>\n",
       "      <td>0</td>\n",
       "      <td>0</td>\n",
       "      <td>0</td>\n",
       "      <td>0</td>\n",
       "      <td>0</td>\n",
       "    </tr>\n",
       "    <tr>\n",
       "      <th>4</th>\n",
       "      <td>0</td>\n",
       "      <td>0</td>\n",
       "      <td>0</td>\n",
       "      <td>0</td>\n",
       "      <td>0</td>\n",
       "      <td>0</td>\n",
       "      <td>0</td>\n",
       "      <td>0</td>\n",
       "      <td>0</td>\n",
       "      <td>0</td>\n",
       "      <td>...</td>\n",
       "      <td>0</td>\n",
       "      <td>0</td>\n",
       "      <td>0</td>\n",
       "      <td>0</td>\n",
       "      <td>0</td>\n",
       "      <td>0</td>\n",
       "      <td>0</td>\n",
       "      <td>0</td>\n",
       "      <td>0</td>\n",
       "      <td>0</td>\n",
       "    </tr>\n",
       "    <tr>\n",
       "      <th>5</th>\n",
       "      <td>0</td>\n",
       "      <td>0</td>\n",
       "      <td>0</td>\n",
       "      <td>0</td>\n",
       "      <td>0</td>\n",
       "      <td>0</td>\n",
       "      <td>0</td>\n",
       "      <td>0</td>\n",
       "      <td>0</td>\n",
       "      <td>0</td>\n",
       "      <td>...</td>\n",
       "      <td>0</td>\n",
       "      <td>0</td>\n",
       "      <td>0</td>\n",
       "      <td>0</td>\n",
       "      <td>0</td>\n",
       "      <td>0</td>\n",
       "      <td>0</td>\n",
       "      <td>0</td>\n",
       "      <td>0</td>\n",
       "      <td>0</td>\n",
       "    </tr>\n",
       "    <tr>\n",
       "      <th>...</th>\n",
       "      <td>...</td>\n",
       "      <td>...</td>\n",
       "      <td>...</td>\n",
       "      <td>...</td>\n",
       "      <td>...</td>\n",
       "      <td>...</td>\n",
       "      <td>...</td>\n",
       "      <td>...</td>\n",
       "      <td>...</td>\n",
       "      <td>...</td>\n",
       "      <td>...</td>\n",
       "      <td>...</td>\n",
       "      <td>...</td>\n",
       "      <td>...</td>\n",
       "      <td>...</td>\n",
       "      <td>...</td>\n",
       "      <td>...</td>\n",
       "      <td>...</td>\n",
       "      <td>...</td>\n",
       "      <td>...</td>\n",
       "      <td>...</td>\n",
       "    </tr>\n",
       "    <tr>\n",
       "      <th>96</th>\n",
       "      <td>0</td>\n",
       "      <td>0</td>\n",
       "      <td>0</td>\n",
       "      <td>0</td>\n",
       "      <td>0</td>\n",
       "      <td>0</td>\n",
       "      <td>0</td>\n",
       "      <td>0</td>\n",
       "      <td>0</td>\n",
       "      <td>0</td>\n",
       "      <td>...</td>\n",
       "      <td>0</td>\n",
       "      <td>0</td>\n",
       "      <td>0</td>\n",
       "      <td>0</td>\n",
       "      <td>0</td>\n",
       "      <td>0</td>\n",
       "      <td>0</td>\n",
       "      <td>0</td>\n",
       "      <td>0</td>\n",
       "      <td>0</td>\n",
       "    </tr>\n",
       "    <tr>\n",
       "      <th>97</th>\n",
       "      <td>0</td>\n",
       "      <td>0</td>\n",
       "      <td>0</td>\n",
       "      <td>0</td>\n",
       "      <td>2</td>\n",
       "      <td>0</td>\n",
       "      <td>0</td>\n",
       "      <td>0</td>\n",
       "      <td>0</td>\n",
       "      <td>0</td>\n",
       "      <td>...</td>\n",
       "      <td>0</td>\n",
       "      <td>0</td>\n",
       "      <td>0</td>\n",
       "      <td>0</td>\n",
       "      <td>1</td>\n",
       "      <td>0</td>\n",
       "      <td>0</td>\n",
       "      <td>0</td>\n",
       "      <td>0</td>\n",
       "      <td>0</td>\n",
       "    </tr>\n",
       "    <tr>\n",
       "      <th>98</th>\n",
       "      <td>0</td>\n",
       "      <td>0</td>\n",
       "      <td>0</td>\n",
       "      <td>0</td>\n",
       "      <td>0</td>\n",
       "      <td>0</td>\n",
       "      <td>0</td>\n",
       "      <td>0</td>\n",
       "      <td>0</td>\n",
       "      <td>0</td>\n",
       "      <td>...</td>\n",
       "      <td>0</td>\n",
       "      <td>0</td>\n",
       "      <td>0</td>\n",
       "      <td>0</td>\n",
       "      <td>0</td>\n",
       "      <td>0</td>\n",
       "      <td>0</td>\n",
       "      <td>0</td>\n",
       "      <td>0</td>\n",
       "      <td>1</td>\n",
       "    </tr>\n",
       "    <tr>\n",
       "      <th>99</th>\n",
       "      <td>0</td>\n",
       "      <td>0</td>\n",
       "      <td>0</td>\n",
       "      <td>0</td>\n",
       "      <td>0</td>\n",
       "      <td>0</td>\n",
       "      <td>0</td>\n",
       "      <td>0</td>\n",
       "      <td>0</td>\n",
       "      <td>0</td>\n",
       "      <td>...</td>\n",
       "      <td>0</td>\n",
       "      <td>0</td>\n",
       "      <td>0</td>\n",
       "      <td>0</td>\n",
       "      <td>0</td>\n",
       "      <td>0</td>\n",
       "      <td>0</td>\n",
       "      <td>0</td>\n",
       "      <td>0</td>\n",
       "      <td>0</td>\n",
       "    </tr>\n",
       "    <tr>\n",
       "      <th>100</th>\n",
       "      <td>0</td>\n",
       "      <td>0</td>\n",
       "      <td>1</td>\n",
       "      <td>0</td>\n",
       "      <td>0</td>\n",
       "      <td>0</td>\n",
       "      <td>0</td>\n",
       "      <td>0</td>\n",
       "      <td>0</td>\n",
       "      <td>0</td>\n",
       "      <td>...</td>\n",
       "      <td>0</td>\n",
       "      <td>0</td>\n",
       "      <td>0</td>\n",
       "      <td>0</td>\n",
       "      <td>0</td>\n",
       "      <td>0</td>\n",
       "      <td>0</td>\n",
       "      <td>0</td>\n",
       "      <td>0</td>\n",
       "      <td>1</td>\n",
       "    </tr>\n",
       "  </tbody>\n",
       "</table>\n",
       "<p>100 rows × 390 columns</p>\n",
       "</div>\n",
       "      <button class=\"colab-df-convert\" onclick=\"convertToInteractive('df-187fd11b-cb50-4fdf-a4a0-18ffef31d1ce')\"\n",
       "              title=\"Convert this dataframe to an interactive table.\"\n",
       "              style=\"display:none;\">\n",
       "\n",
       "  <svg xmlns=\"http://www.w3.org/2000/svg\" height=\"24px\"viewBox=\"0 0 24 24\"\n",
       "       width=\"24px\">\n",
       "    <path d=\"M0 0h24v24H0V0z\" fill=\"none\"/>\n",
       "    <path d=\"M18.56 5.44l.94 2.06.94-2.06 2.06-.94-2.06-.94-.94-2.06-.94 2.06-2.06.94zm-11 1L8.5 8.5l.94-2.06 2.06-.94-2.06-.94L8.5 2.5l-.94 2.06-2.06.94zm10 10l.94 2.06.94-2.06 2.06-.94-2.06-.94-.94-2.06-.94 2.06-2.06.94z\"/><path d=\"M17.41 7.96l-1.37-1.37c-.4-.4-.92-.59-1.43-.59-.52 0-1.04.2-1.43.59L10.3 9.45l-7.72 7.72c-.78.78-.78 2.05 0 2.83L4 21.41c.39.39.9.59 1.41.59.51 0 1.02-.2 1.41-.59l7.78-7.78 2.81-2.81c.8-.78.8-2.07 0-2.86zM5.41 20L4 18.59l7.72-7.72 1.47 1.35L5.41 20z\"/>\n",
       "  </svg>\n",
       "      </button>\n",
       "\n",
       "  <style>\n",
       "    .colab-df-container {\n",
       "      display:flex;\n",
       "      flex-wrap:wrap;\n",
       "      gap: 12px;\n",
       "    }\n",
       "\n",
       "    .colab-df-convert {\n",
       "      background-color: #E8F0FE;\n",
       "      border: none;\n",
       "      border-radius: 50%;\n",
       "      cursor: pointer;\n",
       "      display: none;\n",
       "      fill: #1967D2;\n",
       "      height: 32px;\n",
       "      padding: 0 0 0 0;\n",
       "      width: 32px;\n",
       "    }\n",
       "\n",
       "    .colab-df-convert:hover {\n",
       "      background-color: #E2EBFA;\n",
       "      box-shadow: 0px 1px 2px rgba(60, 64, 67, 0.3), 0px 1px 3px 1px rgba(60, 64, 67, 0.15);\n",
       "      fill: #174EA6;\n",
       "    }\n",
       "\n",
       "    [theme=dark] .colab-df-convert {\n",
       "      background-color: #3B4455;\n",
       "      fill: #D2E3FC;\n",
       "    }\n",
       "\n",
       "    [theme=dark] .colab-df-convert:hover {\n",
       "      background-color: #434B5C;\n",
       "      box-shadow: 0px 1px 3px 1px rgba(0, 0, 0, 0.15);\n",
       "      filter: drop-shadow(0px 1px 2px rgba(0, 0, 0, 0.3));\n",
       "      fill: #FFFFFF;\n",
       "    }\n",
       "  </style>\n",
       "\n",
       "      <script>\n",
       "        const buttonEl =\n",
       "          document.querySelector('#df-187fd11b-cb50-4fdf-a4a0-18ffef31d1ce button.colab-df-convert');\n",
       "        buttonEl.style.display =\n",
       "          google.colab.kernel.accessAllowed ? 'block' : 'none';\n",
       "\n",
       "        async function convertToInteractive(key) {\n",
       "          const element = document.querySelector('#df-187fd11b-cb50-4fdf-a4a0-18ffef31d1ce');\n",
       "          const dataTable =\n",
       "            await google.colab.kernel.invokeFunction('convertToInteractive',\n",
       "                                                     [key], {});\n",
       "          if (!dataTable) return;\n",
       "\n",
       "          const docLinkHtml = 'Like what you see? Visit the ' +\n",
       "            '<a target=\"_blank\" href=https://colab.research.google.com/notebooks/data_table.ipynb>data table notebook</a>'\n",
       "            + ' to learn more about interactive tables.';\n",
       "          element.innerHTML = '';\n",
       "          dataTable['output_type'] = 'display_data';\n",
       "          await google.colab.output.renderOutput(dataTable, element);\n",
       "          const docLink = document.createElement('div');\n",
       "          docLink.innerHTML = docLinkHtml;\n",
       "          element.appendChild(docLink);\n",
       "        }\n",
       "      </script>\n",
       "    </div>\n",
       "  </div>\n"
      ],
      "text/plain": [
       "    acara airlangga ajak ajar akal akrab aktivis aku akun aliansi  ... viral  \\\n",
       "1       0         0    0    0    0     0       0   0    0       0  ...     0   \n",
       "2       0         0    0    0    0     0       0   0    0       0  ...     0   \n",
       "3       1         1    0    0    0     0       0   0    0       0  ...     0   \n",
       "4       0         0    0    0    0     0       0   0    0       0  ...     0   \n",
       "5       0         0    0    0    0     0       0   0    0       0  ...     0   \n",
       "..    ...       ...  ...  ...  ...   ...     ...  ..  ...     ...  ...   ...   \n",
       "96      0         0    0    0    0     0       0   0    0       0  ...     0   \n",
       "97      0         0    0    0    2     0       0   0    0       0  ...     0   \n",
       "98      0         0    0    0    0     0       0   0    0       0  ...     0   \n",
       "99      0         0    0    0    0     0       0   0    0       0  ...     0   \n",
       "100     0         0    1    0    0     0       0   0    0       0  ...     0   \n",
       "\n",
       "    visible wali walikota wib widodo xi yaa yakin youtube  \n",
       "1         0    0        0   0      0  0   0     0       0  \n",
       "2         0    0        0   0      0  0   0     0       0  \n",
       "3         0    0        0   0      0  0   0     0       0  \n",
       "4         0    0        0   0      0  0   0     0       0  \n",
       "5         0    0        0   0      0  0   0     0       0  \n",
       "..      ...  ...      ...  ..    ... ..  ..   ...     ...  \n",
       "96        0    0        0   0      0  0   0     0       0  \n",
       "97        0    0        0   1      0  0   0     0       0  \n",
       "98        0    0        0   0      0  0   0     0       1  \n",
       "99        0    0        0   0      0  0   0     0       0  \n",
       "100       0    0        0   0      0  0   0     0       1  \n",
       "\n",
       "[100 rows x 390 columns]"
      ]
     },
     "execution_count": 30,
     "metadata": {},
     "output_type": "execute_result"
    }
   ],
   "source": [
    "print(len(matrik_vsm[:,1]))\n",
    "#dfb =pd.DataFrame(data=matrik_vsm,index=df,columns=[a])\n",
    "dataTF =pd.DataFrame(data=matrik_vsm,index=list(range(1, len(matrik_vsm[:,1])+1, )),columns=[a])\n",
    "dataTF.to_csv('TF.csv',index=False)\n",
    "dataTF"
   ]
  },
  {
   "cell_type": "markdown",
   "metadata": {
    "id": "LB5l22Qs6fHk"
   },
   "source": [
    "### Nilai Term Dokumen\n",
    "Setelah didapat nilai matrik vsm, selanjutnya tentukan nilai term pada masing masing dokumen menggunakan source code berikut."
   ]
  },
  {
   "cell_type": "code",
   "execution_count": 31,
   "metadata": {
    "colab": {
     "base_uri": "https://localhost:8080/",
     "height": 488
    },
    "id": "DWxm9WB16hmN",
    "outputId": "10f71b94-9b04-4931-c5fe-028afce81ca9"
   },
   "outputs": [
    {
     "data": {
      "text/html": [
       "\n",
       "  <div id=\"df-cd93a67d-40d6-4cee-9517-694684a74a9f\">\n",
       "    <div class=\"colab-df-container\">\n",
       "      <div>\n",
       "<style scoped>\n",
       "    .dataframe tbody tr th:only-of-type {\n",
       "        vertical-align: middle;\n",
       "    }\n",
       "\n",
       "    .dataframe tbody tr th {\n",
       "        vertical-align: top;\n",
       "    }\n",
       "\n",
       "    .dataframe thead th {\n",
       "        text-align: right;\n",
       "    }\n",
       "</style>\n",
       "<table border=\"1\" class=\"dataframe\">\n",
       "  <thead>\n",
       "    <tr style=\"text-align: right;\">\n",
       "      <th></th>\n",
       "      <th>acara</th>\n",
       "      <th>airlangga</th>\n",
       "      <th>ajak</th>\n",
       "      <th>ajar</th>\n",
       "      <th>akal</th>\n",
       "      <th>akrab</th>\n",
       "      <th>aktivis</th>\n",
       "      <th>aku</th>\n",
       "      <th>akun</th>\n",
       "      <th>aliansi</th>\n",
       "      <th>...</th>\n",
       "      <th>visible</th>\n",
       "      <th>wali</th>\n",
       "      <th>walikota</th>\n",
       "      <th>wib</th>\n",
       "      <th>widodo</th>\n",
       "      <th>xi</th>\n",
       "      <th>yaa</th>\n",
       "      <th>yakin</th>\n",
       "      <th>youtube</th>\n",
       "      <th>label</th>\n",
       "    </tr>\n",
       "  </thead>\n",
       "  <tbody>\n",
       "    <tr>\n",
       "      <th>0</th>\n",
       "      <td>0</td>\n",
       "      <td>0</td>\n",
       "      <td>0</td>\n",
       "      <td>0</td>\n",
       "      <td>0</td>\n",
       "      <td>0</td>\n",
       "      <td>0</td>\n",
       "      <td>0</td>\n",
       "      <td>0</td>\n",
       "      <td>0</td>\n",
       "      <td>...</td>\n",
       "      <td>0</td>\n",
       "      <td>0</td>\n",
       "      <td>0</td>\n",
       "      <td>0</td>\n",
       "      <td>0</td>\n",
       "      <td>0</td>\n",
       "      <td>0</td>\n",
       "      <td>0</td>\n",
       "      <td>0</td>\n",
       "      <td>kontra</td>\n",
       "    </tr>\n",
       "    <tr>\n",
       "      <th>1</th>\n",
       "      <td>0</td>\n",
       "      <td>0</td>\n",
       "      <td>0</td>\n",
       "      <td>0</td>\n",
       "      <td>0</td>\n",
       "      <td>0</td>\n",
       "      <td>0</td>\n",
       "      <td>0</td>\n",
       "      <td>0</td>\n",
       "      <td>0</td>\n",
       "      <td>...</td>\n",
       "      <td>0</td>\n",
       "      <td>0</td>\n",
       "      <td>0</td>\n",
       "      <td>0</td>\n",
       "      <td>0</td>\n",
       "      <td>0</td>\n",
       "      <td>0</td>\n",
       "      <td>0</td>\n",
       "      <td>0</td>\n",
       "      <td>netral</td>\n",
       "    </tr>\n",
       "    <tr>\n",
       "      <th>2</th>\n",
       "      <td>1</td>\n",
       "      <td>1</td>\n",
       "      <td>0</td>\n",
       "      <td>0</td>\n",
       "      <td>0</td>\n",
       "      <td>0</td>\n",
       "      <td>0</td>\n",
       "      <td>0</td>\n",
       "      <td>0</td>\n",
       "      <td>0</td>\n",
       "      <td>...</td>\n",
       "      <td>0</td>\n",
       "      <td>0</td>\n",
       "      <td>0</td>\n",
       "      <td>0</td>\n",
       "      <td>0</td>\n",
       "      <td>0</td>\n",
       "      <td>0</td>\n",
       "      <td>0</td>\n",
       "      <td>0</td>\n",
       "      <td>kontra</td>\n",
       "    </tr>\n",
       "    <tr>\n",
       "      <th>3</th>\n",
       "      <td>0</td>\n",
       "      <td>0</td>\n",
       "      <td>0</td>\n",
       "      <td>0</td>\n",
       "      <td>0</td>\n",
       "      <td>0</td>\n",
       "      <td>0</td>\n",
       "      <td>0</td>\n",
       "      <td>0</td>\n",
       "      <td>0</td>\n",
       "      <td>...</td>\n",
       "      <td>0</td>\n",
       "      <td>0</td>\n",
       "      <td>0</td>\n",
       "      <td>0</td>\n",
       "      <td>0</td>\n",
       "      <td>0</td>\n",
       "      <td>0</td>\n",
       "      <td>0</td>\n",
       "      <td>0</td>\n",
       "      <td>pro</td>\n",
       "    </tr>\n",
       "    <tr>\n",
       "      <th>4</th>\n",
       "      <td>0</td>\n",
       "      <td>0</td>\n",
       "      <td>0</td>\n",
       "      <td>0</td>\n",
       "      <td>0</td>\n",
       "      <td>0</td>\n",
       "      <td>0</td>\n",
       "      <td>0</td>\n",
       "      <td>0</td>\n",
       "      <td>0</td>\n",
       "      <td>...</td>\n",
       "      <td>0</td>\n",
       "      <td>0</td>\n",
       "      <td>0</td>\n",
       "      <td>0</td>\n",
       "      <td>0</td>\n",
       "      <td>0</td>\n",
       "      <td>0</td>\n",
       "      <td>0</td>\n",
       "      <td>0</td>\n",
       "      <td>netral</td>\n",
       "    </tr>\n",
       "    <tr>\n",
       "      <th>...</th>\n",
       "      <td>...</td>\n",
       "      <td>...</td>\n",
       "      <td>...</td>\n",
       "      <td>...</td>\n",
       "      <td>...</td>\n",
       "      <td>...</td>\n",
       "      <td>...</td>\n",
       "      <td>...</td>\n",
       "      <td>...</td>\n",
       "      <td>...</td>\n",
       "      <td>...</td>\n",
       "      <td>...</td>\n",
       "      <td>...</td>\n",
       "      <td>...</td>\n",
       "      <td>...</td>\n",
       "      <td>...</td>\n",
       "      <td>...</td>\n",
       "      <td>...</td>\n",
       "      <td>...</td>\n",
       "      <td>...</td>\n",
       "      <td>...</td>\n",
       "    </tr>\n",
       "    <tr>\n",
       "      <th>95</th>\n",
       "      <td>0</td>\n",
       "      <td>0</td>\n",
       "      <td>0</td>\n",
       "      <td>0</td>\n",
       "      <td>0</td>\n",
       "      <td>0</td>\n",
       "      <td>0</td>\n",
       "      <td>0</td>\n",
       "      <td>0</td>\n",
       "      <td>0</td>\n",
       "      <td>...</td>\n",
       "      <td>0</td>\n",
       "      <td>0</td>\n",
       "      <td>0</td>\n",
       "      <td>0</td>\n",
       "      <td>0</td>\n",
       "      <td>0</td>\n",
       "      <td>0</td>\n",
       "      <td>0</td>\n",
       "      <td>0</td>\n",
       "      <td>pro</td>\n",
       "    </tr>\n",
       "    <tr>\n",
       "      <th>96</th>\n",
       "      <td>0</td>\n",
       "      <td>0</td>\n",
       "      <td>0</td>\n",
       "      <td>0</td>\n",
       "      <td>2</td>\n",
       "      <td>0</td>\n",
       "      <td>0</td>\n",
       "      <td>0</td>\n",
       "      <td>0</td>\n",
       "      <td>0</td>\n",
       "      <td>...</td>\n",
       "      <td>0</td>\n",
       "      <td>0</td>\n",
       "      <td>0</td>\n",
       "      <td>1</td>\n",
       "      <td>0</td>\n",
       "      <td>0</td>\n",
       "      <td>0</td>\n",
       "      <td>0</td>\n",
       "      <td>0</td>\n",
       "      <td>pro</td>\n",
       "    </tr>\n",
       "    <tr>\n",
       "      <th>97</th>\n",
       "      <td>0</td>\n",
       "      <td>0</td>\n",
       "      <td>0</td>\n",
       "      <td>0</td>\n",
       "      <td>0</td>\n",
       "      <td>0</td>\n",
       "      <td>0</td>\n",
       "      <td>0</td>\n",
       "      <td>0</td>\n",
       "      <td>0</td>\n",
       "      <td>...</td>\n",
       "      <td>0</td>\n",
       "      <td>0</td>\n",
       "      <td>0</td>\n",
       "      <td>0</td>\n",
       "      <td>0</td>\n",
       "      <td>0</td>\n",
       "      <td>0</td>\n",
       "      <td>0</td>\n",
       "      <td>1</td>\n",
       "      <td>pro</td>\n",
       "    </tr>\n",
       "    <tr>\n",
       "      <th>98</th>\n",
       "      <td>0</td>\n",
       "      <td>0</td>\n",
       "      <td>0</td>\n",
       "      <td>0</td>\n",
       "      <td>0</td>\n",
       "      <td>0</td>\n",
       "      <td>0</td>\n",
       "      <td>0</td>\n",
       "      <td>0</td>\n",
       "      <td>0</td>\n",
       "      <td>...</td>\n",
       "      <td>0</td>\n",
       "      <td>0</td>\n",
       "      <td>0</td>\n",
       "      <td>0</td>\n",
       "      <td>0</td>\n",
       "      <td>0</td>\n",
       "      <td>0</td>\n",
       "      <td>0</td>\n",
       "      <td>0</td>\n",
       "      <td>netral</td>\n",
       "    </tr>\n",
       "    <tr>\n",
       "      <th>99</th>\n",
       "      <td>0</td>\n",
       "      <td>0</td>\n",
       "      <td>1</td>\n",
       "      <td>0</td>\n",
       "      <td>0</td>\n",
       "      <td>0</td>\n",
       "      <td>0</td>\n",
       "      <td>0</td>\n",
       "      <td>0</td>\n",
       "      <td>0</td>\n",
       "      <td>...</td>\n",
       "      <td>0</td>\n",
       "      <td>0</td>\n",
       "      <td>0</td>\n",
       "      <td>0</td>\n",
       "      <td>0</td>\n",
       "      <td>0</td>\n",
       "      <td>0</td>\n",
       "      <td>0</td>\n",
       "      <td>1</td>\n",
       "      <td>pro</td>\n",
       "    </tr>\n",
       "  </tbody>\n",
       "</table>\n",
       "<p>100 rows × 391 columns</p>\n",
       "</div>\n",
       "      <button class=\"colab-df-convert\" onclick=\"convertToInteractive('df-cd93a67d-40d6-4cee-9517-694684a74a9f')\"\n",
       "              title=\"Convert this dataframe to an interactive table.\"\n",
       "              style=\"display:none;\">\n",
       "\n",
       "  <svg xmlns=\"http://www.w3.org/2000/svg\" height=\"24px\"viewBox=\"0 0 24 24\"\n",
       "       width=\"24px\">\n",
       "    <path d=\"M0 0h24v24H0V0z\" fill=\"none\"/>\n",
       "    <path d=\"M18.56 5.44l.94 2.06.94-2.06 2.06-.94-2.06-.94-.94-2.06-.94 2.06-2.06.94zm-11 1L8.5 8.5l.94-2.06 2.06-.94-2.06-.94L8.5 2.5l-.94 2.06-2.06.94zm10 10l.94 2.06.94-2.06 2.06-.94-2.06-.94-.94-2.06-.94 2.06-2.06.94z\"/><path d=\"M17.41 7.96l-1.37-1.37c-.4-.4-.92-.59-1.43-.59-.52 0-1.04.2-1.43.59L10.3 9.45l-7.72 7.72c-.78.78-.78 2.05 0 2.83L4 21.41c.39.39.9.59 1.41.59.51 0 1.02-.2 1.41-.59l7.78-7.78 2.81-2.81c.8-.78.8-2.07 0-2.86zM5.41 20L4 18.59l7.72-7.72 1.47 1.35L5.41 20z\"/>\n",
       "  </svg>\n",
       "      </button>\n",
       "\n",
       "  <style>\n",
       "    .colab-df-container {\n",
       "      display:flex;\n",
       "      flex-wrap:wrap;\n",
       "      gap: 12px;\n",
       "    }\n",
       "\n",
       "    .colab-df-convert {\n",
       "      background-color: #E8F0FE;\n",
       "      border: none;\n",
       "      border-radius: 50%;\n",
       "      cursor: pointer;\n",
       "      display: none;\n",
       "      fill: #1967D2;\n",
       "      height: 32px;\n",
       "      padding: 0 0 0 0;\n",
       "      width: 32px;\n",
       "    }\n",
       "\n",
       "    .colab-df-convert:hover {\n",
       "      background-color: #E2EBFA;\n",
       "      box-shadow: 0px 1px 2px rgba(60, 64, 67, 0.3), 0px 1px 3px 1px rgba(60, 64, 67, 0.15);\n",
       "      fill: #174EA6;\n",
       "    }\n",
       "\n",
       "    [theme=dark] .colab-df-convert {\n",
       "      background-color: #3B4455;\n",
       "      fill: #D2E3FC;\n",
       "    }\n",
       "\n",
       "    [theme=dark] .colab-df-convert:hover {\n",
       "      background-color: #434B5C;\n",
       "      box-shadow: 0px 1px 3px 1px rgba(0, 0, 0, 0.15);\n",
       "      filter: drop-shadow(0px 1px 2px rgba(0, 0, 0, 0.3));\n",
       "      fill: #FFFFFF;\n",
       "    }\n",
       "  </style>\n",
       "\n",
       "      <script>\n",
       "        const buttonEl =\n",
       "          document.querySelector('#df-cd93a67d-40d6-4cee-9517-694684a74a9f button.colab-df-convert');\n",
       "        buttonEl.style.display =\n",
       "          google.colab.kernel.accessAllowed ? 'block' : 'none';\n",
       "\n",
       "        async function convertToInteractive(key) {\n",
       "          const element = document.querySelector('#df-cd93a67d-40d6-4cee-9517-694684a74a9f');\n",
       "          const dataTable =\n",
       "            await google.colab.kernel.invokeFunction('convertToInteractive',\n",
       "                                                     [key], {});\n",
       "          if (!dataTable) return;\n",
       "\n",
       "          const docLinkHtml = 'Like what you see? Visit the ' +\n",
       "            '<a target=\"_blank\" href=https://colab.research.google.com/notebooks/data_table.ipynb>data table notebook</a>'\n",
       "            + ' to learn more about interactive tables.';\n",
       "          element.innerHTML = '';\n",
       "          dataTable['output_type'] = 'display_data';\n",
       "          await google.colab.output.renderOutput(dataTable, element);\n",
       "          const docLink = document.createElement('div');\n",
       "          docLink.innerHTML = docLinkHtml;\n",
       "          element.appendChild(docLink);\n",
       "        }\n",
       "      </script>\n",
       "    </div>\n",
       "  </div>\n"
      ],
      "text/plain": [
       "    acara  airlangga  ajak  ajar  akal  akrab  aktivis  aku  akun  aliansi  \\\n",
       "0       0          0     0     0     0      0        0    0     0        0   \n",
       "1       0          0     0     0     0      0        0    0     0        0   \n",
       "2       1          1     0     0     0      0        0    0     0        0   \n",
       "3       0          0     0     0     0      0        0    0     0        0   \n",
       "4       0          0     0     0     0      0        0    0     0        0   \n",
       "..    ...        ...   ...   ...   ...    ...      ...  ...   ...      ...   \n",
       "95      0          0     0     0     0      0        0    0     0        0   \n",
       "96      0          0     0     0     2      0        0    0     0        0   \n",
       "97      0          0     0     0     0      0        0    0     0        0   \n",
       "98      0          0     0     0     0      0        0    0     0        0   \n",
       "99      0          0     1     0     0      0        0    0     0        0   \n",
       "\n",
       "    ...  visible  wali  walikota  wib  widodo  xi  yaa  yakin  youtube   label  \n",
       "0   ...        0     0         0    0       0   0    0      0        0  kontra  \n",
       "1   ...        0     0         0    0       0   0    0      0        0  netral  \n",
       "2   ...        0     0         0    0       0   0    0      0        0  kontra  \n",
       "3   ...        0     0         0    0       0   0    0      0        0     pro  \n",
       "4   ...        0     0         0    0       0   0    0      0        0  netral  \n",
       "..  ...      ...   ...       ...  ...     ...  ..  ...    ...      ...     ...  \n",
       "95  ...        0     0         0    0       0   0    0      0        0     pro  \n",
       "96  ...        0     0         0    1       0   0    0      0        0     pro  \n",
       "97  ...        0     0         0    0       0   0    0      0        1     pro  \n",
       "98  ...        0     0         0    0       0   0    0      0        0  netral  \n",
       "99  ...        0     0         0    0       0   0    0      0        1     pro  \n",
       "\n",
       "[100 rows x 391 columns]"
      ]
     },
     "execution_count": 31,
     "metadata": {},
     "output_type": "execute_result"
    }
   ],
   "source": [
    "datalabel = pd.read_csv('Prepocessing_label.csv',index_col=False)\n",
    "TF = pd.read_csv('TF.csv',index_col=False)\n",
    "dataJurnal = pd.concat([TF, datalabel[\"label\"]], axis=1)\n",
    "dataJurnal"
   ]
  },
  {
   "cell_type": "markdown",
   "metadata": {
    "id": "KAwbQyXj6iSe"
   },
   "source": [
    "### Mengambil Data label\n",
    "Setelah didapat nilai term pada masing masing dokumen kita ambil data label pada masing masing dokumen."
   ]
  },
  {
   "cell_type": "code",
   "execution_count": 32,
   "metadata": {
    "colab": {
     "base_uri": "https://localhost:8080/"
    },
    "id": "hTsJChBN6k5e",
    "outputId": "1da4915e-6e50-44e8-b5fc-f35322781fa2"
   },
   "outputs": [
    {
     "data": {
      "text/plain": [
       "array(['kontra', 'netral', 'pro'], dtype=object)"
      ]
     },
     "execution_count": 32,
     "metadata": {},
     "output_type": "execute_result"
    }
   ],
   "source": [
    "dataJurnal['label'].unique()\n"
   ]
  },
  {
   "cell_type": "code",
   "execution_count": 33,
   "metadata": {
    "colab": {
     "base_uri": "https://localhost:8080/"
    },
    "id": "2aKO8Tah6nyQ",
    "outputId": "93f48eea-b36f-45de-8ec0-a5bd67362efb"
   },
   "outputs": [
    {
     "name": "stdout",
     "output_type": "stream",
     "text": [
      "<class 'pandas.core.frame.DataFrame'>\n",
      "RangeIndex: 100 entries, 0 to 99\n",
      "Columns: 391 entries, acara to label\n",
      "dtypes: int64(390), object(1)\n",
      "memory usage: 305.6+ KB\n"
     ]
    }
   ],
   "source": [
    "dataJurnal.info()\n"
   ]
  },
  {
   "cell_type": "markdown",
   "metadata": {
    "id": "2kx32AtJ6qAO"
   },
   "source": [
    "### Split Data\n",
    "Selanjutnya kita split dataset menjadi data training dan testing dengan source code berikut."
   ]
  },
  {
   "cell_type": "code",
   "execution_count": 34,
   "metadata": {
    "id": "XXQUBl1l6tX3"
   },
   "outputs": [],
   "source": [
    "### Train test split to avoid overfitting\n",
    "from sklearn.model_selection import train_test_split\n",
    "X_train,X_test,y_train,y_test=train_test_split(dataJurnal.drop(labels=['label'], axis=1),\n",
    "    dataJurnal['label'],\n",
    "    test_size=0.15,\n",
    "    random_state=0)"
   ]
  },
  {
   "cell_type": "markdown",
   "metadata": {
    "id": "Z7KCLE5TBn54"
   },
   "source": [
    "#### Data Training"
   ]
  },
  {
   "cell_type": "code",
   "execution_count": 35,
   "metadata": {
    "colab": {
     "base_uri": "https://localhost:8080/",
     "height": 488
    },
    "id": "Dbe9ME676vzO",
    "outputId": "4fc0a1b7-f8a7-488f-cd66-55afa503d08f"
   },
   "outputs": [
    {
     "data": {
      "text/html": [
       "\n",
       "  <div id=\"df-9bc9ff9b-78f1-4ab6-8bcd-ad2601ee8960\">\n",
       "    <div class=\"colab-df-container\">\n",
       "      <div>\n",
       "<style scoped>\n",
       "    .dataframe tbody tr th:only-of-type {\n",
       "        vertical-align: middle;\n",
       "    }\n",
       "\n",
       "    .dataframe tbody tr th {\n",
       "        vertical-align: top;\n",
       "    }\n",
       "\n",
       "    .dataframe thead th {\n",
       "        text-align: right;\n",
       "    }\n",
       "</style>\n",
       "<table border=\"1\" class=\"dataframe\">\n",
       "  <thead>\n",
       "    <tr style=\"text-align: right;\">\n",
       "      <th></th>\n",
       "      <th>acara</th>\n",
       "      <th>airlangga</th>\n",
       "      <th>ajak</th>\n",
       "      <th>ajar</th>\n",
       "      <th>akal</th>\n",
       "      <th>akrab</th>\n",
       "      <th>aktivis</th>\n",
       "      <th>aku</th>\n",
       "      <th>akun</th>\n",
       "      <th>aliansi</th>\n",
       "      <th>...</th>\n",
       "      <th>viral</th>\n",
       "      <th>visible</th>\n",
       "      <th>wali</th>\n",
       "      <th>walikota</th>\n",
       "      <th>wib</th>\n",
       "      <th>widodo</th>\n",
       "      <th>xi</th>\n",
       "      <th>yaa</th>\n",
       "      <th>yakin</th>\n",
       "      <th>youtube</th>\n",
       "    </tr>\n",
       "  </thead>\n",
       "  <tbody>\n",
       "    <tr>\n",
       "      <th>30</th>\n",
       "      <td>0</td>\n",
       "      <td>0</td>\n",
       "      <td>0</td>\n",
       "      <td>0</td>\n",
       "      <td>0</td>\n",
       "      <td>0</td>\n",
       "      <td>0</td>\n",
       "      <td>0</td>\n",
       "      <td>0</td>\n",
       "      <td>0</td>\n",
       "      <td>...</td>\n",
       "      <td>0</td>\n",
       "      <td>0</td>\n",
       "      <td>1</td>\n",
       "      <td>0</td>\n",
       "      <td>0</td>\n",
       "      <td>0</td>\n",
       "      <td>0</td>\n",
       "      <td>0</td>\n",
       "      <td>0</td>\n",
       "      <td>0</td>\n",
       "    </tr>\n",
       "    <tr>\n",
       "      <th>22</th>\n",
       "      <td>0</td>\n",
       "      <td>0</td>\n",
       "      <td>0</td>\n",
       "      <td>0</td>\n",
       "      <td>0</td>\n",
       "      <td>0</td>\n",
       "      <td>0</td>\n",
       "      <td>0</td>\n",
       "      <td>0</td>\n",
       "      <td>0</td>\n",
       "      <td>...</td>\n",
       "      <td>0</td>\n",
       "      <td>0</td>\n",
       "      <td>1</td>\n",
       "      <td>0</td>\n",
       "      <td>0</td>\n",
       "      <td>0</td>\n",
       "      <td>0</td>\n",
       "      <td>0</td>\n",
       "      <td>0</td>\n",
       "      <td>0</td>\n",
       "    </tr>\n",
       "    <tr>\n",
       "      <th>24</th>\n",
       "      <td>0</td>\n",
       "      <td>0</td>\n",
       "      <td>0</td>\n",
       "      <td>0</td>\n",
       "      <td>0</td>\n",
       "      <td>0</td>\n",
       "      <td>0</td>\n",
       "      <td>0</td>\n",
       "      <td>0</td>\n",
       "      <td>0</td>\n",
       "      <td>...</td>\n",
       "      <td>0</td>\n",
       "      <td>0</td>\n",
       "      <td>0</td>\n",
       "      <td>0</td>\n",
       "      <td>0</td>\n",
       "      <td>0</td>\n",
       "      <td>0</td>\n",
       "      <td>0</td>\n",
       "      <td>0</td>\n",
       "      <td>0</td>\n",
       "    </tr>\n",
       "    <tr>\n",
       "      <th>33</th>\n",
       "      <td>0</td>\n",
       "      <td>0</td>\n",
       "      <td>0</td>\n",
       "      <td>0</td>\n",
       "      <td>0</td>\n",
       "      <td>0</td>\n",
       "      <td>0</td>\n",
       "      <td>0</td>\n",
       "      <td>0</td>\n",
       "      <td>0</td>\n",
       "      <td>...</td>\n",
       "      <td>0</td>\n",
       "      <td>0</td>\n",
       "      <td>0</td>\n",
       "      <td>0</td>\n",
       "      <td>0</td>\n",
       "      <td>0</td>\n",
       "      <td>0</td>\n",
       "      <td>0</td>\n",
       "      <td>0</td>\n",
       "      <td>0</td>\n",
       "    </tr>\n",
       "    <tr>\n",
       "      <th>8</th>\n",
       "      <td>0</td>\n",
       "      <td>0</td>\n",
       "      <td>0</td>\n",
       "      <td>0</td>\n",
       "      <td>0</td>\n",
       "      <td>0</td>\n",
       "      <td>0</td>\n",
       "      <td>0</td>\n",
       "      <td>0</td>\n",
       "      <td>0</td>\n",
       "      <td>...</td>\n",
       "      <td>0</td>\n",
       "      <td>0</td>\n",
       "      <td>0</td>\n",
       "      <td>0</td>\n",
       "      <td>0</td>\n",
       "      <td>0</td>\n",
       "      <td>0</td>\n",
       "      <td>0</td>\n",
       "      <td>0</td>\n",
       "      <td>0</td>\n",
       "    </tr>\n",
       "    <tr>\n",
       "      <th>...</th>\n",
       "      <td>...</td>\n",
       "      <td>...</td>\n",
       "      <td>...</td>\n",
       "      <td>...</td>\n",
       "      <td>...</td>\n",
       "      <td>...</td>\n",
       "      <td>...</td>\n",
       "      <td>...</td>\n",
       "      <td>...</td>\n",
       "      <td>...</td>\n",
       "      <td>...</td>\n",
       "      <td>...</td>\n",
       "      <td>...</td>\n",
       "      <td>...</td>\n",
       "      <td>...</td>\n",
       "      <td>...</td>\n",
       "      <td>...</td>\n",
       "      <td>...</td>\n",
       "      <td>...</td>\n",
       "      <td>...</td>\n",
       "      <td>...</td>\n",
       "    </tr>\n",
       "    <tr>\n",
       "      <th>96</th>\n",
       "      <td>0</td>\n",
       "      <td>0</td>\n",
       "      <td>0</td>\n",
       "      <td>0</td>\n",
       "      <td>2</td>\n",
       "      <td>0</td>\n",
       "      <td>0</td>\n",
       "      <td>0</td>\n",
       "      <td>0</td>\n",
       "      <td>0</td>\n",
       "      <td>...</td>\n",
       "      <td>0</td>\n",
       "      <td>0</td>\n",
       "      <td>0</td>\n",
       "      <td>0</td>\n",
       "      <td>1</td>\n",
       "      <td>0</td>\n",
       "      <td>0</td>\n",
       "      <td>0</td>\n",
       "      <td>0</td>\n",
       "      <td>0</td>\n",
       "    </tr>\n",
       "    <tr>\n",
       "      <th>67</th>\n",
       "      <td>0</td>\n",
       "      <td>0</td>\n",
       "      <td>0</td>\n",
       "      <td>0</td>\n",
       "      <td>0</td>\n",
       "      <td>0</td>\n",
       "      <td>0</td>\n",
       "      <td>0</td>\n",
       "      <td>0</td>\n",
       "      <td>0</td>\n",
       "      <td>...</td>\n",
       "      <td>0</td>\n",
       "      <td>0</td>\n",
       "      <td>0</td>\n",
       "      <td>0</td>\n",
       "      <td>0</td>\n",
       "      <td>0</td>\n",
       "      <td>0</td>\n",
       "      <td>0</td>\n",
       "      <td>0</td>\n",
       "      <td>0</td>\n",
       "    </tr>\n",
       "    <tr>\n",
       "      <th>64</th>\n",
       "      <td>0</td>\n",
       "      <td>0</td>\n",
       "      <td>0</td>\n",
       "      <td>0</td>\n",
       "      <td>0</td>\n",
       "      <td>0</td>\n",
       "      <td>0</td>\n",
       "      <td>0</td>\n",
       "      <td>0</td>\n",
       "      <td>0</td>\n",
       "      <td>...</td>\n",
       "      <td>0</td>\n",
       "      <td>0</td>\n",
       "      <td>0</td>\n",
       "      <td>0</td>\n",
       "      <td>0</td>\n",
       "      <td>0</td>\n",
       "      <td>0</td>\n",
       "      <td>0</td>\n",
       "      <td>0</td>\n",
       "      <td>0</td>\n",
       "    </tr>\n",
       "    <tr>\n",
       "      <th>47</th>\n",
       "      <td>0</td>\n",
       "      <td>0</td>\n",
       "      <td>0</td>\n",
       "      <td>0</td>\n",
       "      <td>0</td>\n",
       "      <td>0</td>\n",
       "      <td>0</td>\n",
       "      <td>0</td>\n",
       "      <td>0</td>\n",
       "      <td>0</td>\n",
       "      <td>...</td>\n",
       "      <td>0</td>\n",
       "      <td>0</td>\n",
       "      <td>0</td>\n",
       "      <td>0</td>\n",
       "      <td>0</td>\n",
       "      <td>0</td>\n",
       "      <td>0</td>\n",
       "      <td>0</td>\n",
       "      <td>0</td>\n",
       "      <td>0</td>\n",
       "    </tr>\n",
       "    <tr>\n",
       "      <th>44</th>\n",
       "      <td>0</td>\n",
       "      <td>0</td>\n",
       "      <td>0</td>\n",
       "      <td>0</td>\n",
       "      <td>0</td>\n",
       "      <td>0</td>\n",
       "      <td>0</td>\n",
       "      <td>0</td>\n",
       "      <td>0</td>\n",
       "      <td>0</td>\n",
       "      <td>...</td>\n",
       "      <td>0</td>\n",
       "      <td>0</td>\n",
       "      <td>0</td>\n",
       "      <td>0</td>\n",
       "      <td>0</td>\n",
       "      <td>0</td>\n",
       "      <td>0</td>\n",
       "      <td>0</td>\n",
       "      <td>0</td>\n",
       "      <td>0</td>\n",
       "    </tr>\n",
       "  </tbody>\n",
       "</table>\n",
       "<p>85 rows × 390 columns</p>\n",
       "</div>\n",
       "      <button class=\"colab-df-convert\" onclick=\"convertToInteractive('df-9bc9ff9b-78f1-4ab6-8bcd-ad2601ee8960')\"\n",
       "              title=\"Convert this dataframe to an interactive table.\"\n",
       "              style=\"display:none;\">\n",
       "\n",
       "  <svg xmlns=\"http://www.w3.org/2000/svg\" height=\"24px\"viewBox=\"0 0 24 24\"\n",
       "       width=\"24px\">\n",
       "    <path d=\"M0 0h24v24H0V0z\" fill=\"none\"/>\n",
       "    <path d=\"M18.56 5.44l.94 2.06.94-2.06 2.06-.94-2.06-.94-.94-2.06-.94 2.06-2.06.94zm-11 1L8.5 8.5l.94-2.06 2.06-.94-2.06-.94L8.5 2.5l-.94 2.06-2.06.94zm10 10l.94 2.06.94-2.06 2.06-.94-2.06-.94-.94-2.06-.94 2.06-2.06.94z\"/><path d=\"M17.41 7.96l-1.37-1.37c-.4-.4-.92-.59-1.43-.59-.52 0-1.04.2-1.43.59L10.3 9.45l-7.72 7.72c-.78.78-.78 2.05 0 2.83L4 21.41c.39.39.9.59 1.41.59.51 0 1.02-.2 1.41-.59l7.78-7.78 2.81-2.81c.8-.78.8-2.07 0-2.86zM5.41 20L4 18.59l7.72-7.72 1.47 1.35L5.41 20z\"/>\n",
       "  </svg>\n",
       "      </button>\n",
       "\n",
       "  <style>\n",
       "    .colab-df-container {\n",
       "      display:flex;\n",
       "      flex-wrap:wrap;\n",
       "      gap: 12px;\n",
       "    }\n",
       "\n",
       "    .colab-df-convert {\n",
       "      background-color: #E8F0FE;\n",
       "      border: none;\n",
       "      border-radius: 50%;\n",
       "      cursor: pointer;\n",
       "      display: none;\n",
       "      fill: #1967D2;\n",
       "      height: 32px;\n",
       "      padding: 0 0 0 0;\n",
       "      width: 32px;\n",
       "    }\n",
       "\n",
       "    .colab-df-convert:hover {\n",
       "      background-color: #E2EBFA;\n",
       "      box-shadow: 0px 1px 2px rgba(60, 64, 67, 0.3), 0px 1px 3px 1px rgba(60, 64, 67, 0.15);\n",
       "      fill: #174EA6;\n",
       "    }\n",
       "\n",
       "    [theme=dark] .colab-df-convert {\n",
       "      background-color: #3B4455;\n",
       "      fill: #D2E3FC;\n",
       "    }\n",
       "\n",
       "    [theme=dark] .colab-df-convert:hover {\n",
       "      background-color: #434B5C;\n",
       "      box-shadow: 0px 1px 3px 1px rgba(0, 0, 0, 0.15);\n",
       "      filter: drop-shadow(0px 1px 2px rgba(0, 0, 0, 0.3));\n",
       "      fill: #FFFFFF;\n",
       "    }\n",
       "  </style>\n",
       "\n",
       "      <script>\n",
       "        const buttonEl =\n",
       "          document.querySelector('#df-9bc9ff9b-78f1-4ab6-8bcd-ad2601ee8960 button.colab-df-convert');\n",
       "        buttonEl.style.display =\n",
       "          google.colab.kernel.accessAllowed ? 'block' : 'none';\n",
       "\n",
       "        async function convertToInteractive(key) {\n",
       "          const element = document.querySelector('#df-9bc9ff9b-78f1-4ab6-8bcd-ad2601ee8960');\n",
       "          const dataTable =\n",
       "            await google.colab.kernel.invokeFunction('convertToInteractive',\n",
       "                                                     [key], {});\n",
       "          if (!dataTable) return;\n",
       "\n",
       "          const docLinkHtml = 'Like what you see? Visit the ' +\n",
       "            '<a target=\"_blank\" href=https://colab.research.google.com/notebooks/data_table.ipynb>data table notebook</a>'\n",
       "            + ' to learn more about interactive tables.';\n",
       "          element.innerHTML = '';\n",
       "          dataTable['output_type'] = 'display_data';\n",
       "          await google.colab.output.renderOutput(dataTable, element);\n",
       "          const docLink = document.createElement('div');\n",
       "          docLink.innerHTML = docLinkHtml;\n",
       "          element.appendChild(docLink);\n",
       "        }\n",
       "      </script>\n",
       "    </div>\n",
       "  </div>\n"
      ],
      "text/plain": [
       "    acara  airlangga  ajak  ajar  akal  akrab  aktivis  aku  akun  aliansi  \\\n",
       "30      0          0     0     0     0      0        0    0     0        0   \n",
       "22      0          0     0     0     0      0        0    0     0        0   \n",
       "24      0          0     0     0     0      0        0    0     0        0   \n",
       "33      0          0     0     0     0      0        0    0     0        0   \n",
       "8       0          0     0     0     0      0        0    0     0        0   \n",
       "..    ...        ...   ...   ...   ...    ...      ...  ...   ...      ...   \n",
       "96      0          0     0     0     2      0        0    0     0        0   \n",
       "67      0          0     0     0     0      0        0    0     0        0   \n",
       "64      0          0     0     0     0      0        0    0     0        0   \n",
       "47      0          0     0     0     0      0        0    0     0        0   \n",
       "44      0          0     0     0     0      0        0    0     0        0   \n",
       "\n",
       "    ...  viral  visible  wali  walikota  wib  widodo  xi  yaa  yakin  youtube  \n",
       "30  ...      0        0     1         0    0       0   0    0      0        0  \n",
       "22  ...      0        0     1         0    0       0   0    0      0        0  \n",
       "24  ...      0        0     0         0    0       0   0    0      0        0  \n",
       "33  ...      0        0     0         0    0       0   0    0      0        0  \n",
       "8   ...      0        0     0         0    0       0   0    0      0        0  \n",
       "..  ...    ...      ...   ...       ...  ...     ...  ..  ...    ...      ...  \n",
       "96  ...      0        0     0         0    1       0   0    0      0        0  \n",
       "67  ...      0        0     0         0    0       0   0    0      0        0  \n",
       "64  ...      0        0     0         0    0       0   0    0      0        0  \n",
       "47  ...      0        0     0         0    0       0   0    0      0        0  \n",
       "44  ...      0        0     0         0    0       0   0    0      0        0  \n",
       "\n",
       "[85 rows x 390 columns]"
      ]
     },
     "execution_count": 35,
     "metadata": {},
     "output_type": "execute_result"
    }
   ],
   "source": [
    "X_train"
   ]
  },
  {
   "cell_type": "markdown",
   "metadata": {
    "id": "DgtEcpmuBugt"
   },
   "source": [
    "#### Data Testing"
   ]
  },
  {
   "cell_type": "code",
   "execution_count": 36,
   "metadata": {
    "colab": {
     "base_uri": "https://localhost:8080/",
     "height": 613
    },
    "id": "HEEjMfksAEng",
    "outputId": "c00bb983-cf04-4a84-8a26-3f9e8512e1a5"
   },
   "outputs": [
    {
     "data": {
      "text/html": [
       "\n",
       "  <div id=\"df-13dd10d4-ac35-44cf-beef-e959e0f38f61\">\n",
       "    <div class=\"colab-df-container\">\n",
       "      <div>\n",
       "<style scoped>\n",
       "    .dataframe tbody tr th:only-of-type {\n",
       "        vertical-align: middle;\n",
       "    }\n",
       "\n",
       "    .dataframe tbody tr th {\n",
       "        vertical-align: top;\n",
       "    }\n",
       "\n",
       "    .dataframe thead th {\n",
       "        text-align: right;\n",
       "    }\n",
       "</style>\n",
       "<table border=\"1\" class=\"dataframe\">\n",
       "  <thead>\n",
       "    <tr style=\"text-align: right;\">\n",
       "      <th></th>\n",
       "      <th>acara</th>\n",
       "      <th>airlangga</th>\n",
       "      <th>ajak</th>\n",
       "      <th>ajar</th>\n",
       "      <th>akal</th>\n",
       "      <th>akrab</th>\n",
       "      <th>aktivis</th>\n",
       "      <th>aku</th>\n",
       "      <th>akun</th>\n",
       "      <th>aliansi</th>\n",
       "      <th>...</th>\n",
       "      <th>viral</th>\n",
       "      <th>visible</th>\n",
       "      <th>wali</th>\n",
       "      <th>walikota</th>\n",
       "      <th>wib</th>\n",
       "      <th>widodo</th>\n",
       "      <th>xi</th>\n",
       "      <th>yaa</th>\n",
       "      <th>yakin</th>\n",
       "      <th>youtube</th>\n",
       "    </tr>\n",
       "  </thead>\n",
       "  <tbody>\n",
       "    <tr>\n",
       "      <th>26</th>\n",
       "      <td>0</td>\n",
       "      <td>0</td>\n",
       "      <td>0</td>\n",
       "      <td>0</td>\n",
       "      <td>0</td>\n",
       "      <td>0</td>\n",
       "      <td>0</td>\n",
       "      <td>0</td>\n",
       "      <td>0</td>\n",
       "      <td>0</td>\n",
       "      <td>...</td>\n",
       "      <td>0</td>\n",
       "      <td>0</td>\n",
       "      <td>0</td>\n",
       "      <td>0</td>\n",
       "      <td>0</td>\n",
       "      <td>0</td>\n",
       "      <td>0</td>\n",
       "      <td>0</td>\n",
       "      <td>0</td>\n",
       "      <td>1</td>\n",
       "    </tr>\n",
       "    <tr>\n",
       "      <th>86</th>\n",
       "      <td>0</td>\n",
       "      <td>0</td>\n",
       "      <td>0</td>\n",
       "      <td>0</td>\n",
       "      <td>0</td>\n",
       "      <td>0</td>\n",
       "      <td>0</td>\n",
       "      <td>0</td>\n",
       "      <td>0</td>\n",
       "      <td>0</td>\n",
       "      <td>...</td>\n",
       "      <td>0</td>\n",
       "      <td>0</td>\n",
       "      <td>0</td>\n",
       "      <td>0</td>\n",
       "      <td>0</td>\n",
       "      <td>0</td>\n",
       "      <td>0</td>\n",
       "      <td>0</td>\n",
       "      <td>0</td>\n",
       "      <td>0</td>\n",
       "    </tr>\n",
       "    <tr>\n",
       "      <th>2</th>\n",
       "      <td>1</td>\n",
       "      <td>1</td>\n",
       "      <td>0</td>\n",
       "      <td>0</td>\n",
       "      <td>0</td>\n",
       "      <td>0</td>\n",
       "      <td>0</td>\n",
       "      <td>0</td>\n",
       "      <td>0</td>\n",
       "      <td>0</td>\n",
       "      <td>...</td>\n",
       "      <td>0</td>\n",
       "      <td>0</td>\n",
       "      <td>0</td>\n",
       "      <td>0</td>\n",
       "      <td>0</td>\n",
       "      <td>0</td>\n",
       "      <td>0</td>\n",
       "      <td>0</td>\n",
       "      <td>0</td>\n",
       "      <td>0</td>\n",
       "    </tr>\n",
       "    <tr>\n",
       "      <th>55</th>\n",
       "      <td>0</td>\n",
       "      <td>0</td>\n",
       "      <td>0</td>\n",
       "      <td>0</td>\n",
       "      <td>0</td>\n",
       "      <td>0</td>\n",
       "      <td>0</td>\n",
       "      <td>0</td>\n",
       "      <td>0</td>\n",
       "      <td>0</td>\n",
       "      <td>...</td>\n",
       "      <td>0</td>\n",
       "      <td>0</td>\n",
       "      <td>0</td>\n",
       "      <td>0</td>\n",
       "      <td>0</td>\n",
       "      <td>0</td>\n",
       "      <td>0</td>\n",
       "      <td>0</td>\n",
       "      <td>0</td>\n",
       "      <td>0</td>\n",
       "    </tr>\n",
       "    <tr>\n",
       "      <th>75</th>\n",
       "      <td>0</td>\n",
       "      <td>0</td>\n",
       "      <td>0</td>\n",
       "      <td>0</td>\n",
       "      <td>0</td>\n",
       "      <td>0</td>\n",
       "      <td>0</td>\n",
       "      <td>0</td>\n",
       "      <td>0</td>\n",
       "      <td>0</td>\n",
       "      <td>...</td>\n",
       "      <td>0</td>\n",
       "      <td>0</td>\n",
       "      <td>1</td>\n",
       "      <td>0</td>\n",
       "      <td>0</td>\n",
       "      <td>0</td>\n",
       "      <td>0</td>\n",
       "      <td>0</td>\n",
       "      <td>0</td>\n",
       "      <td>0</td>\n",
       "    </tr>\n",
       "    <tr>\n",
       "      <th>93</th>\n",
       "      <td>0</td>\n",
       "      <td>0</td>\n",
       "      <td>0</td>\n",
       "      <td>0</td>\n",
       "      <td>0</td>\n",
       "      <td>0</td>\n",
       "      <td>0</td>\n",
       "      <td>0</td>\n",
       "      <td>0</td>\n",
       "      <td>0</td>\n",
       "      <td>...</td>\n",
       "      <td>0</td>\n",
       "      <td>0</td>\n",
       "      <td>0</td>\n",
       "      <td>0</td>\n",
       "      <td>0</td>\n",
       "      <td>0</td>\n",
       "      <td>0</td>\n",
       "      <td>0</td>\n",
       "      <td>0</td>\n",
       "      <td>0</td>\n",
       "    </tr>\n",
       "    <tr>\n",
       "      <th>16</th>\n",
       "      <td>0</td>\n",
       "      <td>0</td>\n",
       "      <td>0</td>\n",
       "      <td>0</td>\n",
       "      <td>0</td>\n",
       "      <td>0</td>\n",
       "      <td>0</td>\n",
       "      <td>0</td>\n",
       "      <td>0</td>\n",
       "      <td>0</td>\n",
       "      <td>...</td>\n",
       "      <td>0</td>\n",
       "      <td>0</td>\n",
       "      <td>0</td>\n",
       "      <td>0</td>\n",
       "      <td>0</td>\n",
       "      <td>0</td>\n",
       "      <td>0</td>\n",
       "      <td>0</td>\n",
       "      <td>0</td>\n",
       "      <td>0</td>\n",
       "    </tr>\n",
       "    <tr>\n",
       "      <th>73</th>\n",
       "      <td>0</td>\n",
       "      <td>0</td>\n",
       "      <td>0</td>\n",
       "      <td>0</td>\n",
       "      <td>0</td>\n",
       "      <td>0</td>\n",
       "      <td>0</td>\n",
       "      <td>0</td>\n",
       "      <td>0</td>\n",
       "      <td>0</td>\n",
       "      <td>...</td>\n",
       "      <td>0</td>\n",
       "      <td>0</td>\n",
       "      <td>0</td>\n",
       "      <td>0</td>\n",
       "      <td>0</td>\n",
       "      <td>0</td>\n",
       "      <td>0</td>\n",
       "      <td>0</td>\n",
       "      <td>0</td>\n",
       "      <td>0</td>\n",
       "    </tr>\n",
       "    <tr>\n",
       "      <th>54</th>\n",
       "      <td>0</td>\n",
       "      <td>0</td>\n",
       "      <td>0</td>\n",
       "      <td>0</td>\n",
       "      <td>0</td>\n",
       "      <td>0</td>\n",
       "      <td>0</td>\n",
       "      <td>0</td>\n",
       "      <td>0</td>\n",
       "      <td>0</td>\n",
       "      <td>...</td>\n",
       "      <td>0</td>\n",
       "      <td>0</td>\n",
       "      <td>0</td>\n",
       "      <td>0</td>\n",
       "      <td>0</td>\n",
       "      <td>1</td>\n",
       "      <td>0</td>\n",
       "      <td>0</td>\n",
       "      <td>0</td>\n",
       "      <td>0</td>\n",
       "    </tr>\n",
       "    <tr>\n",
       "      <th>95</th>\n",
       "      <td>0</td>\n",
       "      <td>0</td>\n",
       "      <td>0</td>\n",
       "      <td>0</td>\n",
       "      <td>0</td>\n",
       "      <td>0</td>\n",
       "      <td>0</td>\n",
       "      <td>0</td>\n",
       "      <td>0</td>\n",
       "      <td>0</td>\n",
       "      <td>...</td>\n",
       "      <td>0</td>\n",
       "      <td>0</td>\n",
       "      <td>0</td>\n",
       "      <td>0</td>\n",
       "      <td>0</td>\n",
       "      <td>0</td>\n",
       "      <td>0</td>\n",
       "      <td>0</td>\n",
       "      <td>0</td>\n",
       "      <td>0</td>\n",
       "    </tr>\n",
       "    <tr>\n",
       "      <th>53</th>\n",
       "      <td>0</td>\n",
       "      <td>0</td>\n",
       "      <td>0</td>\n",
       "      <td>0</td>\n",
       "      <td>0</td>\n",
       "      <td>0</td>\n",
       "      <td>0</td>\n",
       "      <td>0</td>\n",
       "      <td>0</td>\n",
       "      <td>0</td>\n",
       "      <td>...</td>\n",
       "      <td>1</td>\n",
       "      <td>0</td>\n",
       "      <td>0</td>\n",
       "      <td>0</td>\n",
       "      <td>0</td>\n",
       "      <td>0</td>\n",
       "      <td>0</td>\n",
       "      <td>0</td>\n",
       "      <td>0</td>\n",
       "      <td>0</td>\n",
       "    </tr>\n",
       "    <tr>\n",
       "      <th>92</th>\n",
       "      <td>0</td>\n",
       "      <td>0</td>\n",
       "      <td>0</td>\n",
       "      <td>0</td>\n",
       "      <td>0</td>\n",
       "      <td>0</td>\n",
       "      <td>0</td>\n",
       "      <td>0</td>\n",
       "      <td>0</td>\n",
       "      <td>0</td>\n",
       "      <td>...</td>\n",
       "      <td>0</td>\n",
       "      <td>0</td>\n",
       "      <td>0</td>\n",
       "      <td>0</td>\n",
       "      <td>0</td>\n",
       "      <td>0</td>\n",
       "      <td>0</td>\n",
       "      <td>0</td>\n",
       "      <td>0</td>\n",
       "      <td>0</td>\n",
       "    </tr>\n",
       "    <tr>\n",
       "      <th>78</th>\n",
       "      <td>0</td>\n",
       "      <td>0</td>\n",
       "      <td>0</td>\n",
       "      <td>0</td>\n",
       "      <td>0</td>\n",
       "      <td>0</td>\n",
       "      <td>0</td>\n",
       "      <td>0</td>\n",
       "      <td>0</td>\n",
       "      <td>0</td>\n",
       "      <td>...</td>\n",
       "      <td>0</td>\n",
       "      <td>0</td>\n",
       "      <td>0</td>\n",
       "      <td>0</td>\n",
       "      <td>0</td>\n",
       "      <td>0</td>\n",
       "      <td>0</td>\n",
       "      <td>0</td>\n",
       "      <td>0</td>\n",
       "      <td>0</td>\n",
       "    </tr>\n",
       "    <tr>\n",
       "      <th>13</th>\n",
       "      <td>0</td>\n",
       "      <td>0</td>\n",
       "      <td>0</td>\n",
       "      <td>0</td>\n",
       "      <td>0</td>\n",
       "      <td>0</td>\n",
       "      <td>0</td>\n",
       "      <td>0</td>\n",
       "      <td>0</td>\n",
       "      <td>0</td>\n",
       "      <td>...</td>\n",
       "      <td>0</td>\n",
       "      <td>0</td>\n",
       "      <td>0</td>\n",
       "      <td>0</td>\n",
       "      <td>0</td>\n",
       "      <td>0</td>\n",
       "      <td>0</td>\n",
       "      <td>0</td>\n",
       "      <td>0</td>\n",
       "      <td>1</td>\n",
       "    </tr>\n",
       "    <tr>\n",
       "      <th>7</th>\n",
       "      <td>0</td>\n",
       "      <td>0</td>\n",
       "      <td>0</td>\n",
       "      <td>1</td>\n",
       "      <td>0</td>\n",
       "      <td>0</td>\n",
       "      <td>0</td>\n",
       "      <td>0</td>\n",
       "      <td>0</td>\n",
       "      <td>0</td>\n",
       "      <td>...</td>\n",
       "      <td>0</td>\n",
       "      <td>0</td>\n",
       "      <td>0</td>\n",
       "      <td>0</td>\n",
       "      <td>0</td>\n",
       "      <td>0</td>\n",
       "      <td>0</td>\n",
       "      <td>0</td>\n",
       "      <td>0</td>\n",
       "      <td>0</td>\n",
       "    </tr>\n",
       "  </tbody>\n",
       "</table>\n",
       "<p>15 rows × 390 columns</p>\n",
       "</div>\n",
       "      <button class=\"colab-df-convert\" onclick=\"convertToInteractive('df-13dd10d4-ac35-44cf-beef-e959e0f38f61')\"\n",
       "              title=\"Convert this dataframe to an interactive table.\"\n",
       "              style=\"display:none;\">\n",
       "\n",
       "  <svg xmlns=\"http://www.w3.org/2000/svg\" height=\"24px\"viewBox=\"0 0 24 24\"\n",
       "       width=\"24px\">\n",
       "    <path d=\"M0 0h24v24H0V0z\" fill=\"none\"/>\n",
       "    <path d=\"M18.56 5.44l.94 2.06.94-2.06 2.06-.94-2.06-.94-.94-2.06-.94 2.06-2.06.94zm-11 1L8.5 8.5l.94-2.06 2.06-.94-2.06-.94L8.5 2.5l-.94 2.06-2.06.94zm10 10l.94 2.06.94-2.06 2.06-.94-2.06-.94-.94-2.06-.94 2.06-2.06.94z\"/><path d=\"M17.41 7.96l-1.37-1.37c-.4-.4-.92-.59-1.43-.59-.52 0-1.04.2-1.43.59L10.3 9.45l-7.72 7.72c-.78.78-.78 2.05 0 2.83L4 21.41c.39.39.9.59 1.41.59.51 0 1.02-.2 1.41-.59l7.78-7.78 2.81-2.81c.8-.78.8-2.07 0-2.86zM5.41 20L4 18.59l7.72-7.72 1.47 1.35L5.41 20z\"/>\n",
       "  </svg>\n",
       "      </button>\n",
       "\n",
       "  <style>\n",
       "    .colab-df-container {\n",
       "      display:flex;\n",
       "      flex-wrap:wrap;\n",
       "      gap: 12px;\n",
       "    }\n",
       "\n",
       "    .colab-df-convert {\n",
       "      background-color: #E8F0FE;\n",
       "      border: none;\n",
       "      border-radius: 50%;\n",
       "      cursor: pointer;\n",
       "      display: none;\n",
       "      fill: #1967D2;\n",
       "      height: 32px;\n",
       "      padding: 0 0 0 0;\n",
       "      width: 32px;\n",
       "    }\n",
       "\n",
       "    .colab-df-convert:hover {\n",
       "      background-color: #E2EBFA;\n",
       "      box-shadow: 0px 1px 2px rgba(60, 64, 67, 0.3), 0px 1px 3px 1px rgba(60, 64, 67, 0.15);\n",
       "      fill: #174EA6;\n",
       "    }\n",
       "\n",
       "    [theme=dark] .colab-df-convert {\n",
       "      background-color: #3B4455;\n",
       "      fill: #D2E3FC;\n",
       "    }\n",
       "\n",
       "    [theme=dark] .colab-df-convert:hover {\n",
       "      background-color: #434B5C;\n",
       "      box-shadow: 0px 1px 3px 1px rgba(0, 0, 0, 0.15);\n",
       "      filter: drop-shadow(0px 1px 2px rgba(0, 0, 0, 0.3));\n",
       "      fill: #FFFFFF;\n",
       "    }\n",
       "  </style>\n",
       "\n",
       "      <script>\n",
       "        const buttonEl =\n",
       "          document.querySelector('#df-13dd10d4-ac35-44cf-beef-e959e0f38f61 button.colab-df-convert');\n",
       "        buttonEl.style.display =\n",
       "          google.colab.kernel.accessAllowed ? 'block' : 'none';\n",
       "\n",
       "        async function convertToInteractive(key) {\n",
       "          const element = document.querySelector('#df-13dd10d4-ac35-44cf-beef-e959e0f38f61');\n",
       "          const dataTable =\n",
       "            await google.colab.kernel.invokeFunction('convertToInteractive',\n",
       "                                                     [key], {});\n",
       "          if (!dataTable) return;\n",
       "\n",
       "          const docLinkHtml = 'Like what you see? Visit the ' +\n",
       "            '<a target=\"_blank\" href=https://colab.research.google.com/notebooks/data_table.ipynb>data table notebook</a>'\n",
       "            + ' to learn more about interactive tables.';\n",
       "          element.innerHTML = '';\n",
       "          dataTable['output_type'] = 'display_data';\n",
       "          await google.colab.output.renderOutput(dataTable, element);\n",
       "          const docLink = document.createElement('div');\n",
       "          docLink.innerHTML = docLinkHtml;\n",
       "          element.appendChild(docLink);\n",
       "        }\n",
       "      </script>\n",
       "    </div>\n",
       "  </div>\n"
      ],
      "text/plain": [
       "    acara  airlangga  ajak  ajar  akal  akrab  aktivis  aku  akun  aliansi  \\\n",
       "26      0          0     0     0     0      0        0    0     0        0   \n",
       "86      0          0     0     0     0      0        0    0     0        0   \n",
       "2       1          1     0     0     0      0        0    0     0        0   \n",
       "55      0          0     0     0     0      0        0    0     0        0   \n",
       "75      0          0     0     0     0      0        0    0     0        0   \n",
       "93      0          0     0     0     0      0        0    0     0        0   \n",
       "16      0          0     0     0     0      0        0    0     0        0   \n",
       "73      0          0     0     0     0      0        0    0     0        0   \n",
       "54      0          0     0     0     0      0        0    0     0        0   \n",
       "95      0          0     0     0     0      0        0    0     0        0   \n",
       "53      0          0     0     0     0      0        0    0     0        0   \n",
       "92      0          0     0     0     0      0        0    0     0        0   \n",
       "78      0          0     0     0     0      0        0    0     0        0   \n",
       "13      0          0     0     0     0      0        0    0     0        0   \n",
       "7       0          0     0     1     0      0        0    0     0        0   \n",
       "\n",
       "    ...  viral  visible  wali  walikota  wib  widodo  xi  yaa  yakin  youtube  \n",
       "26  ...      0        0     0         0    0       0   0    0      0        1  \n",
       "86  ...      0        0     0         0    0       0   0    0      0        0  \n",
       "2   ...      0        0     0         0    0       0   0    0      0        0  \n",
       "55  ...      0        0     0         0    0       0   0    0      0        0  \n",
       "75  ...      0        0     1         0    0       0   0    0      0        0  \n",
       "93  ...      0        0     0         0    0       0   0    0      0        0  \n",
       "16  ...      0        0     0         0    0       0   0    0      0        0  \n",
       "73  ...      0        0     0         0    0       0   0    0      0        0  \n",
       "54  ...      0        0     0         0    0       1   0    0      0        0  \n",
       "95  ...      0        0     0         0    0       0   0    0      0        0  \n",
       "53  ...      1        0     0         0    0       0   0    0      0        0  \n",
       "92  ...      0        0     0         0    0       0   0    0      0        0  \n",
       "78  ...      0        0     0         0    0       0   0    0      0        0  \n",
       "13  ...      0        0     0         0    0       0   0    0      0        1  \n",
       "7   ...      0        0     0         0    0       0   0    0      0        0  \n",
       "\n",
       "[15 rows x 390 columns]"
      ]
     },
     "execution_count": 36,
     "metadata": {},
     "output_type": "execute_result"
    }
   ],
   "source": [
    "X_test"
   ]
  },
  {
   "cell_type": "markdown",
   "metadata": {
    "id": "GdYmcuN06yHH"
   },
   "source": [
    "## **Information Gain** \n",
    "Metode Information Gain adalah metode yang menggunakan teknik scoring untuk pembobotan sebuah fitur dengan menggunakan maksimal entropy. Fitur yang dipilih adalah fitur dengan nilai Information Gain yang lebih besar atau sama dengan nilai threshold tertentu. Nilai information gain dapat dihitung dengan menggunakan rumus berikut.<br>\n",
    "\n",
    "$$Gain(S,A) = Entropy(S) - \\sum values(a)\\frac{|SV|}{|S|} Entropy(S_{v})$$\n",
    "\n",
    "Yang mana :<br>\n",
    "Gain(S,A) : nilai Gain dari fitur <br>\n",
    "A : fitur<br>\n",
    "v : kemungkinan nilai fitur 𝐴<br>\n",
    "𝑉𝑎𝑙𝑢𝑒𝑠(𝐴) : kemungkinan nilai himpunan 𝐴<br>\n",
    "𝑆𝑣 : jumlah contoh nilai dari 𝑣<br>\n",
    "𝑆 : jumlah keseluruhan sampel data<br>\n",
    "Entropy(Sv) : 𝐸𝑛𝑡𝑟𝑜𝑝𝑦 contoh nilai v<br>\n",
    "\n",
    "Namun sebelum menghitung nilai information gain terlebih dahulu kita harus menghitung nilai entropy dengan rumus berikut.<br>\n",
    "\n",
    "$$Entropy(S) = \\sum_{i}^{c} -p_{i}\\log_{2}p_{i}$$\n",
    "\n",
    "Yang mana :<br>\n",
    "𝑐 : akumulasi nilai dari kelas klasfikasi<br>\n",
    "𝑃𝑖 : merupakan akumulasi sampel dari kelas 𝑖.<br>\n",
    "Sedangkan untuk menghitung nilai information gain dengan mesin dapat mwnggunakan library mutual information seperti berikut.\n"
   ]
  },
  {
   "cell_type": "code",
   "execution_count": 37,
   "metadata": {
    "colab": {
     "base_uri": "https://localhost:8080/"
    },
    "id": "z7WupjPI61H_",
    "outputId": "9edcae38-e1d5-470c-dd7f-e9579d9e0b19"
   },
   "outputs": [
    {
     "data": {
      "text/plain": [
       "array([0.        , 0.0603167 , 0.        , 0.        , 0.        ,\n",
       "       0.        , 0.        , 0.        , 0.11665977, 0.0809028 ,\n",
       "       0.00608528, 0.0677297 , 0.00238091, 0.        , 0.        ,\n",
       "       0.02467377, 0.        , 0.02639641, 0.07300215, 0.        ,\n",
       "       0.04285315, 0.        , 0.        , 0.        , 0.        ,\n",
       "       0.        , 0.        , 0.06716653, 0.11319575, 0.04424194,\n",
       "       0.0313948 , 0.        , 0.00812718, 0.02674963, 0.00734225,\n",
       "       0.        , 0.        , 0.05767319, 0.        , 0.        ,\n",
       "       0.        , 0.        , 0.00340233, 0.        , 0.        ,\n",
       "       0.        , 0.        , 0.05544608, 0.09067203, 0.        ,\n",
       "       0.        , 0.04669154, 0.        , 0.        , 0.        ,\n",
       "       0.        , 0.00240271, 0.        , 0.02441876, 0.12890391,\n",
       "       0.12913022, 0.        , 0.        , 0.        , 0.        ,\n",
       "       0.05626321, 0.01233193, 0.        , 0.0863418 , 0.07080081,\n",
       "       0.        , 0.08114123, 0.04526902, 0.        , 0.04071267,\n",
       "       0.        , 0.        , 0.        , 0.        , 0.        ,\n",
       "       0.        , 0.0225046 , 0.07762887, 0.01300819, 0.        ,\n",
       "       0.        , 0.        , 0.        , 0.16281682, 0.01689925,\n",
       "       0.        , 0.        , 0.03796154, 0.00216377, 0.        ,\n",
       "       0.00389583, 0.        , 0.        , 0.03825919, 0.01956188,\n",
       "       0.04103068, 0.00416817, 0.01870348, 0.        , 0.20948724,\n",
       "       0.05015633, 0.06685538, 0.        , 0.        , 0.01002995,\n",
       "       0.07942929, 0.        , 0.        , 0.01216897, 0.03162863,\n",
       "       0.        , 0.03416288, 0.        , 0.        , 0.02681306,\n",
       "       0.08977257, 0.02748509, 0.01546647, 0.05236282, 0.09041584,\n",
       "       0.        , 0.        , 0.00819556, 0.        , 0.        ,\n",
       "       0.03482554, 0.        , 0.02749704, 0.003875  , 0.        ,\n",
       "       0.        , 0.        , 0.08664097, 0.        , 0.03026196,\n",
       "       0.05104518, 0.        , 0.        , 0.00199123, 0.01144455,\n",
       "       0.03194597, 0.00451837, 0.0114875 , 0.        , 0.        ,\n",
       "       0.01609184, 0.03342124, 0.02660254, 0.04475269, 0.07075654,\n",
       "       0.00124915, 0.0129338 , 0.        , 0.        , 0.00934704,\n",
       "       0.09222156, 0.        , 0.09600009, 0.04402148, 0.0830053 ,\n",
       "       0.        , 0.        , 0.        , 0.        , 0.        ,\n",
       "       0.16973489, 0.        , 0.13744363, 0.        , 0.        ,\n",
       "       0.        , 0.03092264, 0.01757791, 0.00630135, 0.        ,\n",
       "       0.04369454, 0.        , 0.        , 0.07578888, 0.        ,\n",
       "       0.03197084, 0.        , 0.11251078, 0.01682464, 0.        ,\n",
       "       0.06581403, 0.        , 0.15837103, 0.00647487, 0.        ,\n",
       "       0.        , 0.        , 0.        , 0.        , 0.        ,\n",
       "       0.08267724, 0.12439419, 0.        , 0.        , 0.        ,\n",
       "       0.07603376, 0.        , 0.0057313 , 0.06128728, 0.        ,\n",
       "       0.11125502, 0.        , 0.00634557, 0.08691575, 0.        ,\n",
       "       0.        , 0.        , 0.00631615, 0.0259576 , 0.        ,\n",
       "       0.        , 0.12893361, 0.        , 0.06857812, 0.0174739 ,\n",
       "       0.        , 0.0045422 , 0.        , 0.02883473, 0.15295868,\n",
       "       0.        , 0.03745753, 0.        , 0.        , 0.        ,\n",
       "       0.        , 0.        , 0.        , 0.06510237, 0.        ,\n",
       "       0.        , 0.04732271, 0.00687881, 0.        , 0.12197577,\n",
       "       0.        , 0.        , 0.        , 0.13304719, 0.        ,\n",
       "       0.        , 0.        , 0.        , 0.02648802, 0.02367883,\n",
       "       0.        , 0.09120861, 0.        , 0.        , 0.        ,\n",
       "       0.0297    , 0.01304602, 0.        , 0.        , 0.        ,\n",
       "       0.        , 0.        , 0.        , 0.05038988, 0.        ,\n",
       "       0.        , 0.07346547, 0.        , 0.        , 0.06514199,\n",
       "       0.1450127 , 0.13364706, 0.01106325, 0.07004535, 0.        ,\n",
       "       0.0050083 , 0.01573554, 0.04200177, 0.        , 0.        ,\n",
       "       0.        , 0.04991577, 0.02320437, 0.        , 0.        ,\n",
       "       0.10899918, 0.        , 0.        , 0.        , 0.        ,\n",
       "       0.        , 0.        , 0.03738539, 0.        , 0.        ,\n",
       "       0.00094445, 0.        , 0.10888461, 0.        , 0.        ,\n",
       "       0.        , 0.02614502, 0.        , 0.07523353, 0.        ,\n",
       "       0.        , 0.        , 0.00206752, 0.0087844 , 0.        ,\n",
       "       0.11188112, 0.        , 0.00717632, 0.07769572, 0.        ,\n",
       "       0.        , 0.        , 0.        , 0.        , 0.03455279,\n",
       "       0.        , 0.        , 0.00304532, 0.03929631, 0.        ,\n",
       "       0.14083337, 0.        , 0.        , 0.        , 0.04393541,\n",
       "       0.02113569, 0.01043969, 0.        , 0.04301142, 0.06162913,\n",
       "       0.00990204, 0.03248739, 0.        , 0.        , 0.04690023,\n",
       "       0.00721553, 0.06747406, 0.        , 0.        , 0.        ,\n",
       "       0.        , 0.        , 0.        , 0.        , 0.        ,\n",
       "       0.08395662, 0.03631012, 0.        , 0.00877561, 0.00329867,\n",
       "       0.        , 0.10527084, 0.02551407, 0.19708933, 0.00841597,\n",
       "       0.01321952, 0.        , 0.09695959, 0.        , 0.12241896,\n",
       "       0.        , 0.        , 0.        , 0.        , 0.01293087,\n",
       "       0.        , 0.        , 0.14141286, 0.        , 0.        ,\n",
       "       0.        , 0.        , 0.        , 0.03754559, 0.01074408,\n",
       "       0.        , 0.        , 0.0444938 , 0.        , 0.        ])"
      ]
     },
     "execution_count": 37,
     "metadata": {},
     "output_type": "execute_result"
    }
   ],
   "source": [
    "from sklearn.feature_selection import mutual_info_classif\n",
    "# determine the mutual information\n",
    "mutual_info = mutual_info_classif(X_train, y_train)\n",
    "mutual_info"
   ]
  },
  {
   "cell_type": "markdown",
   "metadata": {
    "id": "pi1wAWHW65O7"
   },
   "source": [
    "### Sorting Information Gain\n",
    "Setelah didapat nilai information gainnya, selanjutnya kita dapat mengurutkan nilai information gain dari yang tertinggi hingga yang terendah dengan source code berikut."
   ]
  },
  {
   "cell_type": "code",
   "execution_count": 38,
   "metadata": {
    "colab": {
     "base_uri": "https://localhost:8080/"
    },
    "id": "x23MlhCb69Dz",
    "outputId": "c94c4a4c-daeb-4f3b-f1f3-3c88990d4e8f"
   },
   "outputs": [
    {
     "data": {
      "text/plain": [
       "gembira    0.209487\n",
       "trs        0.197089\n",
       "kosong     0.169735\n",
       "duel       0.162817\n",
       "magetan    0.158371\n",
       "             ...   \n",
       "lindung    0.000000\n",
       "lord       0.000000\n",
       "luhut      0.000000\n",
       "maksa      0.000000\n",
       "youtube    0.000000\n",
       "Length: 390, dtype: float64"
      ]
     },
     "execution_count": 38,
     "metadata": {},
     "output_type": "execute_result"
    }
   ],
   "source": [
    "mutual_info = pd.Series(mutual_info)\n",
    "mutual_info.index = X_train.columns\n",
    "mutual_info.sort_values(ascending=False)"
   ]
  },
  {
   "cell_type": "markdown",
   "metadata": {
    "id": "oYt821we69yv"
   },
   "source": [
    "### Membuat Grafik Information Gain\n",
    "Selanjutnya kita juga dapat membuat grafiknya dengan menggunakan matplotlib seperti berikut."
   ]
  },
  {
   "cell_type": "code",
   "execution_count": 39,
   "metadata": {
    "colab": {
     "base_uri": "https://localhost:8080/",
     "height": 409
    },
    "id": "ukHjSNAu7AZc",
    "outputId": "faa3d8a0-37c4-435c-c2b5-b7febf9b4a11"
   },
   "outputs": [
    {
     "data": {
      "text/plain": [
       "<matplotlib.axes._subplots.AxesSubplot at 0x7ff2756d1850>"
      ]
     },
     "execution_count": 39,
     "metadata": {},
     "output_type": "execute_result"
    },
    {
     "data": {
      "image/png": "[encoded data removed]",
      "text/plain": [
       "<Figure size 14400x5760 with 1 Axes>"
      ]
     },
     "metadata": {
      "filenames": {
       "image/png": "/content/drive/MyDrive/webmining/tugas/_build/jupyter_execute/Klasifikasi_Clustering_75_1.png"
      },
      "needs_background": "light"
     },
     "output_type": "display_data"
    }
   ],
   "source": [
    "#let's plot the ordered mutual_info values per feature\n",
    "mutual_info.sort_values(ascending=False).plot.bar(figsize=(200, 80))"
   ]
  },
  {
   "cell_type": "markdown",
   "metadata": {
    "id": "1cyI4DbP7CdF"
   },
   "source": [
    "### Pilih Fitur Penting\n",
    "Selanjutnya kita juga dapat memilih fitur yang penting berdasarkan nilai information gain yang diperoleh, semakin tinggi nilai fitur maka semakin penting fitur tersebut. Disini saya memilih 100 data fitur penting dengan menggunakan library SelectBest."
   ]
  },
  {
   "cell_type": "code",
   "execution_count": 40,
   "metadata": {
    "id": "Ny5J3EWw7G6P"
   },
   "outputs": [],
   "source": [
    "from sklearn.feature_selection import SelectKBest"
   ]
  },
  {
   "cell_type": "code",
   "execution_count": 41,
   "metadata": {
    "colab": {
     "base_uri": "https://localhost:8080/"
    },
    "id": "DF7Ov2WH7HTN",
    "outputId": "499d6b7d-5ea9-4766-af07-24a5eacade4f"
   },
   "outputs": [
    {
     "data": {
      "text/plain": [
       "Index(['airlangga', 'akrab', 'aktivis', 'aliansi', 'baca', 'bahas', 'bidang',\n",
       "       'bincang', 'binsar', 'bintang', 'buruh', 'buzzerp', 'calon', 'cebong',\n",
       "       'cowo', 'datang', 'dekat', 'desain', 'diam', 'dki', 'duel',\n",
       "       'dungudunguan', 'ekonomi', 'gerak', 'gerung', 'gibran', 'guru', 'heran',\n",
       "       'host', 'id', 'insiden', 'janji', 'jkt', 'jual', 'kantor', 'kawan',\n",
       "       'kekekekkek', 'kode', 'kosong', 'kpk', 'kunjung', 'kurikulum',\n",
       "       'langsung', 'magetan', 'maritim', 'media', 'mementionnya', 'menang',\n",
       "       'militer', 'mustahil', 'natural', 'negara', 'obrol', 'of', 'om',\n",
       "       'operasi', 'pangeran', 'panggil', 'parpol', 'part', 'pecutin',\n",
       "       'prediksi', 'pribadi', 'publik', 'quote', 'rabu', 'rakabuming',\n",
       "       'rakyat', 'ring', 'rocky', 'rumah', 'rumor', 'said', 'satu',\n",
       "       'sayembara', 'selatan', 'selesai', 'semprot', 'serikat', 'sila',\n",
       "       'silalahi', 'sistem', 'skrg', 'tanggap', 'tantang', 'tarung', 'tatap',\n",
       "       'tebak', 'tembak', 'temu', 'terbang', 'trs', 'tugas', 'unggah',\n",
       "       'unjung', 'urus', 'wali', 'widodo', 'yaa', 'youtube'],\n",
       "      dtype='object')"
      ]
     },
     "execution_count": 41,
     "metadata": {},
     "output_type": "execute_result"
    }
   ],
   "source": [
    "#No we Will select the  top 5 important features\n",
    "sel_five_cols = SelectKBest(mutual_info_classif, k=100)\n",
    "sel_five_cols.fit(X_train, y_train)\n",
    "X_train.columns[sel_five_cols.get_support()]"
   ]
  },
  {
   "cell_type": "markdown",
   "metadata": {
    "id": "1zWiP0r-z4PQ"
   },
   "source": [
    "## **Klasifikasi Data**\n",
    "Klasifikasi adalah proses penemuan model (atau fungsi) yang\n",
    "menggambarkan dan membedakan kelas data atau konsep yang bertujuan agar\n",
    "bisa digunakan untuk memprediksi kelas dari objek yang label kelasnya tidak\n",
    "diketahui.Klasifikasi data terdiri dari 2 langkah proses. Pertama\n",
    "adalah learning (fase training), dimana algoritma klasifikasi dibuat untuk\n",
    "menganalisis data training lalu direpresentasikan dalam bentuk rule klasifikasi.\n",
    "Proses kedua adalah klasifikasi, dimana data tes digunakan untuk memperkirakan\n",
    "akurasi dari rule klasifikasi. Terdapat beberapa metode klasifikasi, diantaranya sebagai berikut."
   ]
  },
  {
   "cell_type": "markdown",
   "metadata": {
    "id": "AM5U5m-x3ONc"
   },
   "source": [
    "### KNN (K-Nearest Neighbor)\n",
    "K-Nearest Neighbor (KNN) merupakan salah satu metode yang digunakan\n",
    "dalam menyelesaikan masalah pengklasifikasian. Prinsip KNN yaitu\n",
    "mengelompokkan atau mengklasifikasikan suatu data baru yang belum diketahui\n",
    "kelasnya berdasarkan jarak data baru itu ke beberapa tetangga (neighbor) terdekat.\n",
    "Tetangga terdekat adalah objek latih yang memiliki nilai kemiripan terbesar atau\n",
    "ketidakmiripan terkecil dari data lama. Jumlah tetangga terdekat dinyatakan\n",
    "dengan k. Nilai k yang terbaik tergantung pada data. \n",
    "Nilai k umumnya ditentukan dalam jumlah ganjil (3, 5, 7) untuk\n",
    "menghindari munculnya jumlah jarak yang sama dalam proses pengklasifikasian.\n",
    "Apabila terjadi dua atau lebih jumlah kelas yang muncul sama maka nilai k\n",
    "menjadi k – 1 (satu tetangga kurang), jika masih ada yang sama lagi maka nilai k\n",
    "menjadi k – 2 , begitu seterusnya sampai tidak ditemukan lagi kelas yang sama\n",
    "banyak. Banyaknya kelas yang paling banyak dengan jarak terdekat akan menjadi\n",
    "kelas dimana data yang dievaluasi berada. Dekat atau jauhnya tetangga (neighbor)\n",
    "biasanya dihitung berdasarkan jarak Euclidean (Euclidean Distance). Berikut\n",
    "rumus pencarian jarak menggunakan rumus Euclidian :\n",
    "\n",
    "$$d_i = \\sqrt{\\sum_{i=1}^{p}(x_2i-x_1i)^{2}}$$\n",
    "\n",
    "dengan:<br>\n",
    "$x_1$ = sampel data<br>\n",
    "$x_2$ = data uji<br>\n",
    "i = variabel data<br>\n",
    "$d_i$ = jarak<br>\n",
    "p = dimensi data<br>\n",
    "\n",
    "Berikut merupakan klasifikasi data dengan metode KNN dengan library scikit learn menggunakan nilai k yang di ubah-ubah."
   ]
  },
  {
   "cell_type": "code",
   "execution_count": 42,
   "metadata": {
    "colab": {
     "base_uri": "https://localhost:8080/"
    },
    "id": "LbO3dn0FTXtQ",
    "outputId": "d9786d39-0fa7-4a01-d795-e67996b072d3"
   },
   "outputs": [
    {
     "name": "stdout",
     "output_type": "stream",
     "text": [
      "Akurasi KNN saat Menggunakan K = 2 : 0.6\n",
      "Akurasi KNN saat Menggunakan K = 3 : 0.6\n",
      "Akurasi KNN saat Menggunakan K = 4 : 0.5333333333333333\n",
      "Akurasi KNN saat Menggunakan K = 5 : 0.6\n",
      "Akurasi KNN saat Menggunakan K = 6 : 0.6\n",
      "Akurasi KNN saat Menggunakan K = 7 : 0.6666666666666666\n",
      "Akurasi KNN saat Menggunakan K = 8 : 0.6666666666666666\n",
      "Akurasi KNN saat Menggunakan K = 9 : 0.6\n",
      "Akurasi KNN saat Menggunakan K = 10 : 0.5333333333333333\n",
      "Akurasi KNN saat Menggunakan K = 11 : 0.5333333333333333\n"
     ]
    },
    {
     "name": "stdout",
     "output_type": "stream",
     "text": [
      "Akurasi KNN saat Menggunakan K = 12 : 0.5333333333333333\n",
      "Akurasi KNN saat Menggunakan K = 13 : 0.4666666666666667\n",
      "Akurasi KNN saat Menggunakan K = 14 : 0.4\n"
     ]
    }
   ],
   "source": [
    "from sklearn.neighbors import KNeighborsClassifier\n",
    "from sklearn.metrics import classification_report\n",
    "K_range = []\n",
    "K_score = []\n",
    "for i in range (2,len(y_test)):\n",
    "  classifier = KNeighborsClassifier(n_neighbors=i) \n",
    "  classifier.fit(X_train, y_train)\n",
    "  y_pred = classifier.predict(X_test)\n",
    "  score = classifier.score(X_test, y_test)\n",
    "  K_range.append(i)\n",
    "  K_score.append(score)\n",
    "  print(\"Akurasi KNN saat Menggunakan K =\",i,\":\",score)\n",
    "  #print(classification_report(y_test, y_pred))"
   ]
  },
  {
   "cell_type": "markdown",
   "metadata": {
    "id": "_YMYLgSKMmDk"
   },
   "source": [
    "Berikut merupakan grafik nilai akurasi KNN berdasarkan nilai k."
   ]
  },
  {
   "cell_type": "code",
   "execution_count": 43,
   "metadata": {
    "colab": {
     "base_uri": "https://localhost:8080/",
     "height": 295
    },
    "id": "CxBQNtMInlAl",
    "outputId": "d188f4b4-8088-435f-f768-6ba0860c46ec"
   },
   "outputs": [
    {
     "data": {
      "image/png": "[encoded data removed]",
      "text/plain": [
       "<Figure size 432x288 with 1 Axes>"
      ]
     },
     "metadata": {
      "filenames": {
       "image/png": "/content/drive/MyDrive/webmining/tugas/_build/jupyter_execute/Klasifikasi_Clustering_83_0.png"
      },
      "needs_background": "light"
     },
     "output_type": "display_data"
    }
   ],
   "source": [
    "import matplotlib.pyplot as plt\n",
    "\n",
    "plt.plot(K_range, K_score)\n",
    "plt.title('Nilai Accuracy KNN Berdasarkan Nilai K')\n",
    "plt.xlabel('Nilai K')\n",
    "plt.ylabel('Nilai Akurasi')\n",
    "plt.grid(True)\n",
    "plt.show()"
   ]
  },
  {
   "cell_type": "markdown",
   "metadata": {
    "id": "ZfZ6k-IYNIYp"
   },
   "source": [
    "### Naive Bayes\n",
    "Algoritma Naive Bayes adalah algoritma yang mempelajari probabilitas suatu objek dengan ciri-ciri tertentu yang termasuk dalam kelompok/kelas tertentu. Singkatnya, ini adalah pengklasifikasi probabilistik. Berikut merupakan klasifikasi naive bayes dengan mengunakan library scikit learn."
   ]
  },
  {
   "cell_type": "code",
   "execution_count": 44,
   "metadata": {
    "colab": {
     "base_uri": "https://localhost:8080/"
    },
    "id": "t1IE5Gw5b7YA",
    "outputId": "353c07dc-0019-4adc-bc2b-53558e24d269"
   },
   "outputs": [
    {
     "name": "stdout",
     "output_type": "stream",
     "text": [
      "Akurasi Naive Bayes : 0.8666666666666667\n"
     ]
    }
   ],
   "source": [
    "from sklearn.naive_bayes import GaussianNB\n",
    "from sklearn.metrics import classification_report\n",
    "\n",
    "# Mengaktifkan/memanggil/membuat fungsi klasifikasi Naive Bayes\n",
    "modelnb = GaussianNB()\n",
    "\n",
    "# Memasukkan data training pada fungsi klasifikasi Naive Bayes\n",
    "nbtrain = modelnb.fit(X_train, y_train)\n",
    "\n",
    "# Menentukan hasil prediksi dari x_test\n",
    "#y_pred = nbtrain.predict(X_test)\n",
    "\n",
    "print(\"Akurasi Naive Bayes :\",nbtrain.score(X_test, y_test))\n",
    "\n",
    "#print(classification_report(y_test, y_pred))\n"
   ]
  },
  {
   "cell_type": "markdown",
   "metadata": {
    "id": "nOicBrZONOTd"
   },
   "source": [
    "### SVM(Support Vector Machine)\n",
    "Support Vector Machine (SVM) merupakan salah satu metode dalam supervised learning yang biasanya digunakan untuk klasifikasi (seperti Support Vector Classification) dan regresi (Support Vector Regression). Dalam pemodelan klasifikasi, SVM memiliki konsep yang lebih matang dan lebih jelas secara matematis dibandingkan dengan teknik-teknik klasifikasi lainnya. SVM juga dapat mengatasi masalah klasifikasi dan regresi dengan linear maupun non linear. Berikut merupakan klasifikasi SVM dengan mengunakan library scikit learn."
   ]
  },
  {
   "cell_type": "code",
   "execution_count": 45,
   "metadata": {
    "colab": {
     "base_uri": "https://localhost:8080/"
    },
    "id": "6SY282V4fqiN",
    "outputId": "626dd4b1-6c11-49db-acc5-5abfc12c5bb2"
   },
   "outputs": [
    {
     "name": "stdout",
     "output_type": "stream",
     "text": [
      "Akurasi SVM : 0.7333333333333333\n"
     ]
    }
   ],
   "source": [
    "#Import svm model\n",
    "from sklearn import svm\n",
    "\n",
    "#Create a svm Classifier\n",
    "svm = svm.SVC() # Linear Kernel\n",
    "\n",
    "#Train the model using the training sets\n",
    "svm.fit(X_train, y_train)\n",
    "\n",
    "#Predict the response for test dataset\n",
    "y_pred = svm.predict(X_test)\n",
    "\n",
    "# Model Accuracy: how often is the classifier correct?\n",
    "print(\"Akurasi SVM :\",svm.score(X_test, y_test))"
   ]
  },
  {
   "cell_type": "markdown",
   "metadata": {
    "id": "7DYv_oihvaHI"
   },
   "source": [
    "## **Klustering Data**\n",
    "Clustering adalah suatu kegiatan mengelompokkan dokumen berdasarkan pada karakteristik yang terkandung di dalamnya. Proses analisa clustering pada intinya terdapat dua tahapan :<br>\n",
    " yang pertama mentransformasi document ke dalam bentuk quantitative data, dan<br>\n",
    " yang kedua menganalisa dokumen dalam bentuk quantitative data tersebut dengan metode clustering yang ditentukan.<br>\n",
    "Untuk proses tahapan kedua ada berbagai jenis metode clustering yang bisa digunakan. Diantara metode-metode tersebut ialah metode K-Means, mixture modelling atau tulisan-tulisan clustering lainnya.<br>\n",
    "\n",
    "Yang umumnya menjadi permasalahan dalam pelaksanaan clustering ini adalah bagaimana cara merepresentasikan dokumen ke dalam bentuk data quantitative. Ada beberapa cara yang umum digunakan, salah satunya adalah Vector Space Model(VSM) yang merepresentasikan dokumen ke dalam bentuk vector dari term yang muncul dalam dokumen yang dianalisa. Salah satu bentuk representasinya adalah term-frequency (TF) vector yang bisa dilambangkan dengan :<br>\n",
    "\n",
    "$$dtf = (tf_1, tf_2, . . . , tf_m)$$\n",
    "\n",
    "dimana<br>\n",
    "$tf_i$ : adalah frekuensi dari term ke-i di dalam suatu dokumen.<br>\n",
    "Kemudian selanjutnya untuk menganalisa dokumen yang sudah dalam bentuk quantitative dengan menggunakan metode K-Means dijelaskan seperti berikut.\n"
   ]
  },
  {
   "cell_type": "markdown",
   "metadata": {
    "id": "kZGM8t6Zvm3z"
   },
   "source": [
    "### K-Means Clustering\n",
    "K-Means clustering adalah algoritma untuk membagi n pengamatan menjadi k kelompok sedemikian hingga tiap pengamatan termasuk ke dalam kelompok dengan rata-rata terdekat (titik tengah kelompok). Algoritma ini memiliki hubungan yang renggang dengan algoritma KNN, algoritma pemelajaran mesin yang cukup terkenal dan sering disalah artikan dengan K-Means karena kemiripan namanya.<br>\n",
    "Algoritme pengklasteran k rata-rata adalah sebagai berikut.<br>\n",
    "1. Pilih k buah titik tengah secara acak.<br>\n",
    "2. Kelompokkan data sehingga terbentuk k buah kelompok dengan titik tengah tiap kelompok merupakan titik tengah yang telah dipilih sebelumnya.<br>\n",
    "3. Perbarui nilai titik tengah tiap kelompok.<br>\n",
    "4. Ulangi langkah 2 dan 3 sampai titik tengah semua kelompok tidak lagi berubah.<br>\n",
    "\n",
    "Proses pengklasteran data ke dalam suatu kelompok dapat dilakukan dengan cara menghitung jarak terdekat dari suatu data ke sebuah titik tengah. Perhitungan jarak Minkowski dapat digunakan untuk menghitung jarak antara 2 buah data.\n",
    "\n",
    "Pembaruan titik tengah dapat dilakukan dengan rumus berikut:<br>\n",
    "\n",
    "$${\\displaystyle \\mu _{k}={\\frac {1}{N_{k}}}\\sum _{j=1}^{N_{k}}x_{j}}$$\n",
    "dengan $µk$ adalah titik tengah kelompok ke-k, $Nk$ adalah banyak data dalam kelompok ke-k, dan $xj$ adalah data ke-j dalam kelompok ke-k.<br>\n",
    "Untuk melakukan clustering dengan menggunakan mesin dapat menggunakan library sklearn seperti berikut."
   ]
  },
  {
   "cell_type": "code",
   "execution_count": 46,
   "metadata": {
    "id": "4ctfKvoHvpl7"
   },
   "outputs": [],
   "source": [
    "from sklearn.cluster import KMeans\n",
    "Kmeans = KMeans(n_clusters=3)\n",
    "Kmeans = Kmeans.fit(dataTF)\n",
    "pred = Kmeans.predict(dataTF)\n",
    "centroids = Kmeans.cluster_centers_"
   ]
  },
  {
   "cell_type": "code",
   "execution_count": 47,
   "metadata": {
    "colab": {
     "base_uri": "https://localhost:8080/"
    },
    "id": "IjB72BlnyP4I",
    "outputId": "a445ed91-459a-4fda-9ccf-732202178f75"
   },
   "outputs": [
    {
     "data": {
      "text/plain": [
       "array([0, 0, 0, 2, 0, 0, 1, 0, 0, 2, 1, 2, 2, 0, 2, 0, 0, 2, 2, 0, 0, 2,\n",
       "       1, 0, 1, 0, 0, 0, 0, 0, 1, 0, 0, 0, 2, 0, 2, 2, 2, 2, 2, 2, 0, 0,\n",
       "       0, 0, 0, 2, 2, 2, 0, 0, 2, 2, 2, 0, 0, 2, 2, 0, 0, 2, 0, 0, 2, 2,\n",
       "       2, 2, 2, 0, 1, 0, 0, 0, 2, 1, 2, 0, 0, 0, 0, 2, 0, 2, 0, 0, 0, 0,\n",
       "       2, 0, 0, 0, 0, 0, 2, 0, 0, 2, 2, 0], dtype=int32)"
      ]
     },
     "execution_count": 47,
     "metadata": {},
     "output_type": "execute_result"
    }
   ],
   "source": [
    "Kmeans.labels_"
   ]
  },
  {
   "cell_type": "markdown",
   "metadata": {
    "id": "efUcrdyu0B29"
   },
   "source": [
    "### Hasil Clustering\n",
    "Hasil kluster dengan menggunakan metode K-Means ialah sebagai berikut."
   ]
  },
  {
   "cell_type": "code",
   "execution_count": 48,
   "metadata": {
    "colab": {
     "base_uri": "https://localhost:8080/",
     "height": 488
    },
    "id": "NbQIzq-Vzrc2",
    "outputId": "e3acd49f-9e1a-401c-c8dc-8f0f77556d10"
   },
   "outputs": [
    {
     "data": {
      "text/html": [
       "\n",
       "  <div id=\"df-69734248-6b9c-4618-a295-0dbf7bb7235b\">\n",
       "    <div class=\"colab-df-container\">\n",
       "      <div>\n",
       "<style scoped>\n",
       "    .dataframe tbody tr th:only-of-type {\n",
       "        vertical-align: middle;\n",
       "    }\n",
       "\n",
       "    .dataframe tbody tr th {\n",
       "        vertical-align: top;\n",
       "    }\n",
       "\n",
       "    .dataframe thead tr th {\n",
       "        text-align: left;\n",
       "    }\n",
       "</style>\n",
       "<table border=\"1\" class=\"dataframe\">\n",
       "  <thead>\n",
       "    <tr>\n",
       "      <th></th>\n",
       "      <th>acara</th>\n",
       "      <th>airlangga</th>\n",
       "      <th>ajak</th>\n",
       "      <th>ajar</th>\n",
       "      <th>akal</th>\n",
       "      <th>akrab</th>\n",
       "      <th>aktivis</th>\n",
       "      <th>aku</th>\n",
       "      <th>akun</th>\n",
       "      <th>aliansi</th>\n",
       "      <th>...</th>\n",
       "      <th>visible</th>\n",
       "      <th>wali</th>\n",
       "      <th>walikota</th>\n",
       "      <th>wib</th>\n",
       "      <th>widodo</th>\n",
       "      <th>xi</th>\n",
       "      <th>yaa</th>\n",
       "      <th>yakin</th>\n",
       "      <th>youtube</th>\n",
       "      <th>Cluster_Id</th>\n",
       "    </tr>\n",
       "  </thead>\n",
       "  <tbody>\n",
       "    <tr>\n",
       "      <th>1</th>\n",
       "      <td>0</td>\n",
       "      <td>0</td>\n",
       "      <td>0</td>\n",
       "      <td>0</td>\n",
       "      <td>0</td>\n",
       "      <td>0</td>\n",
       "      <td>0</td>\n",
       "      <td>0</td>\n",
       "      <td>0</td>\n",
       "      <td>0</td>\n",
       "      <td>...</td>\n",
       "      <td>0</td>\n",
       "      <td>0</td>\n",
       "      <td>0</td>\n",
       "      <td>0</td>\n",
       "      <td>0</td>\n",
       "      <td>0</td>\n",
       "      <td>0</td>\n",
       "      <td>0</td>\n",
       "      <td>0</td>\n",
       "      <td>0</td>\n",
       "    </tr>\n",
       "    <tr>\n",
       "      <th>2</th>\n",
       "      <td>0</td>\n",
       "      <td>0</td>\n",
       "      <td>0</td>\n",
       "      <td>0</td>\n",
       "      <td>0</td>\n",
       "      <td>0</td>\n",
       "      <td>0</td>\n",
       "      <td>0</td>\n",
       "      <td>0</td>\n",
       "      <td>0</td>\n",
       "      <td>...</td>\n",
       "      <td>0</td>\n",
       "      <td>0</td>\n",
       "      <td>0</td>\n",
       "      <td>0</td>\n",
       "      <td>0</td>\n",
       "      <td>0</td>\n",
       "      <td>0</td>\n",
       "      <td>0</td>\n",
       "      <td>0</td>\n",
       "      <td>0</td>\n",
       "    </tr>\n",
       "    <tr>\n",
       "      <th>3</th>\n",
       "      <td>1</td>\n",
       "      <td>1</td>\n",
       "      <td>0</td>\n",
       "      <td>0</td>\n",
       "      <td>0</td>\n",
       "      <td>0</td>\n",
       "      <td>0</td>\n",
       "      <td>0</td>\n",
       "      <td>0</td>\n",
       "      <td>0</td>\n",
       "      <td>...</td>\n",
       "      <td>0</td>\n",
       "      <td>0</td>\n",
       "      <td>0</td>\n",
       "      <td>0</td>\n",
       "      <td>0</td>\n",
       "      <td>0</td>\n",
       "      <td>0</td>\n",
       "      <td>0</td>\n",
       "      <td>0</td>\n",
       "      <td>0</td>\n",
       "    </tr>\n",
       "    <tr>\n",
       "      <th>4</th>\n",
       "      <td>0</td>\n",
       "      <td>0</td>\n",
       "      <td>0</td>\n",
       "      <td>0</td>\n",
       "      <td>0</td>\n",
       "      <td>0</td>\n",
       "      <td>0</td>\n",
       "      <td>0</td>\n",
       "      <td>0</td>\n",
       "      <td>0</td>\n",
       "      <td>...</td>\n",
       "      <td>0</td>\n",
       "      <td>0</td>\n",
       "      <td>0</td>\n",
       "      <td>0</td>\n",
       "      <td>0</td>\n",
       "      <td>0</td>\n",
       "      <td>0</td>\n",
       "      <td>0</td>\n",
       "      <td>0</td>\n",
       "      <td>2</td>\n",
       "    </tr>\n",
       "    <tr>\n",
       "      <th>5</th>\n",
       "      <td>0</td>\n",
       "      <td>0</td>\n",
       "      <td>0</td>\n",
       "      <td>0</td>\n",
       "      <td>0</td>\n",
       "      <td>0</td>\n",
       "      <td>0</td>\n",
       "      <td>0</td>\n",
       "      <td>0</td>\n",
       "      <td>0</td>\n",
       "      <td>...</td>\n",
       "      <td>0</td>\n",
       "      <td>0</td>\n",
       "      <td>0</td>\n",
       "      <td>0</td>\n",
       "      <td>0</td>\n",
       "      <td>0</td>\n",
       "      <td>0</td>\n",
       "      <td>0</td>\n",
       "      <td>0</td>\n",
       "      <td>0</td>\n",
       "    </tr>\n",
       "    <tr>\n",
       "      <th>...</th>\n",
       "      <td>...</td>\n",
       "      <td>...</td>\n",
       "      <td>...</td>\n",
       "      <td>...</td>\n",
       "      <td>...</td>\n",
       "      <td>...</td>\n",
       "      <td>...</td>\n",
       "      <td>...</td>\n",
       "      <td>...</td>\n",
       "      <td>...</td>\n",
       "      <td>...</td>\n",
       "      <td>...</td>\n",
       "      <td>...</td>\n",
       "      <td>...</td>\n",
       "      <td>...</td>\n",
       "      <td>...</td>\n",
       "      <td>...</td>\n",
       "      <td>...</td>\n",
       "      <td>...</td>\n",
       "      <td>...</td>\n",
       "      <td>...</td>\n",
       "    </tr>\n",
       "    <tr>\n",
       "      <th>96</th>\n",
       "      <td>0</td>\n",
       "      <td>0</td>\n",
       "      <td>0</td>\n",
       "      <td>0</td>\n",
       "      <td>0</td>\n",
       "      <td>0</td>\n",
       "      <td>0</td>\n",
       "      <td>0</td>\n",
       "      <td>0</td>\n",
       "      <td>0</td>\n",
       "      <td>...</td>\n",
       "      <td>0</td>\n",
       "      <td>0</td>\n",
       "      <td>0</td>\n",
       "      <td>0</td>\n",
       "      <td>0</td>\n",
       "      <td>0</td>\n",
       "      <td>0</td>\n",
       "      <td>0</td>\n",
       "      <td>0</td>\n",
       "      <td>0</td>\n",
       "    </tr>\n",
       "    <tr>\n",
       "      <th>97</th>\n",
       "      <td>0</td>\n",
       "      <td>0</td>\n",
       "      <td>0</td>\n",
       "      <td>0</td>\n",
       "      <td>2</td>\n",
       "      <td>0</td>\n",
       "      <td>0</td>\n",
       "      <td>0</td>\n",
       "      <td>0</td>\n",
       "      <td>0</td>\n",
       "      <td>...</td>\n",
       "      <td>0</td>\n",
       "      <td>0</td>\n",
       "      <td>0</td>\n",
       "      <td>1</td>\n",
       "      <td>0</td>\n",
       "      <td>0</td>\n",
       "      <td>0</td>\n",
       "      <td>0</td>\n",
       "      <td>0</td>\n",
       "      <td>0</td>\n",
       "    </tr>\n",
       "    <tr>\n",
       "      <th>98</th>\n",
       "      <td>0</td>\n",
       "      <td>0</td>\n",
       "      <td>0</td>\n",
       "      <td>0</td>\n",
       "      <td>0</td>\n",
       "      <td>0</td>\n",
       "      <td>0</td>\n",
       "      <td>0</td>\n",
       "      <td>0</td>\n",
       "      <td>0</td>\n",
       "      <td>...</td>\n",
       "      <td>0</td>\n",
       "      <td>0</td>\n",
       "      <td>0</td>\n",
       "      <td>0</td>\n",
       "      <td>0</td>\n",
       "      <td>0</td>\n",
       "      <td>0</td>\n",
       "      <td>0</td>\n",
       "      <td>1</td>\n",
       "      <td>2</td>\n",
       "    </tr>\n",
       "    <tr>\n",
       "      <th>99</th>\n",
       "      <td>0</td>\n",
       "      <td>0</td>\n",
       "      <td>0</td>\n",
       "      <td>0</td>\n",
       "      <td>0</td>\n",
       "      <td>0</td>\n",
       "      <td>0</td>\n",
       "      <td>0</td>\n",
       "      <td>0</td>\n",
       "      <td>0</td>\n",
       "      <td>...</td>\n",
       "      <td>0</td>\n",
       "      <td>0</td>\n",
       "      <td>0</td>\n",
       "      <td>0</td>\n",
       "      <td>0</td>\n",
       "      <td>0</td>\n",
       "      <td>0</td>\n",
       "      <td>0</td>\n",
       "      <td>0</td>\n",
       "      <td>2</td>\n",
       "    </tr>\n",
       "    <tr>\n",
       "      <th>100</th>\n",
       "      <td>0</td>\n",
       "      <td>0</td>\n",
       "      <td>1</td>\n",
       "      <td>0</td>\n",
       "      <td>0</td>\n",
       "      <td>0</td>\n",
       "      <td>0</td>\n",
       "      <td>0</td>\n",
       "      <td>0</td>\n",
       "      <td>0</td>\n",
       "      <td>...</td>\n",
       "      <td>0</td>\n",
       "      <td>0</td>\n",
       "      <td>0</td>\n",
       "      <td>0</td>\n",
       "      <td>0</td>\n",
       "      <td>0</td>\n",
       "      <td>0</td>\n",
       "      <td>0</td>\n",
       "      <td>1</td>\n",
       "      <td>0</td>\n",
       "    </tr>\n",
       "  </tbody>\n",
       "</table>\n",
       "<p>100 rows × 391 columns</p>\n",
       "</div>\n",
       "      <button class=\"colab-df-convert\" onclick=\"convertToInteractive('df-69734248-6b9c-4618-a295-0dbf7bb7235b')\"\n",
       "              title=\"Convert this dataframe to an interactive table.\"\n",
       "              style=\"display:none;\">\n",
       "\n",
       "  <svg xmlns=\"http://www.w3.org/2000/svg\" height=\"24px\"viewBox=\"0 0 24 24\"\n",
       "       width=\"24px\">\n",
       "    <path d=\"M0 0h24v24H0V0z\" fill=\"none\"/>\n",
       "    <path d=\"M18.56 5.44l.94 2.06.94-2.06 2.06-.94-2.06-.94-.94-2.06-.94 2.06-2.06.94zm-11 1L8.5 8.5l.94-2.06 2.06-.94-2.06-.94L8.5 2.5l-.94 2.06-2.06.94zm10 10l.94 2.06.94-2.06 2.06-.94-2.06-.94-.94-2.06-.94 2.06-2.06.94z\"/><path d=\"M17.41 7.96l-1.37-1.37c-.4-.4-.92-.59-1.43-.59-.52 0-1.04.2-1.43.59L10.3 9.45l-7.72 7.72c-.78.78-.78 2.05 0 2.83L4 21.41c.39.39.9.59 1.41.59.51 0 1.02-.2 1.41-.59l7.78-7.78 2.81-2.81c.8-.78.8-2.07 0-2.86zM5.41 20L4 18.59l7.72-7.72 1.47 1.35L5.41 20z\"/>\n",
       "  </svg>\n",
       "      </button>\n",
       "\n",
       "  <style>\n",
       "    .colab-df-container {\n",
       "      display:flex;\n",
       "      flex-wrap:wrap;\n",
       "      gap: 12px;\n",
       "    }\n",
       "\n",
       "    .colab-df-convert {\n",
       "      background-color: #E8F0FE;\n",
       "      border: none;\n",
       "      border-radius: 50%;\n",
       "      cursor: pointer;\n",
       "      display: none;\n",
       "      fill: #1967D2;\n",
       "      height: 32px;\n",
       "      padding: 0 0 0 0;\n",
       "      width: 32px;\n",
       "    }\n",
       "\n",
       "    .colab-df-convert:hover {\n",
       "      background-color: #E2EBFA;\n",
       "      box-shadow: 0px 1px 2px rgba(60, 64, 67, 0.3), 0px 1px 3px 1px rgba(60, 64, 67, 0.15);\n",
       "      fill: #174EA6;\n",
       "    }\n",
       "\n",
       "    [theme=dark] .colab-df-convert {\n",
       "      background-color: #3B4455;\n",
       "      fill: #D2E3FC;\n",
       "    }\n",
       "\n",
       "    [theme=dark] .colab-df-convert:hover {\n",
       "      background-color: #434B5C;\n",
       "      box-shadow: 0px 1px 3px 1px rgba(0, 0, 0, 0.15);\n",
       "      filter: drop-shadow(0px 1px 2px rgba(0, 0, 0, 0.3));\n",
       "      fill: #FFFFFF;\n",
       "    }\n",
       "  </style>\n",
       "\n",
       "      <script>\n",
       "        const buttonEl =\n",
       "          document.querySelector('#df-69734248-6b9c-4618-a295-0dbf7bb7235b button.colab-df-convert');\n",
       "        buttonEl.style.display =\n",
       "          google.colab.kernel.accessAllowed ? 'block' : 'none';\n",
       "\n",
       "        async function convertToInteractive(key) {\n",
       "          const element = document.querySelector('#df-69734248-6b9c-4618-a295-0dbf7bb7235b');\n",
       "          const dataTable =\n",
       "            await google.colab.kernel.invokeFunction('convertToInteractive',\n",
       "                                                     [key], {});\n",
       "          if (!dataTable) return;\n",
       "\n",
       "          const docLinkHtml = 'Like what you see? Visit the ' +\n",
       "            '<a target=\"_blank\" href=https://colab.research.google.com/notebooks/data_table.ipynb>data table notebook</a>'\n",
       "            + ' to learn more about interactive tables.';\n",
       "          element.innerHTML = '';\n",
       "          dataTable['output_type'] = 'display_data';\n",
       "          await google.colab.output.renderOutput(dataTable, element);\n",
       "          const docLink = document.createElement('div');\n",
       "          docLink.innerHTML = docLinkHtml;\n",
       "          element.appendChild(docLink);\n",
       "        }\n",
       "      </script>\n",
       "    </div>\n",
       "  </div>\n"
      ],
      "text/plain": [
       "    acara airlangga ajak ajar akal akrab aktivis aku akun aliansi  ...  \\\n",
       "1       0         0    0    0    0     0       0   0    0       0  ...   \n",
       "2       0         0    0    0    0     0       0   0    0       0  ...   \n",
       "3       1         1    0    0    0     0       0   0    0       0  ...   \n",
       "4       0         0    0    0    0     0       0   0    0       0  ...   \n",
       "5       0         0    0    0    0     0       0   0    0       0  ...   \n",
       "..    ...       ...  ...  ...  ...   ...     ...  ..  ...     ...  ...   \n",
       "96      0         0    0    0    0     0       0   0    0       0  ...   \n",
       "97      0         0    0    0    2     0       0   0    0       0  ...   \n",
       "98      0         0    0    0    0     0       0   0    0       0  ...   \n",
       "99      0         0    0    0    0     0       0   0    0       0  ...   \n",
       "100     0         0    1    0    0     0       0   0    0       0  ...   \n",
       "\n",
       "    visible wali walikota wib widodo xi yaa yakin youtube Cluster_Id  \n",
       "1         0    0        0   0      0  0   0     0       0          0  \n",
       "2         0    0        0   0      0  0   0     0       0          0  \n",
       "3         0    0        0   0      0  0   0     0       0          0  \n",
       "4         0    0        0   0      0  0   0     0       0          2  \n",
       "5         0    0        0   0      0  0   0     0       0          0  \n",
       "..      ...  ...      ...  ..    ... ..  ..   ...     ...        ...  \n",
       "96        0    0        0   0      0  0   0     0       0          0  \n",
       "97        0    0        0   1      0  0   0     0       0          0  \n",
       "98        0    0        0   0      0  0   0     0       1          2  \n",
       "99        0    0        0   0      0  0   0     0       0          2  \n",
       "100       0    0        0   0      0  0   0     0       1          0  \n",
       "\n",
       "[100 rows x 391 columns]"
      ]
     },
     "execution_count": 48,
     "metadata": {},
     "output_type": "execute_result"
    }
   ],
   "source": [
    "dataTF['Cluster_Id'] = Kmeans.labels_\n",
    "dataTF"
   ]
  },
  {
   "cell_type": "markdown",
   "metadata": {
    "id": "oPQl1FmDJjpY"
   },
   "source": [
    "Jumlah dari masing-masing kluster dengan 3 kluster sebagai berikut."
   ]
  },
  {
   "cell_type": "code",
   "execution_count": 49,
   "metadata": {
    "colab": {
     "base_uri": "https://localhost:8080/"
    },
    "id": "c_jiY-yRJiIN",
    "outputId": "8d2c35d9-0a65-41d7-dcde-eaad63e11b12"
   },
   "outputs": [
    {
     "data": {
      "text/plain": [
       "{0: 56, 1: 7, 2: 37}"
      ]
     },
     "execution_count": 49,
     "metadata": {},
     "output_type": "execute_result"
    }
   ],
   "source": [
    "import numpy as np\n",
    "unique, counts = np.unique(Kmeans.labels_, return_counts=True)\n",
    "dict_data = dict(zip(unique, counts))\n",
    "dict_data"
   ]
  },
  {
   "cell_type": "markdown",
   "metadata": {
    "id": "MXX5RlATTVtZ"
   },
   "source": [
    "## **Kesimpulan**\n",
    "Berdasarkan nilai akurasi yang diperoleh dari 3 metode (KNN, Naive Bayes, dan SVM) yang dilakukan, klasifikasi dengan metode Naive Bayes memiliki nilai akurasi yang lebih baik dibandingkan dengan metode KNN dan SVM. Nilai akurasi yang diperoleh dari metode Naive Bayes sebesar 87%.<br>\n",
    "Sedangkan nilai akurasi yang diperoleh dengan menggunakan metode KNN didapat akurasi tertinggi sebesar 66% pada saat nilai k = 7 dan 8 dan akuarasi yang didapat dari metode SVM sebesar 73%. Sehingga dapat disimpulkan bahwa klasifikasi dari dataset yang mengandung kata \"#rockygerung\" yang diperoleh dari tweeter lebih baik menggunakan metode Naive Bayes dibandingkan dengan metode KNN dan SVM.<br>\n",
    "Dengan nilai akurasi yang didapat dari metode naive bayes tersebut, klasifikasi ini sudah bisa dijadikan sebagai acuan untuk menentukan tanggapan user tweeter tentang \"#rockygerung\" apakah beropini kontra atau pro ataupun netral. Akan tetapi klasifikasi ini masih memerlukan evaluasi atau perbaikan dari tahap prepocessing hingga modelling agar menghasilkan nilai akurasi yang lebih baik.<br>\n",
    "Dan dengan proses klustering data dengan menggunakan 3 kluster dari 100 data diperoleh 56 data berkluster dengan id = 0, dan 36 data berkluster dengan id = 1, serta 8 data berkluster dengan id = 2."
   ]
  }
 ],
 "metadata": {
  "colab": {
   "collapsed_sections": [],
   "provenance": [],
   "toc_visible": true
  },
  "kernelspec": {
   "display_name": "Python 3",
   "name": "python3"
  },
  "language_info": {
   "codemirror_mode": {
    "name": "ipython",
    "version": 3
   },
   "file_extension": ".py",
   "mimetype": "text/x-python",
   "name": "python",
   "nbconvert_exporter": "python",
   "pygments_lexer": "ipython3",
   "version": "3.8.16"
  },
  "widgets": {
   "application/vnd.jupyter.widget-state+json": {
    "state": {
     "05f23456fa2746dfacce032d740ade13": {
      "model_module": "@jupyter-widgets/base",
      "model_module_version": "1.2.0",
      "model_name": "LayoutModel",
      "state": {
       "_model_module": "@jupyter-widgets/base",
       "_model_module_version": "1.2.0",
       "_model_name": "LayoutModel",
       "_view_count": null,
       "_view_module": "@jupyter-widgets/base",
       "_view_module_version": "1.2.0",
       "_view_name": "LayoutView",
       "align_content": null,
       "align_items": null,
       "align_self": null,
       "border": null,
       "bottom": null,
       "display": null,
       "flex": null,
       "flex_flow": null,
       "grid_area": null,
       "grid_auto_columns": null,
       "grid_auto_flow": null,
       "grid_auto_rows": null,
       "grid_column": null,
       "grid_gap": null,
       "grid_row": null,
       "grid_template_areas": null,
       "grid_template_columns": null,
       "grid_template_rows": null,
       "height": null,
       "justify_content": null,
       "justify_items": null,
       "left": null,
       "margin": null,
       "max_height": null,
       "max_width": null,
       "min_height": null,
       "min_width": null,
       "object_fit": null,
       "object_position": null,
       "order": null,
       "overflow": null,
       "overflow_x": null,
       "overflow_y": null,
       "padding": null,
       "right": null,
       "top": null,
       "visibility": null,
       "width": null
      }
     },
     "0b6cae079ca14906918b2fb00780fe25": {
      "model_module": "@jupyter-widgets/controls",
      "model_module_version": "1.5.0",
      "model_name": "ProgressStyleModel",
      "state": {
       "_model_module": "@jupyter-widgets/controls",
       "_model_module_version": "1.5.0",
       "_model_name": "ProgressStyleModel",
       "_view_count": null,
       "_view_module": "@jupyter-widgets/base",
       "_view_module_version": "1.2.0",
       "_view_name": "StyleView",
       "bar_color": null,
       "description_width": ""
      }
     },
     "1d00f6ce9805445a9b400391cbdce23c": {
      "model_module": "@jupyter-widgets/controls",
      "model_module_version": "1.5.0",
      "model_name": "FloatProgressModel",
      "state": {
       "_dom_classes": [],
       "_model_module": "@jupyter-widgets/controls",
       "_model_module_version": "1.5.0",
       "_model_name": "FloatProgressModel",
       "_view_count": null,
       "_view_module": "@jupyter-widgets/controls",
       "_view_module_version": "1.5.0",
       "_view_name": "ProgressView",
       "bar_style": "success",
       "description": "",
       "description_tooltip": null,
       "layout": "IPY_MODEL_05f23456fa2746dfacce032d740ade13",
       "max": 100.0,
       "min": 0.0,
       "orientation": "horizontal",
       "style": "IPY_MODEL_0b6cae079ca14906918b2fb00780fe25",
       "value": 100.0
      }
     },
     "6e72bc1f113d4034b4eb794decd9e015": {
      "model_module": "@jupyter-widgets/controls",
      "model_module_version": "1.5.0",
      "model_name": "HTMLModel",
      "state": {
       "_dom_classes": [],
       "_model_module": "@jupyter-widgets/controls",
       "_model_module_version": "1.5.0",
       "_model_name": "HTMLModel",
       "_view_count": null,
       "_view_module": "@jupyter-widgets/controls",
       "_view_module_version": "1.5.0",
       "_view_name": "HTMLView",
       "description": "",
       "description_tooltip": null,
       "layout": "IPY_MODEL_71731f121369401eae56ae381d68e9d9",
       "placeholder": "​",
       "style": "IPY_MODEL_b2cc919673d8441e8eb7864549b65855",
       "value": "Pandas Apply: 100%"
      }
     },
     "71731f121369401eae56ae381d68e9d9": {
      "model_module": "@jupyter-widgets/base",
      "model_module_version": "1.2.0",
      "model_name": "LayoutModel",
      "state": {
       "_model_module": "@jupyter-widgets/base",
       "_model_module_version": "1.2.0",
       "_model_name": "LayoutModel",
       "_view_count": null,
       "_view_module": "@jupyter-widgets/base",
       "_view_module_version": "1.2.0",
       "_view_name": "LayoutView",
       "align_content": null,
       "align_items": null,
       "align_self": null,
       "border": null,
       "bottom": null,
       "display": null,
       "flex": null,
       "flex_flow": null,
       "grid_area": null,
       "grid_auto_columns": null,
       "grid_auto_flow": null,
       "grid_auto_rows": null,
       "grid_column": null,
       "grid_gap": null,
       "grid_row": null,
       "grid_template_areas": null,
       "grid_template_columns": null,
       "grid_template_rows": null,
       "height": null,
       "justify_content": null,
       "justify_items": null,
       "left": null,
       "margin": null,
       "max_height": null,
       "max_width": null,
       "min_height": null,
       "min_width": null,
       "object_fit": null,
       "object_position": null,
       "order": null,
       "overflow": null,
       "overflow_x": null,
       "overflow_y": null,
       "padding": null,
       "right": null,
       "top": null,
       "visibility": null,
       "width": null
      }
     },
     "7dedfe03f1834eed9b3ca94fba5e6251": {
      "model_module": "@jupyter-widgets/base",
      "model_module_version": "1.2.0",
      "model_name": "LayoutModel",
      "state": {
       "_model_module": "@jupyter-widgets/base",
       "_model_module_version": "1.2.0",
       "_model_name": "LayoutModel",
       "_view_count": null,
       "_view_module": "@jupyter-widgets/base",
       "_view_module_version": "1.2.0",
       "_view_name": "LayoutView",
       "align_content": null,
       "align_items": null,
       "align_self": null,
       "border": null,
       "bottom": null,
       "display": null,
       "flex": null,
       "flex_flow": null,
       "grid_area": null,
       "grid_auto_columns": null,
       "grid_auto_flow": null,
       "grid_auto_rows": null,
       "grid_column": null,
       "grid_gap": null,
       "grid_row": null,
       "grid_template_areas": null,
       "grid_template_columns": null,
       "grid_template_rows": null,
       "height": null,
       "justify_content": null,
       "justify_items": null,
       "left": null,
       "margin": null,
       "max_height": null,
       "max_width": null,
       "min_height": null,
       "min_width": null,
       "object_fit": null,
       "object_position": null,
       "order": null,
       "overflow": null,
       "overflow_x": null,
       "overflow_y": null,
       "padding": null,
       "right": null,
       "top": null,
       "visibility": null,
       "width": null
      }
     },
     "80e5e42c52a14636a5d250eb27559401": {
      "model_module": "@jupyter-widgets/controls",
      "model_module_version": "1.5.0",
      "model_name": "HTMLModel",
      "state": {
       "_dom_classes": [],
       "_model_module": "@jupyter-widgets/controls",
       "_model_module_version": "1.5.0",
       "_model_name": "HTMLModel",
       "_view_count": null,
       "_view_module": "@jupyter-widgets/controls",
       "_view_module_version": "1.5.0",
       "_view_name": "HTMLView",
       "description": "",
       "description_tooltip": null,
       "layout": "IPY_MODEL_7dedfe03f1834eed9b3ca94fba5e6251",
       "placeholder": "​",
       "style": "IPY_MODEL_90665a070e6f41f4aaea7ea056f43a9b",
       "value": " 100/100 [00:00&lt;00:00, 3350.22it/s]"
      }
     },
     "82a8baf5c7964399b271655210975dd3": {
      "model_module": "@jupyter-widgets/controls",
      "model_module_version": "1.5.0",
      "model_name": "HBoxModel",
      "state": {
       "_dom_classes": [],
       "_model_module": "@jupyter-widgets/controls",
       "_model_module_version": "1.5.0",
       "_model_name": "HBoxModel",
       "_view_count": null,
       "_view_module": "@jupyter-widgets/controls",
       "_view_module_version": "1.5.0",
       "_view_name": "HBoxView",
       "box_style": "",
       "children": [
        "IPY_MODEL_6e72bc1f113d4034b4eb794decd9e015",
        "IPY_MODEL_1d00f6ce9805445a9b400391cbdce23c",
        "IPY_MODEL_80e5e42c52a14636a5d250eb27559401"
       ],
       "layout": "IPY_MODEL_a7db0fef31a24f598fb0781fa39f59cb"
      }
     },
     "90665a070e6f41f4aaea7ea056f43a9b": {
      "model_module": "@jupyter-widgets/controls",
      "model_module_version": "1.5.0",
      "model_name": "DescriptionStyleModel",
      "state": {
       "_model_module": "@jupyter-widgets/controls",
       "_model_module_version": "1.5.0",
       "_model_name": "DescriptionStyleModel",
       "_view_count": null,
       "_view_module": "@jupyter-widgets/base",
       "_view_module_version": "1.2.0",
       "_view_name": "StyleView",
       "description_width": ""
      }
     },
     "a7db0fef31a24f598fb0781fa39f59cb": {
      "model_module": "@jupyter-widgets/base",
      "model_module_version": "1.2.0",
      "model_name": "LayoutModel",
      "state": {
       "_model_module": "@jupyter-widgets/base",
       "_model_module_version": "1.2.0",
       "_model_name": "LayoutModel",
       "_view_count": null,
       "_view_module": "@jupyter-widgets/base",
       "_view_module_version": "1.2.0",
       "_view_name": "LayoutView",
       "align_content": null,
       "align_items": null,
       "align_self": null,
       "border": null,
       "bottom": null,
       "display": null,
       "flex": null,
       "flex_flow": null,
       "grid_area": null,
       "grid_auto_columns": null,
       "grid_auto_flow": null,
       "grid_auto_rows": null,
       "grid_column": null,
       "grid_gap": null,
       "grid_row": null,
       "grid_template_areas": null,
       "grid_template_columns": null,
       "grid_template_rows": null,
       "height": null,
       "justify_content": null,
       "justify_items": null,
       "left": null,
       "margin": null,
       "max_height": null,
       "max_width": null,
       "min_height": null,
       "min_width": null,
       "object_fit": null,
       "object_position": null,
       "order": null,
       "overflow": null,
       "overflow_x": null,
       "overflow_y": null,
       "padding": null,
       "right": null,
       "top": null,
       "visibility": null,
       "width": null
      }
     },
     "b2cc919673d8441e8eb7864549b65855": {
      "model_module": "@jupyter-widgets/controls",
      "model_module_version": "1.5.0",
      "model_name": "DescriptionStyleModel",
      "state": {
       "_model_module": "@jupyter-widgets/controls",
       "_model_module_version": "1.5.0",
       "_model_name": "DescriptionStyleModel",
       "_view_count": null,
       "_view_module": "@jupyter-widgets/base",
       "_view_module_version": "1.2.0",
       "_view_name": "StyleView",
       "description_width": ""
      }
     }
    },
    "version_major": 2,
    "version_minor": 0
   }
  }
 },
 "nbformat": 4,
 "nbformat_minor": 0
}